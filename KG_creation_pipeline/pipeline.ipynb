{
 "cells": [
  {
   "cell_type": "code",
   "execution_count": 1,
   "metadata": {},
   "outputs": [],
   "source": [
    "import json\n",
    "import pandas as pd\n",
    "import importlib\n",
    "import pickle"
   ]
  },
  {
   "cell_type": "code",
   "execution_count": 2,
   "metadata": {},
   "outputs": [],
   "source": [
    "filepath = '../scraping/articles/filtered_articles.json'\n",
    "with open(filepath, 'r') as file:\n",
    "    articles = pd.read_json(filepath)\n",
    "\n",
    "filepath = '../relation_extraction/directory.pkl'\n",
    "\n",
    "with open(filepath, 'rb') as file:\n",
    "    keywords = pickle.load(file)"
   ]
  },
  {
   "cell_type": "code",
   "execution_count": 6,
   "metadata": {},
   "outputs": [
    {
     "name": "stderr",
     "output_type": "stream",
     "text": [
      "Some weights of the model checkpoint at dslim/bert-base-NER were not used when initializing BertForTokenClassification: ['bert.pooler.dense.bias', 'bert.pooler.dense.weight']\n",
      "- This IS expected if you are initializing BertForTokenClassification from the checkpoint of a model trained on another task or with another architecture (e.g. initializing a BertForSequenceClassification model from a BertForPreTraining model).\n",
      "- This IS NOT expected if you are initializing BertForTokenClassification from the checkpoint of a model that you expect to be exactly identical (initializing a BertForSequenceClassification model from a BertForSequenceClassification model).\n"
     ]
    }
   ],
   "source": [
    "import KnowledgeExtractor\n",
    "importlib.reload(KnowledgeExtractor)\n",
    "\n",
    "extractor = KnowledgeExtractor.KnowledgeExtractor('dslim/bert-base-NER', keywords)"
   ]
  },
  {
   "cell_type": "code",
   "execution_count": 7,
   "metadata": {},
   "outputs": [
    {
     "name": "stdout",
     "output_type": "stream",
     "text": [
      "{'s_id': 0, 'word': 'Bishkek', 'entity': 'ORG', 'start': 0, 'end': 7}\n",
      "{'s_id': 1, 'word': 'Kyrgyzstan', 'entity': 'LOC', 'start': 0, 'end': 10}\n",
      "{'s_id': 1, 'word': 'Kyrgyz', 'entity': 'LOC', 'start': 253, 'end': 259}\n",
      "{'s_id': 1, 'word': 'nuclear power plant', 'entity': 'REACTOR', 'start': 59, 'end': 78}\n",
      "{'s_id': 3, 'word': 'Sadyr Japarov', 'entity': 'PER', 'start': 19, 'end': 32}\n",
      "{'s_id': 4, 'word': 'Issyk-Kul Province', 'entity': 'LOC', 'start': 50, 'end': 68}\n",
      "{'s_id': 4, 'word': 'Kyzyl-Ompol', 'entity': 'LOC', 'start': 92, 'end': 103}\n",
      "{'s_id': 4, 'word': 'Japarov', 'entity': 'PER', 'start': 190, 'end': 197}\n",
      "{'s_id': 5, 'word': 'Kyrgyzstan', 'entity': 'LOC', 'start': 32, 'end': 42}\n",
      "{'s_id': 5, 'word': 'Russia', 'entity': 'LOC', 'start': 135, 'end': 141}\n",
      "{'s_id': 5, 'word': 'Rosatom', 'entity': 'ORG', 'start': 176, 'end': 183}\n",
      "{'s_id': 5, 'word': 'Asian', 'entity': 'MISC', 'start': 210, 'end': 215}\n",
      "{'s_id': 5, 'word': 'small modular reactor', 'entity': 'SMR', 'start': 89, 'end': 110}\n",
      "{'s_id': 6, 'word': 'Russian', 'entity': 'MISC', 'start': 0, 'end': 7}\n",
      "{'s_id': 6, 'word': 'Tass', 'entity': 'ORG', 'start': 29, 'end': 33}\n",
      "{'s_id': 6, 'word': 'Taalaibek Ibraev', 'entity': 'PER', 'start': 52, 'end': 68}\n",
      "{'s_id': 6, 'word': 'Kyrgyzstan', 'entity': 'LOC', 'start': 80, 'end': 90}\n",
      "{'s_id': 6, 'word': 'Kyrgyzstan', 'entity': 'LOC', 'start': 109, 'end': 119}\n",
      "{'s_id': 6, 'word': 'SM', 'entity': 'MISC', 'start': 169, 'end': 171}\n",
      "{'s_id': 7, 'word': 'Asian', 'entity': 'MISC', 'start': 30, 'end': 35}\n",
      "{'s_id': 7, 'word': 'Rosatom', 'entity': 'ORG', 'start': 69, 'end': 76}\n",
      "{'s_id': 7, 'word': 'SM', 'entity': 'ORG', 'start': 119, 'end': 121}\n",
      "{'s_id': 8, 'word': 'AP', 'entity': 'ORG', 'start': 0, 'end': 2}\n",
      "{'s_id': 8, 'word': 'Kyrgyzstan', 'entity': 'LOC', 'start': 17, 'end': 27}\n",
      "{'s_id': 8, 'word': 'Covid 19', 'entity': 'MISC', 'start': 58, 'end': 66}\n",
      "{'s_id': 8, 'word': 'Western', 'entity': 'MISC', 'start': 126, 'end': 133}\n",
      "{'s_id': 8, 'word': 'Russia', 'entity': 'LOC', 'start': 147, 'end': 153}\n",
      "{'s_id': 8, 'word': 'Ukraine', 'entity': 'LOC', 'start': 163, 'end': 170}\n",
      "{'s_id': 9, 'word': 'Kyrgyzstan', 'entity': 'LOC', 'start': 8, 'end': 18}\n",
      "{'s_id': 9, 'word': 'Soviet', 'entity': 'MISC', 'start': 100, 'end': 106}\n",
      "{'s_id': 9, 'word': 'radioactive waste', 'entity': 'FUEL_CYCLE', 'start': 67, 'end': 84}\n",
      "{'s_id': 10, 'word': 'Central Asia', 'entity': 'LOC', 'start': 0, 'end': 12}\n",
      "{'s_id': 10, 'word': 'Soviet Union', 'entity': 'LOC', 'start': 68, 'end': 80}\n",
      "{'s_id': 10, 'word': 'European Bank for Reconstruction and Development', 'entity': 'ORG', 'start': 99, 'end': 147}\n",
      "{'s_id': 10, 'word': 'EBRD', 'entity': 'ORG', 'start': 149, 'end': 153}\n",
      "{'s_id': 11, 'word': 'EBRD', 'entity': 'ORG', 'start': 4, 'end': 8}\n",
      "{'s_id': 12, 'word': 'EBRD', 'entity': 'ORG', 'start': 62, 'end': 66}\n",
      "{'s_id': 12, 'word': 'European Union', 'entity': 'ORG', 'start': 117, 'end': 131}\n",
      "{'s_id': 12, 'word': 'Soviet', 'entity': 'MISC', 'start': 159, 'end': 165}\n",
      "{'s_id': 12, 'word': 'Central Asia', 'entity': 'LOC', 'start': 188, 'end': 200}\n",
      "{'s_id': 13, 'word': 'EU', 'entity': 'ORG', 'start': 4, 'end': 6}\n",
      "{'s_id': 13, 'word': 'Belgium', 'entity': 'LOC', 'start': 79, 'end': 86}\n",
      "{'s_id': 13, 'word': 'Lithuania', 'entity': 'LOC', 'start': 88, 'end': 97}\n",
      "{'s_id': 13, 'word': 'Norway', 'entity': 'LOC', 'start': 99, 'end': 105}\n",
      "{'s_id': 13, 'word': 'Spain', 'entity': 'LOC', 'start': 107, 'end': 112}\n",
      "{'s_id': 13, 'word': 'Switzerland', 'entity': 'LOC', 'start': 114, 'end': 125}\n",
      "{'s_id': 13, 'word': 'US', 'entity': 'LOC', 'start': 134, 'end': 136}\n",
      "{'s_id': 14, 'word': 'Central Asia', 'entity': 'LOC', 'start': 0, 'end': 12}\n",
      "{'s_id': 14, 'word': 'Kyrgyzstan', 'entity': 'LOC', 'start': 24, 'end': 34}\n",
      "{'s_id': 14, 'word': 'Soviet Union', 'entity': 'LOC', 'start': 91, 'end': 103}\n",
      "{'s_id': 14, 'word': 'EBRD', 'entity': 'ORG', 'start': 114, 'end': 118}\n"
     ]
    }
   ],
   "source": [
    "length = 10\n",
    "for i in range(10):\n",
    "    sents = articles.iloc[i]['text']\n",
    "    entities = extractor.extract_entities(sents)\n",
    "    for e in entities:\n",
    "        print(e)\n",
    "    break"
   ]
  },
  {
   "cell_type": "code",
   "execution_count": 9,
   "metadata": {},
   "outputs": [
    {
     "name": "stdout",
     "output_type": "stream",
     "text": [
      "                ___              __         \n",
      "               /\\_ \\      __    /\\ \\        \n",
      " _ __     __   \\//\\ \\    /\\_\\   \\ \\ \\/'\\    \n",
      "/\\`'__\\ /'__`\\   \\ \\ \\   \\/\\ \\   \\ \\ , <    \n",
      "\\ \\ \\/ /\\  __/    \\_\\ \\_  \\ \\ \\   \\ \\ \\\\`\\  \n",
      " \\ \\_\\ \\ \\____\\   /\\____\\  \\ \\_\\   \\ \\_\\ \\_\\\n",
      "  \\/_/  \\/____/   \\/____/   \\/_/    \\/_/\\/_/\n",
      "                                            \n",
      "                                            \n",
      "\n",
      "[2024-08-06 10:35:56,018] [INFO] [relik.inference.annotator.from_pretrained:694] [PID:29125] [RANK:0] Loading Relik from sapienzanlp/relik-relation-extraction-nyt-large\u001b[39m\n",
      "[2024-08-06 10:35:56,020] [INFO] [relik.inference.annotator.from_pretrained:695] [PID:29125] [RANK:0] {\n",
      "    '_target_': 'relik.inference.annotator.Relik',\n",
      "    'index': {\n",
      "        'triplet': {\n",
      "            '_target_': 'relik.retriever.indexers.inmemory.InMemoryDocumentIndex.from_pretrained',\n",
      "            'name_or_path': 'sapienzanlp/relik-retriever-small-nyt-document-index',\n",
      "        },\n",
      "    },\n",
      "    'metadata_fields': [],\n",
      "    'reader': {\n",
      "        '_target_': 'relik.reader.pytorch_modules.triplet.RelikReaderForTripletExtraction',\n",
      "        'transformer_model': 'sapienzanlp/relik-reader-deberta-v3-large-nyt',\n",
      "    },\n",
      "    'retriever': {\n",
      "        'triplet': {\n",
      "            '_target_': 'relik.retriever.pytorch_modules.model.GoldenRetriever',\n",
      "            'question_encoder': 'sapienzanlp/relik-retriever-small-nyt-question-encoder',\n",
      "        },\n",
      "    },\n",
      "    'task': 'TRIPLET',\n",
      "    'top_k': 24,\n",
      "    'window_size': 'sentence',\n",
      "    'window_stride': None,\n",
      "}\u001b[39m\n",
      "\u001b[33m[2024-08-06 10:35:57,239] [WARNING] [relik.common.utils.download_from_hf:342] [PID:29125] [RANK:0] Couldn't download index.faiss from sapienzanlp/relik-retriever-small-nyt-document-index, ignoring\u001b[39m\n",
      "[2024-08-06 10:35:57,245] [INFO] [relik.retriever.indexers.base.from_pretrained:458] [PID:29125] [RANK:0] Loading Index from config:\u001b[39m\n",
      "[2024-08-06 10:35:57,246] [INFO] [relik.retriever.indexers.base.from_pretrained:459] [PID:29125] [RANK:0] {\n",
      "    '_target_': 'relik.retriever.indexers.inmemory.InMemoryDocumentIndex',\n",
      "    'device': 'cpu',\n",
      "    'metadata_fields': ['definition'],\n",
      "    'name_or_path': None,\n",
      "    'precision': None,\n",
      "    'separator': ' <def> ',\n",
      "    'use_faiss': False,\n",
      "}\u001b[39m\n",
      "[2024-08-06 10:35:57,247] [INFO] [relik.retriever.indexers.base.from_pretrained:466] [PID:29125] [RANK:0] Loading documents from /Users/tiril/.cache/huggingface/hub/models--sapienzanlp--relik-retriever-small-nyt-document-index/snapshots/7507014d674a84d622649acb1a8e0a7883bfec3f/documents.jsonl\u001b[39m\n",
      "[2024-08-06 10:35:57,250] [INFO] [relik.retriever.indexers.base.from_pretrained:509] [PID:29125] [RANK:0] Loading embeddings from /Users/tiril/.cache/huggingface/hub/models--sapienzanlp--relik-retriever-small-nyt-document-index/snapshots/7507014d674a84d622649acb1a8e0a7883bfec3f/embeddings.pt\u001b[39m\n",
      "[2024-08-06 10:35:57,254] [INFO] [relik.retriever.indexers.inmemory.__init__:65] [PID:29125] [RANK:0] Both documents and embeddings are provided.\u001b[39m\n",
      "\u001b[36m[2024-08-06 10:36:19,755] [DEBUG] [relik.reader.data.relik_reader_re_data.__iter__:399] [PID:29125] [RANK:0] Dataset finished: 1 number of elements processed\u001b[39m\n"
     ]
    }
   ],
   "source": [
    "from relik import Relik\n",
    "from relik.inference.data.objects import RelikOutput\n",
    "\n",
    "relik = Relik.from_pretrained(\"sapienzanlp/relik-relation-extraction-nyt-large\")\n",
    "relik_out: RelikOutput = relik(\"Michael Jordan was one of the best players in the NBA.\")\n"
   ]
  },
  {
   "cell_type": "code",
   "execution_count": 29,
   "metadata": {},
   "outputs": [
    {
     "name": "stdout",
     "output_type": "stream",
     "text": [
      "\u001b[36m[2024-08-06 10:51:39,501] [DEBUG] [relik.reader.data.relik_reader_re_data.__iter__:399] [PID:29125] [RANK:0] Dataset finished: 3 number of elements processed\u001b[39m\n"
     ]
    }
   ],
   "source": [
    "text = 'Central Asia served as an important source of uranium in the former Soviet Union. According to the European Bank for Reconstruction and Development (EBRD), large amount of radioactively contaminated material was placed in mining waste dumps and tailing sites. '\n",
    "relik_out: RelikOutput = relik(text)"
   ]
  },
  {
   "cell_type": "code",
   "execution_count": 34,
   "metadata": {},
   "outputs": [
    {
     "name": "stdout",
     "output_type": "stream",
     "text": [
      "Triplets(subject=Span(start=8, end=12, label='--NME--', text='Asia'), label='contains', object=Span(start=68, end=80, label='--NME--', text='Soviet Union'), confidence=1.0)\n",
      "Triplets(subject=Span(start=149, end=153, label='--NME--', text='EBRD'), label='company', object=Span(start=99, end=147, label='--NME--', text='European Bank for Reconstruction and Development'), confidence=1.0)\n",
      "Triplets(subject=Span(start=8, end=12, label='--NME--', text='Asia'), label='contains', object=Span(start=68, end=80, label='--NME--', text='Soviet Union'), confidence=1.0)\n",
      "Triplets(subject=Span(start=149, end=153, label='--NME--', text='EBRD'), label='company', object=Span(start=99, end=147, label='--NME--', text='European Bank for Reconstruction and Development'), confidence=1.0)\n"
     ]
    },
    {
     "data": {
      "text/plain": [
       "[{'head': 'Asia',\n",
       "  'label': 'contains',\n",
       "  'tail': 'Soviet Union',\n",
       "  'confidence': 1.0},\n",
       " {'head': 'EBRD',\n",
       "  'label': 'company',\n",
       "  'tail': 'European Bank for Reconstruction and Development',\n",
       "  'confidence': 1.0}]"
      ]
     },
     "execution_count": 34,
     "metadata": {},
     "output_type": "execute_result"
    }
   ],
   "source": [
    "from pprint import pprint\n",
    "from dataclasses import asdict\n",
    "\n",
    "relik_out_dict = asdict(relik_out)\n",
    "triplets = relik_out_dict['triplets']\n",
    "\n",
    "def structure_relik_triplets(triplets):\n",
    "    structured_triplets = []\n",
    "    for triplet in triplets:\n",
    "        print(triplet)\n",
    "        subject, label, obj, confidence = triplet.subject, triplet.label, triplet.object, triplet.confidence\n",
    "        structured_triplets.append({\n",
    "            \"head\": subject.text,\n",
    "            \"label\": label,\n",
    "            \"tail\": obj.text,\n",
    "            \"confidence\": confidence\n",
    "        })\n",
    "\n",
    "    return structured_triplets\n",
    "\n",
    "structure_relik_triplets(triplets)"
   ]
  },
  {
   "cell_type": "code",
   "execution_count": 15,
   "metadata": {},
   "outputs": [
    {
     "name": "stdout",
     "output_type": "stream",
     "text": [
      "Bishkek says it is in serious need of ‘alternative sources of revenue’\n",
      "Kyrgyzstan, which is considering construction of its first nuclear power plant, has lifted a ban on uranium extraction to boost the economy with lawmakers overturning a 2019 law banning the research, exploration and development of uranium reserves, the Kyrgyz parliament said in a statement. \n",
      "The government has said it is lifting the ban because of a “serious need for alternative sources of revenue”. \n",
      "Populist president Sadyr Japarov has long called for state-led production in the extractive industries, a policy that he first championed more than a decade ago as an opposition politician.\n",
      "Addressing locals earlier this year in his native Issyk-Kul Province about plans to develop Kyzyl-Ompol – a uranium deposit licensed to a private investor at the time the ban was enforced – Japarov said the site would now be “100%” developed by the state.\n",
      "The lifting of the ban comes as Kyrgyzstan is considering the possibility of deploying a small modular reactor power plant supplied by Russia’s state-owned nuclear corporation Rosatom, according to the central Asian country’s energy minister.\n",
      "Russian official news agency Tass reported minister Taalaibek Ibraev as telling Kyrgyzstan’s parliament that Kyrgyzstan is “studying the options” for building two 55-MW SMR units.\n",
      "In November 2022, the central Asian country signed an agreement with Rosatom to cooperate on nuclear energy, including SMR plants and nuclear infrastructure.\n",
      "AP reported that Kyrgyzstan’s economy suffered during the Covid-19 pandemic. It has also been hit more recently indirectly by Western sanctions on Russia over the Ukraine invasion. \n",
      "It said Kyrgyzstan still has millions of cubic metres of toxic and radioactive waste left over from Soviet times and the uranium ban was introduced following anti-nuclear protests.\n",
      "Central Asia served as an important source of uranium in the former Soviet Union. According to the European Bank for Reconstruction and Development (EBRD), large amount of radioactively contaminated material was placed in mining waste dumps and tailing sites. \n",
      "The EBRD said contaminated material is a threat to the environment and the health of the population. The hazards include the possible pollution of ground and surface water in a key agricultural centre of the region.\n",
      "A dedicated environmental remediation account, managed by the EBRD, was established in 2015 at the initiative of the European Union to deal with the legacy of Soviet-era uranium mining in Central Asia. \n",
      "The EU is the fund’s biggest donor, while contributions have also been made by Belgium, Lithuania, Norway, Spain, Switzerland and the US.\n",
      "Central Asia, including Kyrgyzstan, served as an important source of uranium in the former Soviet Union. Courtesy EBRD.\n"
     ]
    }
   ],
   "source": [
    "sents = articles.iloc[0]['text']\n",
    "for s in sents:\n",
    "    print(s)"
   ]
  }
 ],
 "metadata": {
  "kernelspec": {
   "display_name": "env",
   "language": "python",
   "name": "python3"
  },
  "language_info": {
   "codemirror_mode": {
    "name": "ipython",
    "version": 3
   },
   "file_extension": ".py",
   "mimetype": "text/x-python",
   "name": "python",
   "nbconvert_exporter": "python",
   "pygments_lexer": "ipython3",
   "version": "3.10.13"
  }
 },
 "nbformat": 4,
 "nbformat_minor": 2
}
