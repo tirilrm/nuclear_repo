{
 "cells": [
  {
   "cell_type": "code",
   "execution_count": 1,
   "metadata": {},
   "outputs": [],
   "source": [
    "import json\n",
    "import pandas as pd\n",
    "import importlib\n",
    "import pickle"
   ]
  },
  {
   "cell_type": "code",
   "execution_count": 2,
   "metadata": {},
   "outputs": [],
   "source": [
    "filepath = '../scraping/articles/filtered_articles.json'\n",
    "with open(filepath, 'r') as file:\n",
    "    articles = pd.read_json(filepath)\n",
    "\n",
    "filepath = '../relation_extraction/directory.pkl'\n",
    "\n",
    "with open(filepath, 'rb') as file:\n",
    "    keywords = pickle.load(file)"
   ]
  },
  {
   "cell_type": "code",
   "execution_count": 105,
   "metadata": {},
   "outputs": [
    {
     "name": "stdout",
     "output_type": "stream",
     "text": [
      "                ___              __         \n",
      "               /\\_ \\      __    /\\ \\        \n",
      " _ __     __   \\//\\ \\    /\\_\\   \\ \\ \\/'\\    \n",
      "/\\`'__\\ /'__`\\   \\ \\ \\   \\/\\ \\   \\ \\ , <    \n",
      "\\ \\ \\/ /\\  __/    \\_\\ \\_  \\ \\ \\   \\ \\ \\\\`\\  \n",
      " \\ \\_\\ \\ \\____\\   /\\____\\  \\ \\_\\   \\ \\_\\ \\_\\\n",
      "  \\/_/  \\/____/   \\/____/   \\/_/    \\/_/\\/_/\n",
      "                                            \n",
      "                                            \n",
      "\n"
     ]
    },
    {
     "name": "stderr",
     "output_type": "stream",
     "text": [
      "/Users/tiril/Documents/IndividualProject/nuclear_repo/env/lib/python3.10/site-packages/huggingface_hub/file_download.py:1132: FutureWarning: `resume_download` is deprecated and will be removed in version 1.0.0. Downloads always resume when possible. If you want to force a new download, use `force_download=True`.\n",
      "  warnings.warn(\n"
     ]
    },
    {
     "data": {
      "application/vnd.jupyter.widget-view+json": {
       "model_id": "c5faf83125704db9ae3e84b1c2e806dd",
       "version_major": 2,
       "version_minor": 0
      },
      "text/plain": [
       "config.yaml:   0%|          | 0.00/637 [00:00<?, ?B/s]"
      ]
     },
     "metadata": {},
     "output_type": "display_data"
    },
    {
     "name": "stdout",
     "output_type": "stream",
     "text": [
      "[2024-08-06 13:08:02,193] [INFO] [relik.inference.annotator.from_pretrained:694] [PID:29125] [RANK:0] Loading Relik from sapienzanlp/relik-entity-linking-large\u001b[39m\n",
      "[2024-08-06 13:08:02,195] [INFO] [relik.inference.annotator.from_pretrained:695] [PID:29125] [RANK:0] {\n",
      "    '_target_': 'relik.inference.annotator.Relik',\n",
      "    'index': {\n",
      "        'span': {\n",
      "            '_target_': 'relik.retriever.indexers.inmemory.InMemoryDocumentIndex.from_pretrained',\n",
      "            'name_or_path': 'sapienzanlp/relik-retriever-e5-base-v2-aida-blink-wikipedia-index',\n",
      "        },\n",
      "    },\n",
      "    'metadata_fields': [],\n",
      "    'reader': {\n",
      "        '_target_': 'relik.reader.pytorch_modules.span.RelikReaderForSpanExtraction',\n",
      "        'transformer_model': 'sapienzanlp/relik-reader-deberta-v3-large-aida',\n",
      "        'use_nme': True,\n",
      "    },\n",
      "    'retriever': {\n",
      "        'span': {\n",
      "            '_target_': 'relik.retriever.pytorch_modules.model.GoldenRetriever',\n",
      "            'question_encoder': 'sapienzanlp/relik-retriever-e5-base-v2-aida-blink-encoder',\n",
      "        },\n",
      "    },\n",
      "    'task': 'SPAN',\n",
      "    'top_k': 100,\n",
      "    'window_size': 32,\n",
      "    'window_stride': 16,\n",
      "}\u001b[39m\n"
     ]
    },
    {
     "data": {
      "application/vnd.jupyter.widget-view+json": {
       "model_id": "aebe60e4cfee40d18e640fc7b93b346b",
       "version_major": 2,
       "version_minor": 0
      },
      "text/plain": [
       "config.json:   0%|          | 0.00/756 [00:00<?, ?B/s]"
      ]
     },
     "metadata": {},
     "output_type": "display_data"
    },
    {
     "data": {
      "application/vnd.jupyter.widget-view+json": {
       "model_id": "c8017dc85b4b4bc087223fa645f72843",
       "version_major": 2,
       "version_minor": 0
      },
      "text/plain": [
       "pytorch_model.bin:   0%|          | 0.00/438M [00:00<?, ?B/s]"
      ]
     },
     "metadata": {},
     "output_type": "display_data"
    },
    {
     "data": {
      "application/vnd.jupyter.widget-view+json": {
       "model_id": "6ef72dd57d54491fa6e863137832c3b1",
       "version_major": 2,
       "version_minor": 0
      },
      "text/plain": [
       "config.yaml:   0%|          | 0.00/197 [00:00<?, ?B/s]"
      ]
     },
     "metadata": {},
     "output_type": "display_data"
    },
    {
     "data": {
      "application/vnd.jupyter.widget-view+json": {
       "model_id": "a258d4d398144ff1b46b47c7643d93c9",
       "version_major": 2,
       "version_minor": 0
      },
      "text/plain": [
       "documents.jsonl:   0%|          | 0.00/3.03G [00:00<?, ?B/s]"
      ]
     },
     "metadata": {},
     "output_type": "display_data"
    },
    {
     "data": {
      "application/vnd.jupyter.widget-view+json": {
       "model_id": "78932ab845d74b7897fcbc6f69d16a27",
       "version_major": 2,
       "version_minor": 0
      },
      "text/plain": [
       "embeddings.pt:   0%|          | 0.00/9.07G [00:00<?, ?B/s]"
      ]
     },
     "metadata": {},
     "output_type": "display_data"
    },
    {
     "ename": "KeyboardInterrupt",
     "evalue": "",
     "output_type": "error",
     "traceback": [
      "\u001b[0;31m---------------------------------------------------------------------------\u001b[0m",
      "\u001b[0;31mKeyboardInterrupt\u001b[0m                         Traceback (most recent call last)",
      "Cell \u001b[0;32mIn[105], line 4\u001b[0m\n\u001b[1;32m      1\u001b[0m \u001b[38;5;28;01mfrom\u001b[39;00m \u001b[38;5;21;01mrelik\u001b[39;00m \u001b[38;5;28;01mimport\u001b[39;00m Relik\n\u001b[1;32m      2\u001b[0m \u001b[38;5;28;01mfrom\u001b[39;00m \u001b[38;5;21;01mrelik\u001b[39;00m\u001b[38;5;21;01m.\u001b[39;00m\u001b[38;5;21;01minference\u001b[39;00m\u001b[38;5;21;01m.\u001b[39;00m\u001b[38;5;21;01mdata\u001b[39;00m\u001b[38;5;21;01m.\u001b[39;00m\u001b[38;5;21;01mobjects\u001b[39;00m \u001b[38;5;28;01mimport\u001b[39;00m RelikOutput\n\u001b[0;32m----> 4\u001b[0m relik \u001b[38;5;241m=\u001b[39m \u001b[43mRelik\u001b[49m\u001b[38;5;241;43m.\u001b[39;49m\u001b[43mfrom_pretrained\u001b[49m\u001b[43m(\u001b[49m\u001b[38;5;124;43m\"\u001b[39;49m\u001b[38;5;124;43msapienzanlp/relik-entity-linking-large\u001b[39;49m\u001b[38;5;124;43m\"\u001b[39;49m\u001b[43m)\u001b[49m\n\u001b[1;32m      5\u001b[0m relik_out: RelikOutput \u001b[38;5;241m=\u001b[39m relik(\u001b[38;5;124m\"\u001b[39m\u001b[38;5;124mMichael Jordan was one of the best players in the NBA.\u001b[39m\u001b[38;5;124m\"\u001b[39m)\n",
      "File \u001b[0;32m~/Documents/IndividualProject/nuclear_repo/env/lib/python3.10/site-packages/relik/inference/annotator.py:739\u001b[0m, in \u001b[0;36mRelik.from_pretrained\u001b[0;34m(cls, model_name_or_dir, config_file_name, **kwargs)\u001b[0m\n\u001b[1;32m    736\u001b[0m         index \u001b[38;5;241m=\u001b[39m \u001b[38;5;28;01mNone\u001b[39;00m\n\u001b[1;32m    738\u001b[0m \u001b[38;5;28;01mif\u001b[39;00m index:\n\u001b[0;32m--> 739\u001b[0m     index \u001b[38;5;241m=\u001b[39m \u001b[43mload_index\u001b[49m\u001b[43m(\u001b[49m\n\u001b[1;32m    740\u001b[0m \u001b[43m        \u001b[49m\u001b[43mindex\u001b[49m\u001b[43m,\u001b[49m\u001b[43m \u001b[49m\u001b[43mindex_device\u001b[49m\u001b[43m,\u001b[49m\u001b[43m \u001b[49m\u001b[43mindex_precision\u001b[49m\u001b[43m,\u001b[49m\u001b[43m \u001b[49m\u001b[43mtask\u001b[49m\u001b[43m,\u001b[49m\u001b[43m \u001b[49m\u001b[38;5;241;43m*\u001b[39;49m\u001b[38;5;241;43m*\u001b[39;49m\u001b[43mindex_kwargs\u001b[49m\n\u001b[1;32m    741\u001b[0m \u001b[43m    \u001b[49m\u001b[43m)\u001b[49m\n\u001b[1;32m    743\u001b[0m \u001b[38;5;66;03m# link each index to the retriever\u001b[39;00m\n\u001b[1;32m    744\u001b[0m \u001b[38;5;28;01mif\u001b[39;00m retriever \u001b[38;5;129;01mand\u001b[39;00m index:\n",
      "File \u001b[0;32m~/Documents/IndividualProject/nuclear_repo/env/lib/python3.10/site-packages/relik/inference/utils.py:306\u001b[0m, in \u001b[0;36mload_index\u001b[0;34m(index, device, precision, task, **kwargs)\u001b[0m\n\u001b[1;32m    304\u001b[0m \u001b[38;5;66;03m# instantiate each retriever\u001b[39;00m\n\u001b[1;32m    305\u001b[0m \u001b[38;5;28;01mif\u001b[39;00m task \u001b[38;5;129;01min\u001b[39;00m [TaskType\u001b[38;5;241m.\u001b[39mSPAN, TaskType\u001b[38;5;241m.\u001b[39mBOTH]:\n\u001b[0;32m--> 306\u001b[0m     _index[TaskType\u001b[38;5;241m.\u001b[39mSPAN] \u001b[38;5;241m=\u001b[39m \u001b[43m_instantiate_index\u001b[49m\u001b[43m(\u001b[49m\n\u001b[1;32m    307\u001b[0m \u001b[43m        \u001b[49m\u001b[43mindex\u001b[49m\u001b[43m[\u001b[49m\u001b[43mTaskType\u001b[49m\u001b[38;5;241;43m.\u001b[39;49m\u001b[43mSPAN\u001b[49m\u001b[43m]\u001b[49m\u001b[43m,\u001b[49m\n\u001b[1;32m    308\u001b[0m \u001b[43m        \u001b[49m\u001b[43mdevice\u001b[49m\u001b[43m,\u001b[49m\n\u001b[1;32m    309\u001b[0m \u001b[43m        \u001b[49m\u001b[43mprecision\u001b[49m\u001b[43m,\u001b[49m\n\u001b[1;32m    310\u001b[0m \u001b[43m        \u001b[49m\u001b[38;5;241;43m*\u001b[39;49m\u001b[38;5;241;43m*\u001b[39;49m\u001b[43mkwargs\u001b[49m\u001b[43m,\u001b[49m\n\u001b[1;32m    311\u001b[0m \u001b[43m    \u001b[49m\u001b[43m)\u001b[49m\n\u001b[1;32m    312\u001b[0m \u001b[38;5;28;01mif\u001b[39;00m task \u001b[38;5;129;01min\u001b[39;00m [TaskType\u001b[38;5;241m.\u001b[39mTRIPLET, TaskType\u001b[38;5;241m.\u001b[39mBOTH]:\n\u001b[1;32m    313\u001b[0m     _index[TaskType\u001b[38;5;241m.\u001b[39mTRIPLET] \u001b[38;5;241m=\u001b[39m _instantiate_index(\n\u001b[1;32m    314\u001b[0m         index[TaskType\u001b[38;5;241m.\u001b[39mTRIPLET],\n\u001b[1;32m    315\u001b[0m         device,\n\u001b[1;32m    316\u001b[0m         precision,\n\u001b[1;32m    317\u001b[0m         \u001b[38;5;241m*\u001b[39m\u001b[38;5;241m*\u001b[39mkwargs,\n\u001b[1;32m    318\u001b[0m     )\n",
      "File \u001b[0;32m~/Documents/IndividualProject/nuclear_repo/env/lib/python3.10/site-packages/relik/inference/utils.py:222\u001b[0m, in \u001b[0;36m_instantiate_index\u001b[0;34m(index, device, precision, **kwargs)\u001b[0m\n\u001b[1;32m    220\u001b[0m     \u001b[38;5;66;03m# merge the kwargs\u001b[39;00m\n\u001b[1;32m    221\u001b[0m     index \u001b[38;5;241m=\u001b[39m OmegaConf\u001b[38;5;241m.\u001b[39mmerge(index, OmegaConf\u001b[38;5;241m.\u001b[39mcreate(kwargs))\n\u001b[0;32m--> 222\u001b[0m     index: BaseDocumentIndex \u001b[38;5;241m=\u001b[39m \u001b[43mhydra\u001b[49m\u001b[38;5;241;43m.\u001b[39;49m\u001b[43mutils\u001b[49m\u001b[38;5;241;43m.\u001b[39;49m\u001b[43minstantiate\u001b[49m\u001b[43m(\u001b[49m\u001b[43mindex\u001b[49m\u001b[43m)\u001b[49m\n\u001b[1;32m    223\u001b[0m \u001b[38;5;28;01melse\u001b[39;00m:\n\u001b[1;32m    224\u001b[0m     index \u001b[38;5;241m=\u001b[39m index\n",
      "File \u001b[0;32m~/Documents/IndividualProject/nuclear_repo/env/lib/python3.10/site-packages/hydra/_internal/instantiate/_instantiate2.py:226\u001b[0m, in \u001b[0;36minstantiate\u001b[0;34m(config, *args, **kwargs)\u001b[0m\n\u001b[1;32m    223\u001b[0m     _convert_ \u001b[38;5;241m=\u001b[39m config\u001b[38;5;241m.\u001b[39mpop(_Keys\u001b[38;5;241m.\u001b[39mCONVERT, ConvertMode\u001b[38;5;241m.\u001b[39mNONE)\n\u001b[1;32m    224\u001b[0m     _partial_ \u001b[38;5;241m=\u001b[39m config\u001b[38;5;241m.\u001b[39mpop(_Keys\u001b[38;5;241m.\u001b[39mPARTIAL, \u001b[38;5;28;01mFalse\u001b[39;00m)\n\u001b[0;32m--> 226\u001b[0m     \u001b[38;5;28;01mreturn\u001b[39;00m \u001b[43minstantiate_node\u001b[49m\u001b[43m(\u001b[49m\n\u001b[1;32m    227\u001b[0m \u001b[43m        \u001b[49m\u001b[43mconfig\u001b[49m\u001b[43m,\u001b[49m\u001b[43m \u001b[49m\u001b[38;5;241;43m*\u001b[39;49m\u001b[43margs\u001b[49m\u001b[43m,\u001b[49m\u001b[43m \u001b[49m\u001b[43mrecursive\u001b[49m\u001b[38;5;241;43m=\u001b[39;49m\u001b[43m_recursive_\u001b[49m\u001b[43m,\u001b[49m\u001b[43m \u001b[49m\u001b[43mconvert\u001b[49m\u001b[38;5;241;43m=\u001b[39;49m\u001b[43m_convert_\u001b[49m\u001b[43m,\u001b[49m\u001b[43m \u001b[49m\u001b[43mpartial\u001b[49m\u001b[38;5;241;43m=\u001b[39;49m\u001b[43m_partial_\u001b[49m\n\u001b[1;32m    228\u001b[0m \u001b[43m    \u001b[49m\u001b[43m)\u001b[49m\n\u001b[1;32m    229\u001b[0m \u001b[38;5;28;01melif\u001b[39;00m OmegaConf\u001b[38;5;241m.\u001b[39mis_list(config):\n\u001b[1;32m    230\u001b[0m     \u001b[38;5;66;03m# Finalize config (convert targets to strings, merge with kwargs)\u001b[39;00m\n\u001b[1;32m    231\u001b[0m     config_copy \u001b[38;5;241m=\u001b[39m copy\u001b[38;5;241m.\u001b[39mdeepcopy(config)\n",
      "File \u001b[0;32m~/Documents/IndividualProject/nuclear_repo/env/lib/python3.10/site-packages/hydra/_internal/instantiate/_instantiate2.py:347\u001b[0m, in \u001b[0;36minstantiate_node\u001b[0;34m(node, convert, recursive, partial, *args)\u001b[0m\n\u001b[1;32m    342\u001b[0m                 value \u001b[38;5;241m=\u001b[39m instantiate_node(\n\u001b[1;32m    343\u001b[0m                     value, convert\u001b[38;5;241m=\u001b[39mconvert, recursive\u001b[38;5;241m=\u001b[39mrecursive\n\u001b[1;32m    344\u001b[0m                 )\n\u001b[1;32m    345\u001b[0m             kwargs[key] \u001b[38;5;241m=\u001b[39m _convert_node(value, convert)\n\u001b[0;32m--> 347\u001b[0m     \u001b[38;5;28;01mreturn\u001b[39;00m \u001b[43m_call_target\u001b[49m\u001b[43m(\u001b[49m\u001b[43m_target_\u001b[49m\u001b[43m,\u001b[49m\u001b[43m \u001b[49m\u001b[43mpartial\u001b[49m\u001b[43m,\u001b[49m\u001b[43m \u001b[49m\u001b[43margs\u001b[49m\u001b[43m,\u001b[49m\u001b[43m \u001b[49m\u001b[43mkwargs\u001b[49m\u001b[43m,\u001b[49m\u001b[43m \u001b[49m\u001b[43mfull_key\u001b[49m\u001b[43m)\u001b[49m\n\u001b[1;32m    348\u001b[0m \u001b[38;5;28;01melse\u001b[39;00m:\n\u001b[1;32m    349\u001b[0m     \u001b[38;5;66;03m# If ALL or PARTIAL non structured or OBJECT non structured,\u001b[39;00m\n\u001b[1;32m    350\u001b[0m     \u001b[38;5;66;03m# instantiate in dict and resolve interpolations eagerly.\u001b[39;00m\n\u001b[1;32m    351\u001b[0m     \u001b[38;5;28;01mif\u001b[39;00m convert \u001b[38;5;241m==\u001b[39m ConvertMode\u001b[38;5;241m.\u001b[39mALL \u001b[38;5;129;01mor\u001b[39;00m (\n\u001b[1;32m    352\u001b[0m         convert \u001b[38;5;129;01min\u001b[39;00m (ConvertMode\u001b[38;5;241m.\u001b[39mPARTIAL, ConvertMode\u001b[38;5;241m.\u001b[39mOBJECT)\n\u001b[1;32m    353\u001b[0m         \u001b[38;5;129;01mand\u001b[39;00m node\u001b[38;5;241m.\u001b[39m_metadata\u001b[38;5;241m.\u001b[39mobject_type \u001b[38;5;129;01min\u001b[39;00m (\u001b[38;5;28;01mNone\u001b[39;00m, \u001b[38;5;28mdict\u001b[39m)\n\u001b[1;32m    354\u001b[0m     ):\n",
      "File \u001b[0;32m~/Documents/IndividualProject/nuclear_repo/env/lib/python3.10/site-packages/hydra/_internal/instantiate/_instantiate2.py:92\u001b[0m, in \u001b[0;36m_call_target\u001b[0;34m(_target_, _partial_, args, kwargs, full_key)\u001b[0m\n\u001b[1;32m     90\u001b[0m \u001b[38;5;28;01melse\u001b[39;00m:\n\u001b[1;32m     91\u001b[0m     \u001b[38;5;28;01mtry\u001b[39;00m:\n\u001b[0;32m---> 92\u001b[0m         \u001b[38;5;28;01mreturn\u001b[39;00m \u001b[43m_target_\u001b[49m\u001b[43m(\u001b[49m\u001b[38;5;241;43m*\u001b[39;49m\u001b[43margs\u001b[49m\u001b[43m,\u001b[49m\u001b[43m \u001b[49m\u001b[38;5;241;43m*\u001b[39;49m\u001b[38;5;241;43m*\u001b[39;49m\u001b[43mkwargs\u001b[49m\u001b[43m)\u001b[49m\n\u001b[1;32m     93\u001b[0m     \u001b[38;5;28;01mexcept\u001b[39;00m \u001b[38;5;167;01mException\u001b[39;00m \u001b[38;5;28;01mas\u001b[39;00m e:\n\u001b[1;32m     94\u001b[0m         msg \u001b[38;5;241m=\u001b[39m \u001b[38;5;124mf\u001b[39m\u001b[38;5;124m\"\u001b[39m\u001b[38;5;124mError in call to target \u001b[39m\u001b[38;5;124m'\u001b[39m\u001b[38;5;132;01m{\u001b[39;00m_convert_target_to_string(_target_)\u001b[38;5;132;01m}\u001b[39;00m\u001b[38;5;124m'\u001b[39m\u001b[38;5;124m:\u001b[39m\u001b[38;5;130;01m\\n\u001b[39;00m\u001b[38;5;132;01m{\u001b[39;00m\u001b[38;5;28mrepr\u001b[39m(e)\u001b[38;5;132;01m}\u001b[39;00m\u001b[38;5;124m\"\u001b[39m\n",
      "File \u001b[0;32m~/Documents/IndividualProject/nuclear_repo/env/lib/python3.10/site-packages/relik/retriever/indexers/base.py:426\u001b[0m, in \u001b[0;36mBaseDocumentIndex.from_pretrained\u001b[0;34m(cls, name_or_path, device, precision, config_file_name, document_file_name, embedding_file_name, index_file_name, *args, **kwargs)\u001b[0m\n\u001b[1;32m    423\u001b[0m embedding_file_name \u001b[38;5;241m=\u001b[39m embedding_file_name \u001b[38;5;129;01mor\u001b[39;00m \u001b[38;5;28mcls\u001b[39m\u001b[38;5;241m.\u001b[39mEMBEDDINGS_FILE_NAME\n\u001b[1;32m    424\u001b[0m index_file_name \u001b[38;5;241m=\u001b[39m index_file_name \u001b[38;5;129;01mor\u001b[39;00m \u001b[38;5;28mcls\u001b[39m\u001b[38;5;241m.\u001b[39mINDEX_FILE_NAME\n\u001b[0;32m--> 426\u001b[0m model_dir \u001b[38;5;241m=\u001b[39m \u001b[43mfrom_cache\u001b[49m\u001b[43m(\u001b[49m\n\u001b[1;32m    427\u001b[0m \u001b[43m    \u001b[49m\u001b[43mname_or_path\u001b[49m\u001b[43m,\u001b[49m\n\u001b[1;32m    428\u001b[0m \u001b[43m    \u001b[49m\u001b[43mfilenames\u001b[49m\u001b[38;5;241;43m=\u001b[39;49m\u001b[43m[\u001b[49m\n\u001b[1;32m    429\u001b[0m \u001b[43m        \u001b[49m\u001b[43mconfig_file_name\u001b[49m\u001b[43m,\u001b[49m\n\u001b[1;32m    430\u001b[0m \u001b[43m        \u001b[49m\u001b[43mdocument_file_name\u001b[49m\u001b[43m,\u001b[49m\n\u001b[1;32m    431\u001b[0m \u001b[43m        \u001b[49m\u001b[43membedding_file_name\u001b[49m\u001b[43m,\u001b[49m\n\u001b[1;32m    432\u001b[0m \u001b[43m        \u001b[49m\u001b[43mindex_file_name\u001b[49m\u001b[43m,\u001b[49m\n\u001b[1;32m    433\u001b[0m \u001b[43m    \u001b[49m\u001b[43m]\u001b[49m\u001b[43m,\u001b[49m\n\u001b[1;32m    434\u001b[0m \u001b[43m    \u001b[49m\u001b[43mcache_dir\u001b[49m\u001b[38;5;241;43m=\u001b[39;49m\u001b[43mcache_dir\u001b[49m\u001b[43m,\u001b[49m\n\u001b[1;32m    435\u001b[0m \u001b[43m    \u001b[49m\u001b[43mforce_download\u001b[49m\u001b[38;5;241;43m=\u001b[39;49m\u001b[43mforce_download\u001b[49m\u001b[43m,\u001b[49m\n\u001b[1;32m    436\u001b[0m \u001b[43m    \u001b[49m\u001b[43mignore_failure\u001b[49m\u001b[38;5;241;43m=\u001b[39;49m\u001b[38;5;28;43;01mTrue\u001b[39;49;00m\u001b[43m,\u001b[49m\n\u001b[1;32m    437\u001b[0m \u001b[43m\u001b[49m\u001b[43m)\u001b[49m\n\u001b[1;32m    439\u001b[0m config_path \u001b[38;5;241m=\u001b[39m model_dir \u001b[38;5;241m/\u001b[39m config_file_name\n\u001b[1;32m    440\u001b[0m \u001b[38;5;28;01mif\u001b[39;00m \u001b[38;5;129;01mnot\u001b[39;00m config_path\u001b[38;5;241m.\u001b[39mexists():\n",
      "File \u001b[0;32m~/Documents/IndividualProject/nuclear_repo/env/lib/python3.10/site-packages/relik/common/utils.py:451\u001b[0m, in \u001b[0;36mfrom_cache\u001b[0;34m(url_or_filename, cache_dir, force_download, resume_download, proxies, use_auth_token, revision, local_files_only, subfolder, filenames, ignore_failure)\u001b[0m\n\u001b[1;32m    449\u001b[0m     \u001b[38;5;28;01mif\u001b[39;00m filenames \u001b[38;5;129;01mis\u001b[39;00m \u001b[38;5;28;01mNone\u001b[39;00m:\n\u001b[1;32m    450\u001b[0m         filenames \u001b[38;5;241m=\u001b[39m [WEIGHTS_NAME, CONFIG_NAME, LABELS_NAME]\n\u001b[0;32m--> 451\u001b[0m     output_path \u001b[38;5;241m=\u001b[39m \u001b[43mdownload_from_hf\u001b[49m\u001b[43m(\u001b[49m\n\u001b[1;32m    452\u001b[0m \u001b[43m        \u001b[49m\u001b[43murl_or_filename\u001b[49m\u001b[43m,\u001b[49m\n\u001b[1;32m    453\u001b[0m \u001b[43m        \u001b[49m\u001b[43mfilenames\u001b[49m\u001b[43m,\u001b[49m\n\u001b[1;32m    454\u001b[0m \u001b[43m        \u001b[49m\u001b[43mcache_dir\u001b[49m\u001b[43m,\u001b[49m\n\u001b[1;32m    455\u001b[0m \u001b[43m        \u001b[49m\u001b[43mforce_download\u001b[49m\u001b[43m,\u001b[49m\n\u001b[1;32m    456\u001b[0m \u001b[43m        \u001b[49m\u001b[43mresume_download\u001b[49m\u001b[43m,\u001b[49m\n\u001b[1;32m    457\u001b[0m \u001b[43m        \u001b[49m\u001b[43mproxies\u001b[49m\u001b[43m,\u001b[49m\n\u001b[1;32m    458\u001b[0m \u001b[43m        \u001b[49m\u001b[43muse_auth_token\u001b[49m\u001b[43m,\u001b[49m\n\u001b[1;32m    459\u001b[0m \u001b[43m        \u001b[49m\u001b[43mrevision\u001b[49m\u001b[43m,\u001b[49m\n\u001b[1;32m    460\u001b[0m \u001b[43m        \u001b[49m\u001b[43mlocal_files_only\u001b[49m\u001b[43m,\u001b[49m\n\u001b[1;32m    461\u001b[0m \u001b[43m        \u001b[49m\u001b[43msubfolder\u001b[49m\u001b[43m,\u001b[49m\n\u001b[1;32m    462\u001b[0m \u001b[43m        \u001b[49m\u001b[43mignore_failure\u001b[49m\u001b[38;5;241;43m=\u001b[39;49m\u001b[43mignore_failure\u001b[49m\u001b[43m,\u001b[49m\n\u001b[1;32m    463\u001b[0m \u001b[43m    \u001b[49m\u001b[43m)\u001b[49m\n\u001b[1;32m    465\u001b[0m \u001b[38;5;66;03m# if is_hf_hub_url(url_or_filename):\u001b[39;00m\n\u001b[1;32m    466\u001b[0m \u001b[38;5;66;03m# HuggingFace Hub\u001b[39;00m\n\u001b[1;32m    467\u001b[0m \u001b[38;5;66;03m# output_path = hf_hub_download_url(url_or_filename)\u001b[39;00m\n\u001b[0;32m   (...)\u001b[0m\n\u001b[1;32m    485\u001b[0m \u001b[38;5;66;03m#         f\"unable to parse {url_or_filename} as a URL or as a local path\"\u001b[39;00m\n\u001b[1;32m    486\u001b[0m \u001b[38;5;66;03m#     )\u001b[39;00m\n\u001b[1;32m    488\u001b[0m \u001b[38;5;28;01mif\u001b[39;00m dir_exists(output_path) \u001b[38;5;129;01mor\u001b[39;00m (\n\u001b[1;32m    489\u001b[0m     \u001b[38;5;129;01mnot\u001b[39;00m is_zipfile(output_path) \u001b[38;5;129;01mand\u001b[39;00m \u001b[38;5;129;01mnot\u001b[39;00m tarfile\u001b[38;5;241m.\u001b[39mis_tarfile(output_path)\n\u001b[1;32m    490\u001b[0m ):\n",
      "File \u001b[0;32m~/Documents/IndividualProject/nuclear_repo/env/lib/python3.10/site-packages/relik/common/utils.py:327\u001b[0m, in \u001b[0;36mdownload_from_hf\u001b[0;34m(path_or_repo_id, filenames, cache_dir, force_download, resume_download, proxies, use_auth_token, revision, local_files_only, subfolder, repo_type, ignore_failure)\u001b[0m\n\u001b[1;32m    325\u001b[0m \u001b[38;5;28;01mfor\u001b[39;00m filename \u001b[38;5;129;01min\u001b[39;00m filenames:\n\u001b[1;32m    326\u001b[0m     \u001b[38;5;28;01mtry\u001b[39;00m:\n\u001b[0;32m--> 327\u001b[0m         downloaded_path \u001b[38;5;241m=\u001b[39m \u001b[43mhf_cached_file\u001b[49m\u001b[43m(\u001b[49m\n\u001b[1;32m    328\u001b[0m \u001b[43m            \u001b[49m\u001b[43mpath_or_repo_id\u001b[49m\u001b[43m,\u001b[49m\n\u001b[1;32m    329\u001b[0m \u001b[43m            \u001b[49m\u001b[43mfilename\u001b[49m\u001b[43m,\u001b[49m\n\u001b[1;32m    330\u001b[0m \u001b[43m            \u001b[49m\u001b[43mcache_dir\u001b[49m\u001b[38;5;241;43m=\u001b[39;49m\u001b[43mcache_dir\u001b[49m\u001b[43m,\u001b[49m\n\u001b[1;32m    331\u001b[0m \u001b[43m            \u001b[49m\u001b[43mforce_download\u001b[49m\u001b[38;5;241;43m=\u001b[39;49m\u001b[43mforce_download\u001b[49m\u001b[43m,\u001b[49m\n\u001b[1;32m    332\u001b[0m \u001b[43m            \u001b[49m\u001b[43mproxies\u001b[49m\u001b[38;5;241;43m=\u001b[39;49m\u001b[43mproxies\u001b[49m\u001b[43m,\u001b[49m\n\u001b[1;32m    333\u001b[0m \u001b[43m            \u001b[49m\u001b[43mresume_download\u001b[49m\u001b[38;5;241;43m=\u001b[39;49m\u001b[43mresume_download\u001b[49m\u001b[43m,\u001b[49m\n\u001b[1;32m    334\u001b[0m \u001b[43m            \u001b[49m\u001b[43muse_auth_token\u001b[49m\u001b[38;5;241;43m=\u001b[39;49m\u001b[43muse_auth_token\u001b[49m\u001b[43m,\u001b[49m\n\u001b[1;32m    335\u001b[0m \u001b[43m            \u001b[49m\u001b[43mrevision\u001b[49m\u001b[38;5;241;43m=\u001b[39;49m\u001b[43mrevision\u001b[49m\u001b[43m,\u001b[49m\n\u001b[1;32m    336\u001b[0m \u001b[43m            \u001b[49m\u001b[43mlocal_files_only\u001b[49m\u001b[38;5;241;43m=\u001b[39;49m\u001b[43mlocal_files_only\u001b[49m\u001b[43m,\u001b[49m\n\u001b[1;32m    337\u001b[0m \u001b[43m            \u001b[49m\u001b[43msubfolder\u001b[49m\u001b[38;5;241;43m=\u001b[39;49m\u001b[43msubfolder\u001b[49m\u001b[43m,\u001b[49m\n\u001b[1;32m    338\u001b[0m \u001b[43m        \u001b[49m\u001b[43m)\u001b[49m\n\u001b[1;32m    339\u001b[0m         downloaded_paths\u001b[38;5;241m.\u001b[39mappend(downloaded_path)\n\u001b[1;32m    340\u001b[0m     \u001b[38;5;28;01mexcept\u001b[39;00m \u001b[38;5;167;01mOSError\u001b[39;00m:\n",
      "File \u001b[0;32m~/Documents/IndividualProject/nuclear_repo/env/lib/python3.10/site-packages/transformers/utils/hub.py:399\u001b[0m, in \u001b[0;36mcached_file\u001b[0;34m(path_or_repo_id, filename, cache_dir, force_download, resume_download, proxies, token, revision, local_files_only, subfolder, repo_type, user_agent, _raise_exceptions_for_gated_repo, _raise_exceptions_for_missing_entries, _raise_exceptions_for_connection_errors, _commit_hash, **deprecated_kwargs)\u001b[0m\n\u001b[1;32m    396\u001b[0m user_agent \u001b[38;5;241m=\u001b[39m http_user_agent(user_agent)\n\u001b[1;32m    397\u001b[0m \u001b[38;5;28;01mtry\u001b[39;00m:\n\u001b[1;32m    398\u001b[0m     \u001b[38;5;66;03m# Load from URL or cache if already cached\u001b[39;00m\n\u001b[0;32m--> 399\u001b[0m     resolved_file \u001b[38;5;241m=\u001b[39m \u001b[43mhf_hub_download\u001b[49m\u001b[43m(\u001b[49m\n\u001b[1;32m    400\u001b[0m \u001b[43m        \u001b[49m\u001b[43mpath_or_repo_id\u001b[49m\u001b[43m,\u001b[49m\n\u001b[1;32m    401\u001b[0m \u001b[43m        \u001b[49m\u001b[43mfilename\u001b[49m\u001b[43m,\u001b[49m\n\u001b[1;32m    402\u001b[0m \u001b[43m        \u001b[49m\u001b[43msubfolder\u001b[49m\u001b[38;5;241;43m=\u001b[39;49m\u001b[38;5;28;43;01mNone\u001b[39;49;00m\u001b[43m \u001b[49m\u001b[38;5;28;43;01mif\u001b[39;49;00m\u001b[43m \u001b[49m\u001b[38;5;28;43mlen\u001b[39;49m\u001b[43m(\u001b[49m\u001b[43msubfolder\u001b[49m\u001b[43m)\u001b[49m\u001b[43m \u001b[49m\u001b[38;5;241;43m==\u001b[39;49m\u001b[43m \u001b[49m\u001b[38;5;241;43m0\u001b[39;49m\u001b[43m \u001b[49m\u001b[38;5;28;43;01melse\u001b[39;49;00m\u001b[43m \u001b[49m\u001b[43msubfolder\u001b[49m\u001b[43m,\u001b[49m\n\u001b[1;32m    403\u001b[0m \u001b[43m        \u001b[49m\u001b[43mrepo_type\u001b[49m\u001b[38;5;241;43m=\u001b[39;49m\u001b[43mrepo_type\u001b[49m\u001b[43m,\u001b[49m\n\u001b[1;32m    404\u001b[0m \u001b[43m        \u001b[49m\u001b[43mrevision\u001b[49m\u001b[38;5;241;43m=\u001b[39;49m\u001b[43mrevision\u001b[49m\u001b[43m,\u001b[49m\n\u001b[1;32m    405\u001b[0m \u001b[43m        \u001b[49m\u001b[43mcache_dir\u001b[49m\u001b[38;5;241;43m=\u001b[39;49m\u001b[43mcache_dir\u001b[49m\u001b[43m,\u001b[49m\n\u001b[1;32m    406\u001b[0m \u001b[43m        \u001b[49m\u001b[43muser_agent\u001b[49m\u001b[38;5;241;43m=\u001b[39;49m\u001b[43muser_agent\u001b[49m\u001b[43m,\u001b[49m\n\u001b[1;32m    407\u001b[0m \u001b[43m        \u001b[49m\u001b[43mforce_download\u001b[49m\u001b[38;5;241;43m=\u001b[39;49m\u001b[43mforce_download\u001b[49m\u001b[43m,\u001b[49m\n\u001b[1;32m    408\u001b[0m \u001b[43m        \u001b[49m\u001b[43mproxies\u001b[49m\u001b[38;5;241;43m=\u001b[39;49m\u001b[43mproxies\u001b[49m\u001b[43m,\u001b[49m\n\u001b[1;32m    409\u001b[0m \u001b[43m        \u001b[49m\u001b[43mresume_download\u001b[49m\u001b[38;5;241;43m=\u001b[39;49m\u001b[43mresume_download\u001b[49m\u001b[43m,\u001b[49m\n\u001b[1;32m    410\u001b[0m \u001b[43m        \u001b[49m\u001b[43mtoken\u001b[49m\u001b[38;5;241;43m=\u001b[39;49m\u001b[43mtoken\u001b[49m\u001b[43m,\u001b[49m\n\u001b[1;32m    411\u001b[0m \u001b[43m        \u001b[49m\u001b[43mlocal_files_only\u001b[49m\u001b[38;5;241;43m=\u001b[39;49m\u001b[43mlocal_files_only\u001b[49m\u001b[43m,\u001b[49m\n\u001b[1;32m    412\u001b[0m \u001b[43m    \u001b[49m\u001b[43m)\u001b[49m\n\u001b[1;32m    413\u001b[0m \u001b[38;5;28;01mexcept\u001b[39;00m GatedRepoError \u001b[38;5;28;01mas\u001b[39;00m e:\n\u001b[1;32m    414\u001b[0m     resolved_file \u001b[38;5;241m=\u001b[39m _get_cache_file_to_return(path_or_repo_id, full_filename, cache_dir, revision)\n",
      "File \u001b[0;32m~/Documents/IndividualProject/nuclear_repo/env/lib/python3.10/site-packages/huggingface_hub/utils/_validators.py:114\u001b[0m, in \u001b[0;36mvalidate_hf_hub_args.<locals>._inner_fn\u001b[0;34m(*args, **kwargs)\u001b[0m\n\u001b[1;32m    111\u001b[0m \u001b[38;5;28;01mif\u001b[39;00m check_use_auth_token:\n\u001b[1;32m    112\u001b[0m     kwargs \u001b[38;5;241m=\u001b[39m smoothly_deprecate_use_auth_token(fn_name\u001b[38;5;241m=\u001b[39mfn\u001b[38;5;241m.\u001b[39m\u001b[38;5;18m__name__\u001b[39m, has_token\u001b[38;5;241m=\u001b[39mhas_token, kwargs\u001b[38;5;241m=\u001b[39mkwargs)\n\u001b[0;32m--> 114\u001b[0m \u001b[38;5;28;01mreturn\u001b[39;00m \u001b[43mfn\u001b[49m\u001b[43m(\u001b[49m\u001b[38;5;241;43m*\u001b[39;49m\u001b[43margs\u001b[49m\u001b[43m,\u001b[49m\u001b[43m \u001b[49m\u001b[38;5;241;43m*\u001b[39;49m\u001b[38;5;241;43m*\u001b[39;49m\u001b[43mkwargs\u001b[49m\u001b[43m)\u001b[49m\n",
      "File \u001b[0;32m~/Documents/IndividualProject/nuclear_repo/env/lib/python3.10/site-packages/huggingface_hub/file_download.py:1221\u001b[0m, in \u001b[0;36mhf_hub_download\u001b[0;34m(repo_id, filename, subfolder, repo_type, revision, library_name, library_version, cache_dir, local_dir, user_agent, force_download, proxies, etag_timeout, token, local_files_only, headers, endpoint, legacy_cache_layout, resume_download, force_filename, local_dir_use_symlinks)\u001b[0m\n\u001b[1;32m   1202\u001b[0m     \u001b[38;5;28;01mreturn\u001b[39;00m _hf_hub_download_to_local_dir(\n\u001b[1;32m   1203\u001b[0m         \u001b[38;5;66;03m# Destination\u001b[39;00m\n\u001b[1;32m   1204\u001b[0m         local_dir\u001b[38;5;241m=\u001b[39mlocal_dir,\n\u001b[0;32m   (...)\u001b[0m\n\u001b[1;32m   1218\u001b[0m         local_files_only\u001b[38;5;241m=\u001b[39mlocal_files_only,\n\u001b[1;32m   1219\u001b[0m     )\n\u001b[1;32m   1220\u001b[0m \u001b[38;5;28;01melse\u001b[39;00m:\n\u001b[0;32m-> 1221\u001b[0m     \u001b[38;5;28;01mreturn\u001b[39;00m \u001b[43m_hf_hub_download_to_cache_dir\u001b[49m\u001b[43m(\u001b[49m\n\u001b[1;32m   1222\u001b[0m \u001b[43m        \u001b[49m\u001b[38;5;66;43;03m# Destination\u001b[39;49;00m\n\u001b[1;32m   1223\u001b[0m \u001b[43m        \u001b[49m\u001b[43mcache_dir\u001b[49m\u001b[38;5;241;43m=\u001b[39;49m\u001b[43mcache_dir\u001b[49m\u001b[43m,\u001b[49m\n\u001b[1;32m   1224\u001b[0m \u001b[43m        \u001b[49m\u001b[38;5;66;43;03m# File info\u001b[39;49;00m\n\u001b[1;32m   1225\u001b[0m \u001b[43m        \u001b[49m\u001b[43mrepo_id\u001b[49m\u001b[38;5;241;43m=\u001b[39;49m\u001b[43mrepo_id\u001b[49m\u001b[43m,\u001b[49m\n\u001b[1;32m   1226\u001b[0m \u001b[43m        \u001b[49m\u001b[43mfilename\u001b[49m\u001b[38;5;241;43m=\u001b[39;49m\u001b[43mfilename\u001b[49m\u001b[43m,\u001b[49m\n\u001b[1;32m   1227\u001b[0m \u001b[43m        \u001b[49m\u001b[43mrepo_type\u001b[49m\u001b[38;5;241;43m=\u001b[39;49m\u001b[43mrepo_type\u001b[49m\u001b[43m,\u001b[49m\n\u001b[1;32m   1228\u001b[0m \u001b[43m        \u001b[49m\u001b[43mrevision\u001b[49m\u001b[38;5;241;43m=\u001b[39;49m\u001b[43mrevision\u001b[49m\u001b[43m,\u001b[49m\n\u001b[1;32m   1229\u001b[0m \u001b[43m        \u001b[49m\u001b[38;5;66;43;03m# HTTP info\u001b[39;49;00m\n\u001b[1;32m   1230\u001b[0m \u001b[43m        \u001b[49m\u001b[43mheaders\u001b[49m\u001b[38;5;241;43m=\u001b[39;49m\u001b[43mheaders\u001b[49m\u001b[43m,\u001b[49m\n\u001b[1;32m   1231\u001b[0m \u001b[43m        \u001b[49m\u001b[43mproxies\u001b[49m\u001b[38;5;241;43m=\u001b[39;49m\u001b[43mproxies\u001b[49m\u001b[43m,\u001b[49m\n\u001b[1;32m   1232\u001b[0m \u001b[43m        \u001b[49m\u001b[43metag_timeout\u001b[49m\u001b[38;5;241;43m=\u001b[39;49m\u001b[43metag_timeout\u001b[49m\u001b[43m,\u001b[49m\n\u001b[1;32m   1233\u001b[0m \u001b[43m        \u001b[49m\u001b[43mendpoint\u001b[49m\u001b[38;5;241;43m=\u001b[39;49m\u001b[43mendpoint\u001b[49m\u001b[43m,\u001b[49m\n\u001b[1;32m   1234\u001b[0m \u001b[43m        \u001b[49m\u001b[38;5;66;43;03m# Additional options\u001b[39;49;00m\n\u001b[1;32m   1235\u001b[0m \u001b[43m        \u001b[49m\u001b[43mlocal_files_only\u001b[49m\u001b[38;5;241;43m=\u001b[39;49m\u001b[43mlocal_files_only\u001b[49m\u001b[43m,\u001b[49m\n\u001b[1;32m   1236\u001b[0m \u001b[43m        \u001b[49m\u001b[43mforce_download\u001b[49m\u001b[38;5;241;43m=\u001b[39;49m\u001b[43mforce_download\u001b[49m\u001b[43m,\u001b[49m\n\u001b[1;32m   1237\u001b[0m \u001b[43m    \u001b[49m\u001b[43m)\u001b[49m\n",
      "File \u001b[0;32m~/Documents/IndividualProject/nuclear_repo/env/lib/python3.10/site-packages/huggingface_hub/file_download.py:1367\u001b[0m, in \u001b[0;36m_hf_hub_download_to_cache_dir\u001b[0;34m(cache_dir, repo_id, filename, repo_type, revision, headers, proxies, etag_timeout, endpoint, local_files_only, force_download)\u001b[0m\n\u001b[1;32m   1365\u001b[0m Path(lock_path)\u001b[38;5;241m.\u001b[39mparent\u001b[38;5;241m.\u001b[39mmkdir(parents\u001b[38;5;241m=\u001b[39m\u001b[38;5;28;01mTrue\u001b[39;00m, exist_ok\u001b[38;5;241m=\u001b[39m\u001b[38;5;28;01mTrue\u001b[39;00m)\n\u001b[1;32m   1366\u001b[0m \u001b[38;5;28;01mwith\u001b[39;00m WeakFileLock(lock_path):\n\u001b[0;32m-> 1367\u001b[0m     \u001b[43m_download_to_tmp_and_move\u001b[49m\u001b[43m(\u001b[49m\n\u001b[1;32m   1368\u001b[0m \u001b[43m        \u001b[49m\u001b[43mincomplete_path\u001b[49m\u001b[38;5;241;43m=\u001b[39;49m\u001b[43mPath\u001b[49m\u001b[43m(\u001b[49m\u001b[43mblob_path\u001b[49m\u001b[43m \u001b[49m\u001b[38;5;241;43m+\u001b[39;49m\u001b[43m \u001b[49m\u001b[38;5;124;43m\"\u001b[39;49m\u001b[38;5;124;43m.incomplete\u001b[39;49m\u001b[38;5;124;43m\"\u001b[39;49m\u001b[43m)\u001b[49m\u001b[43m,\u001b[49m\n\u001b[1;32m   1369\u001b[0m \u001b[43m        \u001b[49m\u001b[43mdestination_path\u001b[49m\u001b[38;5;241;43m=\u001b[39;49m\u001b[43mPath\u001b[49m\u001b[43m(\u001b[49m\u001b[43mblob_path\u001b[49m\u001b[43m)\u001b[49m\u001b[43m,\u001b[49m\n\u001b[1;32m   1370\u001b[0m \u001b[43m        \u001b[49m\u001b[43murl_to_download\u001b[49m\u001b[38;5;241;43m=\u001b[39;49m\u001b[43murl_to_download\u001b[49m\u001b[43m,\u001b[49m\n\u001b[1;32m   1371\u001b[0m \u001b[43m        \u001b[49m\u001b[43mproxies\u001b[49m\u001b[38;5;241;43m=\u001b[39;49m\u001b[43mproxies\u001b[49m\u001b[43m,\u001b[49m\n\u001b[1;32m   1372\u001b[0m \u001b[43m        \u001b[49m\u001b[43mheaders\u001b[49m\u001b[38;5;241;43m=\u001b[39;49m\u001b[43mheaders\u001b[49m\u001b[43m,\u001b[49m\n\u001b[1;32m   1373\u001b[0m \u001b[43m        \u001b[49m\u001b[43mexpected_size\u001b[49m\u001b[38;5;241;43m=\u001b[39;49m\u001b[43mexpected_size\u001b[49m\u001b[43m,\u001b[49m\n\u001b[1;32m   1374\u001b[0m \u001b[43m        \u001b[49m\u001b[43mfilename\u001b[49m\u001b[38;5;241;43m=\u001b[39;49m\u001b[43mfilename\u001b[49m\u001b[43m,\u001b[49m\n\u001b[1;32m   1375\u001b[0m \u001b[43m        \u001b[49m\u001b[43mforce_download\u001b[49m\u001b[38;5;241;43m=\u001b[39;49m\u001b[43mforce_download\u001b[49m\u001b[43m,\u001b[49m\n\u001b[1;32m   1376\u001b[0m \u001b[43m    \u001b[49m\u001b[43m)\u001b[49m\n\u001b[1;32m   1377\u001b[0m     _create_symlink(blob_path, pointer_path, new_blob\u001b[38;5;241m=\u001b[39m\u001b[38;5;28;01mTrue\u001b[39;00m)\n\u001b[1;32m   1379\u001b[0m \u001b[38;5;28;01mreturn\u001b[39;00m pointer_path\n",
      "File \u001b[0;32m~/Documents/IndividualProject/nuclear_repo/env/lib/python3.10/site-packages/huggingface_hub/file_download.py:1884\u001b[0m, in \u001b[0;36m_download_to_tmp_and_move\u001b[0;34m(incomplete_path, destination_path, url_to_download, proxies, headers, expected_size, filename, force_download)\u001b[0m\n\u001b[1;32m   1881\u001b[0m         _check_disk_space(expected_size, incomplete_path\u001b[38;5;241m.\u001b[39mparent)\n\u001b[1;32m   1882\u001b[0m         _check_disk_space(expected_size, destination_path\u001b[38;5;241m.\u001b[39mparent)\n\u001b[0;32m-> 1884\u001b[0m     \u001b[43mhttp_get\u001b[49m\u001b[43m(\u001b[49m\n\u001b[1;32m   1885\u001b[0m \u001b[43m        \u001b[49m\u001b[43murl_to_download\u001b[49m\u001b[43m,\u001b[49m\n\u001b[1;32m   1886\u001b[0m \u001b[43m        \u001b[49m\u001b[43mf\u001b[49m\u001b[43m,\u001b[49m\n\u001b[1;32m   1887\u001b[0m \u001b[43m        \u001b[49m\u001b[43mproxies\u001b[49m\u001b[38;5;241;43m=\u001b[39;49m\u001b[43mproxies\u001b[49m\u001b[43m,\u001b[49m\n\u001b[1;32m   1888\u001b[0m \u001b[43m        \u001b[49m\u001b[43mresume_size\u001b[49m\u001b[38;5;241;43m=\u001b[39;49m\u001b[43mresume_size\u001b[49m\u001b[43m,\u001b[49m\n\u001b[1;32m   1889\u001b[0m \u001b[43m        \u001b[49m\u001b[43mheaders\u001b[49m\u001b[38;5;241;43m=\u001b[39;49m\u001b[43mheaders\u001b[49m\u001b[43m,\u001b[49m\n\u001b[1;32m   1890\u001b[0m \u001b[43m        \u001b[49m\u001b[43mexpected_size\u001b[49m\u001b[38;5;241;43m=\u001b[39;49m\u001b[43mexpected_size\u001b[49m\u001b[43m,\u001b[49m\n\u001b[1;32m   1891\u001b[0m \u001b[43m    \u001b[49m\u001b[43m)\u001b[49m\n\u001b[1;32m   1893\u001b[0m logger\u001b[38;5;241m.\u001b[39minfo(\u001b[38;5;124mf\u001b[39m\u001b[38;5;124m\"\u001b[39m\u001b[38;5;124mDownload complete. Moving file to \u001b[39m\u001b[38;5;132;01m{\u001b[39;00mdestination_path\u001b[38;5;132;01m}\u001b[39;00m\u001b[38;5;124m\"\u001b[39m)\n\u001b[1;32m   1894\u001b[0m _chmod_and_move(incomplete_path, destination_path)\n",
      "File \u001b[0;32m~/Documents/IndividualProject/nuclear_repo/env/lib/python3.10/site-packages/huggingface_hub/file_download.py:539\u001b[0m, in \u001b[0;36mhttp_get\u001b[0;34m(url, temp_file, proxies, resume_size, headers, expected_size, displayed_filename, _nb_retries, _tqdm_bar)\u001b[0m\n\u001b[1;32m    537\u001b[0m new_resume_size \u001b[38;5;241m=\u001b[39m resume_size\n\u001b[1;32m    538\u001b[0m \u001b[38;5;28;01mtry\u001b[39;00m:\n\u001b[0;32m--> 539\u001b[0m     \u001b[38;5;28;01mfor\u001b[39;00m chunk \u001b[38;5;129;01min\u001b[39;00m r\u001b[38;5;241m.\u001b[39miter_content(chunk_size\u001b[38;5;241m=\u001b[39mDOWNLOAD_CHUNK_SIZE):\n\u001b[1;32m    540\u001b[0m         \u001b[38;5;28;01mif\u001b[39;00m chunk:  \u001b[38;5;66;03m# filter out keep-alive new chunks\u001b[39;00m\n\u001b[1;32m    541\u001b[0m             progress\u001b[38;5;241m.\u001b[39mupdate(\u001b[38;5;28mlen\u001b[39m(chunk))\n",
      "File \u001b[0;32m~/Documents/IndividualProject/nuclear_repo/env/lib/python3.10/site-packages/requests/models.py:820\u001b[0m, in \u001b[0;36mResponse.iter_content.<locals>.generate\u001b[0;34m()\u001b[0m\n\u001b[1;32m    818\u001b[0m \u001b[38;5;28;01mif\u001b[39;00m \u001b[38;5;28mhasattr\u001b[39m(\u001b[38;5;28mself\u001b[39m\u001b[38;5;241m.\u001b[39mraw, \u001b[38;5;124m\"\u001b[39m\u001b[38;5;124mstream\u001b[39m\u001b[38;5;124m\"\u001b[39m):\n\u001b[1;32m    819\u001b[0m     \u001b[38;5;28;01mtry\u001b[39;00m:\n\u001b[0;32m--> 820\u001b[0m         \u001b[38;5;28;01myield from\u001b[39;00m \u001b[38;5;28mself\u001b[39m\u001b[38;5;241m.\u001b[39mraw\u001b[38;5;241m.\u001b[39mstream(chunk_size, decode_content\u001b[38;5;241m=\u001b[39m\u001b[38;5;28;01mTrue\u001b[39;00m)\n\u001b[1;32m    821\u001b[0m     \u001b[38;5;28;01mexcept\u001b[39;00m ProtocolError \u001b[38;5;28;01mas\u001b[39;00m e:\n\u001b[1;32m    822\u001b[0m         \u001b[38;5;28;01mraise\u001b[39;00m ChunkedEncodingError(e)\n",
      "File \u001b[0;32m~/Documents/IndividualProject/nuclear_repo/env/lib/python3.10/site-packages/urllib3/response.py:628\u001b[0m, in \u001b[0;36mHTTPResponse.stream\u001b[0;34m(self, amt, decode_content)\u001b[0m\n\u001b[1;32m    626\u001b[0m \u001b[38;5;28;01melse\u001b[39;00m:\n\u001b[1;32m    627\u001b[0m     \u001b[38;5;28;01mwhile\u001b[39;00m \u001b[38;5;129;01mnot\u001b[39;00m is_fp_closed(\u001b[38;5;28mself\u001b[39m\u001b[38;5;241m.\u001b[39m_fp):\n\u001b[0;32m--> 628\u001b[0m         data \u001b[38;5;241m=\u001b[39m \u001b[38;5;28;43mself\u001b[39;49m\u001b[38;5;241;43m.\u001b[39;49m\u001b[43mread\u001b[49m\u001b[43m(\u001b[49m\u001b[43mamt\u001b[49m\u001b[38;5;241;43m=\u001b[39;49m\u001b[43mamt\u001b[49m\u001b[43m,\u001b[49m\u001b[43m \u001b[49m\u001b[43mdecode_content\u001b[49m\u001b[38;5;241;43m=\u001b[39;49m\u001b[43mdecode_content\u001b[49m\u001b[43m)\u001b[49m\n\u001b[1;32m    630\u001b[0m         \u001b[38;5;28;01mif\u001b[39;00m data:\n\u001b[1;32m    631\u001b[0m             \u001b[38;5;28;01myield\u001b[39;00m data\n",
      "File \u001b[0;32m~/Documents/IndividualProject/nuclear_repo/env/lib/python3.10/site-packages/urllib3/response.py:567\u001b[0m, in \u001b[0;36mHTTPResponse.read\u001b[0;34m(self, amt, decode_content, cache_content)\u001b[0m\n\u001b[1;32m    564\u001b[0m fp_closed \u001b[38;5;241m=\u001b[39m \u001b[38;5;28mgetattr\u001b[39m(\u001b[38;5;28mself\u001b[39m\u001b[38;5;241m.\u001b[39m_fp, \u001b[38;5;124m\"\u001b[39m\u001b[38;5;124mclosed\u001b[39m\u001b[38;5;124m\"\u001b[39m, \u001b[38;5;28;01mFalse\u001b[39;00m)\n\u001b[1;32m    566\u001b[0m \u001b[38;5;28;01mwith\u001b[39;00m \u001b[38;5;28mself\u001b[39m\u001b[38;5;241m.\u001b[39m_error_catcher():\n\u001b[0;32m--> 567\u001b[0m     data \u001b[38;5;241m=\u001b[39m \u001b[38;5;28;43mself\u001b[39;49m\u001b[38;5;241;43m.\u001b[39;49m\u001b[43m_fp_read\u001b[49m\u001b[43m(\u001b[49m\u001b[43mamt\u001b[49m\u001b[43m)\u001b[49m \u001b[38;5;28;01mif\u001b[39;00m \u001b[38;5;129;01mnot\u001b[39;00m fp_closed \u001b[38;5;28;01melse\u001b[39;00m \u001b[38;5;124mb\u001b[39m\u001b[38;5;124m\"\u001b[39m\u001b[38;5;124m\"\u001b[39m\n\u001b[1;32m    568\u001b[0m     \u001b[38;5;28;01mif\u001b[39;00m amt \u001b[38;5;129;01mis\u001b[39;00m \u001b[38;5;28;01mNone\u001b[39;00m:\n\u001b[1;32m    569\u001b[0m         flush_decoder \u001b[38;5;241m=\u001b[39m \u001b[38;5;28;01mTrue\u001b[39;00m\n",
      "File \u001b[0;32m~/Documents/IndividualProject/nuclear_repo/env/lib/python3.10/site-packages/urllib3/response.py:533\u001b[0m, in \u001b[0;36mHTTPResponse._fp_read\u001b[0;34m(self, amt)\u001b[0m\n\u001b[1;32m    530\u001b[0m     \u001b[38;5;28;01mreturn\u001b[39;00m buffer\u001b[38;5;241m.\u001b[39mgetvalue()\n\u001b[1;32m    531\u001b[0m \u001b[38;5;28;01melse\u001b[39;00m:\n\u001b[1;32m    532\u001b[0m     \u001b[38;5;66;03m# StringIO doesn't like amt=None\u001b[39;00m\n\u001b[0;32m--> 533\u001b[0m     \u001b[38;5;28;01mreturn\u001b[39;00m \u001b[38;5;28;43mself\u001b[39;49m\u001b[38;5;241;43m.\u001b[39;49m\u001b[43m_fp\u001b[49m\u001b[38;5;241;43m.\u001b[39;49m\u001b[43mread\u001b[49m\u001b[43m(\u001b[49m\u001b[43mamt\u001b[49m\u001b[43m)\u001b[49m \u001b[38;5;28;01mif\u001b[39;00m amt \u001b[38;5;129;01mis\u001b[39;00m \u001b[38;5;129;01mnot\u001b[39;00m \u001b[38;5;28;01mNone\u001b[39;00m \u001b[38;5;28;01melse\u001b[39;00m \u001b[38;5;28mself\u001b[39m\u001b[38;5;241m.\u001b[39m_fp\u001b[38;5;241m.\u001b[39mread()\n",
      "File \u001b[0;32m~/miniforge3/lib/python3.10/http/client.py:466\u001b[0m, in \u001b[0;36mHTTPResponse.read\u001b[0;34m(self, amt)\u001b[0m\n\u001b[1;32m    463\u001b[0m \u001b[38;5;28;01mif\u001b[39;00m \u001b[38;5;28mself\u001b[39m\u001b[38;5;241m.\u001b[39mlength \u001b[38;5;129;01mis\u001b[39;00m \u001b[38;5;129;01mnot\u001b[39;00m \u001b[38;5;28;01mNone\u001b[39;00m \u001b[38;5;129;01mand\u001b[39;00m amt \u001b[38;5;241m>\u001b[39m \u001b[38;5;28mself\u001b[39m\u001b[38;5;241m.\u001b[39mlength:\n\u001b[1;32m    464\u001b[0m     \u001b[38;5;66;03m# clip the read to the \"end of response\"\u001b[39;00m\n\u001b[1;32m    465\u001b[0m     amt \u001b[38;5;241m=\u001b[39m \u001b[38;5;28mself\u001b[39m\u001b[38;5;241m.\u001b[39mlength\n\u001b[0;32m--> 466\u001b[0m s \u001b[38;5;241m=\u001b[39m \u001b[38;5;28;43mself\u001b[39;49m\u001b[38;5;241;43m.\u001b[39;49m\u001b[43mfp\u001b[49m\u001b[38;5;241;43m.\u001b[39;49m\u001b[43mread\u001b[49m\u001b[43m(\u001b[49m\u001b[43mamt\u001b[49m\u001b[43m)\u001b[49m\n\u001b[1;32m    467\u001b[0m \u001b[38;5;28;01mif\u001b[39;00m \u001b[38;5;129;01mnot\u001b[39;00m s \u001b[38;5;129;01mand\u001b[39;00m amt:\n\u001b[1;32m    468\u001b[0m     \u001b[38;5;66;03m# Ideally, we would raise IncompleteRead if the content-length\u001b[39;00m\n\u001b[1;32m    469\u001b[0m     \u001b[38;5;66;03m# wasn't satisfied, but it might break compatibility.\u001b[39;00m\n\u001b[1;32m    470\u001b[0m     \u001b[38;5;28mself\u001b[39m\u001b[38;5;241m.\u001b[39m_close_conn()\n",
      "File \u001b[0;32m~/miniforge3/lib/python3.10/socket.py:705\u001b[0m, in \u001b[0;36mSocketIO.readinto\u001b[0;34m(self, b)\u001b[0m\n\u001b[1;32m    703\u001b[0m \u001b[38;5;28;01mwhile\u001b[39;00m \u001b[38;5;28;01mTrue\u001b[39;00m:\n\u001b[1;32m    704\u001b[0m     \u001b[38;5;28;01mtry\u001b[39;00m:\n\u001b[0;32m--> 705\u001b[0m         \u001b[38;5;28;01mreturn\u001b[39;00m \u001b[38;5;28;43mself\u001b[39;49m\u001b[38;5;241;43m.\u001b[39;49m\u001b[43m_sock\u001b[49m\u001b[38;5;241;43m.\u001b[39;49m\u001b[43mrecv_into\u001b[49m\u001b[43m(\u001b[49m\u001b[43mb\u001b[49m\u001b[43m)\u001b[49m\n\u001b[1;32m    706\u001b[0m     \u001b[38;5;28;01mexcept\u001b[39;00m timeout:\n\u001b[1;32m    707\u001b[0m         \u001b[38;5;28mself\u001b[39m\u001b[38;5;241m.\u001b[39m_timeout_occurred \u001b[38;5;241m=\u001b[39m \u001b[38;5;28;01mTrue\u001b[39;00m\n",
      "File \u001b[0;32m~/miniforge3/lib/python3.10/ssl.py:1307\u001b[0m, in \u001b[0;36mSSLSocket.recv_into\u001b[0;34m(self, buffer, nbytes, flags)\u001b[0m\n\u001b[1;32m   1303\u001b[0m     \u001b[38;5;28;01mif\u001b[39;00m flags \u001b[38;5;241m!=\u001b[39m \u001b[38;5;241m0\u001b[39m:\n\u001b[1;32m   1304\u001b[0m         \u001b[38;5;28;01mraise\u001b[39;00m \u001b[38;5;167;01mValueError\u001b[39;00m(\n\u001b[1;32m   1305\u001b[0m           \u001b[38;5;124m\"\u001b[39m\u001b[38;5;124mnon-zero flags not allowed in calls to recv_into() on \u001b[39m\u001b[38;5;132;01m%s\u001b[39;00m\u001b[38;5;124m\"\u001b[39m \u001b[38;5;241m%\u001b[39m\n\u001b[1;32m   1306\u001b[0m           \u001b[38;5;28mself\u001b[39m\u001b[38;5;241m.\u001b[39m\u001b[38;5;18m__class__\u001b[39m)\n\u001b[0;32m-> 1307\u001b[0m     \u001b[38;5;28;01mreturn\u001b[39;00m \u001b[38;5;28;43mself\u001b[39;49m\u001b[38;5;241;43m.\u001b[39;49m\u001b[43mread\u001b[49m\u001b[43m(\u001b[49m\u001b[43mnbytes\u001b[49m\u001b[43m,\u001b[49m\u001b[43m \u001b[49m\u001b[43mbuffer\u001b[49m\u001b[43m)\u001b[49m\n\u001b[1;32m   1308\u001b[0m \u001b[38;5;28;01melse\u001b[39;00m:\n\u001b[1;32m   1309\u001b[0m     \u001b[38;5;28;01mreturn\u001b[39;00m \u001b[38;5;28msuper\u001b[39m()\u001b[38;5;241m.\u001b[39mrecv_into(buffer, nbytes, flags)\n",
      "File \u001b[0;32m~/miniforge3/lib/python3.10/ssl.py:1163\u001b[0m, in \u001b[0;36mSSLSocket.read\u001b[0;34m(self, len, buffer)\u001b[0m\n\u001b[1;32m   1161\u001b[0m \u001b[38;5;28;01mtry\u001b[39;00m:\n\u001b[1;32m   1162\u001b[0m     \u001b[38;5;28;01mif\u001b[39;00m buffer \u001b[38;5;129;01mis\u001b[39;00m \u001b[38;5;129;01mnot\u001b[39;00m \u001b[38;5;28;01mNone\u001b[39;00m:\n\u001b[0;32m-> 1163\u001b[0m         \u001b[38;5;28;01mreturn\u001b[39;00m \u001b[38;5;28;43mself\u001b[39;49m\u001b[38;5;241;43m.\u001b[39;49m\u001b[43m_sslobj\u001b[49m\u001b[38;5;241;43m.\u001b[39;49m\u001b[43mread\u001b[49m\u001b[43m(\u001b[49m\u001b[38;5;28;43mlen\u001b[39;49m\u001b[43m,\u001b[49m\u001b[43m \u001b[49m\u001b[43mbuffer\u001b[49m\u001b[43m)\u001b[49m\n\u001b[1;32m   1164\u001b[0m     \u001b[38;5;28;01melse\u001b[39;00m:\n\u001b[1;32m   1165\u001b[0m         \u001b[38;5;28;01mreturn\u001b[39;00m \u001b[38;5;28mself\u001b[39m\u001b[38;5;241m.\u001b[39m_sslobj\u001b[38;5;241m.\u001b[39mread(\u001b[38;5;28mlen\u001b[39m)\n",
      "\u001b[0;31mKeyboardInterrupt\u001b[0m: "
     ]
    }
   ],
   "source": [
    "from relik import Relik\n",
    "from relik.inference.data.objects import RelikOutput\n",
    "\n",
    "relik = Relik.from_pretrained(\"sapienzanlp/relik-entity-linking-large\")\n",
    "relik_out: RelikOutput = relik(\"Michael Jordan was one of the best players in the NBA.\")"
   ]
  },
  {
   "cell_type": "code",
   "execution_count": 78,
   "metadata": {},
   "outputs": [
    {
     "name": "stdout",
     "output_type": "stream",
     "text": [
      "                ___              __         \n",
      "               /\\_ \\      __    /\\ \\        \n",
      " _ __     __   \\//\\ \\    /\\_\\   \\ \\ \\/'\\    \n",
      "/\\`'__\\ /'__`\\   \\ \\ \\   \\/\\ \\   \\ \\ , <    \n",
      "\\ \\ \\/ /\\  __/    \\_\\ \\_  \\ \\ \\   \\ \\ \\\\`\\  \n",
      " \\ \\_\\ \\ \\____\\   /\\____\\  \\ \\_\\   \\ \\_\\ \\_\\\n",
      "  \\/_/  \\/____/   \\/____/   \\/_/    \\/_/\\/_/\n",
      "                                            \n",
      "                                            \n",
      "\n"
     ]
    },
    {
     "name": "stderr",
     "output_type": "stream",
     "text": [
      "/Users/tiril/Documents/IndividualProject/nuclear_repo/env/lib/python3.10/site-packages/huggingface_hub/file_download.py:1132: FutureWarning: `resume_download` is deprecated and will be removed in version 1.0.0. Downloads always resume when possible. If you want to force a new download, use `force_download=True`.\n",
      "  warnings.warn(\n"
     ]
    },
    {
     "name": "stdout",
     "output_type": "stream",
     "text": [
      "[2024-08-06 11:51:07,074] [INFO] [relik.inference.annotator.from_pretrained:694] [PID:29125] [RANK:0] Loading Relik from sapienzanlp/relik-relation-extraction-nyt-large\u001b[39m\n",
      "[2024-08-06 11:51:07,075] [INFO] [relik.inference.annotator.from_pretrained:695] [PID:29125] [RANK:0] {\n",
      "    '_target_': 'relik.inference.annotator.Relik',\n",
      "    'index': {\n",
      "        'triplet': {\n",
      "            '_target_': 'relik.retriever.indexers.inmemory.InMemoryDocumentIndex.from_pretrained',\n",
      "            'name_or_path': 'sapienzanlp/relik-retriever-small-nyt-document-index',\n",
      "        },\n",
      "    },\n",
      "    'metadata_fields': [],\n",
      "    'reader': {\n",
      "        '_target_': 'relik.reader.pytorch_modules.triplet.RelikReaderForTripletExtraction',\n",
      "        'transformer_model': 'sapienzanlp/relik-reader-deberta-v3-large-nyt',\n",
      "    },\n",
      "    'retriever': {\n",
      "        'triplet': {\n",
      "            '_target_': 'relik.retriever.pytorch_modules.model.GoldenRetriever',\n",
      "            'question_encoder': 'sapienzanlp/relik-retriever-small-nyt-question-encoder',\n",
      "        },\n",
      "    },\n",
      "    'task': 'TRIPLET',\n",
      "    'top_k': 24,\n",
      "    'window_size': 'sentence',\n",
      "    'window_stride': None,\n",
      "}\u001b[39m\n",
      "\u001b[33m[2024-08-06 11:51:08,202] [WARNING] [relik.common.utils.download_from_hf:342] [PID:29125] [RANK:0] Couldn't download index.faiss from sapienzanlp/relik-retriever-small-nyt-document-index, ignoring\u001b[39m\n",
      "[2024-08-06 11:51:08,206] [INFO] [relik.retriever.indexers.base.from_pretrained:458] [PID:29125] [RANK:0] Loading Index from config:\u001b[39m\n",
      "[2024-08-06 11:51:08,206] [INFO] [relik.retriever.indexers.base.from_pretrained:459] [PID:29125] [RANK:0] {\n",
      "    '_target_': 'relik.retriever.indexers.inmemory.InMemoryDocumentIndex',\n",
      "    'device': 'cpu',\n",
      "    'metadata_fields': ['definition'],\n",
      "    'name_or_path': None,\n",
      "    'precision': None,\n",
      "    'separator': ' <def> ',\n",
      "    'use_faiss': False,\n",
      "}\u001b[39m\n",
      "[2024-08-06 11:51:08,207] [INFO] [relik.retriever.indexers.base.from_pretrained:466] [PID:29125] [RANK:0] Loading documents from /Users/tiril/.cache/huggingface/hub/models--sapienzanlp--relik-retriever-small-nyt-document-index/snapshots/7507014d674a84d622649acb1a8e0a7883bfec3f/documents.jsonl\u001b[39m\n",
      "[2024-08-06 11:51:08,208] [INFO] [relik.retriever.indexers.base.from_pretrained:509] [PID:29125] [RANK:0] Loading embeddings from /Users/tiril/.cache/huggingface/hub/models--sapienzanlp--relik-retriever-small-nyt-document-index/snapshots/7507014d674a84d622649acb1a8e0a7883bfec3f/embeddings.pt\u001b[39m\n",
      "[2024-08-06 11:51:08,212] [INFO] [relik.retriever.indexers.inmemory.__init__:65] [PID:29125] [RANK:0] Both documents and embeddings are provided.\u001b[39m\n"
     ]
    }
   ],
   "source": [
    "import KnowledgeExtractor\n",
    "importlib.reload(KnowledgeExtractor)\n",
    "\n",
    "extractor = KnowledgeExtractor.KnowledgeExtractor('dslim/bert-base-NER', keywords)"
   ]
  },
  {
   "cell_type": "code",
   "execution_count": 94,
   "metadata": {},
   "outputs": [
    {
     "name": "stdout",
     "output_type": "stream",
     "text": [
      "['Unit was shut down for a period following detachment of reactor support', 'Argentina’s nuclear regulator has issued a renewed licence to state operator Nucleoelectrica Argentina for the operation of the Atucha-2 nuclear power plant until 26 May 2026.', 'The Autoridad Regulatoria Nuclear (ARN) said the new licence would take Atucha-2, a 693-MW pressurised heavy water reactor (PHWR) unit that began commercial operation in May 2016, up to the end of its first 10 years of operation, a decade which has seen a number of licence extensions.', 'In December 2015 ARN granted a conditional operating licence for Atucha-2, about 100 km northwest of Buenos Aires, until May 2016. It issued its initial five-year licence on 26 May 2016 following the completion of a programme of testing and training. ', 'The first, two-year extension was granted in May 2021, but the unit was shut down from October 2022 for repairs after the discovery that one of the four internal supports of the reactor had detached.', 'During a routine inspection, the plant’s warning system detected an obstruction in one of the fuel channels and it was discovered that one of the reactor’s four metal internal supports had fallen inside, together with its bolt. It was 14 meters deep, at the bottom of the reactor, the Buenos Aires Herald reported.', 'The incident led to ARN issuing a second short-term extension to 26 May 2024, so Nucleoelectrica could resolve the problem. ARN authorised the unit’s restart in August 2023 following a 10-month shutdown.', 'Argentina has three operating commercial power reactors – two Siemens KWU-designed PHWR units at Atucha and a Candu unit at the Embalse nuclear station.', 'Nucleoelectrica is preparing to submit a licence renewal application to ARN to extend the operating lifetime of Atucha-1, a\\xa0340-MW PHWR unit, by 20 years.', 'In 2022, the three units produced about 5.5% of Argentina’s generated electricity.', 'Argentina is planning to build a third unit at Atucha with China in the running to provide the plant technology. ', 'Argentina is also building a domestically designed and developed 25-MW Carem small modular pressurised water reactor unit at the Atucha site.', 'An aerial view of the two-unit Atucha nuclear power station in Argentina.']\n"
     ]
    }
   ],
   "source": [
    "instance = articles.iloc[57]\n",
    "sents = instance['text']\n",
    "print(sents)\n",
    "#triplets = extractor.extract_relik_triplets(sents)\n"
   ]
  },
  {
   "cell_type": "code",
   "execution_count": 104,
   "metadata": {},
   "outputs": [
    {
     "name": "stdout",
     "output_type": "stream",
     "text": [
      "285\n",
      "The Autoridad Regulatoria Nuclear (ARN) said the new licence would take Atucha-2, a 693-MW pressurised heavy water reactor (PHWR) unit that began commercial operation in May 2016, up to the end of its first 10 years of operation, a decade which has seen a number of licence extensions.\n",
      "\u001b[36m[2024-08-06 13:06:16,993] [DEBUG] [relik.reader.data.relik_reader_re_data.__iter__:399] [PID:29125] [RANK:0] Dataset finished: 1 number of elements processed\u001b[39m\n"
     ]
    },
    {
     "ename": "IndexError",
     "evalue": "list index out of range",
     "output_type": "error",
     "traceback": [
      "\u001b[0;31m---------------------------------------------------------------------------\u001b[0m",
      "\u001b[0;31mIndexError\u001b[0m                                Traceback (most recent call last)",
      "Cell \u001b[0;32mIn[104], line 5\u001b[0m\n\u001b[1;32m      3\u001b[0m \u001b[38;5;28mprint\u001b[39m(\u001b[38;5;28mlen\u001b[39m(sent))\n\u001b[1;32m      4\u001b[0m \u001b[38;5;28mprint\u001b[39m(sent)\n\u001b[0;32m----> 5\u001b[0m out: RelikOutput \u001b[38;5;241m=\u001b[39m \u001b[43mrelik\u001b[49m\u001b[43m(\u001b[49m\u001b[43msent\u001b[49m\u001b[43m[\u001b[49m\u001b[43m:\u001b[49m\u001b[38;5;241;43m200\u001b[39;49m\u001b[43m]\u001b[49m\u001b[43m)\u001b[49m\n\u001b[1;32m      6\u001b[0m \u001b[38;5;28mprint\u001b[39m(out)\n",
      "File \u001b[0;32m~/Documents/IndividualProject/nuclear_repo/env/lib/python3.10/site-packages/relik/inference/annotator.py:549\u001b[0m, in \u001b[0;36mRelik.__call__\u001b[0;34m(self, text, windows, candidates, mentions, top_k, window_size, window_stride, is_split_into_words, retriever_batch_size, reader_batch_size, return_windows, use_doc_topic, annotation_type, progress_bar, **kwargs)\u001b[0m\n\u001b[1;32m    547\u001b[0m \u001b[38;5;28;01mfor\u001b[39;00m task_type, task_candidates \u001b[38;5;129;01min\u001b[39;00m windows_candidates\u001b[38;5;241m.\u001b[39mitems():\n\u001b[1;32m    548\u001b[0m     \u001b[38;5;28;01mfor\u001b[39;00m i, task_candidate \u001b[38;5;129;01min\u001b[39;00m \u001b[38;5;28menumerate\u001b[39m(task_candidates):\n\u001b[0;32m--> 549\u001b[0m         \u001b[43mwindows\u001b[49m\u001b[43m[\u001b[49m\u001b[43mi\u001b[49m\u001b[43m]\u001b[49m\u001b[38;5;241m.\u001b[39m_d[\u001b[38;5;124mf\u001b[39m\u001b[38;5;124m\"\u001b[39m\u001b[38;5;132;01m{\u001b[39;00mtask_type\u001b[38;5;241m.\u001b[39mvalue\u001b[38;5;132;01m}\u001b[39;00m\u001b[38;5;124m_candidates\u001b[39m\u001b[38;5;124m\"\u001b[39m] \u001b[38;5;241m=\u001b[39m task_candidate\n\u001b[1;32m    551\u001b[0m windows \u001b[38;5;241m=\u001b[39m windows \u001b[38;5;241m+\u001b[39m blank_windows\n\u001b[1;32m    552\u001b[0m windows\u001b[38;5;241m.\u001b[39msort(key\u001b[38;5;241m=\u001b[39m\u001b[38;5;28;01mlambda\u001b[39;00m x: (x\u001b[38;5;241m.\u001b[39mdoc_id, x\u001b[38;5;241m.\u001b[39moffset))\n",
      "\u001b[0;31mIndexError\u001b[0m: list index out of range"
     ]
    }
   ],
   "source": [
    "triplets = []\n",
    "sent = sents[2]\n",
    "print(len(sent))\n",
    "print(sent)\n",
    "out: RelikOutput = relik(sent[:200])\n",
    "print(out)\n"
   ]
  },
  {
   "cell_type": "code",
   "execution_count": 90,
   "metadata": {},
   "outputs": [
    {
     "name": "stdout",
     "output_type": "stream",
     "text": [
      "\u001b[36m[2024-08-06 12:08:13,393] [DEBUG] [relik.reader.data.relik_reader_re_data.__iter__:399] [PID:29125] [RANK:0] Dataset finished: 20 number of elements processed\u001b[39m\n",
      "\u001b[36m[2024-08-06 12:08:34,782] [DEBUG] [relik.reader.data.relik_reader_re_data.__iter__:399] [PID:29125] [RANK:0] Dataset finished: 16 number of elements processed\u001b[39m\n",
      "\u001b[36m[2024-08-06 12:08:55,249] [DEBUG] [relik.reader.data.relik_reader_re_data.__iter__:399] [PID:29125] [RANK:0] Dataset finished: 15 number of elements processed\u001b[39m\n",
      "\u001b[36m[2024-08-06 12:09:17,141] [DEBUG] [relik.reader.data.relik_reader_re_data.__iter__:399] [PID:29125] [RANK:0] Dataset finished: 22 number of elements processed\u001b[39m\n",
      "\u001b[36m[2024-08-06 12:09:39,886] [DEBUG] [relik.reader.data.relik_reader_re_data.__iter__:399] [PID:29125] [RANK:0] Dataset finished: 25 number of elements processed\u001b[39m\n",
      "\u001b[36m[2024-08-06 12:10:01,581] [DEBUG] [relik.reader.data.relik_reader_re_data.__iter__:399] [PID:29125] [RANK:0] Dataset finished: 18 number of elements processed\u001b[39m\n",
      "\u001b[36m[2024-08-06 12:10:23,777] [DEBUG] [relik.reader.data.relik_reader_re_data.__iter__:399] [PID:29125] [RANK:0] Dataset finished: 19 number of elements processed\u001b[39m\n",
      "\u001b[36m[2024-08-06 12:10:45,543] [DEBUG] [relik.reader.data.relik_reader_re_data.__iter__:399] [PID:29125] [RANK:0] Dataset finished: 18 number of elements processed\u001b[39m\n",
      "\u001b[36m[2024-08-06 12:11:06,126] [DEBUG] [relik.reader.data.relik_reader_re_data.__iter__:399] [PID:29125] [RANK:0] Dataset finished: 17 number of elements processed\u001b[39m\n",
      "\u001b[36m[2024-08-06 12:11:28,015] [DEBUG] [relik.reader.data.relik_reader_re_data.__iter__:399] [PID:29125] [RANK:0] Dataset finished: 25 number of elements processed\u001b[39m\n",
      "\u001b[36m[2024-08-06 12:11:58,735] [DEBUG] [relik.reader.data.relik_reader_re_data.__iter__:399] [PID:29125] [RANK:0] Dataset finished: 39 number of elements processed\u001b[39m\n",
      "\u001b[36m[2024-08-06 12:12:24,324] [DEBUG] [relik.reader.data.relik_reader_re_data.__iter__:399] [PID:29125] [RANK:0] Dataset finished: 15 number of elements processed\u001b[39m\n",
      "\u001b[36m[2024-08-06 12:12:45,920] [DEBUG] [relik.reader.data.relik_reader_re_data.__iter__:399] [PID:29125] [RANK:0] Dataset finished: 19 number of elements processed\u001b[39m\n",
      "\u001b[36m[2024-08-06 12:13:09,434] [DEBUG] [relik.reader.data.relik_reader_re_data.__iter__:399] [PID:29125] [RANK:0] Dataset finished: 31 number of elements processed\u001b[39m\n",
      "\u001b[36m[2024-08-06 12:13:34,279] [DEBUG] [relik.reader.data.relik_reader_re_data.__iter__:399] [PID:29125] [RANK:0] Dataset finished: 25 number of elements processed\u001b[39m\n",
      "\u001b[36m[2024-08-06 12:13:58,676] [DEBUG] [relik.reader.data.relik_reader_re_data.__iter__:399] [PID:29125] [RANK:0] Dataset finished: 28 number of elements processed\u001b[39m\n",
      "\u001b[36m[2024-08-06 12:14:23,922] [DEBUG] [relik.reader.data.relik_reader_re_data.__iter__:399] [PID:29125] [RANK:0] Dataset finished: 23 number of elements processed\u001b[39m\n",
      "\u001b[36m[2024-08-06 12:14:47,995] [DEBUG] [relik.reader.data.relik_reader_re_data.__iter__:399] [PID:29125] [RANK:0] Dataset finished: 26 number of elements processed\u001b[39m\n",
      "\u001b[36m[2024-08-06 12:15:13,355] [DEBUG] [relik.reader.data.relik_reader_re_data.__iter__:399] [PID:29125] [RANK:0] Dataset finished: 28 number of elements processed\u001b[39m\n",
      "\u001b[36m[2024-08-06 12:15:37,708] [DEBUG] [relik.reader.data.relik_reader_re_data.__iter__:399] [PID:29125] [RANK:0] Dataset finished: 27 number of elements processed\u001b[39m\n",
      "\u001b[36m[2024-08-06 12:16:00,997] [DEBUG] [relik.reader.data.relik_reader_re_data.__iter__:399] [PID:29125] [RANK:0] Dataset finished: 18 number of elements processed\u001b[39m\n",
      "\u001b[36m[2024-08-06 12:16:29,921] [DEBUG] [relik.reader.data.relik_reader_re_data.__iter__:399] [PID:29125] [RANK:0] Dataset finished: 36 number of elements processed\u001b[39m\n",
      "\u001b[36m[2024-08-06 12:16:53,798] [DEBUG] [relik.reader.data.relik_reader_re_data.__iter__:399] [PID:29125] [RANK:0] Dataset finished: 13 number of elements processed\u001b[39m\n",
      "\u001b[36m[2024-08-06 12:17:22,513] [DEBUG] [relik.reader.data.relik_reader_re_data.__iter__:399] [PID:29125] [RANK:0] Dataset finished: 39 number of elements processed\u001b[39m\n",
      "\u001b[36m[2024-08-06 12:17:48,200] [DEBUG] [relik.reader.data.relik_reader_re_data.__iter__:399] [PID:29125] [RANK:0] Dataset finished: 17 number of elements processed\u001b[39m\n",
      "\u001b[36m[2024-08-06 12:18:10,695] [DEBUG] [relik.reader.data.relik_reader_re_data.__iter__:399] [PID:29125] [RANK:0] Dataset finished: 19 number of elements processed\u001b[39m\n",
      "\u001b[36m[2024-08-06 12:18:32,768] [DEBUG] [relik.reader.data.relik_reader_re_data.__iter__:399] [PID:29125] [RANK:0] Dataset finished: 17 number of elements processed\u001b[39m\n",
      "\u001b[36m[2024-08-06 12:18:53,591] [DEBUG] [relik.reader.data.relik_reader_re_data.__iter__:399] [PID:29125] [RANK:0] Dataset finished: 16 number of elements processed\u001b[39m\n",
      "\u001b[36m[2024-08-06 12:19:14,979] [DEBUG] [relik.reader.data.relik_reader_re_data.__iter__:399] [PID:29125] [RANK:0] Dataset finished: 19 number of elements processed\u001b[39m\n",
      "\u001b[36m[2024-08-06 12:19:36,713] [DEBUG] [relik.reader.data.relik_reader_re_data.__iter__:399] [PID:29125] [RANK:0] Dataset finished: 18 number of elements processed\u001b[39m\n",
      "\u001b[36m[2024-08-06 12:19:58,137] [DEBUG] [relik.reader.data.relik_reader_re_data.__iter__:399] [PID:29125] [RANK:0] Dataset finished: 17 number of elements processed\u001b[39m\n",
      "\u001b[36m[2024-08-06 12:20:19,160] [DEBUG] [relik.reader.data.relik_reader_re_data.__iter__:399] [PID:29125] [RANK:0] Dataset finished: 17 number of elements processed\u001b[39m\n",
      "\u001b[36m[2024-08-06 12:20:40,870] [DEBUG] [relik.reader.data.relik_reader_re_data.__iter__:399] [PID:29125] [RANK:0] Dataset finished: 18 number of elements processed\u001b[39m\n",
      "\u001b[36m[2024-08-06 12:21:03,248] [DEBUG] [relik.reader.data.relik_reader_re_data.__iter__:399] [PID:29125] [RANK:0] Dataset finished: 24 number of elements processed\u001b[39m\n",
      "\u001b[36m[2024-08-06 12:21:23,587] [DEBUG] [relik.reader.data.relik_reader_re_data.__iter__:399] [PID:29125] [RANK:0] Dataset finished: 15 number of elements processed\u001b[39m\n",
      "\u001b[36m[2024-08-06 12:21:44,939] [DEBUG] [relik.reader.data.relik_reader_re_data.__iter__:399] [PID:29125] [RANK:0] Dataset finished: 22 number of elements processed\u001b[39m\n",
      "\u001b[36m[2024-08-06 12:22:07,265] [DEBUG] [relik.reader.data.relik_reader_re_data.__iter__:399] [PID:29125] [RANK:0] Dataset finished: 19 number of elements processed\u001b[39m\n",
      "\u001b[36m[2024-08-06 12:22:29,812] [DEBUG] [relik.reader.data.relik_reader_re_data.__iter__:399] [PID:29125] [RANK:0] Dataset finished: 29 number of elements processed\u001b[39m\n",
      "\u001b[36m[2024-08-06 12:22:52,519] [DEBUG] [relik.reader.data.relik_reader_re_data.__iter__:399] [PID:29125] [RANK:0] Dataset finished: 14 number of elements processed\u001b[39m\n",
      "\u001b[36m[2024-08-06 12:23:15,579] [DEBUG] [relik.reader.data.relik_reader_re_data.__iter__:399] [PID:29125] [RANK:0] Dataset finished: 16 number of elements processed\u001b[39m\n",
      "\u001b[36m[2024-08-06 12:23:36,920] [DEBUG] [relik.reader.data.relik_reader_re_data.__iter__:399] [PID:29125] [RANK:0] Dataset finished: 17 number of elements processed\u001b[39m\n",
      "\u001b[36m[2024-08-06 12:23:58,910] [DEBUG] [relik.reader.data.relik_reader_re_data.__iter__:399] [PID:29125] [RANK:0] Dataset finished: 21 number of elements processed\u001b[39m\n",
      "\u001b[36m[2024-08-06 12:24:20,198] [DEBUG] [relik.reader.data.relik_reader_re_data.__iter__:399] [PID:29125] [RANK:0] Dataset finished: 14 number of elements processed\u001b[39m\n",
      "\u001b[36m[2024-08-06 12:24:41,572] [DEBUG] [relik.reader.data.relik_reader_re_data.__iter__:399] [PID:29125] [RANK:0] Dataset finished: 25 number of elements processed\u001b[39m\n",
      "\u001b[36m[2024-08-06 12:25:05,425] [DEBUG] [relik.reader.data.relik_reader_re_data.__iter__:399] [PID:29125] [RANK:0] Dataset finished: 18 number of elements processed\u001b[39m\n",
      "\u001b[36m[2024-08-06 12:25:27,334] [DEBUG] [relik.reader.data.relik_reader_re_data.__iter__:399] [PID:29125] [RANK:0] Dataset finished: 22 number of elements processed\u001b[39m\n",
      "\u001b[36m[2024-08-06 12:26:07,264] [DEBUG] [relik.reader.data.relik_reader_re_data.__iter__:399] [PID:29125] [RANK:0] Dataset finished: 71 number of elements processed\u001b[39m\n",
      "\u001b[36m[2024-08-06 12:26:36,546] [DEBUG] [relik.reader.data.relik_reader_re_data.__iter__:399] [PID:29125] [RANK:0] Dataset finished: 16 number of elements processed\u001b[39m\n",
      "\u001b[36m[2024-08-06 12:27:00,486] [DEBUG] [relik.reader.data.relik_reader_re_data.__iter__:399] [PID:29125] [RANK:0] Dataset finished: 32 number of elements processed\u001b[39m\n",
      "\u001b[36m[2024-08-06 12:27:23,874] [DEBUG] [relik.reader.data.relik_reader_re_data.__iter__:399] [PID:29125] [RANK:0] Dataset finished: 19 number of elements processed\u001b[39m\n",
      "\u001b[36m[2024-08-06 12:27:47,370] [DEBUG] [relik.reader.data.relik_reader_re_data.__iter__:399] [PID:29125] [RANK:0] Dataset finished: 27 number of elements processed\u001b[39m\n",
      "\u001b[36m[2024-08-06 12:28:09,968] [DEBUG] [relik.reader.data.relik_reader_re_data.__iter__:399] [PID:29125] [RANK:0] Dataset finished: 13 number of elements processed\u001b[39m\n",
      "\u001b[36m[2024-08-06 12:28:38,223] [DEBUG] [relik.reader.data.relik_reader_re_data.__iter__:399] [PID:29125] [RANK:0] Dataset finished: 39 number of elements processed\u001b[39m\n",
      "\u001b[36m[2024-08-06 12:29:10,613] [DEBUG] [relik.reader.data.relik_reader_re_data.__iter__:399] [PID:29125] [RANK:0] Dataset finished: 35 number of elements processed\u001b[39m\n",
      "\u001b[36m[2024-08-06 12:29:36,257] [DEBUG] [relik.reader.data.relik_reader_re_data.__iter__:399] [PID:29125] [RANK:0] Dataset finished: 28 number of elements processed\u001b[39m\n",
      "\u001b[36m[2024-08-06 12:30:07,340] [DEBUG] [relik.reader.data.relik_reader_re_data.__iter__:399] [PID:29125] [RANK:0] Dataset finished: 42 number of elements processed\u001b[39m\n",
      "\u001b[36m[2024-08-06 12:30:33,780] [DEBUG] [relik.reader.data.relik_reader_re_data.__iter__:399] [PID:29125] [RANK:0] Dataset finished: 19 number of elements processed\u001b[39m\n",
      "\u001b[36m[2024-08-06 12:30:56,348] [DEBUG] [relik.reader.data.relik_reader_re_data.__iter__:399] [PID:29125] [RANK:0] Dataset finished: 16 number of elements processed\u001b[39m\n"
     ]
    },
    {
     "ename": "IndexError",
     "evalue": "list index out of range",
     "output_type": "error",
     "traceback": [
      "\u001b[0;31m---------------------------------------------------------------------------\u001b[0m",
      "\u001b[0;31mIndexError\u001b[0m                                Traceback (most recent call last)",
      "Cell \u001b[0;32mIn[90], line 7\u001b[0m\n\u001b[1;32m      5\u001b[0m     sents \u001b[38;5;241m=\u001b[39m instance[\u001b[38;5;124m'\u001b[39m\u001b[38;5;124mtext\u001b[39m\u001b[38;5;124m'\u001b[39m]\n\u001b[1;32m      6\u001b[0m     entities \u001b[38;5;241m=\u001b[39m extractor\u001b[38;5;241m.\u001b[39mextract_entities(sents)\n\u001b[0;32m----> 7\u001b[0m     triplets \u001b[38;5;241m=\u001b[39m \u001b[43mextractor\u001b[49m\u001b[38;5;241;43m.\u001b[39;49m\u001b[43mextract_relik_triplets\u001b[49m\u001b[43m(\u001b[49m\u001b[43msents\u001b[49m\u001b[43m)\u001b[49m\n\u001b[1;32m      8\u001b[0m     output\u001b[38;5;241m.\u001b[39mappend({\n\u001b[1;32m      9\u001b[0m         \u001b[38;5;124m'\u001b[39m\u001b[38;5;124murl\u001b[39m\u001b[38;5;124m'\u001b[39m: url,\n\u001b[1;32m     10\u001b[0m         \u001b[38;5;124m'\u001b[39m\u001b[38;5;124mtriplets\u001b[39m\u001b[38;5;124m'\u001b[39m: triplets,\n\u001b[1;32m     11\u001b[0m         \u001b[38;5;124m'\u001b[39m\u001b[38;5;124mentities\u001b[39m\u001b[38;5;124m'\u001b[39m: entities\n\u001b[1;32m     12\u001b[0m     })\n\u001b[1;32m     14\u001b[0m \u001b[38;5;28mprint\u001b[39m(\u001b[38;5;28mlen\u001b[39m(output))\n",
      "File \u001b[0;32m~/Documents/IndividualProject/nuclear_repo/KG_creation_pipeline/KnowledgeExtractor.py:21\u001b[0m, in \u001b[0;36mKnowledgeExtractor.extract_relik_triplets\u001b[0;34m(self, sents)\u001b[0m\n\u001b[1;32m     18\u001b[0m \u001b[38;5;28;01mdef\u001b[39;00m \u001b[38;5;21mextract_relik_triplets\u001b[39m(\u001b[38;5;28mself\u001b[39m, sents):\n\u001b[1;32m     19\u001b[0m     extracted_triplets \u001b[38;5;241m=\u001b[39m []\n\u001b[0;32m---> 21\u001b[0m     relik_out: RelikOutput \u001b[38;5;241m=\u001b[39m \u001b[38;5;28;43mself\u001b[39;49m\u001b[38;5;241;43m.\u001b[39;49m\u001b[43mrelik\u001b[49m\u001b[43m(\u001b[49m\u001b[43msents\u001b[49m\u001b[43m)\u001b[49m\n\u001b[1;32m     23\u001b[0m     \u001b[38;5;28;01mfor\u001b[39;00m output \u001b[38;5;129;01min\u001b[39;00m relik_out:\n\u001b[1;32m     24\u001b[0m         output_dict \u001b[38;5;241m=\u001b[39m asdict(output)\n",
      "File \u001b[0;32m~/Documents/IndividualProject/nuclear_repo/env/lib/python3.10/site-packages/relik/inference/annotator.py:549\u001b[0m, in \u001b[0;36mRelik.__call__\u001b[0;34m(self, text, windows, candidates, mentions, top_k, window_size, window_stride, is_split_into_words, retriever_batch_size, reader_batch_size, return_windows, use_doc_topic, annotation_type, progress_bar, **kwargs)\u001b[0m\n\u001b[1;32m    547\u001b[0m \u001b[38;5;28;01mfor\u001b[39;00m task_type, task_candidates \u001b[38;5;129;01min\u001b[39;00m windows_candidates\u001b[38;5;241m.\u001b[39mitems():\n\u001b[1;32m    548\u001b[0m     \u001b[38;5;28;01mfor\u001b[39;00m i, task_candidate \u001b[38;5;129;01min\u001b[39;00m \u001b[38;5;28menumerate\u001b[39m(task_candidates):\n\u001b[0;32m--> 549\u001b[0m         \u001b[43mwindows\u001b[49m\u001b[43m[\u001b[49m\u001b[43mi\u001b[49m\u001b[43m]\u001b[49m\u001b[38;5;241m.\u001b[39m_d[\u001b[38;5;124mf\u001b[39m\u001b[38;5;124m\"\u001b[39m\u001b[38;5;132;01m{\u001b[39;00mtask_type\u001b[38;5;241m.\u001b[39mvalue\u001b[38;5;132;01m}\u001b[39;00m\u001b[38;5;124m_candidates\u001b[39m\u001b[38;5;124m\"\u001b[39m] \u001b[38;5;241m=\u001b[39m task_candidate\n\u001b[1;32m    551\u001b[0m windows \u001b[38;5;241m=\u001b[39m windows \u001b[38;5;241m+\u001b[39m blank_windows\n\u001b[1;32m    552\u001b[0m windows\u001b[38;5;241m.\u001b[39msort(key\u001b[38;5;241m=\u001b[39m\u001b[38;5;28;01mlambda\u001b[39;00m x: (x\u001b[38;5;241m.\u001b[39mdoc_id, x\u001b[38;5;241m.\u001b[39moffset))\n",
      "\u001b[0;31mIndexError\u001b[0m: list index out of range"
     ]
    }
   ],
   "source": [
    "output = []\n",
    "for i in range(len(articles)):\n",
    "    instance = articles.iloc[i]\n",
    "    url = instance['url']\n",
    "    sents = instance['text']\n",
    "    entities = extractor.extract_entities(sents)\n",
    "    triplets = extractor.extract_relik_triplets(sents)\n",
    "    output.append({\n",
    "        'url': url,\n",
    "        'triplets': triplets,\n",
    "        'entities': entities\n",
    "    })\n",
    "\n",
    "print(len(output))\n",
    "\n",
    "with open('entities_and_triplets.json', 'w') as f:\n",
    "    json.dump(output, f, indent=4)"
   ]
  },
  {
   "cell_type": "code",
   "execution_count": 88,
   "metadata": {},
   "outputs": [
    {
     "name": "stdout",
     "output_type": "stream",
     "text": [
      "https://www.nucnet.org/news/kyrgyzstan-6-5-2024\n",
      "[{'head': 'Kul Province', 'relation': 'contains', 'tail': 'Issyk', 'confidence': 1.0}, {'head': 'Asia', 'relation': 'contains', 'tail': 'Soviet Union', 'confidence': 1.0}, {'head': 'EBRD', 'relation': 'company', 'tail': 'European Bank for Reconstruction and Development', 'confidence': 1.0}, {'head': 'Asia', 'relation': 'contains', 'tail': 'Central Asia', 'confidence': 0.9100000262260437}, {'head': 'Asia', 'relation': 'contains', 'tail': 'Kyrgyzstan', 'confidence': 1.0}, {'head': 'Asia', 'relation': 'contains', 'tail': 'Soviet Union', 'confidence': 1.0}]\n",
      "[{'word': 'Bishkek', 'entity': 'ORG'}, {'word': 'Kyrgyzstan', 'entity': 'LOC'}, {'word': 'Kyrgyz', 'entity': 'LOC'}, {'word': 'nuclear power plant', 'entity': 'REACTOR'}, {'word': 'Sadyr Japarov', 'entity': 'PER'}, {'word': 'Issyk-Kul Province', 'entity': 'LOC'}, {'word': 'Kyzyl-Ompol', 'entity': 'LOC'}, {'word': 'Japarov', 'entity': 'PER'}, {'word': 'Kyrgyzstan', 'entity': 'LOC'}, {'word': 'Russia', 'entity': 'LOC'}, {'word': 'Rosatom', 'entity': 'ORG'}, {'word': 'Asian', 'entity': 'MISC'}, {'word': 'small modular reactor', 'entity': 'SMR'}, {'word': 'Russian', 'entity': 'MISC'}, {'word': 'Tass', 'entity': 'ORG'}, {'word': 'Taalaibek Ibraev', 'entity': 'PER'}, {'word': 'Kyrgyzstan', 'entity': 'LOC'}, {'word': 'Kyrgyzstan', 'entity': 'LOC'}, {'word': 'SM', 'entity': 'MISC'}, {'word': 'Asian', 'entity': 'MISC'}, {'word': 'Rosatom', 'entity': 'ORG'}, {'word': 'SM', 'entity': 'ORG'}, {'word': 'AP', 'entity': 'ORG'}, {'word': 'Kyrgyzstan', 'entity': 'LOC'}, {'word': 'Covid 19', 'entity': 'MISC'}, {'word': 'Western', 'entity': 'MISC'}, {'word': 'Russia', 'entity': 'LOC'}, {'word': 'Ukraine', 'entity': 'LOC'}, {'word': 'Kyrgyzstan', 'entity': 'LOC'}, {'word': 'Soviet', 'entity': 'MISC'}, {'word': 'radioactive waste', 'entity': 'FUEL_CYCLE'}, {'word': 'Central Asia', 'entity': 'LOC'}, {'word': 'Soviet Union', 'entity': 'LOC'}, {'word': 'European Bank for Reconstruction and Development', 'entity': 'ORG'}, {'word': 'EBRD', 'entity': 'ORG'}, {'word': 'EBRD', 'entity': 'ORG'}, {'word': 'EBRD', 'entity': 'ORG'}, {'word': 'European Union', 'entity': 'ORG'}, {'word': 'Soviet', 'entity': 'MISC'}, {'word': 'Central Asia', 'entity': 'LOC'}, {'word': 'EU', 'entity': 'ORG'}, {'word': 'Belgium', 'entity': 'LOC'}, {'word': 'Lithuania', 'entity': 'LOC'}, {'word': 'Norway', 'entity': 'LOC'}, {'word': 'Spain', 'entity': 'LOC'}, {'word': 'Switzerland', 'entity': 'LOC'}, {'word': 'US', 'entity': 'LOC'}, {'word': 'Central Asia', 'entity': 'LOC'}, {'word': 'Kyrgyzstan', 'entity': 'LOC'}, {'word': 'Soviet Union', 'entity': 'LOC'}, {'word': 'EBRD', 'entity': 'ORG'}]\n",
      "https://www.nucnet.org/news/industry-manifesto-calls-for-action-on-nuclear-from-next-commission-6-4-2024\n",
      "[]\n",
      "[{'word': 'Sector', 'entity': 'ORG'}, {'word': 'EU', 'entity': 'ORG'}, {'word': 'European', 'entity': 'MISC'}, {'word': 'European Commission', 'entity': 'ORG'}, {'word': 'EU', 'entity': 'ORG'}, {'word': 'security', 'entity': 'POLITICAL'}, {'word': 'Commission', 'entity': 'ORG'}, {'word': 'EU', 'entity': 'ORG'}, {'word': 'nuclear fuel', 'entity': 'FUEL'}, {'word': 'Commission', 'entity': 'ORG'}, {'word': 'Commission', 'entity': 'ORG'}, {'word': 'Yves Desbazeille', 'entity': 'PER'}, {'word': 'nucleareurope', 'entity': 'ORG'}, {'word': 'NucNet', 'entity': 'ORG'}, {'word': 'Desbaze', 'entity': 'PER'}, {'word': 'European Parliament', 'entity': 'ORG'}, {'word': 'European People’s Party', 'entity': 'ORG'}, {'word': 'EPP', 'entity': 'ORG'}, {'word': 'Socialists and Democrats', 'entity': 'ORG'}, {'word': 'Greens', 'entity': 'ORG'}, {'word': 'Europe', 'entity': 'LOC'}, {'word': 'European', 'entity': 'MISC'}, {'word': 'EU', 'entity': 'ORG'}, {'word': 'EPP', 'entity': 'ORG'}, {'word': 'Poland', 'entity': 'LOC'}, {'word': 'Bulgaria', 'entity': 'LOC'}, {'word': 'Belgium', 'entity': 'LOC'}, {'word': 'Romania', 'entity': 'LOC'}, {'word': 'Slovenia', 'entity': 'LOC'}, {'word': 'Sweden', 'entity': 'LOC'}, {'word': 'Finland', 'entity': 'LOC'}, {'word': 'EU', 'entity': 'ORG'}, {'word': 'Netherlands', 'entity': 'LOC'}, {'word': 'Czech Republic', 'entity': 'LOC'}, {'word': 'EPP', 'entity': 'ORG'}, {'word': 'small modular reactor', 'entity': 'SMR'}]\n",
      "https://www.nucnet.org/news/parliament-resolution-paves-way-for-establishing-nuclear-energy-legislation-6-4-2024\n",
      "[{'head': 'Estonia', 'relation': 'contains', 'tail': 'Fermi Energia', 'confidence': 1.0}]\n",
      "[{'word': 'Estonia', 'entity': 'LOC'}, {'word': 'Nuclear Energy and Safety Act', 'entity': 'MISC'}, {'word': 'Baltic', 'entity': 'MISC'}, {'word': 'ERR', 'entity': 'ORG'}, {'word': 'ERR', 'entity': 'ORG'}, {'word': 'Estonia', 'entity': 'LOC'}, {'word': 'security', 'entity': 'POLITICAL'}, {'word': 'Estonian', 'entity': 'MISC'}, {'word': 'ERR', 'entity': 'ORG'}, {'word': 'Estonia', 'entity': 'LOC'}, {'word': 'Estonia', 'entity': 'LOC'}, {'word': 'small modular reactor', 'entity': 'SMR'}, {'word': 'Estonian', 'entity': 'MISC'}, {'word': 'Fermi Energia', 'entity': 'ORG'}, {'word': 'SMR', 'entity': 'MISC'}, {'word': 'Estonia', 'entity': 'LOC'}, {'word': 'GE', 'entity': 'MISC'}, {'word': 'Hitachi', 'entity': 'ORG'}, {'word': 'BWRX', 'entity': 'MISC'}, {'word': 'Fermi Energia', 'entity': 'ORG'}, {'word': 'NucNet', 'entity': 'ORG'}, {'word': 'Fermi Energia', 'entity': 'ORG'}, {'word': 'Tallinn', 'entity': 'LOC'}]\n"
     ]
    }
   ],
   "source": [
    "for o in output:\n",
    "    print(o['url'])\n",
    "    print(o['triplets'])\n",
    "    print(o['entities'])"
   ]
  },
  {
   "cell_type": "code",
   "execution_count": 67,
   "metadata": {},
   "outputs": [],
   "source": [
    "def extract_relik_triplets(sents):\n",
    "    extracted_triplets = []\n",
    "\n",
    "    relik_out: RelikOutput = relik(sents)\n",
    "\n",
    "    for output in relik_out:\n",
    "        output_dict = asdict(output)\n",
    "        triplets = output_dict['triplets']\n",
    "        if triplets:\n",
    "            for triplet in triplets:\n",
    "                head = triplet.subject.text\n",
    "                tail = triplet.object.text\n",
    "                label = triplet.label\n",
    "                confidence = triplet.confidence\n",
    "                extracted_triplets.append({\n",
    "                    'head': head,\n",
    "                    'relation': label,\n",
    "                    'tail': tail,\n",
    "                    'confidence': confidence\n",
    "                }) \n",
    "    \n",
    "    return extracted_triplets"
   ]
  },
  {
   "cell_type": "code",
   "execution_count": 68,
   "metadata": {},
   "outputs": [
    {
     "name": "stdout",
     "output_type": "stream",
     "text": [
      "\u001b[36m[2024-08-06 11:28:04,415] [DEBUG] [relik.reader.data.relik_reader_re_data.__iter__:399] [PID:29125] [RANK:0] Dataset finished: 20 number of elements processed\u001b[39m\n"
     ]
    }
   ],
   "source": [
    "sents = articles.iloc[0]['text']\n",
    "triplets = extract_relik_triplets(sents)"
   ]
  },
  {
   "cell_type": "code",
   "execution_count": 69,
   "metadata": {},
   "outputs": [
    {
     "name": "stdout",
     "output_type": "stream",
     "text": [
      "{'head': 'Kul Province', 'relation': 'contains', 'tail': 'Issyk', 'confidence': 1.0}\n",
      "{'head': 'Asia', 'relation': 'contains', 'tail': 'Soviet Union', 'confidence': 1.0}\n",
      "{'head': 'EBRD', 'relation': 'company', 'tail': 'European Bank for Reconstruction and Development', 'confidence': 1.0}\n",
      "{'head': 'Asia', 'relation': 'contains', 'tail': 'Central Asia', 'confidence': 0.9100000262260437}\n",
      "{'head': 'Asia', 'relation': 'contains', 'tail': 'Kyrgyzstan', 'confidence': 1.0}\n",
      "{'head': 'Asia', 'relation': 'contains', 'tail': 'Soviet Union', 'confidence': 1.0}\n"
     ]
    }
   ],
   "source": [
    "for t in triplets:\n",
    "    print(t)"
   ]
  },
  {
   "cell_type": "code",
   "execution_count": null,
   "metadata": {},
   "outputs": [],
   "source": []
  }
 ],
 "metadata": {
  "kernelspec": {
   "display_name": "env",
   "language": "python",
   "name": "python3"
  },
  "language_info": {
   "codemirror_mode": {
    "name": "ipython",
    "version": 3
   },
   "file_extension": ".py",
   "mimetype": "text/x-python",
   "name": "python",
   "nbconvert_exporter": "python",
   "pygments_lexer": "ipython3",
   "version": "3.10.13"
  }
 },
 "nbformat": 4,
 "nbformat_minor": 2
}
