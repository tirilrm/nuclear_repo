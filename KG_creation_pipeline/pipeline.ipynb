{
 "cells": [
  {
   "cell_type": "code",
   "execution_count": 160,
   "metadata": {},
   "outputs": [],
   "source": [
    "import json\n",
    "import pandas as pd\n",
    "import importlib\n",
    "import pickle"
   ]
  },
  {
   "cell_type": "code",
   "execution_count": 159,
   "metadata": {},
   "outputs": [],
   "source": [
    "filepath = '../scraping/articles/filtered_articles.json'\n",
    "with open(filepath, 'r') as file:\n",
    "    articles = pd.read_json(filepath)\n",
    "\n",
    "filepath = '../relation_extraction/directory.pkl'\n",
    "\n",
    "with open(filepath, 'rb') as file:\n",
    "    keywords = pickle.load(file)"
   ]
  },
  {
   "cell_type": "code",
   "execution_count": 161,
   "metadata": {},
   "outputs": [
    {
     "name": "stdout",
     "output_type": "stream",
     "text": [
      "                ___              __         \n",
      "               /\\_ \\      __    /\\ \\        \n",
      " _ __     __   \\//\\ \\    /\\_\\   \\ \\ \\/'\\    \n",
      "/\\`'__\\ /'__`\\   \\ \\ \\   \\/\\ \\   \\ \\ , <    \n",
      "\\ \\ \\/ /\\  __/    \\_\\ \\_  \\ \\ \\   \\ \\ \\\\`\\  \n",
      " \\ \\_\\ \\ \\____\\   /\\____\\  \\ \\_\\   \\ \\_\\ \\_\\\n",
      "  \\/_/  \\/____/   \\/____/   \\/_/    \\/_/\\/_/\n",
      "                                            \n",
      "                                            \n",
      "\n"
     ]
    },
    {
     "name": "stderr",
     "output_type": "stream",
     "text": [
      "/Users/tiril/Documents/IndividualProject/nuclear_repo/env/lib/python3.10/site-packages/huggingface_hub/file_download.py:1132: FutureWarning: `resume_download` is deprecated and will be removed in version 1.0.0. Downloads always resume when possible. If you want to force a new download, use `force_download=True`.\n",
      "  warnings.warn(\n"
     ]
    },
    {
     "name": "stdout",
     "output_type": "stream",
     "text": [
      "[2024-08-06 17:39:23,354] [INFO] [relik.inference.annotator.from_pretrained:694] [PID:29125] [RANK:0] Loading Relik from sapienzanlp/relik-relation-extraction-nyt-large\u001b[39m\n",
      "[2024-08-06 17:39:23,356] [INFO] [relik.inference.annotator.from_pretrained:695] [PID:29125] [RANK:0] {\n",
      "    '_target_': 'relik.inference.annotator.Relik',\n",
      "    'index': {\n",
      "        'triplet': {\n",
      "            '_target_': 'relik.retriever.indexers.inmemory.InMemoryDocumentIndex.from_pretrained',\n",
      "            'name_or_path': 'sapienzanlp/relik-retriever-small-nyt-document-index',\n",
      "        },\n",
      "    },\n",
      "    'metadata_fields': [],\n",
      "    'reader': {\n",
      "        '_target_': 'relik.reader.pytorch_modules.triplet.RelikReaderForTripletExtraction',\n",
      "        'transformer_model': 'sapienzanlp/relik-reader-deberta-v3-large-nyt',\n",
      "    },\n",
      "    'retriever': {\n",
      "        'triplet': {\n",
      "            '_target_': 'relik.retriever.pytorch_modules.model.GoldenRetriever',\n",
      "            'question_encoder': 'sapienzanlp/relik-retriever-small-nyt-question-encoder',\n",
      "        },\n",
      "    },\n",
      "    'task': 'TRIPLET',\n",
      "    'top_k': 24,\n",
      "    'window_size': 'sentence',\n",
      "    'window_stride': None,\n",
      "}\u001b[39m\n",
      "\u001b[33m[2024-08-06 17:39:25,015] [WARNING] [relik.common.utils.download_from_hf:342] [PID:29125] [RANK:0] Couldn't download index.faiss from sapienzanlp/relik-retriever-small-nyt-document-index, ignoring\u001b[39m\n",
      "[2024-08-06 17:39:25,021] [INFO] [relik.retriever.indexers.base.from_pretrained:458] [PID:29125] [RANK:0] Loading Index from config:\u001b[39m\n",
      "[2024-08-06 17:39:25,022] [INFO] [relik.retriever.indexers.base.from_pretrained:459] [PID:29125] [RANK:0] {\n",
      "    '_target_': 'relik.retriever.indexers.inmemory.InMemoryDocumentIndex',\n",
      "    'device': 'cpu',\n",
      "    'metadata_fields': ['definition'],\n",
      "    'name_or_path': None,\n",
      "    'precision': None,\n",
      "    'separator': ' <def> ',\n",
      "    'use_faiss': False,\n",
      "}\u001b[39m\n",
      "[2024-08-06 17:39:25,023] [INFO] [relik.retriever.indexers.base.from_pretrained:466] [PID:29125] [RANK:0] Loading documents from /Users/tiril/.cache/huggingface/hub/models--sapienzanlp--relik-retriever-small-nyt-document-index/snapshots/7507014d674a84d622649acb1a8e0a7883bfec3f/documents.jsonl\u001b[39m\n",
      "[2024-08-06 17:39:25,025] [INFO] [relik.retriever.indexers.base.from_pretrained:509] [PID:29125] [RANK:0] Loading embeddings from /Users/tiril/.cache/huggingface/hub/models--sapienzanlp--relik-retriever-small-nyt-document-index/snapshots/7507014d674a84d622649acb1a8e0a7883bfec3f/embeddings.pt\u001b[39m\n",
      "[2024-08-06 17:39:25,030] [INFO] [relik.retriever.indexers.inmemory.__init__:65] [PID:29125] [RANK:0] Both documents and embeddings are provided.\u001b[39m\n"
     ]
    }
   ],
   "source": [
    "import KnowledgeExtractor\n",
    "importlib.reload(KnowledgeExtractor)\n",
    "\n",
    "extractor = KnowledgeExtractor.KnowledgeExtractor('dslim/bert-base-NER', keywords)"
   ]
  },
  {
   "cell_type": "code",
   "execution_count": 165,
   "metadata": {},
   "outputs": [],
   "source": [
    "sents = []\n",
    "if sents:\n",
    "    print('hello')"
   ]
  },
  {
   "cell_type": "code",
   "execution_count": 164,
   "metadata": {},
   "outputs": [
    {
     "name": "stdout",
     "output_type": "stream",
     "text": [
      "\u001b[36m[2024-08-06 17:43:12,816] [DEBUG] [relik.reader.data.relik_reader_re_data.__iter__:399] [PID:29125] [RANK:0] Dataset finished: 42 number of elements processed\u001b[39m\n",
      "\u001b[36m[2024-08-06 17:43:43,746] [DEBUG] [relik.reader.data.relik_reader_re_data.__iter__:399] [PID:29125] [RANK:0] Dataset finished: 19 number of elements processed\u001b[39m\n",
      "\u001b[36m[2024-08-06 17:44:09,102] [DEBUG] [relik.reader.data.relik_reader_re_data.__iter__:399] [PID:29125] [RANK:0] Dataset finished: 16 number of elements processed\u001b[39m\n",
      "\u001b[36m[2024-08-06 17:44:31,304] [DEBUG] [relik.reader.data.relik_reader_re_data.__iter__:399] [PID:29125] [RANK:0] Dataset finished: 29 number of elements processed\u001b[39m\n",
      "\u001b[36m[2024-08-06 17:45:00,297] [DEBUG] [relik.reader.data.relik_reader_re_data.__iter__:399] [PID:29125] [RANK:0] Dataset finished: 19 number of elements processed\u001b[39m\n",
      "\u001b[36m[2024-08-06 17:45:26,729] [DEBUG] [relik.reader.data.relik_reader_re_data.__iter__:399] [PID:29125] [RANK:0] Dataset finished: 17 number of elements processed\u001b[39m\n"
     ]
    }
   ],
   "source": [
    "output = []\n",
    "length = len(articles)\n",
    "for i in range(length):\n",
    "    if i%20 == 0:\n",
    "        print(f\"{(i/length)*100:.2f}% finished\")\n",
    "    instance = articles.iloc[i]\n",
    "    url = instance['url']\n",
    "    sents = instance['text']\n",
    "    entities = extractor.extract_entities(sents)\n",
    "    triplets = extractor.extract_relik_triplets(sents, url)\n",
    "    if triplets:\n",
    "        output.append({\n",
    "            'url': url,\n",
    "            'triplets': triplets,\n",
    "            'entities': entities\n",
    "        })\n",
    "\n",
    "with open('entities_and_triplets.json', 'w') as f:\n",
    "    json.dump(output, f, indent=4)\n",
    "\n",
    "with open('untreated_articles.json', 'w') as f:\n",
    "    json.dump(extractor.untreated_articles, f, indent=4)"
   ]
  }
 ],
 "metadata": {
  "kernelspec": {
   "display_name": "env",
   "language": "python",
   "name": "python3"
  },
  "language_info": {
   "codemirror_mode": {
    "name": "ipython",
    "version": 3
   },
   "file_extension": ".py",
   "mimetype": "text/x-python",
   "name": "python",
   "nbconvert_exporter": "python",
   "pygments_lexer": "ipython3",
   "version": "3.10.13"
  }
 },
 "nbformat": 4,
 "nbformat_minor": 2
}
