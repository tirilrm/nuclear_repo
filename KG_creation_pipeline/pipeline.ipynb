{
 "cells": [
  {
   "cell_type": "code",
   "execution_count": 1,
   "metadata": {},
   "outputs": [],
   "source": [
    "import json\n",
    "import pandas as pd\n",
    "import importlib\n",
    "import pickle"
   ]
  },
  {
   "cell_type": "code",
   "execution_count": 2,
   "metadata": {},
   "outputs": [],
   "source": [
    "filepath = '../scraping/articles/filtered_articles.json'\n",
    "with open(filepath, 'r') as file:\n",
    "    articles = pd.read_json(filepath)\n",
    "\n",
    "filepath = '../relation_extraction/directory.pkl'\n",
    "\n",
    "with open(filepath, 'rb') as file:\n",
    "    keywords = pickle.load(file)"
   ]
  },
  {
   "cell_type": "code",
   "execution_count": 78,
   "metadata": {},
   "outputs": [
    {
     "name": "stdout",
     "output_type": "stream",
     "text": [
      "                ___              __         \n",
      "               /\\_ \\      __    /\\ \\        \n",
      " _ __     __   \\//\\ \\    /\\_\\   \\ \\ \\/'\\    \n",
      "/\\`'__\\ /'__`\\   \\ \\ \\   \\/\\ \\   \\ \\ , <    \n",
      "\\ \\ \\/ /\\  __/    \\_\\ \\_  \\ \\ \\   \\ \\ \\\\`\\  \n",
      " \\ \\_\\ \\ \\____\\   /\\____\\  \\ \\_\\   \\ \\_\\ \\_\\\n",
      "  \\/_/  \\/____/   \\/____/   \\/_/    \\/_/\\/_/\n",
      "                                            \n",
      "                                            \n",
      "\n"
     ]
    },
    {
     "name": "stderr",
     "output_type": "stream",
     "text": [
      "/Users/tiril/Documents/IndividualProject/nuclear_repo/env/lib/python3.10/site-packages/huggingface_hub/file_download.py:1132: FutureWarning: `resume_download` is deprecated and will be removed in version 1.0.0. Downloads always resume when possible. If you want to force a new download, use `force_download=True`.\n",
      "  warnings.warn(\n"
     ]
    },
    {
     "name": "stdout",
     "output_type": "stream",
     "text": [
      "[2024-08-06 11:51:07,074] [INFO] [relik.inference.annotator.from_pretrained:694] [PID:29125] [RANK:0] Loading Relik from sapienzanlp/relik-relation-extraction-nyt-large\u001b[39m\n",
      "[2024-08-06 11:51:07,075] [INFO] [relik.inference.annotator.from_pretrained:695] [PID:29125] [RANK:0] {\n",
      "    '_target_': 'relik.inference.annotator.Relik',\n",
      "    'index': {\n",
      "        'triplet': {\n",
      "            '_target_': 'relik.retriever.indexers.inmemory.InMemoryDocumentIndex.from_pretrained',\n",
      "            'name_or_path': 'sapienzanlp/relik-retriever-small-nyt-document-index',\n",
      "        },\n",
      "    },\n",
      "    'metadata_fields': [],\n",
      "    'reader': {\n",
      "        '_target_': 'relik.reader.pytorch_modules.triplet.RelikReaderForTripletExtraction',\n",
      "        'transformer_model': 'sapienzanlp/relik-reader-deberta-v3-large-nyt',\n",
      "    },\n",
      "    'retriever': {\n",
      "        'triplet': {\n",
      "            '_target_': 'relik.retriever.pytorch_modules.model.GoldenRetriever',\n",
      "            'question_encoder': 'sapienzanlp/relik-retriever-small-nyt-question-encoder',\n",
      "        },\n",
      "    },\n",
      "    'task': 'TRIPLET',\n",
      "    'top_k': 24,\n",
      "    'window_size': 'sentence',\n",
      "    'window_stride': None,\n",
      "}\u001b[39m\n",
      "\u001b[33m[2024-08-06 11:51:08,202] [WARNING] [relik.common.utils.download_from_hf:342] [PID:29125] [RANK:0] Couldn't download index.faiss from sapienzanlp/relik-retriever-small-nyt-document-index, ignoring\u001b[39m\n",
      "[2024-08-06 11:51:08,206] [INFO] [relik.retriever.indexers.base.from_pretrained:458] [PID:29125] [RANK:0] Loading Index from config:\u001b[39m\n",
      "[2024-08-06 11:51:08,206] [INFO] [relik.retriever.indexers.base.from_pretrained:459] [PID:29125] [RANK:0] {\n",
      "    '_target_': 'relik.retriever.indexers.inmemory.InMemoryDocumentIndex',\n",
      "    'device': 'cpu',\n",
      "    'metadata_fields': ['definition'],\n",
      "    'name_or_path': None,\n",
      "    'precision': None,\n",
      "    'separator': ' <def> ',\n",
      "    'use_faiss': False,\n",
      "}\u001b[39m\n",
      "[2024-08-06 11:51:08,207] [INFO] [relik.retriever.indexers.base.from_pretrained:466] [PID:29125] [RANK:0] Loading documents from /Users/tiril/.cache/huggingface/hub/models--sapienzanlp--relik-retriever-small-nyt-document-index/snapshots/7507014d674a84d622649acb1a8e0a7883bfec3f/documents.jsonl\u001b[39m\n",
      "[2024-08-06 11:51:08,208] [INFO] [relik.retriever.indexers.base.from_pretrained:509] [PID:29125] [RANK:0] Loading embeddings from /Users/tiril/.cache/huggingface/hub/models--sapienzanlp--relik-retriever-small-nyt-document-index/snapshots/7507014d674a84d622649acb1a8e0a7883bfec3f/embeddings.pt\u001b[39m\n",
      "[2024-08-06 11:51:08,212] [INFO] [relik.retriever.indexers.inmemory.__init__:65] [PID:29125] [RANK:0] Both documents and embeddings are provided.\u001b[39m\n"
     ]
    }
   ],
   "source": [
    "import KnowledgeExtractor\n",
    "importlib.reload(KnowledgeExtractor)\n",
    "\n",
    "extractor = KnowledgeExtractor.KnowledgeExtractor('dslim/bert-base-NER', keywords)"
   ]
  },
  {
   "cell_type": "code",
   "execution_count": 87,
   "metadata": {},
   "outputs": [
    {
     "name": "stdout",
     "output_type": "stream",
     "text": [
      "\u001b[36m[2024-08-06 12:05:52,253] [DEBUG] [relik.reader.data.relik_reader_re_data.__iter__:399] [PID:29125] [RANK:0] Dataset finished: 20 number of elements processed\u001b[39m\n",
      "\u001b[36m[2024-08-06 12:06:13,949] [DEBUG] [relik.reader.data.relik_reader_re_data.__iter__:399] [PID:29125] [RANK:0] Dataset finished: 16 number of elements processed\u001b[39m\n"
     ]
    }
   ],
   "source": [
    "output = []\n",
    "for i in range(len(articles)):\n",
    "    instance = articles.iloc[i]\n",
    "    url = instance['url']\n",
    "    sents = instance['text']\n",
    "    entities = extractor.extract_entities(sents)\n",
    "    triplets = extractor.extract_relik_triplets(sents)\n",
    "    output.append({\n",
    "        'url': url,\n",
    "        'triplets': triplets,\n",
    "        'entities': entities\n",
    "    })\n",
    "    if i >= 2:\n",
    "        break\n",
    "\n",
    "print(len(output))\n",
    "\n",
    "with open('entities_and_triplets.json', 'w') as f:\n",
    "    json.dump(output, f, indent=4)"
   ]
  },
  {
   "cell_type": "code",
   "execution_count": null,
   "metadata": {},
   "outputs": [
    {
     "name": "stdout",
     "output_type": "stream",
     "text": [
      "{'url': 'https://www.nucnet.org/news/kyrgyzstan-6-5-2024', 'triplets': [{'head': 'Kul Province', 'relation': 'contains', 'tail': 'Issyk', 'confidence': 1.0}, {'head': 'Asia', 'relation': 'contains', 'tail': 'Soviet Union', 'confidence': 1.0}, {'head': 'EBRD', 'relation': 'company', 'tail': 'European Bank for Reconstruction and Development', 'confidence': 1.0}, {'head': 'Asia', 'relation': 'contains', 'tail': 'Central Asia', 'confidence': 0.9100000262260437}, {'head': 'Asia', 'relation': 'contains', 'tail': 'Kyrgyzstan', 'confidence': 1.0}, {'head': 'Asia', 'relation': 'contains', 'tail': 'Soviet Union', 'confidence': 1.0}], 'entities': [{'word': 'Bishkek', 'entity': 'ORG'}, {'word': 'Kyrgyzstan', 'entity': 'LOC'}, {'word': 'Kyrgyz', 'entity': 'LOC'}, {'word': 'nuclear power plant', 'entity': 'REACTOR'}, {'word': 'Sadyr Japarov', 'entity': 'PER'}, {'word': 'Issyk-Kul Province', 'entity': 'LOC'}, {'word': 'Kyzyl-Ompol', 'entity': 'LOC'}, {'word': 'Japarov', 'entity': 'PER'}, {'word': 'Kyrgyzstan', 'entity': 'LOC'}, {'word': 'Russia', 'entity': 'LOC'}, {'word': 'Rosatom', 'entity': 'ORG'}, {'word': 'Asian', 'entity': 'MISC'}, {'word': 'small modular reactor', 'entity': 'SMR'}, {'word': 'Russian', 'entity': 'MISC'}, {'word': 'Tass', 'entity': 'ORG'}, {'word': 'Taalaibek Ibraev', 'entity': 'PER'}, {'word': 'Kyrgyzstan', 'entity': 'LOC'}, {'word': 'Kyrgyzstan', 'entity': 'LOC'}, {'word': 'SM', 'entity': 'MISC'}, {'word': 'Asian', 'entity': 'MISC'}, {'word': 'Rosatom', 'entity': 'ORG'}, {'word': 'SM', 'entity': 'ORG'}, {'word': 'AP', 'entity': 'ORG'}, {'word': 'Kyrgyzstan', 'entity': 'LOC'}, {'word': 'Covid 19', 'entity': 'MISC'}, {'word': 'Western', 'entity': 'MISC'}, {'word': 'Russia', 'entity': 'LOC'}, {'word': 'Ukraine', 'entity': 'LOC'}, {'word': 'Kyrgyzstan', 'entity': 'LOC'}, {'word': 'Soviet', 'entity': 'MISC'}, {'word': 'radioactive waste', 'entity': 'FUEL_CYCLE'}, {'word': 'Central Asia', 'entity': 'LOC'}, {'word': 'Soviet Union', 'entity': 'LOC'}, {'word': 'European Bank for Reconstruction and Development', 'entity': 'ORG'}, {'word': 'EBRD', 'entity': 'ORG'}, {'word': 'EBRD', 'entity': 'ORG'}, {'word': 'EBRD', 'entity': 'ORG'}, {'word': 'European Union', 'entity': 'ORG'}, {'word': 'Soviet', 'entity': 'MISC'}, {'word': 'Central Asia', 'entity': 'LOC'}, {'word': 'EU', 'entity': 'ORG'}, {'word': 'Belgium', 'entity': 'LOC'}, {'word': 'Lithuania', 'entity': 'LOC'}, {'word': 'Norway', 'entity': 'LOC'}, {'word': 'Spain', 'entity': 'LOC'}, {'word': 'Switzerland', 'entity': 'LOC'}, {'word': 'US', 'entity': 'LOC'}, {'word': 'Central Asia', 'entity': 'LOC'}, {'word': 'Kyrgyzstan', 'entity': 'LOC'}, {'word': 'Soviet Union', 'entity': 'LOC'}, {'word': 'EBRD', 'entity': 'ORG'}]}\n",
      "{'url': 'https://www.nucnet.org/news/industry-manifesto-calls-for-action-on-nuclear-from-next-commission-6-4-2024', 'triplets': [], 'entities': [{'word': 'Sector', 'entity': 'ORG'}, {'word': 'EU', 'entity': 'ORG'}, {'word': 'European', 'entity': 'MISC'}, {'word': 'European Commission', 'entity': 'ORG'}, {'word': 'EU', 'entity': 'ORG'}, {'word': 'security', 'entity': 'POLITICAL'}, {'word': 'Commission', 'entity': 'ORG'}, {'word': 'EU', 'entity': 'ORG'}, {'word': 'nuclear fuel', 'entity': 'FUEL'}, {'word': 'Commission', 'entity': 'ORG'}, {'word': 'Commission', 'entity': 'ORG'}, {'word': 'Yves Desbazeille', 'entity': 'PER'}, {'word': 'nucleareurope', 'entity': 'ORG'}, {'word': 'NucNet', 'entity': 'ORG'}, {'word': 'Desbaze', 'entity': 'PER'}, {'word': 'European Parliament', 'entity': 'ORG'}, {'word': 'European People’s Party', 'entity': 'ORG'}, {'word': 'EPP', 'entity': 'ORG'}, {'word': 'Socialists and Democrats', 'entity': 'ORG'}, {'word': 'Greens', 'entity': 'ORG'}, {'word': 'Europe', 'entity': 'LOC'}, {'word': 'European', 'entity': 'MISC'}, {'word': 'EU', 'entity': 'ORG'}, {'word': 'EPP', 'entity': 'ORG'}, {'word': 'Poland', 'entity': 'LOC'}, {'word': 'Bulgaria', 'entity': 'LOC'}, {'word': 'Belgium', 'entity': 'LOC'}, {'word': 'Romania', 'entity': 'LOC'}, {'word': 'Slovenia', 'entity': 'LOC'}, {'word': 'Sweden', 'entity': 'LOC'}, {'word': 'Finland', 'entity': 'LOC'}, {'word': 'EU', 'entity': 'ORG'}, {'word': 'Netherlands', 'entity': 'LOC'}, {'word': 'Czech Republic', 'entity': 'LOC'}, {'word': 'EPP', 'entity': 'ORG'}, {'word': 'small modular reactor', 'entity': 'SMR'}]}\n",
      "{'url': 'https://www.nucnet.org/news/parliament-resolution-paves-way-for-establishing-nuclear-energy-legislation-6-4-2024', 'triplets': [{'head': 'Estonia', 'relation': 'contains', 'tail': 'Fermi Energia', 'confidence': 1.0}], 'entities': [{'word': 'Estonia', 'entity': 'LOC'}, {'word': 'Nuclear Energy and Safety Act', 'entity': 'MISC'}, {'word': 'Baltic', 'entity': 'MISC'}, {'word': 'ERR', 'entity': 'ORG'}, {'word': 'ERR', 'entity': 'ORG'}, {'word': 'Estonia', 'entity': 'LOC'}, {'word': 'security', 'entity': 'POLITICAL'}, {'word': 'Estonian', 'entity': 'MISC'}, {'word': 'ERR', 'entity': 'ORG'}, {'word': 'Estonia', 'entity': 'LOC'}, {'word': 'Estonia', 'entity': 'LOC'}, {'word': 'small modular reactor', 'entity': 'SMR'}, {'word': 'Estonian', 'entity': 'MISC'}, {'word': 'Fermi Energia', 'entity': 'ORG'}, {'word': 'SMR', 'entity': 'MISC'}, {'word': 'Estonia', 'entity': 'LOC'}, {'word': 'GE', 'entity': 'MISC'}, {'word': 'Hitachi', 'entity': 'ORG'}, {'word': 'BWRX', 'entity': 'MISC'}, {'word': 'Fermi Energia', 'entity': 'ORG'}, {'word': 'NucNet', 'entity': 'ORG'}, {'word': 'Fermi Energia', 'entity': 'ORG'}, {'word': 'Tallinn', 'entity': 'LOC'}]}\n"
     ]
    }
   ],
   "source": [
    "for o in output:\n",
    "    print(o['url'])\n",
    "    print(o['triplets'])\n",
    "    print(o['entities'])"
   ]
  },
  {
   "cell_type": "code",
   "execution_count": 67,
   "metadata": {},
   "outputs": [],
   "source": [
    "def extract_relik_triplets(sents):\n",
    "    extracted_triplets = []\n",
    "\n",
    "    relik_out: RelikOutput = relik(sents)\n",
    "\n",
    "    for output in relik_out:\n",
    "        output_dict = asdict(output)\n",
    "        triplets = output_dict['triplets']\n",
    "        if triplets:\n",
    "            for triplet in triplets:\n",
    "                head = triplet.subject.text\n",
    "                tail = triplet.object.text\n",
    "                label = triplet.label\n",
    "                confidence = triplet.confidence\n",
    "                extracted_triplets.append({\n",
    "                    'head': head,\n",
    "                    'relation': label,\n",
    "                    'tail': tail,\n",
    "                    'confidence': confidence\n",
    "                }) \n",
    "    \n",
    "    return extracted_triplets"
   ]
  },
  {
   "cell_type": "code",
   "execution_count": 68,
   "metadata": {},
   "outputs": [
    {
     "name": "stdout",
     "output_type": "stream",
     "text": [
      "\u001b[36m[2024-08-06 11:28:04,415] [DEBUG] [relik.reader.data.relik_reader_re_data.__iter__:399] [PID:29125] [RANK:0] Dataset finished: 20 number of elements processed\u001b[39m\n"
     ]
    }
   ],
   "source": [
    "sents = articles.iloc[0]['text']\n",
    "triplets = extract_relik_triplets(sents)"
   ]
  },
  {
   "cell_type": "code",
   "execution_count": 69,
   "metadata": {},
   "outputs": [
    {
     "name": "stdout",
     "output_type": "stream",
     "text": [
      "{'head': 'Kul Province', 'relation': 'contains', 'tail': 'Issyk', 'confidence': 1.0}\n",
      "{'head': 'Asia', 'relation': 'contains', 'tail': 'Soviet Union', 'confidence': 1.0}\n",
      "{'head': 'EBRD', 'relation': 'company', 'tail': 'European Bank for Reconstruction and Development', 'confidence': 1.0}\n",
      "{'head': 'Asia', 'relation': 'contains', 'tail': 'Central Asia', 'confidence': 0.9100000262260437}\n",
      "{'head': 'Asia', 'relation': 'contains', 'tail': 'Kyrgyzstan', 'confidence': 1.0}\n",
      "{'head': 'Asia', 'relation': 'contains', 'tail': 'Soviet Union', 'confidence': 1.0}\n"
     ]
    }
   ],
   "source": [
    "for t in triplets:\n",
    "    print(t)"
   ]
  },
  {
   "cell_type": "code",
   "execution_count": null,
   "metadata": {},
   "outputs": [],
   "source": []
  }
 ],
 "metadata": {
  "kernelspec": {
   "display_name": "env",
   "language": "python",
   "name": "python3"
  },
  "language_info": {
   "codemirror_mode": {
    "name": "ipython",
    "version": 3
   },
   "file_extension": ".py",
   "mimetype": "text/x-python",
   "name": "python",
   "nbconvert_exporter": "python",
   "pygments_lexer": "ipython3",
   "version": "3.10.13"
  }
 },
 "nbformat": 4,
 "nbformat_minor": 2
}
