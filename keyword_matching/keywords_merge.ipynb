{
 "cells": [
  {
   "cell_type": "code",
   "execution_count": 2,
   "metadata": {},
   "outputs": [
    {
     "name": "stdout",
     "output_type": "stream",
     "text": [
      "{'elements', 'reactors', 'lithium', 'deuterium', 'products', 'isotopes', 'mixtures', 'tritium', 'water', 'oxide', 'fuel elements', 'separation', 'thorium', 'cermets', 'radium-223', 'residues', 'einsteinium-253', 'apparatus', 'fuel', 'gadolinium-148', 'cartridges', 'alloys', 'uranium', 'plutonium', 'deuterium oxide', 'compounds', 'uranium compounds', 'dispersions', 'parts'}\n"
     ]
    }
   ],
   "source": [
    "import pickle\n",
    "\n",
    "keywords = []\n",
    "\n",
    "filenames = [\n",
    "    'HS_keywords.pkl',\n",
    "    'wiki_keywords.pkl',\n",
    "    'wiki_keywords_yake.pkl'\n",
    "]\n",
    "\n",
    "with open('HS_keywords.pkl', 'rb') as file:\n",
    "    tmp = pickle.load(file)\n"
   ]
  }
 ],
 "metadata": {
  "kernelspec": {
   "display_name": "env",
   "language": "python",
   "name": "python3"
  },
  "language_info": {
   "codemirror_mode": {
    "name": "ipython",
    "version": 3
   },
   "file_extension": ".py",
   "mimetype": "text/x-python",
   "name": "python",
   "nbconvert_exporter": "python",
   "pygments_lexer": "ipython3",
   "version": "3.10.13"
  }
 },
 "nbformat": 4,
 "nbformat_minor": 2
}
