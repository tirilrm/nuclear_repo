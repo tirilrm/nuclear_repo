{
 "cells": [
  {
   "cell_type": "code",
   "execution_count": 76,
   "metadata": {},
   "outputs": [
    {
     "name": "stdout",
     "output_type": "stream",
     "text": [
      "results/HS_keywords.pkl {'elements', 'reactors', 'lithium', 'deuterium', 'products', 'isotopes', 'mixtures', 'tritium', 'water', 'oxide', 'fuel elements', 'separation', 'thorium', 'cermets', 'radium-223', 'residues', 'einsteinium-253', 'apparatus', 'fuel', 'gadolinium-148', 'cartridges', 'alloys', 'uranium', 'plutonium', 'deuterium oxide', 'compounds', 'uranium compounds', 'dispersions', 'parts'}\n",
      "results/HS_keywords_tfidf.pkl {'elements', 'reactors', 'lithium', 'deuterium', 'products', 'isotopes', 'mixtures', 'tritium', 'water', 'oxide', 'fuel elements', 'separation', 'thorium', 'cermets', 'radium-223', 'residues', 'einsteinium-253', 'apparatus', 'fuel', 'gadolinium-148', 'cartridges', 'alloys', 'uranium', 'plutonium', 'deuterium oxide', 'compounds', 'uranium compounds', 'dispersions', 'parts'}\n",
      "<class 'set'>\n"
     ]
    }
   ],
   "source": [
    "import pickle\n",
    "\n",
    "dir = 'proliferation'\n",
    "keywords = set()\n",
    "filenames = [\n",
    "    'results/HS_keywords.pkl',\n",
    "    'results/HS_keywords_tfidf.pkl'\n",
    "]\n",
    "\n",
    "for filename in filenames:\n",
    "    with open(filename, 'rb') as file:\n",
    "        tmp = pickle.load(file)\n",
    "        print(filename, tmp)\n",
    "        keywords.update(tmp)\n",
    "\n",
    "print(type(keywords))"
   ]
  },
  {
   "cell_type": "code",
   "execution_count": 77,
   "metadata": {},
   "outputs": [],
   "source": [
    "keywords = set()\n",
    "filenames = [\n",
    "    'results/' + dir + '_wiki_keywords.pkl',\n",
    "    'results/' + dir + '_wiki_keywords_yake.pkl',\n",
    "]\n",
    "\n",
    "for filename in filenames:\n",
    "    with open(filename, 'rb') as file:\n",
    "        tmp = pickle.load(file)\n",
    "        keywords.update(tmp)\n",
    "\n",
    "def find_first_starting_with_a(lst):\n",
    "    for index, element in enumerate(lst):\n",
    "        if element.startswith('a'):\n",
    "            return index\n",
    "    return None\n",
    "\n",
    "keyword_list = sorted(keywords)\n",
    "\n",
    "start = find_first_starting_with_a(keyword_list)\n",
    "final_list = keyword_list[start:]\n",
    "\n",
    "with open('results/'+ dir +'_all_keywords.txt', 'w') as file:\n",
    "    file.write('\\n'.join(final_list))\n"
   ]
  }
 ],
 "metadata": {
  "kernelspec": {
   "display_name": "env",
   "language": "python",
   "name": "python3"
  },
  "language_info": {
   "codemirror_mode": {
    "name": "ipython",
    "version": 3
   },
   "file_extension": ".py",
   "mimetype": "text/x-python",
   "name": "python",
   "nbconvert_exporter": "python",
   "pygments_lexer": "ipython3",
   "version": "3.10.13"
  }
 },
 "nbformat": 4,
 "nbformat_minor": 2
}
