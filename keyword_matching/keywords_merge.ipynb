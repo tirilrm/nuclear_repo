{
 "cells": [
  {
   "cell_type": "code",
   "execution_count": 33,
   "metadata": {},
   "outputs": [
    {
     "name": "stdout",
     "output_type": "stream",
     "text": [
      "HS_keywords.pkl {'elements', 'reactors', 'lithium', 'deuterium', 'products', 'isotopes', 'mixtures', 'tritium', 'water', 'oxide', 'fuel elements', 'separation', 'thorium', 'cermets', 'radium-223', 'residues', 'einsteinium-253', 'apparatus', 'fuel', 'gadolinium-148', 'cartridges', 'alloys', 'uranium', 'plutonium', 'deuterium oxide', 'compounds', 'uranium compounds', 'dispersions', 'parts'}\n",
      "wiki_keywords.pkl ['smr', 'smrs', 'reactors', 'reactor', 'safety', 'power', 'designs', 'smr designs', 'waste', 'fuel', 'neutron', 'plant', 'nuclear fuel', 'light water', 'radioactive waste', 'proliferation', 'construction', 'power plant', 'energy', 'desalination', 'site', 'iaea', 'nuclear energy', 'nuclear power', 'water', 'generation', 'costs', 'project']\n",
      "wiki_keywords_yake.pkl ['SMRs', 'nuclear power plant', 'nuclear power reactors', 'nuclear power', 'SMR designs', 'reactors', 'Reactor', 'nuclear reactors', 'SMR power plants', 'small nuclear reactors', 'power', 'nuclear fuel', 'VOYGR SMR power', 'reactor SMR design', 'nuclear reactor types']\n",
      "<class 'set'>\n"
     ]
    }
   ],
   "source": [
    "import pickle\n",
    "\n",
    "keywords = set()\n",
    "filenames = [\n",
    "    'HS_keywords.pkl',\n",
    "    'wiki_keywords.pkl',\n",
    "    'wiki_keywords_yake.pkl'\n",
    "]\n",
    "\n",
    "for filename in filenames:\n",
    "    with open(filename, 'rb') as file:\n",
    "        tmp = pickle.load(file)\n",
    "        print(filename, tmp)\n",
    "        keywords.update(tmp)\n",
    "\n",
    "print(type(keywords))\n"
   ]
  },
  {
   "cell_type": "code",
   "execution_count": 34,
   "metadata": {},
   "outputs": [
    {
     "name": "stdout",
     "output_type": "stream",
     "text": [
      "alloys\n",
      "apparatus\n",
      "cartridges\n",
      "cermets\n",
      "compounds\n",
      "construction\n",
      "costs\n",
      "desalination\n",
      "designs\n",
      "deuterium\n",
      "deuterium oxide\n",
      "dispersions\n",
      "einsteinium-253\n",
      "elements\n",
      "energy\n",
      "fuel\n",
      "fuel elements\n",
      "gadolinium-148\n",
      "generation\n",
      "iaea\n",
      "isotopes\n",
      "light water\n",
      "lithium\n",
      "mixtures\n",
      "neutron\n",
      "nuclear energy\n",
      "nuclear fuel\n",
      "nuclear power\n",
      "nuclear power plant\n",
      "nuclear power reactors\n",
      "nuclear reactor types\n",
      "nuclear reactors\n",
      "oxide\n",
      "parts\n",
      "plant\n",
      "plutonium\n",
      "power\n",
      "power plant\n",
      "products\n",
      "project\n",
      "proliferation\n",
      "radioactive waste\n",
      "radium-223\n",
      "reactor\n",
      "reactor SMR design\n",
      "reactors\n",
      "residues\n",
      "safety\n",
      "separation\n",
      "site\n",
      "small nuclear reactors\n",
      "smr\n",
      "smr designs\n",
      "smrs\n",
      "thorium\n",
      "tritium\n",
      "uranium\n",
      "uranium compounds\n",
      "waste\n",
      "water\n"
     ]
    }
   ],
   "source": [
    "def find_first_starting_with_a(lst):\n",
    "    for index, element in enumerate(lst):\n",
    "        if element.startswith('a'):\n",
    "            return index\n",
    "    return None\n",
    "\n",
    "keyword_list = sorted(keywords)\n",
    "\n",
    "start = find_first_starting_with_a(keyword_list)\n",
    "final_list = keyword_list[start:]\n",
    "\n",
    "print('\\n'.join(final_list))"
   ]
  },
  {
   "cell_type": "code",
   "execution_count": 38,
   "metadata": {},
   "outputs": [],
   "source": [
    "with open('all_keywords.pkl', 'wb') as file:\n",
    "    pickle.dump(final_list, file)"
   ]
  }
 ],
 "metadata": {
  "kernelspec": {
   "display_name": "env",
   "language": "python",
   "name": "python3"
  },
  "language_info": {
   "codemirror_mode": {
    "name": "ipython",
    "version": 3
   },
   "file_extension": ".py",
   "mimetype": "text/x-python",
   "name": "python",
   "nbconvert_exporter": "python",
   "pygments_lexer": "ipython3",
   "version": "3.10.13"
  }
 },
 "nbformat": 4,
 "nbformat_minor": 2
}
