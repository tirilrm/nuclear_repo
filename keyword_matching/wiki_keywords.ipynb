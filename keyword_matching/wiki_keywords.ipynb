{
 "cells": [
  {
   "cell_type": "code",
   "execution_count": 26,
   "metadata": {},
   "outputs": [],
   "source": [
    "import wikipediaapi\n",
    "wiki_wiki = wikipediaapi.Wikipedia('Mozilla/5.0 (Windows NT 10.0; Win64; x64) AppleWebKit/537.36 (KHTML, like Gecko) Chrome/91.0.4472.124 Safari/537.36', 'en')"
   ]
  },
  {
   "cell_type": "code",
   "execution_count": 44,
   "metadata": {},
   "outputs": [],
   "source": [
    "# Create a baseline corpus\n",
    "import requests\n",
    "import json\n",
    "\n",
    "def fetch_article_titles(length=1500):\n",
    "    url = \"https://en.wikipedia.org/w/api.php\"\n",
    "    params = {\n",
    "        \"action\": \"query\",\n",
    "        \"format\": \"json\",\n",
    "        \"list\": \"random\",\n",
    "        \"rnnamespace\": 0, \n",
    "        \"rnlimit\": length\n",
    "    }\n",
    "    response = requests.get(url, params=params)\n",
    "    data = response.json()\n",
    "    titles = [article['title'] for article in data['query']['random']]\n",
    "    return titles\n"
   ]
  },
  {
   "cell_type": "code",
   "execution_count": 47,
   "metadata": {},
   "outputs": [
    {
     "name": "stdout",
     "output_type": "stream",
     "text": [
      "Collected 200 articles of minimum 250 words\n"
     ]
    }
   ],
   "source": [
    "titles = fetch_article_titles()\n",
    "corpus = []\n",
    "min_length = 250\n",
    "target_number = 200\n",
    "i = 0\n",
    "smr_title = 'small modular reactor'\n",
    "\n",
    "for title in titles:\n",
    "    if title == smr_title:\n",
    "        continue\n",
    "    page = wiki_wiki.page(title)\n",
    "    text = page.text\n",
    "    if (text) and len(text.split(' ')) >= min_length:\n",
    "        corpus.append(text)\n",
    "        i += 1\n",
    "        if i >= target_number:\n",
    "            break\n",
    "\n",
    "print(f'Collected {i} articles of minimum {min_length} words')"
   ]
  },
  {
   "cell_type": "code",
   "execution_count": 49,
   "metadata": {},
   "outputs": [],
   "source": [
    "page = wiki_wiki.page('small modular reactor')\n",
    "text = page.text\n",
    "corpus.append(text)"
   ]
  },
  {
   "cell_type": "code",
   "execution_count": 58,
   "metadata": {},
   "outputs": [
    {
     "name": "stdout",
     "output_type": "stream",
     "text": [
      "nuclear\n",
      "reactors\n",
      "smr\n",
      "smrs\n",
      "reactor\n",
      "power\n",
      "safety\n",
      "fuel\n",
      "waste\n",
      "energy\n",
      "designs\n",
      "mwe\n",
      "neutron\n",
      "thermal\n",
      "modular\n",
      "radioactive\n",
      "licensing\n",
      "conventional\n",
      "cost\n",
      "plant\n",
      "nuscale\n",
      "costs\n",
      "mwh\n",
      "proliferation\n",
      "water\n",
      "electricity\n",
      "generation\n",
      "output\n",
      "construction\n",
      "large\n"
     ]
    }
   ],
   "source": [
    "from sklearn.feature_extraction.text import TfidfVectorizer\n",
    "\n",
    "vectorizer = TfidfVectorizer(stop_words='english')\n",
    "tfidf_matrix = vectorizer.fit_transform(corpus)\n",
    "\n",
    "# Target article is the last one in the list\n",
    "feature_names = vectorizer.get_feature_names_out()\n",
    "tfidf_scores = tfidf_matrix[-1].toarray().flatten()\n",
    "keywords = {feature_names[i]: tfidf_scores[i] for i in tfidf_scores.argsort()[-30:][::-1]}\n",
    "for k in keywords:\n",
    "    print(k)"
   ]
  }
 ],
 "metadata": {
  "kernelspec": {
   "display_name": "env",
   "language": "python",
   "name": "python3"
  },
  "language_info": {
   "codemirror_mode": {
    "name": "ipython",
    "version": 3
   },
   "file_extension": ".py",
   "mimetype": "text/x-python",
   "name": "python",
   "nbconvert_exporter": "python",
   "pygments_lexer": "ipython3",
   "version": "3.10.13"
  }
 },
 "nbformat": 4,
 "nbformat_minor": 2
}
