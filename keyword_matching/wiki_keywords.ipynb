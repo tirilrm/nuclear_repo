{
 "cells": [
  {
   "cell_type": "code",
   "execution_count": 5,
   "metadata": {},
   "outputs": [],
   "source": [
    "import wikipediaapi\n",
    "wiki_wiki = wikipediaapi.Wikipedia('Mozilla/5.0 (Windows NT 10.0; Win64; x64) AppleWebKit/537.36 (KHTML, like Gecko) Chrome/91.0.4472.124 Safari/537.36', 'en')"
   ]
  },
  {
   "cell_type": "code",
   "execution_count": 20,
   "metadata": {},
   "outputs": [],
   "source": [
    "# Create a baseline corpus\n",
    "import requests\n",
    "import json\n",
    "\n",
    "def fetch_article_titles(length=1500):\n",
    "    url = \"https://en.wikipedia.org/w/api.php\"\n",
    "    params = {\n",
    "        \"action\": \"query\",\n",
    "        \"format\": \"json\",\n",
    "        \"list\": \"random\",\n",
    "        \"rnnamespace\": 0, \n",
    "        \"rnlimit\": length\n",
    "    }\n",
    "    response = requests.get(url, params=params)\n",
    "    data = response.json()\n",
    "    titles = [article['title'] for article in data['query']['random']]\n",
    "    return titles\n",
    "\n",
    "def make_corpus(titles, min_length=250, target_number=200, specialised_search=False):\n",
    "    corpus = []\n",
    "    i = 0\n",
    "    for title in titles:\n",
    "        if title == 'small modular reactor': #title of target article\n",
    "            continue\n",
    "        page = wiki_wiki.page(title)\n",
    "        text = page.text\n",
    "        if (text) and len(text.split(' ')) >= min_length:\n",
    "            flag = True\n",
    "            if (specialised_search):\n",
    "                if 'nuclear' not in text:\n",
    "                    flag = False\n",
    "            if (flag):\n",
    "                corpus.append(text)\n",
    "                i += 1\n",
    "                if i >= target_number:\n",
    "                    break\n",
    "    print(f'Collected {i} articles of minimum {min_length} words')\n",
    "    return corpus"
   ]
  },
  {
   "cell_type": "code",
   "execution_count": 18,
   "metadata": {},
   "outputs": [
    {
     "name": "stdout",
     "output_type": "stream",
     "text": [
      "Collected 200 articles of minimum 250 words\n"
     ]
    }
   ],
   "source": [
    "titles = fetch_article_titles()\n",
    "\n",
    "corpus = make_corpus(titles)\n",
    "\n",
    "with open('corpus.txt', 'w', encoding='utf-8') as file:\n",
    "    for text in corpus:\n",
    "        file.write(text.replace('\\n', ' ') + '\\n\\n')"
   ]
  },
  {
   "cell_type": "code",
   "execution_count": 22,
   "metadata": {},
   "outputs": [],
   "source": [
    "page = wiki_wiki.page('small modular reactor')\n",
    "text = page.text\n",
    "corpus.append(text)"
   ]
  },
  {
   "cell_type": "code",
   "execution_count": 23,
   "metadata": {},
   "outputs": [
    {
     "name": "stdout",
     "output_type": "stream",
     "text": [
      "reactors\n",
      "smr\n",
      "smrs\n",
      "reactor\n",
      "nuclear\n",
      "power\n",
      "safety\n",
      "waste\n",
      "fuel\n",
      "energy\n",
      "designs\n",
      "plant\n",
      "mwe\n",
      "cost\n",
      "thermal\n",
      "neutron\n",
      "modular\n",
      "large\n",
      "radioactive\n",
      "licensing\n",
      "construction\n",
      "smr designs\n",
      "conventional\n",
      "nuscale\n",
      "electricity\n",
      "nuclear power\n",
      "power plant\n",
      "small\n",
      "generation\n",
      "2023\n"
     ]
    }
   ],
   "source": [
    "from sklearn.feature_extraction.text import TfidfVectorizer\n",
    "\n",
    "vectorizer = TfidfVectorizer(stop_words='english', ngram_range=(1, 2), max_features=10000)\n",
    "tfidf_matrix = vectorizer.fit_transform(corpus)\n",
    "\n",
    "# Target article is the last one in the list\n",
    "feature_names = vectorizer.get_feature_names_out()\n",
    "tfidf_scores = tfidf_matrix[-1].toarray().flatten()\n",
    "keywords = {feature_names[i]: tfidf_scores[i] for i in tfidf_scores.argsort()[-30:][::-1]}\n",
    "for k in keywords:\n",
    "    print(k)"
   ]
  },
  {
   "cell_type": "code",
   "execution_count": 11,
   "metadata": {},
   "outputs": [],
   "source": [
    "new_text = '''\n",
    "284410 - Uranium; natural uranium and its compounds, alloys, dispersions (including cermets), ceramic products and mixtures containing natural uranium or natural uranium compounds\n",
    "284420 - Uranium; enriched in U235, plutonium, their compounds, alloys dispersions (including cermets), ceramic products and mixtures containing uranium enriched in U235, plutonium or compounds of these products\n",
    "284430 - Uranium; depleted in U235, thorium, their compounds, alloys, dispersions (including cermets), ceramic products and mixtures containing uranium depleted in U235, thorium; compounds of these products\n",
    "284441 - Radioactive elements; tritium and its compounds; alloys, dispersions (including cermets), ceramic products and mixtures containing tritium or its compounds\n",
    "284442 - Radioactive elements; actinium-225, 227, californium-253, curium-240, 241, 242, 243, 244, einsteinium-253, 254, gadolinium-148, polonium-208, 209, 210, radium-223, uranium-230 or 232, compounds; alloys, dispersions, ceramic products and mixtures\n",
    "284443 - Radioactive elements, isotopes and compounds; other alloys, dispersions (including cermets), ceramic products and mixtures containing these elements, isotopes or compounds\n",
    "284444 - Radioactive elements, isotopes, compounds n.e.c. in heading no. 2844, alloys, dispersions (including cermets), ceramic products, mixtures containing the elements, isotopes, compounds; radioactive residues\n",
    "284450 - Spent (irradiated) fuel elements (cartridges) of nuclear reactors\n",
    "284510 - Heavy water (deuterium oxide)\n",
    "284520 - Boron enriched in boron-10 and its compounds\n",
    "284530 - Lithium enriched in lithium-6 and its compounds\n",
    "284540 - Helium-3\n",
    "284590 - Isotopes other than those of heading no. 2844, 2845.20, 2845.30 or 2845.40; compounds, inorganic or organic, of such isotopes, whether or not chemically defined\n",
    "8401 - Nuclear reactors; fuel elements (cartridges), non-irradiated, for nuclear reactors, machinery and apparatus for isotopic separation\n",
    "8402 - Boilers; steam or other vapour generating (other than central heating hot water boilers, capable also of producing low pressure steam), super heated water boilers\n",
    "8403 - Central heating boilers; excluding those of heading no. 8402\n",
    "8404 - Auxiliary plant for use with boilers of heading no. 8402 or 8403; e.g. economisers, super-heaters, soot removers, gas recoverers), condensers for steam or other vapour power units\n",
    "8405 - Generators for producer or water gas with or without their purifiers acetylene gas generators and similar water process gas generators, with or without their purifiers\n",
    "8406 - Turbines; steam and other vapour turbines\n",
    "8407 - Reciprocating or rotary internal combustion piston engines\n",
    "8408 - Compression-ignition internal combustion piston engines (diesel or semi-diesel engines)\n",
    "8409 - Parts suitable for use solely or principally with the engines of heading no. 8407 or 8408\n",
    "8410 - Turbines; hydraulic water wheels and regulators therefor\n",
    "8411 - Turbo-jets, turbo-propellers and other gas turbines\n",
    "8412 - Engines and motors; n.e.c. (e.g. reaction engines, hydraulic power engines, pneumatic power engines)\n",
    "8413 - Pumps; for liquids, whether or not fitted with measuring device, liquid elevators\n",
    "8414 - Air or vacuum pumps, air or other gas compressors and fans; ventilating or recycling hoods incorporating a fan; gas-tight biological safety cabinets whether or not fitted with filters\n",
    "8415 - Air conditioning machines; comprising a motor driven fan and elements for changing the temperature and humidity, including those machines in which the humidity cannot be separately regulated\n",
    "8416 - Furnace burners for liquid fuel, for pulverised solid fuel or for gas; mechanical grates, mechanical ash dischargers and similar appliances\n",
    "8417 - Furnaces and ovens; industrial or laboratory, including incinerators, non-electric\n",
    "8418 - Refrigerators, freezers and other refrigerating or freezing equipment, electric or other; heat pumps other than air conditioning machines of heading no. 8415\n",
    "8419 - Machinery, plant (not domestic), or laboratory equipment; electrically heated or not, (excluding items in 85.14) for the treatment of materials by a process involving change of temperature; including instantaneous or non electric storage water heaters\n",
    "8420 - Machines; calendering or other rolling machines, for other than metal or glass and cylinders therefor\n",
    "8421 - Centrifuges, including centrifugal dryers; filtering or purifying machinery and apparatus for liquids or gases\n",
    "8422 - Dish washing machines; machinery for cleaning, drying, filling, closing, sealing, capsuling or labelling bottles, cans, boxes, bags, etc, machinery for aerating beverages\n",
    "8423 - Weighing machines; excluding balances of a sensitivity of 5cg or better, including weight operated counting or checking machines and weights of all kinds\n",
    "8424 - Mechanical appliances for projecting, dispersing or spraying liquids or powders; fire extinguishers, spray guns, steam, sand blasting machines\n",
    "8425 - Pulley tackle and hoists other than skip hoists; winches and capstans; jacks\n",
    "8426 - Derricks, cranes, including cable cranes, mobile lifting frames, straddle carriers and works trucks fitted with a crane\n",
    "8427 - Fork-lift and other works trucks; fitted with lifting or handling equipment\n",
    "8428 - Lifting, handling, loading or unloading machinery; n.e.c. in heading no. 8425, 8426 or 8427 (e.g. lifts, escalators, conveyors, teleferics)\n",
    "8429 - Bulldozers, graders, levellers, scrapers, angledozers, mechanical shovels, excavators, shovel loaders, tamping machines and road rollers, self-propelled\n",
    "8430 - Moving, grading, levelling, scraping, excavating, tamping, compacting, extracting or boring machinery, for earth, minerals, or ores; pile drivers and extractors; snow ploughs and snow blowers\n",
    "8431 - Machinery parts; used solely or principally with the machinery of heading no. 8425 to 8430\n",
    "8432 - Agricultural, horticultural or forestry machinery for soil preparation or cultivation; lawn or sports-ground rollers\n",
    "8433 - Harvesting and threshing machinery, straw and fodder balers, grass or hay mowers; machines for cleaning, sorting or grading eggs, fruit or other agricultural produce, other than machinery of heading no 8437\n",
    "8434 - Milking machines and dairy machinery\n",
    "8435 - Presses, crushers and similar machinery; used in the manufacture of wine, cider, fruit juices or similar beverages\n",
    "8436 - Agricultural, horticultural, forestry, poultry-keeping, bee-keeping machinery; including germination plant fitted with mechanical or thermal equipment; poultry incubators and brooders\n",
    "8437 - Machines for cleaning, sorting, grading seed, grain, dried leguminous vegetables; machinery used in the milling industry for the working of cereals or dried leguminous vegetables, not farm type machinery\n",
    "8438 - Machinery n.e.c. in this chapter, for the industrial preparation or manufacture of food or drink; other than machinery for extraction or preparation of animal or fixed vegetable or microbial fats or oils\n",
    "8439 - Machinery; for making pulp of fibrous cellulosic material, or for making or finishing paper or paperboard\n",
    "8440 - Book-binding machinery; including book-sewing machines\n",
    "8441 - Machines; for making up paper pulp, paper or paperboard, including cutting machines of all kinds\n",
    "8442 - Machinery, apparatus and equipment (excluding machines of headings 8456 to 8465) for preparing or making printing components; plates, cylinders and other printing components; lithographic stones prepared for printing purposes\n",
    "8443 - Printing machinery; used for printing by means of plates, cylinders and other printing components of heading 84.42; other printers, copying machines and facsimile machines, whether or not combined; parts and accessories thereof\n",
    "8444 - Textile machinery; for extruding, drawing, texturing or cutting man-made textile materials\n",
    "8445 - Textile machinery; spinning, doubling, twisting machines, textile reeling or winding machines and machines for preparing textile yarns for use on machines of heading no. 8446 and 8447\n",
    "8446 - Weaving machines (looms)\n",
    "8447 - Knitting machines, stitch-bonding machines and machines for making gimped yarn, tulle, lace, embroidery, trimmings, braid or net and machines for tufting\n",
    "8448 - Machinery, auxiliary; for use with machines of heading no. 8444 to 8447 (e.g. dobbies, jacquards, automatic stop motions, shuttle changing mechanisms) parts, accessories for machines of heading no. 8444, 8447\n",
    "8449 - Machinery; for manufacture or finishing felt or non-wovens in the piece or in shapes, including machinery for making felt hats, blocks for making hats\n",
    "8450 - Household or laundry-type washing machines; including machines which both wash and dry\n",
    "8451 - Machinery (not of heading no. 8450) for washing, cleaning, wringing, drying, ironing, pressing, bleaching, dyeing, dressing, finishing, coating or impregnating textile yarn, fabrics or made up articles\n",
    "8452 - Sewing machines; other than book-sewing machines of heading no. 8440; furniture, bases and covers specially designed for sewing machines; sewing machine needles\n",
    "8453 - Machinery for preparing, tanning or working hides, skins or leather or for making or repairing footwear or other articles of hides, skins or leather, other than sewing machines\n",
    "8454 - Converters, ladles, ingot moulds and casting machines; of a kind used metallurgy or in metal foundries\n",
    "8455 - Metal-rolling mills and rolls therefor\n",
    "8456 - Machine-tools; for working any material by removal of material, by laser or other light or photon beam, ultrasonic, electro-discharge, electro-chemical, electron beam, ionic-beam, or plasma arc processes; water-jet cutting machines\n",
    "8457 - Machining centres, unit construction machines (single station) and multi-station transfer machines for working metal\n",
    "8458 - Lathes for removing metal\n",
    "8459 - Machine-tools; (including way-type unit head machines) for drilling, boring, milling, threading or tapping by removing metal, other than lathes of heading no. 8458\n",
    "8460 - Machine-tools; for deburring, sharpening, grinding, honing, lapping, polishing or otherwise finishing metal, sintered metal carbides or cermets by means of grinding stones, abrasives or polishing products\n",
    "8461 - Machine-tools; for planing, shaping, slotting, broaching, gear cutting and grinding, finishing, sawing, cutting off and other tools working by removing metal, sintered metal carbides or cermets n.e.c.\n",
    "8462 - Machine-tools (including presses) for working metal by forging, hammering or die forging (excluding rolling mills); machine-tools (including presses, slitting lines and cut-to-length lines) for working metal by bending, folding, straightening, flattening,\n",
    "8463 - Machine-tools; n.e.c. for working metal, sintered metal carbides or cermets without removing material\n",
    "8464 - Machine-tools; for working stone, ceramics, concrete, asbestos-cement or like mineral materials or for cold working glass\n",
    "8465 - Machine-tools; (including machines for nailing, stapling, glueing or otherwise assembling) for working wood, cork, bone, hard plastics or rubber or similar hard materials\n",
    "8466 - Parts & accessories suited for use only/mainly with machines of headings 8456-8465, including work/tool holders, self-opening dieheads, dividing heads & other special attachments for the machines; tool holders for any type of tool for working in the hand\n",
    "8467 - Tools; for working in the hand, pneumatic, hydraulic or with self-contained electric or non-electric motor\n",
    "8468 - Machinery and apparatus for soldering, brazing, welding, whether or not capable of cutting, other than those of heading no. 8515; gas-operated surface tempering machines and appliances\n",
    "8470 - Calculating machines and pocket-size data recording, reproducing and displaying machines with calculating functions; accounting machines, postage-franking machines, ticket-issuing machines and similar, incorporating a calculating device; cash registers\n",
    "8471 - Automatic data processing machines and units thereof, magnetic or optical readers, machines for transcribing data onto data media in coded form and machines for processing such data, not elsewhere specified or included\n",
    "8472 - Office machines; not elsewhere classified\n",
    "8473 - Machinery; parts and accessories (other than covers, carrying cases and the like) suitable for use solely or principally with machines of headings 84.70 to 84.72\n",
    "8474 - Machinery for sorting, screening, separating, washing, crushing, grinding, mixing or kneading earth, stone, ores in solid form, shaping, moulding machinery for solid mineral fuels\n",
    "8475 - Machines; for assembling electric or electronic lamps, tubes, valves, flashbulbs, in glass envelopes, machines for manufacturing or hot working glass or glassware\n",
    "8476 - Automatic goods-vending machines (e.g. postage stamp, cigarette, food or beverage machines), including money-changing machines\n",
    "8477 - Machinery; for working rubber or plastics or for the manufacture of products from these materials, n.e.c. in this chapter\n",
    "8478 - Machinery; for preparing or making up tobacco, n.e.c. in this chapter\n",
    "8479 - Machinery and mechanical appliances; having individual functions, n.e.c. in this chapter\n",
    "8480 - Moulding boxes for metal foundry, moulding patterns, moulds for metals (excluding ingot moulds), metal carbides, glass, mineral materials, rubber or plastics\n",
    "8481 - Taps, cocks, valves and similar appliances for pipes, boiler shells, tanks, vats or the like, including pressure-reducing valves and thermostatically controlled valves\n",
    "8482 - Ball or roller bearings\n",
    "8483 - Transmission shafts (including cam and crank) and cranks; bearing housings and plain shaft bearings; gears and gearing; ball or roller screws; gear boxes and other speed changers; flywheels and pulleys; clutches and shaft couplings\n",
    "8484 - Gaskets and similar joints of metal sheeting combined with other material or of two or more layers of metal; sets or assortments of gaskets and similar joints, dissimilar in composition, put up in pouches, envelopes or similar packings; mechanical seals\n",
    "8485 - Machines for additive manufacturing\n",
    "8486 - Machines and apparatus of a kind used solely or principally for the manufacture of semiconductor boules or wafers, semiconductor devices, electronic integrated circuits or flat panel displays; machines & apparatus specified in note 11 (C) to this Chapter\n",
    "'''"
   ]
  },
  {
   "cell_type": "code",
   "execution_count": 24,
   "metadata": {},
   "outputs": [
    {
     "name": "stdout",
     "output_type": "stream",
     "text": [
      "machines\n",
      "machinery\n",
      "heading\n",
      "metal\n",
      "including\n",
      "compounds\n",
      "tools\n",
      "cermets\n",
      "machine tools\n",
      "products\n",
      "working\n",
      "machine\n",
      "elements\n",
      "uranium\n",
      "alloys dispersions\n",
      "dispersions\n",
      "ceramic\n",
      "ceramic products\n",
      "products mixtures\n",
      "mechanical\n",
      "mixtures\n",
      "alloys\n",
      "similar\n",
      "engines\n",
      "gas\n",
      "textile\n",
      "including cermets\n",
      "apparatus\n",
      "compounds alloys\n",
      "sewing\n"
     ]
    }
   ],
   "source": [
    "# Try with HS keywords: why isn't uranium in the list?\n",
    "new_corpus = corpus\n",
    "new_corpus.append(new_text)\n",
    "\n",
    "vectorizer = TfidfVectorizer(stop_words='english', ngram_range=(1, 2), max_features=10000)\n",
    "tfidf_matrix = vectorizer.fit_transform(new_corpus)\n",
    "feature_names = vectorizer.get_feature_names_out()\n",
    "tfidf_scores = tfidf_matrix[-1].toarray().flatten()\n",
    "keywords = {feature_names[i]: tfidf_scores[i] for i in tfidf_scores.argsort()[-30:][::-1]}\n",
    "for k in keywords:\n",
    "    print(k)"
   ]
  },
  {
   "cell_type": "code",
   "execution_count": 27,
   "metadata": {},
   "outputs": [
    {
     "name": "stdout",
     "output_type": "stream",
     "text": [
      "Collected 5 articles of minimum 100 words\n"
     ]
    }
   ],
   "source": [
    "titles = fetch_article_titles(length=50000000)\n",
    "corpus = make_corpus(titles, min_length=100, target_number=200, specialised_search=True)"
   ]
  },
  {
   "cell_type": "code",
   "execution_count": 42,
   "metadata": {},
   "outputs": [],
   "source": [
    "def get_articles_in_category(category_name, limit=3000):\n",
    "\n",
    "    url = \"https://en.wikipedia.org/w/api.php\"\n",
    "    params = {\n",
    "        \"action\": \"query\",\n",
    "        \"list\": \"categorymembers\",\n",
    "        \"cmtitle\": f\"Category:{category_name}\",\n",
    "        \"cmlimit\": limit,\n",
    "        \"format\": \"json\"\n",
    "    }\n",
    "    response = requests.get(url, params=params)\n",
    "    data = response.json()\n",
    "    articles = data['query']['categorymembers']\n",
    "    return [article['title'] for article in articles if article['ns'] == 0]"
   ]
  },
  {
   "cell_type": "code",
   "execution_count": 43,
   "metadata": {},
   "outputs": [
    {
     "name": "stdout",
     "output_type": "stream",
     "text": [
      "197\n"
     ]
    }
   ],
   "source": [
    "category_names = [\n",
    "    'Energy', 'Nuclear Energy', 'Renewable Energy', 'Energy Policy',\n",
    "    'Technology', 'Nuclear Technology', 'Industrial Technology'\n",
    "    'Engineering', 'Nuclear Engineering',\n",
    "    'Science', 'Physics', 'Electricity']\n",
    "\n",
    "titles = set()\n",
    "for name in category_names:\n",
    "    article_titles = get_articles_in_category(name)\n",
    "    titles.update(article_titles)\n",
    "\n",
    "print(len(titles))"
   ]
  },
  {
   "cell_type": "code",
   "execution_count": 48,
   "metadata": {},
   "outputs": [],
   "source": [
    "def make_corpus(titles):\n",
    "    corpus = []\n",
    "    for title in titles:\n",
    "        if title == 'small modular reactor': #title of target article\n",
    "            continue\n",
    "        page = wiki_wiki.page(title)\n",
    "        text = page.text\n",
    "        corpus.append(text)\n",
    "    return corpus"
   ]
  },
  {
   "cell_type": "code",
   "execution_count": null,
   "metadata": {},
   "outputs": [],
   "source": [
    "corpus = make_corpus(titles)"
   ]
  },
  {
   "cell_type": "code",
   "execution_count": 51,
   "metadata": {},
   "outputs": [],
   "source": [
    "page = wiki_wiki.page('small modular reactor')\n",
    "text = page.text\n",
    "corpus.append(text)"
   ]
  },
  {
   "cell_type": "code",
   "execution_count": 54,
   "metadata": {},
   "outputs": [
    {
     "name": "stdout",
     "output_type": "stream",
     "text": [
      "smr\n",
      "smrs\n",
      "reactors\n",
      "nuclear\n",
      "reactor\n",
      "safety\n",
      "mwe\n",
      "designs\n",
      "power\n",
      "fuel\n",
      "waste\n",
      "modular\n",
      "smr designs\n",
      "licensing\n",
      "neutron\n",
      "nuscale\n",
      "plant\n",
      "radioactive\n",
      "construction\n",
      "mwh\n",
      "2023\n",
      "cost\n",
      "nuclear fuel\n",
      "nuscale power\n",
      "power plant\n",
      "proliferation\n",
      "radioactive waste\n",
      "energy\n",
      "light water\n",
      "conventional\n",
      "nuclear power\n",
      "costs\n",
      "site\n",
      "neutron reactors\n",
      "large\n",
      "fast\n",
      "nuclear energy\n",
      "spent\n",
      "thermal\n",
      "water\n",
      "project\n",
      "desalination\n",
      "output\n",
      "licensing process\n",
      "iaea\n",
      "krall\n",
      "deployment\n",
      "generation\n",
      "disposal\n",
      "reactor designs\n"
     ]
    }
   ],
   "source": [
    "from sklearn.feature_extraction.text import TfidfVectorizer\n",
    "vectorizer = TfidfVectorizer(stop_words='english', ngram_range=(1, 3), max_features=10000)\n",
    "tfidf_matrix = vectorizer.fit_transform(corpus)\n",
    "feature_names = vectorizer.get_feature_names_out()\n",
    "tfidf_scores = tfidf_matrix[-1].toarray().flatten()\n",
    "keywords = {feature_names[i]: tfidf_scores[i] for i in tfidf_scores.argsort()[-50:][::-1]}\n",
    "for k in keywords:\n",
    "    print(k)"
   ]
  }
 ],
 "metadata": {
  "kernelspec": {
   "display_name": "env",
   "language": "python",
   "name": "python3"
  },
  "language_info": {
   "codemirror_mode": {
    "name": "ipython",
    "version": 3
   },
   "file_extension": ".py",
   "mimetype": "text/x-python",
   "name": "python",
   "nbconvert_exporter": "python",
   "pygments_lexer": "ipython3",
   "version": "3.10.13"
  }
 },
 "nbformat": 4,
 "nbformat_minor": 2
}
