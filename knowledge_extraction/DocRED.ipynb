{
 "cells": [
  {
   "cell_type": "code",
   "execution_count": 2,
   "metadata": {},
   "outputs": [
    {
     "name": "stdout",
     "output_type": "stream",
     "text": [
      "DatasetDict({\n",
      "    validation: Dataset({\n",
      "        features: ['title', 'sents', 'vertexSet', 'labels'],\n",
      "        num_rows: 998\n",
      "    })\n",
      "    test: Dataset({\n",
      "        features: ['title', 'sents', 'vertexSet', 'labels'],\n",
      "        num_rows: 1000\n",
      "    })\n",
      "    train_annotated: Dataset({\n",
      "        features: ['title', 'sents', 'vertexSet', 'labels'],\n",
      "        num_rows: 3053\n",
      "    })\n",
      "    train_distant: Dataset({\n",
      "        features: ['title', 'sents', 'vertexSet', 'labels'],\n",
      "        num_rows: 101873\n",
      "    })\n",
      "})\n"
     ]
    }
   ],
   "source": [
    "from datasets import load_dataset\n",
    "dataset = load_dataset('docred', trust_remote_code=True)\n",
    "print(dataset)"
   ]
  },
  {
   "cell_type": "code",
   "execution_count": 3,
   "metadata": {},
   "outputs": [
    {
     "data": {
      "application/vnd.jupyter.widget-view+json": {
       "model_id": "a2068e1bb1764302a8942e96afe28f59",
       "version_major": 2,
       "version_minor": 0
      },
      "text/plain": [
       "DataGrid(auto_fit_params={'area': 'all', 'padding': 30, 'numCols': None}, corner_renderer=None, default_render…"
      ]
     },
     "execution_count": 3,
     "metadata": {},
     "output_type": "execute_result"
    }
   ],
   "source": [
    "import pandas as pd\n",
    "from ipydatagrid import DataGrid\n",
    "import itertools\n",
    "\n",
    "ds = pd.DataFrame(dataset['train_annotated'])\n",
    "\n",
    "grid = DataGrid(ds)\n",
    "grid\n"
   ]
  },
  {
   "cell_type": "code",
   "execution_count": 18,
   "metadata": {},
   "outputs": [],
   "source": [
    "def get_info(docred_instance):\n",
    "    title = docred_instance['title']\n",
    "\n",
    "    flattened_sents = [' '.join(sublist) for sublist in docred_instance['sents']]\n",
    "    text = '\\n'.join(flattened_sents)\n",
    "\n",
    "    nested_entities = docred_instance['vertexSet']\n",
    "    entities = list(itertools.chain(*nested_entities))\n",
    "    \n",
    "    head = docred_instance['labels']['head']\n",
    "    tail = docred_instance['labels']['tail']\n",
    "    r_id = docred_instance['labels']['relation_id']\n",
    "    r_text = docred_instance['labels']['relation_text']\n",
    "    evidence = docred_instance['labels']['evidence']\n",
    "\n",
    "    return title, text, entities, head, tail, r_id, r_text, evidence"
   ]
  },
  {
   "cell_type": "code",
   "execution_count": 15,
   "metadata": {},
   "outputs": [],
   "source": [
    "from transformers import AutoTokenizer, pipeline\n",
    "\n",
    "model_name = 'dslim/distilbert-NER'\n",
    "tokenizer = AutoTokenizer.from_pretrained(model_name)\n",
    "ner_pipeline = pipeline('ner', model=model_name, tokenizer=tokenizer)"
   ]
  },
  {
   "cell_type": "code",
   "execution_count": 21,
   "metadata": {},
   "outputs": [
    {
     "name": "stdout",
     "output_type": "stream",
     "text": [
      "ORIGINAL:\n",
      "{'name': 'Ministry for Home Security', 'sent_id': 1, 'pos': [1, 5], 'type': 'ORG'}\n",
      "{'name': 'Ministry of Home Security', 'sent_id': 0, 'pos': [1, 5], 'type': 'ORG'}\n",
      "{'name': 'Ministry', 'sent_id': 2, 'pos': [1, 2], 'type': 'ORG'}\n",
      "{'name': 'Ministry', 'sent_id': 4, 'pos': [1, 2], 'type': 'ORG'}\n",
      "{'name': 'Ministry', 'sent_id': 7, 'pos': [7, 8], 'type': 'ORG'}\n",
      "{'name': 'British', 'sent_id': 0, 'pos': [7, 8], 'type': 'LOC'}\n",
      "{'name': '1939', 'sent_id': 0, 'pos': [12, 13], 'type': 'TIME'}\n",
      "{'name': 'Second World War', 'sent_id': 0, 'pos': [29, 32], 'type': 'MISC'}\n",
      "{'name': 'John Anderson', 'sent_id': 1, 'pos': [9, 11], 'type': 'PER'}\n",
      "{'name': 'John Anderson', 'sent_id': 6, 'pos': [5, 7], 'type': 'PER'}\n",
      "{'name': 'Women ’s Voluntary Service', 'sent_id': 2, 'pos': [27, 31], 'type': 'ORG'}\n",
      "{'name': 'ARP', 'sent_id': 3, 'pos': [9, 10], 'type': 'ORG'}\n",
      "{'name': 'Home Office', 'sent_id': 4, 'pos': [9, 11], 'type': 'ORG'}\n",
      "{'name': 'Fire Guards', 'sent_id': 5, 'pos': [28, 30], 'type': 'ORG'}\n",
      "{'name': 'October 1940', 'sent_id': 6, 'pos': [1, 3], 'type': 'TIME'}\n",
      "{'name': 'Herbert Morrison', 'sent_id': 6, 'pos': [10, 12], 'type': 'PER'}\n",
      "{'name': 'Neville Chamberlain', 'sent_id': 6, 'pos': [17, 19], 'type': 'PER'}\n",
      "{'name': 'Allied', 'sent_id': 7, 'pos': [2, 3], 'type': 'ORG'}\n",
      "{'name': 'Europe', 'sent_id': 7, 'pos': [5, 6], 'type': 'LOC'}\n",
      "{'name': 'May 1945', 'sent_id': 7, 'pos': [11, 13], 'type': 'TIME'}\n",
      "DISTILBERT:\n",
      "{'entity': 'ORG', 'score': 0.9484465, 'start': 4, 'end': 29, 'word': 'Ministry of Home Security'}\n",
      "{'entity': 'MISC', 'score': 0.9948782, 'start': 36, 'end': 43, 'word': 'British'}\n",
      "{'entity': 'MISC', 'score': 0.89900196, 'start': 188, 'end': 204, 'word': 'Second World War'}\n",
      "{'entity': 'ORG', 'score': 0.9400976, 'start': 211, 'end': 237, 'word': 'Ministry for Home Security'}\n",
      "{'entity': 'PER', 'score': 0.99241734, 'start': 256, 'end': 269, 'word': 'John Anderson'}\n",
      "{'entity': 'ORG', 'score': 0.49652576, 'start': 274, 'end': 278, 'word': 'Home'}\n",
      "{'entity': 'ORG', 'score': 0.5548217, 'start': 305, 'end': 318, 'word': 'Home Security'}\n",
      "{'entity': 'ORG', 'score': 0.808068, 'start': 325, 'end': 333, 'word': 'Ministry'}\n",
      "{'entity': 'ORG', 'score': 0.97428846, 'start': 484, 'end': 510, 'word': 'Women ’s Voluntary Service'}\n",
      "{'entity': 'ORG', 'score': 0.9300406, 'start': 618, 'end': 626, 'word': 'Ministry'}\n",
      "{'entity': 'ORG', 'score': 0.99063724, 'start': 659, 'end': 670, 'word': 'Home Office'}\n",
      "{'entity': 'ORG', 'score': 0.9947582, 'start': 961, 'end': 972, 'word': 'Fire Guards'}\n",
      "{'entity': 'PER', 'score': 0.9978036, 'start': 997, 'end': 1010, 'word': 'John Anderson'}\n",
      "{'entity': 'PER', 'score': 0.9979705, 'start': 1027, 'end': 1043, 'word': 'Herbert Morrison'}\n",
      "{'entity': 'PER', 'score': 0.9970975, 'start': 1075, 'end': 1094, 'word': 'Neville Chamberlain'}\n",
      "{'entity': 'MISC', 'score': 0.9834563, 'start': 1141, 'end': 1147, 'word': 'Allied'}\n",
      "{'entity': 'LOC', 'score': 0.9935715, 'start': 1159, 'end': 1165, 'word': 'Europe'}\n",
      "{'entity': 'ORG', 'score': 0.9733523, 'start': 1170, 'end': 1178, 'word': 'Ministry'}\n"
     ]
    }
   ],
   "source": [
    "import importlib\n",
    "import _NER\n",
    "importlib.reload(_NER)\n",
    "from _NER import merge_result, combine_entities\n",
    "\n",
    "title, text, original_entities, _, _, _, _, _ = get_info(ds.iloc[4])\n",
    "result = ner_pipeline(text)\n",
    "merged_result = merge_result(result, model_name)\n",
    "distilbert_entities = combine_entities(merged_result)\n",
    "\n",
    "print('ORIGINAL:')\n",
    "for e in original_entities:\n",
    "    print(e)\n",
    "\n",
    "print('DISTILBERT:')\n",
    "for e in distilbert_entities:\n",
    "    print(e)\n",
    "\n"
   ]
  }
 ],
 "metadata": {
  "kernelspec": {
   "display_name": "env",
   "language": "python",
   "name": "python3"
  },
  "language_info": {
   "codemirror_mode": {
    "name": "ipython",
    "version": 3
   },
   "file_extension": ".py",
   "mimetype": "text/x-python",
   "name": "python",
   "nbconvert_exporter": "python",
   "pygments_lexer": "ipython3",
   "version": "3.10.13"
  }
 },
 "nbformat": 4,
 "nbformat_minor": 2
}
