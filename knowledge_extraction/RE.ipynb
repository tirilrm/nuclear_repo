{
 "cells": [
  {
   "cell_type": "code",
   "execution_count": 1,
   "metadata": {},
   "outputs": [],
   "source": [
    "import pandas as pd\n",
    "import random\n",
    "import sys\n",
    "from transformers import AutoTokenizer, pipeline\n",
    "from collections import Counter\n",
    "\n",
    "articles = pd.read_json('../scraping/articles/all_articles.json')\n",
    "text = articles['text'][45]\n",
    "text = articles['text'][45][1:6]"
   ]
  },
  {
   "cell_type": "code",
   "execution_count": 4,
   "metadata": {},
   "outputs": [
    {
     "name": "stdout",
     "output_type": "stream",
     "text": [
      "According to DESNZ: “GBN will drive the rapid expansion of new nuclear power plants in the UK at an unprecedented scale and pace.\n",
      "{'entity': 'B-ORG', 'score': 0.9915059, 'index': 3, 'word': 'DESNZ', 'start': 13, 'end': 18}\n",
      "{'entity': 'B-ORG', 'score': 0.73248434, 'index': 8, 'word': 'GBN', 'start': 21, 'end': 24}\n",
      "{'entity': 'B-LOC', 'score': 0.9970687, 'index': 22, 'word': 'UK', 'start': 91, 'end': 93}\n",
      "“This will boost UK energy security, reduce dependence on volatile fossil fuel imports, create more affordable power and grow the economy, with the nuclear industry estimated to generate around £6bn for the UK economy.”\n",
      "{'entity': 'B-LOC', 'score': 0.99796593, 'index': 5, 'word': 'UK', 'start': 17, 'end': 19}\n",
      "{'entity': 'B-LOC', 'score': 0.9962745, 'index': 40, 'word': 'UK', 'start': 207, 'end': 209}\n",
      "DESNZ added that GBN will play a key role in helping the government hit its ambition to provide up to a quarter of the UK’s electricity from homegrown nuclear energy by 2050.\n",
      "{'entity': 'B-ORG', 'score': 0.9983078, 'index': 1, 'word': 'DESNZ', 'start': 0, 'end': 5}\n",
      "{'entity': 'B-ORG', 'score': 0.9964856, 'index': 6, 'word': 'GBN', 'start': 17, 'end': 20}\n",
      "{'entity': 'B-LOC', 'score': 0.9970277, 'index': 28, 'word': 'UK', 'start': 119, 'end': 121}\n",
      "GBN’s official launch is supported by a competition for organisations to bid for funding support for the development of their nuclear products, including small modular reactors (SMRs).\n",
      "{'entity': 'B-ORG', 'score': 0.9984586, 'index': 1, 'word': 'GBN', 'start': 0, 'end': 3}\n",
      "Current SMR projects include Rolls-Royce SMR proposals looking at constructing reactors in Oldbury and Berkeley in the south west of England and Balfour Beatty's proposals with Holtec Britain to develop plans for a SMR-160 pressurised light-water reactor somewhere in the UK.\n",
      "{'entity': 'B-MISC', 'score': 0.96063066, 'index': 6, 'word': 'Rolls-Royce', 'start': 29, 'end': 40}\n",
      "{'entity': 'I-MISC', 'score': 0.4967947, 'index': 10, 'word': '##R', 'start': 43, 'end': 44}\n",
      "{'entity': 'B-LOC', 'score': 0.99711967, 'index': 17, 'word': 'Oldbury', 'start': 91, 'end': 98}\n",
      "{'entity': 'B-LOC', 'score': 0.99735653, 'index': 20, 'word': 'Berkeley', 'start': 103, 'end': 111}\n",
      "{'entity': 'B-LOC', 'score': 0.9987255, 'index': 26, 'word': 'England', 'start': 133, 'end': 140}\n",
      "{'entity': 'B-PER', 'score': 0.7503928, 'index': 28, 'word': 'Balfour', 'start': 145, 'end': 152}\n",
      "{'entity': 'I-PER', 'score': 0.65967816, 'index': 31, 'word': 'Beatty', 'start': 153, 'end': 159}\n",
      "{'entity': 'B-ORG', 'score': 0.99402034, 'index': 37, 'word': 'Holtec', 'start': 177, 'end': 183}\n",
      "{'entity': 'I-ORG', 'score': 0.99264175, 'index': 39, 'word': 'Britain', 'start': 184, 'end': 191}\n",
      "{'entity': 'B-MISC', 'score': 0.9499294, 'index': 45, 'word': 'SMR-160', 'start': 215, 'end': 222}\n",
      "{'entity': 'B-LOC', 'score': 0.9961797, 'index': 59, 'word': 'UK', 'start': 272, 'end': 274}\n"
     ]
    }
   ],
   "source": [
    "# For entity extraction\n",
    "model = \"dslim/distilbert-NER\"\n",
    "tokenizer = AutoTokenizer.from_pretrained(model)\n",
    "ner_pipeline = pipeline('ner', model=model, tokenizer=tokenizer)\n",
    "\n",
    "'''def merge_entities(entities):\n",
    "    merged_entities = []\n",
    "    labels = []\n",
    "    current = None\n",
    "\n",
    "    for entity in entities:\n",
    "        if current is None:\n",
    "            current = entity\n",
    "            labels.append(entity['entity'][2:])\n",
    "        else:\n",
    "            if entity['entity'].startswith('I') and current['entity'].startswith('B'):\n",
    "                current['word'] += ' ' + entity['word']\n",
    "                current['end'] = entity['end']\n",
    "                current['score'] = min(current['score'], entity['score'])\n",
    "                labels.append(entity['entity'][2:])\n",
    "            else:\n",
    "                dominant_label = Counter(labels).most_common(1)[0][0]\n",
    "                current['entity'] = 'B-' + dominant_label\n",
    "                merged_entities.append(current)\n",
    "                labels = [entity['entity'][2:]]\n",
    "                current = entity\n",
    "\n",
    "    if current is not None:\n",
    "        dominant_label = Counter(labels).most_common(1)[0][0]\n",
    "        current['entity'] = dominant_label\n",
    "        merged_entities.append(current)\n",
    "    \n",
    "    return merged_entities'''\n",
    "\n",
    "# NOTE: with current process, entities' start and end indices are reset for each new paragraph\n",
    "import importlib\n",
    "import _NER\n",
    "importlib.reload(_NER)\n",
    "from _NER import merge_result\n",
    "\n",
    "entities = []\n",
    "for paragraph in text:\n",
    "    print(paragraph)\n",
    "\n",
    "    # Entities\n",
    "    entity_result = ner_pipeline(paragraph)\n",
    "    merged_result = merge_result(entity_result, \"dslim/distilbert-NER\")\n",
    "    for eR in merged_result:\n",
    "        print(eR)\n",
    "        entities.append(eR)"
   ]
  },
  {
   "cell_type": "code",
   "execution_count": 5,
   "metadata": {},
   "outputs": [
    {
     "name": "stdout",
     "output_type": "stream",
     "text": [
      "According to DESNZ: “GBN will drive the rapid expansion of new nuclear power plants in the UK at an unprecedented scale and pace.\n",
      "{'head': 'DESNZ', 'type': 'country', 'tail': 'UK'}\n",
      "“This will boost UK energy security, reduce dependence on volatile fossil fuel imports, create more affordable power and grow the economy, with the nuclear industry estimated to generate around £6bn for the UK economy.”\n",
      "{'head': 'nuclear industry', 'type': 'country', 'tail': 'UK'}\n",
      "DESNZ added that GBN will play a key role in helping the government hit its ambition to provide up to a quarter of the UK’s electricity from homegrown nuclear energy by 2050.\n",
      "{'head': 'nuclear energy by 2050', 'type': 'point in time', 'tail': '2050'}\n",
      "GBN’s official launch is supported by a competition for organisations to bid for funding support for the development of their nuclear products, including small modular reactors (SMRs).\n",
      "{'head': 'small modular reactor', 'type': 'subclass of', 'tail': 'nuclear products'}\n",
      "Current SMR projects include Rolls-Royce SMR proposals looking at constructing reactors in Oldbury and Berkeley in the south west of England and Balfour Beatty's proposals with Holtec Britain to develop plans for a SMR-160 pressurised light-water reactor somewhere in the UK.\n",
      "{'head': 'SMR-160', 'type': 'manufacturer', 'tail': 'Holtec Britain'}\n"
     ]
    }
   ],
   "source": [
    "# RE: REBEL-large\n",
    "from transformers import pipeline\n",
    "model = 'Babelscape/rebel-large'\n",
    "\n",
    "triplet_extractor = pipeline('text2text-generation', model=model, tokenizer=model)\n",
    "\n",
    "# CODE FROM DOCUMENTATION\n",
    "def extract_triplets(text):\n",
    "    triplets = []\n",
    "    relation, subject, relation, object_ = '', '', '', ''\n",
    "    text = text.strip()\n",
    "    current = 'x'\n",
    "    for token in text.replace(\"<s>\", \"\").replace(\"<pad>\", \"\").replace(\"</s>\", \"\").split():\n",
    "        if token == \"<triplet>\":\n",
    "            current = 't'\n",
    "            if relation != '':\n",
    "                triplets.append({'head': subject.strip(), 'type': relation.strip(),'tail': object_.strip()})\n",
    "                relation = ''\n",
    "            subject = ''\n",
    "        elif token == \"<subj>\":\n",
    "            current = 's'\n",
    "            if relation != '':\n",
    "                triplets.append({'head': subject.strip(), 'type': relation.strip(),'tail': object_.strip()})\n",
    "            object_ = ''\n",
    "        elif token == \"<obj>\":\n",
    "            current = 'o'\n",
    "            relation = ''\n",
    "        else:\n",
    "            if current == 't':\n",
    "                subject += ' ' + token\n",
    "            elif current == 's':\n",
    "                object_ += ' ' + token\n",
    "            elif current == 'o':\n",
    "                relation += ' ' + token\n",
    "    if subject != '' and relation != '' and object_ != '':\n",
    "        triplets.append({'head': subject.strip(), 'type': relation.strip(),'tail': object_.strip()})\n",
    "    return triplets\n",
    "\n",
    "relations = []\n",
    "for paragraph in text:\n",
    "    print(paragraph)\n",
    "\n",
    "    # Relations\n",
    "    extracted_text = triplet_extractor.tokenizer.batch_decode([triplet_extractor(paragraph, return_tensors=True, return_text=False)[0][\"generated_token_ids\"]])\n",
    "    relation_result = extract_triplets(extracted_text[0])\n",
    "    for rR in relation_result:\n",
    "        print(rR)\n",
    "        relations.append(rR)"
   ]
  },
  {
   "cell_type": "code",
   "execution_count": 6,
   "metadata": {},
   "outputs": [
    {
     "name": "stdout",
     "output_type": "stream",
     "text": [
      "According to DESNZ: “GBN will drive the rapid expansion of new nuclear power plants in the UK at an unprecedented scale and pace.\n",
      "{'generated_text': '[(New Zealand#New Zealand#sovereign state)|member of|(Commonwealth#Commonwealth of Nations#intergovernmental organization)]'}\n",
      "“This will boost UK energy security, reduce dependence on volatile fossil fuel imports, create more affordable power and grow the economy, with the nuclear industry estimated to generate around £6bn for the UK economy.”\n",
      "{'generated_text': '[economy#Economy of the United Kingdom#national economy)|location|(UK#United Kingdom#sovereign state)]'}\n",
      "DESNZ added that GBN will play a key role in helping the government hit its ambition to provide up to a quarter of the UK’s electricity from homegrown nuclear energy by 2050.\n",
      "{'generated_text': '[(UK#United Kingdom#sovereign state)|executive body|(government#Government of the United Kingdom#government)]'}\n",
      "GBN’s official launch is supported by a competition for organisations to bid for funding support for the development of their nuclear products, including small modular reactors (SMRs).\n",
      "{'generated_text': '[(small modular reactor#Small modular reactor#nuclear reactor)|subclass of|(nuclear products#Nuclear reactor#system)]'}\n",
      "Current SMR projects include Rolls-Royce SMR proposals looking at constructing reactors in Oldbury and Berkeley in the south west of England and Balfour Beatty's proposals with Holtec Britain to develop plans for a SMR-160 pressurised light-water reactor somewhere in the UK.\n",
      "{'generated_text': '[(UK#United Kingdom#sovereign state)|contains administrative territorial entity|(England#England#devolved nation within the UK)]'}\n"
     ]
    }
   ],
   "source": [
    "# RE: KnowGL\n",
    "from transformers import AutoTokenizer, pipeline\n",
    "\n",
    "model = 'ibm/knowgl-large'\n",
    "\n",
    "classifier = pipeline('text2text-generation', model=model, tokenizer=model)\n",
    "\n",
    "relations = []\n",
    "for paragraph in text:\n",
    "    print(paragraph)\n",
    "\n",
    "    # Relations\n",
    "    relation_result = classifier(paragraph)\n",
    "    for rR in relation_result:\n",
    "        print(rR)\n",
    "        relations.append(rR)\n"
   ]
  },
  {
   "cell_type": "code",
   "execution_count": 7,
   "metadata": {},
   "outputs": [
    {
     "name": "stdout",
     "output_type": "stream",
     "text": [
      "According to DESNZ: “GBN will drive the rapid expansion of new nuclear power plants in the UK at an unprecedented scale and pace.\n",
      "{'label': 'are', 'score': 0.9930928945541382}\n",
      "“This will boost UK energy security, reduce dependence on volatile fossil fuel imports, create more affordable power and grow the economy, with the nuclear industry estimated to generate around £6bn for the UK economy.”\n",
      "{'label': 'x', 'score': 0.9958141446113586}\n",
      "DESNZ added that GBN will play a key role in helping the government hit its ambition to provide up to a quarter of the UK’s electricity from homegrown nuclear energy by 2050.\n",
      "{'label': 'x', 'score': 0.46124711632728577}\n",
      "GBN’s official launch is supported by a competition for organisations to bid for funding support for the development of their nuclear products, including small modular reactors (SMRs).\n",
      "{'label': 'is in', 'score': 0.7382863759994507}\n",
      "Current SMR projects include Rolls-Royce SMR proposals looking at constructing reactors in Oldbury and Berkeley in the south west of England and Balfour Beatty's proposals with Holtec Britain to develop plans for a SMR-160 pressurised light-water reactor somewhere in the UK.\n",
      "{'label': 'is in', 'score': 0.6713840365409851}\n"
     ]
    }
   ],
   "source": [
    "# RE: yseop/distilbert-base-financial-relation-extraction\n",
    "model = 'yseop/distilbert-base-financial-relation-extraction'\n",
    "classifier = pipeline('text-classification', model=model, tokenizer=model)\n",
    "\n",
    "relations = []\n",
    "for paragraph in text:\n",
    "    print(paragraph)\n",
    "\n",
    "    # Relations\n",
    "    relation_result = classifier(paragraph)\n",
    "    for rR in relation_result:\n",
    "        print(rR)\n",
    "        relations.append(rR)\n",
    "\n"
   ]
  }
 ],
 "metadata": {
  "kernelspec": {
   "display_name": "env",
   "language": "python",
   "name": "python3"
  },
  "language_info": {
   "codemirror_mode": {
    "name": "ipython",
    "version": 3
   },
   "file_extension": ".py",
   "mimetype": "text/x-python",
   "name": "python",
   "nbconvert_exporter": "python",
   "pygments_lexer": "ipython3",
   "version": "3.10.13"
  }
 },
 "nbformat": 4,
 "nbformat_minor": 2
}
