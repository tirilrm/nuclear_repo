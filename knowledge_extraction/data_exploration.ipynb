{
 "cells": [
  {
   "cell_type": "code",
   "execution_count": 6,
   "metadata": {},
   "outputs": [
    {
     "name": "stdout",
     "output_type": "stream",
     "text": [
      "DatasetDict({\n",
      "    validation: Dataset({\n",
      "        features: ['title', 'sents', 'vertexSet', 'labels'],\n",
      "        num_rows: 998\n",
      "    })\n",
      "    test: Dataset({\n",
      "        features: ['title', 'sents', 'vertexSet', 'labels'],\n",
      "        num_rows: 1000\n",
      "    })\n",
      "    train_annotated: Dataset({\n",
      "        features: ['title', 'sents', 'vertexSet', 'labels'],\n",
      "        num_rows: 3053\n",
      "    })\n",
      "    train_distant: Dataset({\n",
      "        features: ['title', 'sents', 'vertexSet', 'labels'],\n",
      "        num_rows: 101873\n",
      "    })\n",
      "})\n"
     ]
    }
   ],
   "source": [
    "from datasets import load_dataset\n",
    "dataset = load_dataset('docred', trust_remote_code=True)\n",
    "print(dataset)"
   ]
  },
  {
   "cell_type": "code",
   "execution_count": 7,
   "metadata": {},
   "outputs": [
    {
     "name": "stdout",
     "output_type": "stream",
     "text": [
      "12212\n"
     ]
    }
   ],
   "source": [
    "import pandas as pd\n",
    "from ipydatagrid import DataGrid\n",
    "import itertools\n",
    "\n",
    "ds = pd.DataFrame(dataset['train_annotated'])\n",
    "\n",
    "grid = DataGrid(ds)\n",
    "#grid"
   ]
  },
  {
   "cell_type": "code",
   "execution_count": 11,
   "metadata": {},
   "outputs": [
    {
     "name": "stdout",
     "output_type": "stream",
     "text": [
      "                                            title  \\\n",
      "0                       Worker-Peasant Red Guards   \n",
      "1                       Jewish art music movement   \n",
      "2       Norwalk-La Mirada Unified School District   \n",
      "3                                  Chunibala Devi   \n",
      "4                                 Ouane Rattikone   \n",
      "...                                           ...   \n",
      "101868                           Last Flag Flying   \n",
      "101869                               Hillman Minx   \n",
      "101870                               Knute Nelson   \n",
      "101871           Who Do You Think You Are? (book)   \n",
      "101872                           Neal Lane Bridge   \n",
      "\n",
      "                                                    sents  \\\n",
      "0       [[The, Worker, -, Peasant, Red, Guards, (, WPR...   \n",
      "1       [[The, Jewish, art, music, movement, began, at...   \n",
      "2       [[The, Norwalk, -, La, Mirada, Unified, School...   \n",
      "3       [[Chunibala, Devi, ,, born, circ, .], [1875, —...   \n",
      "4       [[Major, -, General, Ouane, Rattikone, (, Ouan...   \n",
      "...                                                   ...   \n",
      "101868  [[Last, Flag, Flying, is, a, 2017, American, c...   \n",
      "101869  [[The, Hillman, Minx, was, a, mid, -, sized, f...   \n",
      "101870  [[Knute, Nelson, (, born, Knud, Evanger, ;, Fe...   \n",
      "101871  [[Who, Do, You, Think, You, Are, ?], [is, a, b...   \n",
      "101872  [[Neal, Lane, Bridge, is, a, covered, bridge, ...   \n",
      "\n",
      "                                                vertexSet  \\\n",
      "0       [[{'name': 'Worker-Peasant Red Guards', 'sent_...   \n",
      "1       [[{'name': 'Jewish', 'sent_id': 0, 'pos': [1, ...   \n",
      "2       [[{'name': 'Norwalk-La Mirada Unified School D...   \n",
      "3       [[{'name': 'Chunibala Devi', 'sent_id': 0, 'po...   \n",
      "4       [[{'name': 'Ouane Rattikone', 'sent_id': 0, 'p...   \n",
      "...                                                   ...   \n",
      "101868  [[{'name': 'Last Flag Flying', 'sent_id': 0, '...   \n",
      "101869  [[{'name': 'Hillman Minx', 'sent_id': 0, 'pos'...   \n",
      "101870  [[{'name': 'Knute Nelson', 'sent_id': 0, 'pos'...   \n",
      "101871  [[{'name': 'Who Do You Think You Are', 'sent_i...   \n",
      "101872  [[{'name': 'Neal Lane Bridge', 'sent_id': 0, '...   \n",
      "\n",
      "                                                   labels  \n",
      "0       {'head': [4, 6, 6, 7, 7, 7, 9, 9, 11, 11, 11],...  \n",
      "1       {'head': [2, 2, 2, 6, 6, 6, 6, 7, 7, 7, 8, 14,...  \n",
      "2       {'head': [0, 0, 1, 1, 2, 2, 2, 3, 4, 4, 5, 5, ...  \n",
      "3       {'head': [0, 0, 3, 5, 5, 5, 5, 6, 6, 6, 6, 6, ...  \n",
      "4       {'head': [0, 0, 0, 0, 2, 3, 3, 7, 7, 10, 10, 1...  \n",
      "...                                                   ...  \n",
      "101868  {'head': [0, 0, 0, 0, 0, 0, 3, 5, 7, 8, 9, 10,...  \n",
      "101869  {'head': [2, 2, 6, 6, 7, 7, 7, 12, 12, 15, 17,...  \n",
      "101870  {'head': [0, 0, 0, 6, 8, 8, 9, 9, 10, 13, 16],...  \n",
      "101871  {'head': [1, 1, 8, 8, 8], 'tail': [3, 7, 1, 4,...  \n",
      "101872  {'head': [0, 0, 0, 1, 1, 2, 3, 3, 3, 6, 7, 8, ...  \n",
      "\n",
      "[101873 rows x 4 columns]\n"
     ]
    }
   ],
   "source": [
    "ds = pd.DataFrame(dataset['train_distant'])\n",
    "print(ds)"
   ]
  },
  {
   "cell_type": "code",
   "execution_count": 12,
   "metadata": {},
   "outputs": [
    {
     "name": "stdout",
     "output_type": "stream",
     "text": [
      "title                                Worker-Peasant Red Guards\n",
      "sents        [[The, Worker, -, Peasant, Red, Guards, (, WPR...\n",
      "vertexSet    [[{'name': 'Worker-Peasant Red Guards', 'sent_...\n",
      "labels       {'head': [4, 6, 6, 7, 7, 7, 9, 9, 11, 11, 11],...\n",
      "Name: 0, dtype: object\n"
     ]
    }
   ],
   "source": [
    "print(ds.iloc[0])"
   ]
  },
  {
   "cell_type": "code",
   "execution_count": 13,
   "metadata": {},
   "outputs": [],
   "source": [
    "def get_info(docred_instance):\n",
    "    title = docred_instance['title']\n",
    "\n",
    "    flattened_sents = [' '.join(sublist) for sublist in docred_instance['sents']]\n",
    "    text = '\\n'.join(flattened_sents)\n",
    "\n",
    "    nested_entities = docred_instance['vertexSet']\n",
    "    entities = list(itertools.chain(*nested_entities))\n",
    "    \n",
    "    head = docred_instance['labels']['head']\n",
    "    tail = docred_instance['labels']['tail']\n",
    "    r_id = docred_instance['labels']['relation_id']\n",
    "    r_text = docred_instance['labels']['relation_text']\n",
    "    evidence = docred_instance['labels']['evidence']\n",
    "\n",
    "    return title, text, entities, head, tail, r_id, r_text, evidence"
   ]
  },
  {
   "cell_type": "code",
   "execution_count": 14,
   "metadata": {},
   "outputs": [],
   "source": [
    "from transformers import AutoTokenizer, pipeline\n",
    "\n",
    "model_name = 'dslim/distilbert-NER'\n",
    "tokenizer = AutoTokenizer.from_pretrained(model_name)\n",
    "ner_pipeline = pipeline('ner', model=model_name, tokenizer=tokenizer)"
   ]
  },
  {
   "cell_type": "code",
   "execution_count": 16,
   "metadata": {},
   "outputs": [
    {
     "name": "stdout",
     "output_type": "stream",
     "text": [
      "Lakshmana ( , IAST : lakṣmaṇa , lit .\n",
      "he who has the signs of fortune ) , also spelled as Laxman or Lakhan , is the younger brother of Rama and his aide in the Hindu epic , the Ramayana .\n",
      "He is also known by other names- Saumitra ( , IAST : saumitra , lit .\n",
      "son of Sumitra ) , Ramanuja ( , IAST : rāmānuja , lit .\n",
      "younger brother of Rama ) and Bharatanuja ( , IAST : bharatānuja , lit .\n",
      "younger brother of Bharata ) or Laxman .\n",
      "Lakshmana is the twin brother of Shatrughna .\n",
      "According to the Valmiki Ramayana , Lakshmana is one quarter ( 25 % ) component of the manifestation of Lord Vishnu and is considered to be an avatar of Vishnu .\n",
      "However some puranas of later times regard him as the avatar of Shesha , the thousand - headed serpent associated with Lord Vishnu , the supreme deity in Hinduism .\n",
      "ORIGINAL:\n",
      "{'name': 'Lakshmana', 'sent_id': 0, 'pos': [0, 1], 'type': 'MISC'}\n",
      "{'name': 'Laxman', 'sent_id': 1, 'pos': [12, 13], 'type': 'PER'}\n",
      "{'name': 'Laxman', 'sent_id': 5, 'pos': [6, 7], 'type': 'PER'}\n",
      "{'name': 'Lakshmana', 'sent_id': 6, 'pos': [0, 1], 'type': 'PER'}\n",
      "{'name': 'Lakshmana', 'sent_id': 7, 'pos': [6, 7], 'type': 'MISC'}\n",
      "{'name': 'IAST', 'sent_id': 0, 'pos': [3, 4], 'type': 'MISC'}\n",
      "{'name': 'IAST', 'sent_id': 2, 'pos': [10, 11], 'type': 'MISC'}\n",
      "{'name': 'IAST', 'sent_id': 3, 'pos': [8, 9], 'type': 'MISC'}\n",
      "{'name': 'IAST', 'sent_id': 4, 'pos': [9, 10], 'type': 'MISC'}\n",
      "{'name': 'Lakhan', 'sent_id': 1, 'pos': [14, 15], 'type': 'PER'}\n",
      "{'name': 'Rama', 'sent_id': 1, 'pos': [21, 22], 'type': 'PER'}\n",
      "{'name': 'Ramanuja', 'sent_id': 3, 'pos': [5, 6], 'type': 'PER'}\n",
      "{'name': 'Rama', 'sent_id': 4, 'pos': [3, 4], 'type': 'PER'}\n",
      "{'name': 'Hindu', 'sent_id': 1, 'pos': [27, 28], 'type': 'ORG'}\n",
      "{'name': 'Hinduism', 'sent_id': 8, 'pos': [28, 29], 'type': 'ORG'}\n",
      "{'name': 'Ramayana', 'sent_id': 1, 'pos': [31, 32], 'type': 'MISC'}\n",
      "{'name': 'Valmiki Ramayana', 'sent_id': 7, 'pos': [3, 5], 'type': 'MISC'}\n",
      "{'name': 'Saumitra', 'sent_id': 2, 'pos': [7, 8], 'type': 'MISC'}\n",
      "{'name': 'Sumitra', 'sent_id': 3, 'pos': [2, 3], 'type': 'MISC'}\n",
      "{'name': 'Bharatanuja', 'sent_id': 4, 'pos': [6, 7], 'type': 'PER'}\n",
      "{'name': 'Bharata', 'sent_id': 5, 'pos': [3, 4], 'type': 'PER'}\n",
      "{'name': 'Shatrughna', 'sent_id': 6, 'pos': [6, 7], 'type': 'PER'}\n",
      "{'name': '25%', 'sent_id': 7, 'pos': [11, 13], 'type': 'NUM'}\n",
      "{'name': 'Vishnu', 'sent_id': 7, 'pos': [20, 21], 'type': 'PER'}\n",
      "{'name': 'Vishnu', 'sent_id': 7, 'pos': [29, 30], 'type': 'PER'}\n",
      "{'name': 'Vishnu', 'sent_id': 8, 'pos': [22, 23], 'type': 'PER'}\n",
      "{'name': 'Shesha', 'sent_id': 8, 'pos': [12, 13], 'type': 'PER'}\n",
      "DISTILBERT:\n",
      "{'entity': 'PER', 'score': 0.9915308, 'start': 0, 'end': 9, 'word': 'Lakshmana'}\n",
      "{'entity': 'PER', 'score': 0.42177922, 'start': 24, 'end': 28, 'word': '##ṣmaṇ'}\n",
      "{'entity': 'PER', 'score': 0.984962, 'start': 90, 'end': 96, 'word': 'Laxman'}\n",
      "{'entity': 'PER', 'score': 0.87379205, 'start': 100, 'end': 106, 'word': 'Lakhan'}\n",
      "{'entity': 'PER', 'score': 0.99570894, 'start': 135, 'end': 139, 'word': 'Rama'}\n",
      "{'entity': 'MISC', 'score': 0.9913123, 'start': 160, 'end': 165, 'word': 'Hindu'}\n",
      "{'entity': 'MISC', 'score': 0.62733984, 'start': 177, 'end': 185, 'word': 'Ramayana'}\n",
      "{'entity': 'PER', 'score': 0.99456894, 'start': 221, 'end': 229, 'word': 'Saumitra'}\n",
      "{'entity': 'PER', 'score': 0.46819425, 'start': 246, 'end': 249, 'word': '##tra'}\n",
      "{'entity': 'PER', 'score': 0.9975425, 'start': 265, 'end': 272, 'word': 'Sumitra'}\n",
      "{'entity': 'PER', 'score': 0.9973568, 'start': 277, 'end': 285, 'word': 'Ramanuja'}\n",
      "{'entity': 'PER', 'score': 0.78715587, 'start': 297, 'end': 305, 'word': 'rāmānuja'}\n",
      "{'entity': 'PER', 'score': 0.99331576, 'start': 333, 'end': 337, 'word': 'Rama'}\n",
      "{'entity': 'PER', 'score': 0.99377656, 'start': 344, 'end': 355, 'word': 'Bharatanuja'}\n",
      "{'entity': 'PER', 'score': 0.57673395, 'start': 368, 'end': 378, 'word': '##haratānuja'}\n",
      "{'entity': 'PER', 'score': 0.99496776, 'start': 406, 'end': 413, 'word': 'Bharata'}\n",
      "{'entity': 'PER', 'score': 0.98638016, 'start': 419, 'end': 425, 'word': 'Laxman'}\n",
      "{'entity': 'PER', 'score': 0.9792082, 'start': 428, 'end': 437, 'word': 'Lakshmana'}\n",
      "{'entity': 'PER', 'score': 0.9979165, 'start': 461, 'end': 471, 'word': 'Shatrughna'}\n",
      "{'entity': 'MISC', 'score': 0.9394789, 'start': 491, 'end': 507, 'word': 'Valmiki Ramayana'}\n",
      "{'entity': 'PER', 'score': 0.79420125, 'start': 510, 'end': 519, 'word': 'Lakshmana'}\n",
      "{'entity': 'PER', 'score': 0.31856886, 'start': 583, 'end': 589, 'word': 'Vishnu'}\n",
      "{'entity': 'PER', 'score': 0.74678993, 'start': 627, 'end': 633, 'word': 'Vishnu'}\n",
      "{'entity': 'PER', 'score': 0.8987343, 'start': 700, 'end': 706, 'word': 'Shesha'}\n",
      "{'entity': 'MISC', 'score': 0.5811406, 'start': 790, 'end': 798, 'word': 'Hinduism'}\n"
     ]
    }
   ],
   "source": [
    "import importlib\n",
    "import _NER\n",
    "importlib.reload(_NER)\n",
    "from _NER import merge_result, combine_entities\n",
    "\n",
    "title, text, original_entities, _, _, _, _, _ = get_info(ds.iloc[9])\n",
    "\n",
    "print(text)\n",
    "\n",
    "result = ner_pipeline(text)\n",
    "merged_result = merge_result(result, model_name)\n",
    "distilbert_entities = combine_entities(merged_result)\n",
    "\n",
    "print('ORIGINAL:')\n",
    "for e in original_entities:\n",
    "    print(e)\n",
    "    #pass\n",
    "\n",
    "print('DISTILBERT:')\n",
    "for e in distilbert_entities:\n",
    "    print(e)"
   ]
  }
 ],
 "metadata": {
  "kernelspec": {
   "display_name": "env",
   "language": "python",
   "name": "python3"
  },
  "language_info": {
   "codemirror_mode": {
    "name": "ipython",
    "version": 3
   },
   "file_extension": ".py",
   "mimetype": "text/x-python",
   "name": "python",
   "nbconvert_exporter": "python",
   "pygments_lexer": "ipython3",
   "version": "3.10.13"
  }
 },
 "nbformat": 4,
 "nbformat_minor": 2
}
