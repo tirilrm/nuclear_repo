{
 "cells": [
  {
   "cell_type": "code",
   "execution_count": 10,
   "metadata": {},
   "outputs": [
    {
     "name": "stdout",
     "output_type": "stream",
     "text": [
      "The US Department of Energy, he said, is studying ways to bail out nuclear (and coal) facilities, including potentially by mandating grid operators to purchase power from them.\n",
      "Supporters say it’s a sensible move because the nation’s power grid cannot rely solely on natural gas, wind, and solar. Opponents of the nuclear industry say nuclear power that was once advertised as being “too cheap to meter” has become too costly for electric utilities to buy. \n",
      "The US has the largest number of nuclear plants in the world – 99 in commercial operation providing 20% of its electricity generation – but its industry leadership is declining as efforts to build a new generation of reactors have been plagued by problems, and ageing plants have been retired or closed in the face of economic, market, and financial pressures.\n",
      "The situation, exacerbated by robust competition in the new-build sector from China and Russia, has seen the nuclear industry and its supporters call on the government to enact legislation that would support the continued operation of nuclear plants.\n",
      "But the main reason behind nuclear’s problems in the US, says Dr J. Winston Porter, a national energy and environmental consultant and former assistant administrator at the Environmental Protection Agency, is a shale revolution that has produced a rapid supply of inexpensive and relatively clean natural gas. \n",
      "“Because of this we are becoming increasingly dependent on it for most electricity production,” he said. “Consequently, we risk losing the energy diversity that has long served as a bulwark of the US energy system. \n",
      "“The problem may be an eventual lack of robust competition. One can even ask, ‘What will be the cost of natural gas when it is our only major source of electric power?’”\n"
     ]
    }
   ],
   "source": [
    "import pandas as pd\n",
    "import random\n",
    "import sys\n",
    "from transformers import AutoTokenizer, pipeline\n",
    "from collections import Counter\n",
    "import time\n",
    "\n",
    "articles = pd.read_json('../scraping/articles/all_articles.json')\n",
    "text = articles['text'][666][1:8]\n",
    "print('\\n'.join(text))"
   ]
  },
  {
   "cell_type": "code",
   "execution_count": 11,
   "metadata": {},
   "outputs": [],
   "source": [
    "text = \"\"\"\n",
    "Citing high fuel prices, United Airlines said Friday it has increased fares by $6 per round trip on flights to some cities also served by lower-cost carriers. American Airlines, a unit of AMR, immediately matched the move, spokesman Tim Wagner said. United, a unit of UAL, said the increase took effect Thursday night and applies to most routes where it competes against discount carriers, such as Chicago to Dallas and Atlanta and Denver to San Francisco, Los Angeles and New York.\n",
    "\"\"\"\n",
    "text = [text]"
   ]
  },
  {
   "cell_type": "code",
   "execution_count": 12,
   "metadata": {},
   "outputs": [
    {
     "name": "stdout",
     "output_type": "stream",
     "text": [
      "\n",
      "Citing high fuel prices, United Airlines said Friday it has increased fares by $6 per round trip on flights to some cities also served by lower-cost carriers. American Airlines, a unit of AMR, immediately matched the move, spokesman Tim Wagner said. United, a unit of UAL, said the increase took effect Thursday night and applies to most routes where it competes against discount carriers, such as Chicago to Dallas and Atlanta and Denver to San Francisco, Los Angeles and New York.\n",
      "\n",
      "{'entity': 'B-ORG', 'score': 0.9983473, 'index': 7, 'word': 'United', 'start': 26, 'end': 32}\n",
      "{'entity': 'I-ORG', 'score': 0.9981199, 'index': 8, 'word': 'Airlines', 'start': 33, 'end': 41}\n",
      "{'entity': 'B-ORG', 'score': 0.9987262, 'index': 35, 'word': 'American', 'start': 160, 'end': 168}\n",
      "{'entity': 'I-ORG', 'score': 0.99801755, 'index': 36, 'word': 'Airlines', 'start': 169, 'end': 177}\n",
      "{'entity': 'B-ORG', 'score': 0.9986008, 'index': 41, 'word': 'AMR', 'start': 189, 'end': 192}\n",
      "{'entity': 'B-PER', 'score': 0.99657285, 'index': 50, 'word': 'Tim', 'start': 234, 'end': 237}\n",
      "{'entity': 'I-PER', 'score': 0.99880743, 'index': 51, 'word': 'Wagner', 'start': 238, 'end': 244}\n",
      "{'entity': 'B-ORG', 'score': 0.9979528, 'index': 54, 'word': 'United', 'start': 251, 'end': 257}\n",
      "{'entity': 'B-ORG', 'score': 0.9976178, 'index': 59, 'word': 'UAL', 'start': 269, 'end': 272}\n",
      "{'entity': 'B-LOC', 'score': 0.85222375, 'index': 83, 'word': 'Chicago', 'start': 399, 'end': 406}\n",
      "{'entity': 'B-LOC', 'score': 0.9957625, 'index': 85, 'word': 'Dallas', 'start': 410, 'end': 416}\n",
      "{'entity': 'B-LOC', 'score': 0.99446845, 'index': 87, 'word': 'Atlanta', 'start': 421, 'end': 428}\n",
      "{'entity': 'B-LOC', 'score': 0.9905614, 'index': 89, 'word': 'Denver', 'start': 433, 'end': 439}\n",
      "{'entity': 'B-LOC', 'score': 0.9970289, 'index': 91, 'word': 'San', 'start': 443, 'end': 446}\n",
      "{'entity': 'I-LOC', 'score': 0.99681854, 'index': 92, 'word': 'Francisco', 'start': 447, 'end': 456}\n",
      "{'entity': 'B-LOC', 'score': 0.9959436, 'index': 94, 'word': 'Los', 'start': 458, 'end': 461}\n",
      "{'entity': 'I-LOC', 'score': 0.9956317, 'index': 95, 'word': 'Angeles', 'start': 462, 'end': 469}\n",
      "{'entity': 'B-LOC', 'score': 0.99675363, 'index': 97, 'word': 'New', 'start': 474, 'end': 477}\n",
      "{'entity': 'I-LOC', 'score': 0.99507093, 'index': 98, 'word': 'York', 'start': 478, 'end': 482}\n",
      "Time: 0.012165 minutes\n"
     ]
    }
   ],
   "source": [
    "# For entity extraction\n",
    "start = time.time()\n",
    "model = \"dslim/distilbert-NER\"\n",
    "tokenizer = AutoTokenizer.from_pretrained(model)\n",
    "ner_pipeline = pipeline('ner', model=model, tokenizer=tokenizer)\n",
    "\n",
    "# NOTE: with current process, entities' start and end indices are reset for each new paragraph\n",
    "import importlib\n",
    "import _NER\n",
    "importlib.reload(_NER)\n",
    "from _NER import merge_result\n",
    "\n",
    "entities = []\n",
    "\n",
    "for paragraph in text:\n",
    "    print(paragraph)\n",
    "\n",
    "    # Entities\n",
    "    entity_result = ner_pipeline(paragraph)\n",
    "    merged_result = merge_result(entity_result, \"dslim/distilbert-NER\")\n",
    "    for eR in merged_result:\n",
    "        print(eR)\n",
    "        entities.append(eR)\n",
    "\n",
    "print(f'Time: {(time.time()-start)/60:>2f} minutes')"
   ]
  },
  {
   "cell_type": "code",
   "execution_count": 13,
   "metadata": {},
   "outputs": [
    {
     "name": "stdout",
     "output_type": "stream",
     "text": [
      "\n",
      "Citing high fuel prices, United Airlines said Friday it has increased fares by $6 per round trip on flights to some cities also served by lower-cost carriers. American Airlines, a unit of AMR, immediately matched the move, spokesman Tim Wagner said. United, a unit of UAL, said the increase took effect Thursday night and applies to most routes where it competes against discount carriers, such as Chicago to Dallas and Atlanta and Denver to San Francisco, Los Angeles and New York.\n",
      "\n",
      "{'head': 'American Airlines', 'type': 'parent organization', 'tail': 'AMR'}\n",
      "{'head': 'AMR', 'type': 'subsidiary', 'tail': 'American Airlines'}\n",
      "Time: 0.130373 minutes\n"
     ]
    }
   ],
   "source": [
    "# RE: REBEL-large\n",
    "from transformers import pipeline\n",
    "start = time.time()\n",
    "model = 'Babelscape/rebel-large'\n",
    "triplet_extractor = pipeline('text2text-generation', model=model, tokenizer=model)\n",
    "\n",
    "# CODE FROM DOCUMENTATION\n",
    "def extract_triplets(text):\n",
    "    triplets = []\n",
    "    relation, subject, relation, object_ = '', '', '', ''\n",
    "    text = text.strip()\n",
    "    current = 'x'\n",
    "    for token in text.replace(\"<s>\", \"\").replace(\"<pad>\", \"\").replace(\"</s>\", \"\").split():\n",
    "        if token == \"<triplet>\":\n",
    "            current = 't'\n",
    "            if relation != '':\n",
    "                triplets.append({'head': subject.strip(), 'type': relation.strip(),'tail': object_.strip()})\n",
    "                relation = ''\n",
    "            subject = ''\n",
    "        elif token == \"<subj>\":\n",
    "            current = 's'\n",
    "            if relation != '':\n",
    "                triplets.append({'head': subject.strip(), 'type': relation.strip(),'tail': object_.strip()})\n",
    "            object_ = ''\n",
    "        elif token == \"<obj>\":\n",
    "            current = 'o'\n",
    "            relation = ''\n",
    "        else:\n",
    "            if current == 't':\n",
    "                subject += ' ' + token\n",
    "            elif current == 's':\n",
    "                object_ += ' ' + token\n",
    "            elif current == 'o':\n",
    "                relation += ' ' + token\n",
    "    if subject != '' and relation != '' and object_ != '':\n",
    "        triplets.append({'head': subject.strip(), 'type': relation.strip(),'tail': object_.strip()})\n",
    "    return triplets\n",
    "\n",
    "relations = []\n",
    "for paragraph in text:\n",
    "    print(paragraph)\n",
    "\n",
    "    # Relations\n",
    "    extracted_text = triplet_extractor.tokenizer.batch_decode([triplet_extractor(\n",
    "        paragraph, \n",
    "        return_tensors=True, \n",
    "        return_text=False)[0][\"generated_token_ids\"]])\n",
    "    relation_result = extract_triplets(extracted_text[0])\n",
    "    for rR in relation_result:\n",
    "        print(rR)\n",
    "        relations.append(rR)\n",
    "\n",
    "print(f'Time: {(time.time()-start)/60:>2f} minutes')"
   ]
  },
  {
   "cell_type": "code",
   "execution_count": 14,
   "metadata": {},
   "outputs": [
    {
     "name": "stdout",
     "output_type": "stream",
     "text": [
      "\n",
      "Citing high fuel prices, United Airlines said Friday it has increased fares by $6 per round trip on flights to some cities also served by lower-cost carriers. American Airlines, a unit of AMR, immediately matched the move, spokesman Tim Wagner said. United, a unit of UAL, said the increase took effect Thursday night and applies to most routes where it competes against discount carriers, such as Chicago to Dallas and Atlanta and Denver to San Francisco, Los Angeles and New York.\n",
      "\n",
      "{'head': 'American Airlines', 'head_type': 'org', 'type': 'business division', 'tail': 'AMR', 'tail_type': 'org'}\n",
      "Time: 0.252326 minutes\n"
     ]
    }
   ],
   "source": [
    "# RE: mREBEL Large\n",
    "from transformers import pipeline\n",
    "start = time.time()\n",
    "\n",
    "triplet_extractor = pipeline('translation_xx_to_yy', model='Babelscape/mrebel-large', tokenizer='Babelscape/mrebel-large')\n",
    "\n",
    "# Function to parse the generated text and extract the triplets\n",
    "def extract_triplets_typed(text):\n",
    "\n",
    "    triplets = []\n",
    "    relation = ''\n",
    "    text = text.strip()\n",
    "    current = 'x'\n",
    "    subject, relation, object_, object_type, subject_type = '','','','',''\n",
    "\n",
    "    for token in text.replace(\"<s>\", \"\").replace(\"<pad>\", \"\").replace(\"</s>\", \"\").replace(\"tp_XX\", \"\").replace(\"__en__\", \"\").split():\n",
    "        if token == \"<triplet>\" or token == \"<relation>\":\n",
    "            current = 't'\n",
    "            if relation != '':\n",
    "                triplets.append({'head': subject.strip(), 'head_type': subject_type, 'type': relation.strip(),'tail': object_.strip(), 'tail_type': object_type})\n",
    "                relation = ''\n",
    "            subject = ''\n",
    "        elif token.startswith(\"<\") and token.endswith(\">\"):\n",
    "            if current == 't' or current == 'o':\n",
    "                current = 's'\n",
    "                if relation != '':\n",
    "                    triplets.append({'head': subject.strip(), 'head_type': subject_type, 'type': relation.strip(),'tail': object_.strip(), 'tail_type': object_type})\n",
    "                object_ = ''\n",
    "                subject_type = token[1:-1]\n",
    "            else:\n",
    "                current = 'o'\n",
    "                object_type = token[1:-1]\n",
    "                relation = ''\n",
    "        else:\n",
    "            if current == 't':\n",
    "                subject += ' ' + token\n",
    "            elif current == 's':\n",
    "                object_ += ' ' + token\n",
    "            elif current == 'o':\n",
    "                relation += ' ' + token\n",
    "    if subject != '' and relation != '' and object_ != '' and object_type != '' and subject_type != '':\n",
    "        triplets.append({'head': subject.strip(), 'head_type': subject_type, 'type': relation.strip(),'tail': object_.strip(), 'tail_type': object_type})\n",
    "    return triplets\n",
    "\n",
    "for paragraph in text:\n",
    "    print(paragraph)\n",
    "    extracted_text = triplet_extractor.tokenizer.batch_decode([triplet_extractor(\n",
    "        paragraph, \n",
    "        decoder_start_token_id=250058, \n",
    "        src_lang=\"en_XX\", tgt_lang=\"<triplet>\",\n",
    "        return_tensors=True, return_text=False)[0][\"translation_token_ids\"]]) # change en_XX for the language of the source.\n",
    "    relation_result = extract_triplets_typed(extracted_text[0])\n",
    "    for rR in relation_result:\n",
    "        print(rR)\n",
    "        relations.append(rR)\n",
    "\n",
    "print(f'Time: {(time.time()-start)/60:>2f} minutes')"
   ]
  },
  {
   "cell_type": "code",
   "execution_count": 15,
   "metadata": {},
   "outputs": [
    {
     "name": "stdout",
     "output_type": "stream",
     "text": [
      "\n",
      "Citing high fuel prices, United Airlines said Friday it has increased fares by $6 per round trip on flights to some cities also served by lower-cost carriers. American Airlines, a unit of AMR, immediately matched the move, spokesman Tim Wagner said. United, a unit of UAL, said the increase took effect Thursday night and applies to most routes where it competes against discount carriers, such as Chicago to Dallas and Atlanta and Denver to San Francisco, Los Angeles and New York.\n",
      "\n",
      "{'generated_text': '[(American Airlines#American Airlines#business)|parent organization|(AMR#American Airlines#business)]'}\n",
      "Time: 0.133522 minutes\n"
     ]
    }
   ],
   "source": [
    "# RE: KnowGL\n",
    "from transformers import AutoTokenizer, pipeline\n",
    "start = time.time()\n",
    "\n",
    "model = 'ibm/knowgl-large'\n",
    "classifier = pipeline('text2text-generation', model=model, tokenizer=model)\n",
    "\n",
    "relations = []\n",
    "for paragraph in text:\n",
    "    print(paragraph)\n",
    "\n",
    "    # Relations\n",
    "    relation_result = classifier(paragraph)\n",
    "    for rR in relation_result:\n",
    "        print(rR)\n",
    "        relations.append(rR)\n",
    "\n",
    "print(f'Time: {(time.time()-start)/60:>2f} minutes')\n"
   ]
  },
  {
   "cell_type": "code",
   "execution_count": 16,
   "metadata": {},
   "outputs": [
    {
     "name": "stdout",
     "output_type": "stream",
     "text": [
      "\n",
      "Citing high fuel prices, United Airlines said Friday it has increased fares by $6 per round trip on flights to some cities also served by lower-cost carriers. American Airlines, a unit of AMR, immediately matched the move, spokesman Tim Wagner said. United, a unit of UAL, said the increase took effect Thursday night and applies to most routes where it competes against discount carriers, such as Chicago to Dallas and Atlanta and Denver to San Francisco, Los Angeles and New York.\n",
      "\n",
      "{'label': 'is in', 'score': 0.9808366298675537}\n",
      "Time: 0.013802 minutes\n"
     ]
    }
   ],
   "source": [
    "# RE: yseop/distilbert-base-financial-relation-extraction\n",
    "start = time.time()\n",
    "\n",
    "model = 'yseop/distilbert-base-financial-relation-extraction'\n",
    "classifier = pipeline('text-classification', model=model, tokenizer=model)\n",
    "\n",
    "relations = []\n",
    "for paragraph in text:\n",
    "    print(paragraph)\n",
    "\n",
    "    # Relations\n",
    "    relation_result = classifier(paragraph)\n",
    "    for rR in relation_result:\n",
    "        print(rR)\n",
    "        relations.append(rR)\n",
    "\n",
    "print(f'Time: {(time.time()-start)/60:>2f} minutes')"
   ]
  }
 ],
 "metadata": {
  "kernelspec": {
   "display_name": "env",
   "language": "python",
   "name": "python3"
  },
  "language_info": {
   "codemirror_mode": {
    "name": "ipython",
    "version": 3
   },
   "file_extension": ".py",
   "mimetype": "text/x-python",
   "name": "python",
   "nbconvert_exporter": "python",
   "pygments_lexer": "ipython3",
   "version": "3.10.13"
  }
 },
 "nbformat": 4,
 "nbformat_minor": 2
}
