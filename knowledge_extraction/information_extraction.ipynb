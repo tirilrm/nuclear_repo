{
 "cells": [
  {
   "cell_type": "code",
   "execution_count": 1,
   "metadata": {},
   "outputs": [],
   "source": [
    "import pandas as pd\n",
    "import random\n",
    "import sys\n",
    "from transformers import AutoTokenizer, pipeline\n",
    "from collections import Counter\n",
    "\n",
    "articles = pd.read_json('../scraping/articles/all_articles.json')\n",
    "text = articles['text'][45]\n",
    "text = articles['text'][45][1:6]"
   ]
  },
  {
   "cell_type": "code",
   "execution_count": 4,
   "metadata": {},
   "outputs": [
    {
     "name": "stdout",
     "output_type": "stream",
     "text": [
      "Serbia needs to start work on ending its moratorium on nuclear energy as it faces rising electricity consumption which can only be tackled by the construction of large and small nuclear power plants, president Aleksandar Vucic said.\n",
      "Vucic called for work to start on changing regulations related to new nuclear plants and to end the moratorium, which has been in force since 1989.\n",
      "“I just want you to know that by 2050 we will be consuming four times more electricity than today,” Vucic was quoted as saying at a government session on 4 April.\n",
      "“No matter what we do, no matter how we do it, we don’t stand a chance if we don’t start addressing that problem quickly. \n",
      "“And solving that problem is only possible by building large and small nuclear power plants,” Vucic said, according to local press reports.\n"
     ]
    }
   ],
   "source": [
    "print('\\n'.join(text))"
   ]
  },
  {
   "cell_type": "code",
   "execution_count": 2,
   "metadata": {},
   "outputs": [
    {
     "name": "stdout",
     "output_type": "stream",
     "text": [
      "Serbia needs to start work on ending its moratorium on nuclear energy as it faces rising electricity consumption which can only be tackled by the construction of large and small nuclear power plants, president Aleksandar Vucic said.\n",
      "{'entity': 'B-LOC', 'score': 0.9984308, 'index': 1, 'word': 'Serbia', 'start': 0, 'end': 6}\n",
      "{'entity': 'B-PER', 'score': 0.9984567, 'index': 40, 'word': 'Aleksandar', 'start': 210, 'end': 220}\n",
      "{'entity': 'I-PER', 'score': 0.9981225, 'index': 44, 'word': 'Vucic', 'start': 221, 'end': 226}\n",
      "Vucic called for work to start on changing regulations related to new nuclear plants and to end the moratorium, which has been in force since 1989.\n",
      "{'entity': 'B-PER', 'score': 0.99865854, 'index': 1, 'word': 'Vucic', 'start': 0, 'end': 5}\n",
      "“I just want you to know that by 2050 we will be consuming four times more electricity than today,” Vucic was quoted as saying at a government session on 4 April.\n",
      "{'entity': 'B-PER', 'score': 0.9970306, 'index': 24, 'word': 'Vucic', 'start': 100, 'end': 105}\n",
      "“No matter what we do, no matter how we do it, we don’t stand a chance if we don’t start addressing that problem quickly. \n",
      "“And solving that problem is only possible by building large and small nuclear power plants,” Vucic said, according to local press reports.\n",
      "{'entity': 'B-PER', 'score': 0.9985879, 'index': 19, 'word': 'Vucic', 'start': 94, 'end': 99}\n"
     ]
    }
   ],
   "source": [
    "# For entity extraction\n",
    "model = \"dslim/distilbert-NER\"\n",
    "tokenizer = AutoTokenizer.from_pretrained(model)\n",
    "ner_pipeline = pipeline('ner', model=model, tokenizer=tokenizer)\n",
    "\n",
    "# NOTE: with current process, entities' start and end indices are reset for each new paragraph\n",
    "import importlib\n",
    "import _NER\n",
    "importlib.reload(_NER)\n",
    "from _NER import merge_result\n",
    "\n",
    "entities = []\n",
    "for paragraph in text:\n",
    "    print(paragraph)\n",
    "\n",
    "    # Entities\n",
    "    entity_result = ner_pipeline(paragraph)\n",
    "    merged_result = merge_result(entity_result, \"dslim/distilbert-NER\")\n",
    "    for eR in merged_result:\n",
    "        print(eR)\n",
    "        entities.append(eR)"
   ]
  },
  {
   "cell_type": "code",
   "execution_count": 3,
   "metadata": {},
   "outputs": [
    {
     "name": "stdout",
     "output_type": "stream",
     "text": [
      "According to DESNZ: “GBN will drive the rapid expansion of new nuclear power plants in the UK at an unprecedented scale and pace.\n",
      "{'head': 'DESNZ', 'type': 'country', 'tail': 'UK'}\n",
      "“This will boost UK energy security, reduce dependence on volatile fossil fuel imports, create more affordable power and grow the economy, with the nuclear industry estimated to generate around £6bn for the UK economy.”\n",
      "{'head': 'nuclear industry', 'type': 'country', 'tail': 'UK'}\n",
      "DESNZ added that GBN will play a key role in helping the government hit its ambition to provide up to a quarter of the UK’s electricity from homegrown nuclear energy by 2050.\n",
      "{'head': 'nuclear energy by 2050', 'type': 'point in time', 'tail': '2050'}\n",
      "GBN’s official launch is supported by a competition for organisations to bid for funding support for the development of their nuclear products, including small modular reactors (SMRs).\n",
      "{'head': 'small modular reactor', 'type': 'subclass of', 'tail': 'nuclear products'}\n",
      "Current SMR projects include Rolls-Royce SMR proposals looking at constructing reactors in Oldbury and Berkeley in the south west of England and Balfour Beatty's proposals with Holtec Britain to develop plans for a SMR-160 pressurised light-water reactor somewhere in the UK.\n",
      "{'head': 'SMR-160', 'type': 'manufacturer', 'tail': 'Holtec Britain'}\n"
     ]
    }
   ],
   "source": [
    "# RE: REBEL-large\n",
    "from transformers import pipeline\n",
    "model = 'Babelscape/rebel-large'\n",
    "\n",
    "triplet_extractor = pipeline('text2text-generation', model=model, tokenizer=model)\n",
    "\n",
    "# CODE FROM DOCUMENTATION\n",
    "def extract_triplets(text):\n",
    "    triplets = []\n",
    "    relation, subject, relation, object_ = '', '', '', ''\n",
    "    text = text.strip()\n",
    "    current = 'x'\n",
    "    for token in text.replace(\"<s>\", \"\").replace(\"<pad>\", \"\").replace(\"</s>\", \"\").split():\n",
    "        if token == \"<triplet>\":\n",
    "            current = 't'\n",
    "            if relation != '':\n",
    "                triplets.append({'head': subject.strip(), 'type': relation.strip(),'tail': object_.strip()})\n",
    "                relation = ''\n",
    "            subject = ''\n",
    "        elif token == \"<subj>\":\n",
    "            current = 's'\n",
    "            if relation != '':\n",
    "                triplets.append({'head': subject.strip(), 'type': relation.strip(),'tail': object_.strip()})\n",
    "            object_ = ''\n",
    "        elif token == \"<obj>\":\n",
    "            current = 'o'\n",
    "            relation = ''\n",
    "        else:\n",
    "            if current == 't':\n",
    "                subject += ' ' + token\n",
    "            elif current == 's':\n",
    "                object_ += ' ' + token\n",
    "            elif current == 'o':\n",
    "                relation += ' ' + token\n",
    "    if subject != '' and relation != '' and object_ != '':\n",
    "        triplets.append({'head': subject.strip(), 'type': relation.strip(),'tail': object_.strip()})\n",
    "    return triplets\n",
    "\n",
    "relations = []\n",
    "for paragraph in text:\n",
    "    print(paragraph)\n",
    "\n",
    "    # Relations\n",
    "    extracted_text = triplet_extractor.tokenizer.batch_decode([triplet_extractor(paragraph, return_tensors=True, return_text=False)[0][\"generated_token_ids\"]])\n",
    "    relation_result = extract_triplets(extracted_text[0])\n",
    "    for rR in relation_result:\n",
    "        print(rR)\n",
    "        relations.append(rR)"
   ]
  },
  {
   "cell_type": "code",
   "execution_count": 6,
   "metadata": {},
   "outputs": [
    {
     "name": "stdout",
     "output_type": "stream",
     "text": [
      "According to DESNZ: “GBN will drive the rapid expansion of new nuclear power plants in the UK at an unprecedented scale and pace.\n",
      "{'generated_text': '[(New Zealand#New Zealand#sovereign state)|member of|(Commonwealth#Commonwealth of Nations#intergovernmental organization)]'}\n",
      "“This will boost UK energy security, reduce dependence on volatile fossil fuel imports, create more affordable power and grow the economy, with the nuclear industry estimated to generate around £6bn for the UK economy.”\n",
      "{'generated_text': '[economy#Economy of the United Kingdom#national economy)|location|(UK#United Kingdom#sovereign state)]'}\n",
      "DESNZ added that GBN will play a key role in helping the government hit its ambition to provide up to a quarter of the UK’s electricity from homegrown nuclear energy by 2050.\n",
      "{'generated_text': '[(UK#United Kingdom#sovereign state)|executive body|(government#Government of the United Kingdom#government)]'}\n",
      "GBN’s official launch is supported by a competition for organisations to bid for funding support for the development of their nuclear products, including small modular reactors (SMRs).\n",
      "{'generated_text': '[(small modular reactor#Small modular reactor#nuclear reactor)|subclass of|(nuclear products#Nuclear reactor#system)]'}\n",
      "Current SMR projects include Rolls-Royce SMR proposals looking at constructing reactors in Oldbury and Berkeley in the south west of England and Balfour Beatty's proposals with Holtec Britain to develop plans for a SMR-160 pressurised light-water reactor somewhere in the UK.\n",
      "{'generated_text': '[(UK#United Kingdom#sovereign state)|contains administrative territorial entity|(England#England#devolved nation within the UK)]'}\n"
     ]
    }
   ],
   "source": [
    "# RE: KnowGL\n",
    "from transformers import AutoTokenizer, pipeline\n",
    "\n",
    "model = 'ibm/knowgl-large'\n",
    "classifier = pipeline('text2text-generation', model=model, tokenizer=model)\n",
    "\n",
    "relations = []\n",
    "for paragraph in text:\n",
    "    print(paragraph)\n",
    "\n",
    "    # Relations\n",
    "    relation_result = classifier(paragraph)\n",
    "    for rR in relation_result:\n",
    "        print(rR)\n",
    "        relations.append(rR)\n"
   ]
  },
  {
   "cell_type": "code",
   "execution_count": 5,
   "metadata": {},
   "outputs": [
    {
     "name": "stdout",
     "output_type": "stream",
     "text": [
      "According to DESNZ: “GBN will drive the rapid expansion of new nuclear power plants in the UK at an unprecedented scale and pace.\n",
      "{'label': 'are', 'score': 0.9930928945541382}\n",
      "“This will boost UK energy security, reduce dependence on volatile fossil fuel imports, create more affordable power and grow the economy, with the nuclear industry estimated to generate around £6bn for the UK economy.”\n",
      "{'label': 'x', 'score': 0.9958141446113586}\n",
      "DESNZ added that GBN will play a key role in helping the government hit its ambition to provide up to a quarter of the UK’s electricity from homegrown nuclear energy by 2050.\n",
      "{'label': 'x', 'score': 0.46124711632728577}\n",
      "GBN’s official launch is supported by a competition for organisations to bid for funding support for the development of their nuclear products, including small modular reactors (SMRs).\n",
      "{'label': 'is in', 'score': 0.7382863759994507}\n",
      "Current SMR projects include Rolls-Royce SMR proposals looking at constructing reactors in Oldbury and Berkeley in the south west of England and Balfour Beatty's proposals with Holtec Britain to develop plans for a SMR-160 pressurised light-water reactor somewhere in the UK.\n",
      "{'label': 'is in', 'score': 0.6713840365409851}\n"
     ]
    }
   ],
   "source": [
    "# RE: yseop/distilbert-base-financial-relation-extraction\n",
    "model = 'yseop/distilbert-base-financial-relation-extraction'\n",
    "classifier = pipeline('text-classification', model=model, tokenizer=model)\n",
    "\n",
    "relations = []\n",
    "for paragraph in text:\n",
    "    print(paragraph)\n",
    "\n",
    "    # Relations\n",
    "    relation_result = classifier(paragraph)\n",
    "    for rR in relation_result:\n",
    "        print(rR)\n",
    "        relations.append(rR)\n",
    "\n"
   ]
  }
 ],
 "metadata": {
  "kernelspec": {
   "display_name": "env",
   "language": "python",
   "name": "python3"
  },
  "language_info": {
   "codemirror_mode": {
    "name": "ipython",
    "version": 3
   },
   "file_extension": ".py",
   "mimetype": "text/x-python",
   "name": "python",
   "nbconvert_exporter": "python",
   "pygments_lexer": "ipython3",
   "version": "3.10.13"
  }
 },
 "nbformat": 4,
 "nbformat_minor": 2
}
