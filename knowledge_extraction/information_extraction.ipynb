{
 "cells": [
  {
   "cell_type": "code",
   "execution_count": 17,
   "metadata": {},
   "outputs": [
    {
     "name": "stdout",
     "output_type": "stream",
     "text": [
      "The US Department of Energy, he said, is studying ways to bail out nuclear (and coal) facilities, including potentially by mandating grid operators to purchase power from them.\n",
      "Supporters say it’s a sensible move because the nation’s power grid cannot rely solely on natural gas, wind, and solar. Opponents of the nuclear industry say nuclear power that was once advertised as being “too cheap to meter” has become too costly for electric utilities to buy. \n",
      "The US has the largest number of nuclear plants in the world – 99 in commercial operation providing 20% of its electricity generation – but its industry leadership is declining as efforts to build a new generation of reactors have been plagued by problems, and ageing plants have been retired or closed in the face of economic, market, and financial pressures.\n",
      "The situation, exacerbated by robust competition in the new-build sector from China and Russia, has seen the nuclear industry and its supporters call on the government to enact legislation that would support the continued operation of nuclear plants.\n",
      "But the main reason behind nuclear’s problems in the US, says Dr J. Winston Porter, a national energy and environmental consultant and former assistant administrator at the Environmental Protection Agency, is a shale revolution that has produced a rapid supply of inexpensive and relatively clean natural gas. \n",
      "“Because of this we are becoming increasingly dependent on it for most electricity production,” he said. “Consequently, we risk losing the energy diversity that has long served as a bulwark of the US energy system. \n",
      "“The problem may be an eventual lack of robust competition. One can even ask, ‘What will be the cost of natural gas when it is our only major source of electric power?’”\n"
     ]
    }
   ],
   "source": [
    "import pandas as pd\n",
    "import random\n",
    "import sys\n",
    "from transformers import AutoTokenizer, pipeline\n",
    "from collections import Counter\n",
    "\n",
    "articles = pd.read_json('../scraping/articles/all_articles.json')\n",
    "text = articles['text'][666][1:8]\n",
    "print('\\n'.join(text))"
   ]
  },
  {
   "cell_type": "code",
   "execution_count": 18,
   "metadata": {},
   "outputs": [
    {
     "name": "stdout",
     "output_type": "stream",
     "text": [
      "The US Department of Energy, he said, is studying ways to bail out nuclear (and coal) facilities, including potentially by mandating grid operators to purchase power from them.\n",
      "{'entity': 'B-ORG', 'score': 0.99445456, 'index': 2, 'word': 'US', 'start': 4, 'end': 6}\n",
      "{'entity': 'I-ORG', 'score': 0.9905466, 'index': 3, 'word': 'Department', 'start': 7, 'end': 17}\n",
      "{'entity': 'I-ORG', 'score': 0.9945914, 'index': 4, 'word': 'of', 'start': 18, 'end': 20}\n",
      "{'entity': 'I-ORG', 'score': 0.9955772, 'index': 5, 'word': 'Energy', 'start': 21, 'end': 27}\n",
      "Supporters say it’s a sensible move because the nation’s power grid cannot rely solely on natural gas, wind, and solar. Opponents of the nuclear industry say nuclear power that was once advertised as being “too cheap to meter” has become too costly for electric utilities to buy. \n",
      "The US has the largest number of nuclear plants in the world – 99 in commercial operation providing 20% of its electricity generation – but its industry leadership is declining as efforts to build a new generation of reactors have been plagued by problems, and ageing plants have been retired or closed in the face of economic, market, and financial pressures.\n",
      "{'entity': 'B-LOC', 'score': 0.9966294, 'index': 2, 'word': 'US', 'start': 4, 'end': 6}\n",
      "The situation, exacerbated by robust competition in the new-build sector from China and Russia, has seen the nuclear industry and its supporters call on the government to enact legislation that would support the continued operation of nuclear plants.\n",
      "{'entity': 'B-LOC', 'score': 0.9988366, 'index': 18, 'word': 'China', 'start': 78, 'end': 83}\n",
      "{'entity': 'B-LOC', 'score': 0.99879944, 'index': 20, 'word': 'Russia', 'start': 88, 'end': 94}\n",
      "But the main reason behind nuclear’s problems in the US, says Dr J. Winston Porter, a national energy and environmental consultant and former assistant administrator at the Environmental Protection Agency, is a shale revolution that has produced a rapid supply of inexpensive and relatively clean natural gas. \n",
      "{'entity': 'B-LOC', 'score': 0.99209493, 'index': 12, 'word': 'US', 'start': 53, 'end': 55}\n",
      "{'entity': 'B-PER', 'score': 0.9465913, 'index': 16, 'word': 'J.', 'start': 65, 'end': 67}\n",
      "{'entity': 'I-PER', 'score': 0.93466073, 'index': 18, 'word': 'Winston', 'start': 68, 'end': 75}\n",
      "{'entity': 'I-PER', 'score': 0.9991066, 'index': 19, 'word': 'Porter', 'start': 76, 'end': 82}\n",
      "{'entity': 'B-ORG', 'score': 0.99796474, 'index': 33, 'word': 'Environmental', 'start': 173, 'end': 186}\n",
      "{'entity': 'I-ORG', 'score': 0.99487346, 'index': 34, 'word': 'Protection', 'start': 187, 'end': 197}\n",
      "{'entity': 'I-ORG', 'score': 0.99665123, 'index': 35, 'word': 'Agency', 'start': 198, 'end': 204}\n",
      "“Because of this we are becoming increasingly dependent on it for most electricity production,” he said. “Consequently, we risk losing the energy diversity that has long served as a bulwark of the US energy system. \n",
      "{'entity': 'B-LOC', 'score': 0.99575377, 'index': 41, 'word': 'US', 'start': 197, 'end': 199}\n",
      "“The problem may be an eventual lack of robust competition. One can even ask, ‘What will be the cost of natural gas when it is our only major source of electric power?’”\n"
     ]
    }
   ],
   "source": [
    "# For entity extraction\n",
    "model = \"dslim/distilbert-NER\"\n",
    "tokenizer = AutoTokenizer.from_pretrained(model)\n",
    "ner_pipeline = pipeline('ner', model=model, tokenizer=tokenizer)\n",
    "\n",
    "# NOTE: with current process, entities' start and end indices are reset for each new paragraph\n",
    "import importlib\n",
    "import _NER\n",
    "importlib.reload(_NER)\n",
    "from _NER import merge_result\n",
    "\n",
    "entities = []\n",
    "for paragraph in text:\n",
    "    print(paragraph)\n",
    "\n",
    "    # Entities\n",
    "    entity_result = ner_pipeline(paragraph)\n",
    "    merged_result = merge_result(entity_result, \"dslim/distilbert-NER\")\n",
    "    for eR in merged_result:\n",
    "        print(eR)\n",
    "        entities.append(eR)"
   ]
  },
  {
   "cell_type": "code",
   "execution_count": 19,
   "metadata": {},
   "outputs": [
    {
     "name": "stdout",
     "output_type": "stream",
     "text": [
      "The US Department of Energy, he said, is studying ways to bail out nuclear (and coal) facilities, including potentially by mandating grid operators to purchase power from them.\n",
      "{'head': 'Department of Energy', 'type': 'country', 'tail': 'US'}\n",
      "Supporters say it’s a sensible move because the nation’s power grid cannot rely solely on natural gas, wind, and solar. Opponents of the nuclear industry say nuclear power that was once advertised as being “too cheap to meter” has become too costly for electric utilities to buy. \n",
      "{'head': 'nuclear industry', 'type': 'product or material produced', 'tail': 'nuclear power'}\n",
      "The US has the largest number of nuclear plants in the world – 99 in commercial operation providing 20% of its electricity generation – but its industry leadership is declining as efforts to build a new generation of reactors have been plagued by problems, and ageing plants have been retired or closed in the face of economic, market, and financial pressures.\n",
      "{'head': '99 in commercial operation', 'type': 'is a list of', 'tail': 'nuclear plant'}\n",
      "The situation, exacerbated by robust competition in the new-build sector from China and Russia, has seen the nuclear industry and its supporters call on the government to enact legislation that would support the continued operation of nuclear plants.\n",
      "{'head': 'China', 'type': 'shares border with', 'tail': 'Russia'}\n",
      "{'head': 'Russia', 'type': 'shares border with', 'tail': 'China'}\n",
      "But the main reason behind nuclear’s problems in the US, says Dr J. Winston Porter, a national energy and environmental consultant and former assistant administrator at the Environmental Protection Agency, is a shale revolution that has produced a rapid supply of inexpensive and relatively clean natural gas. \n",
      "{'head': 'shale revolution', 'type': 'product or material produced', 'tail': 'natural gas'}\n",
      "“Because of this we are becoming increasingly dependent on it for most electricity production,” he said. “Consequently, we risk losing the energy diversity that has long served as a bulwark of the US energy system. \n",
      "{'head': 'US energy system', 'type': 'product or material produced', 'tail': 'electricity'}\n",
      "“The problem may be an eventual lack of robust competition. One can even ask, ‘What will be the cost of natural gas when it is our only major source of electric power?’”\n",
      "{'head': 'natural gas', 'type': 'opposite of', 'tail': 'electric power'}\n",
      "{'head': 'electric power', 'type': 'opposite of', 'tail': 'natural gas'}\n"
     ]
    }
   ],
   "source": [
    "# RE: REBEL-large\n",
    "from transformers import pipeline\n",
    "model = 'Babelscape/rebel-large'\n",
    "\n",
    "triplet_extractor = pipeline('text2text-generation', model=model, tokenizer=model)\n",
    "\n",
    "# CODE FROM DOCUMENTATION\n",
    "def extract_triplets(text):\n",
    "    triplets = []\n",
    "    relation, subject, relation, object_ = '', '', '', ''\n",
    "    text = text.strip()\n",
    "    current = 'x'\n",
    "    for token in text.replace(\"<s>\", \"\").replace(\"<pad>\", \"\").replace(\"</s>\", \"\").split():\n",
    "        if token == \"<triplet>\":\n",
    "            current = 't'\n",
    "            if relation != '':\n",
    "                triplets.append({'head': subject.strip(), 'type': relation.strip(),'tail': object_.strip()})\n",
    "                relation = ''\n",
    "            subject = ''\n",
    "        elif token == \"<subj>\":\n",
    "            current = 's'\n",
    "            if relation != '':\n",
    "                triplets.append({'head': subject.strip(), 'type': relation.strip(),'tail': object_.strip()})\n",
    "            object_ = ''\n",
    "        elif token == \"<obj>\":\n",
    "            current = 'o'\n",
    "            relation = ''\n",
    "        else:\n",
    "            if current == 't':\n",
    "                subject += ' ' + token\n",
    "            elif current == 's':\n",
    "                object_ += ' ' + token\n",
    "            elif current == 'o':\n",
    "                relation += ' ' + token\n",
    "    if subject != '' and relation != '' and object_ != '':\n",
    "        triplets.append({'head': subject.strip(), 'type': relation.strip(),'tail': object_.strip()})\n",
    "    return triplets\n",
    "\n",
    "relations = []\n",
    "for paragraph in text:\n",
    "    print(paragraph)\n",
    "\n",
    "    # Relations\n",
    "    extracted_text = triplet_extractor.tokenizer.batch_decode([triplet_extractor(paragraph, return_tensors=True, return_text=False)[0][\"generated_token_ids\"]])\n",
    "    relation_result = extract_triplets(extracted_text[0])\n",
    "    for rR in relation_result:\n",
    "        print(rR)\n",
    "        relations.append(rR)"
   ]
  },
  {
   "cell_type": "code",
   "execution_count": 20,
   "metadata": {},
   "outputs": [
    {
     "name": "stdout",
     "output_type": "stream",
     "text": [
      "The US Department of Energy, he said, is studying ways to bail out nuclear (and coal) facilities, including potentially by mandating grid operators to purchase power from them.\n",
      "{'head': 'US Department of Energy', 'head_type': 'media', 'type': 'field of work', 'tail': 'nuclear', 'tail_type': 'concept'}\n",
      "Supporters say it’s a sensible move because the nation’s power grid cannot rely solely on natural gas, wind, and solar. Opponents of the nuclear industry say nuclear power that was once advertised as being “too cheap to meter” has become too costly for electric utilities to buy. \n",
      "{'head': 'solar', 'head_type': 'concept', 'type': 'part of', 'tail': 'power grid', 'tail_type': 'concept'}\n",
      "The US has the largest number of nuclear plants in the world – 99 in commercial operation providing 20% of its electricity generation – but its industry leadership is declining as efforts to build a new generation of reactors have been plagued by problems, and ageing plants have been retired or closed in the face of economic, market, and financial pressures.\n",
      "{'head': 'nuclear plant', 'head_type': 'concept', 'type': 'powered by', 'tail': 'reactor', 'tail_type': 'concept'}\n",
      "{'head': 'reactor', 'head_type': 'concept', 'type': 'part of', 'tail': 'nuclear plant', 'tail_type': 'concept'}\n",
      "The situation, exacerbated by robust competition in the new-build sector from China and Russia, has seen the nuclear industry and its supporters call on the government to enact legislation that would support the continued operation of nuclear plants.\n",
      "{'head': 'China', 'head_type': 'loc', 'type': 'diplomatic relation', 'tail': 'Russia', 'tail_type': 'loc'}\n",
      "But the main reason behind nuclear’s problems in the US, says Dr J. Winston Porter, a national energy and environmental consultant and former assistant administrator at the Environmental Protection Agency, is a shale revolution that has produced a rapid supply of inexpensive and relatively clean natural gas. \n",
      "{'head': 'Environmental Protection Agency', 'head_type': 'concept', 'type': 'country', 'tail': 'US', 'tail_type': 'loc'}\n",
      "“Because of this we are becoming increasingly dependent on it for most electricity production,” he said. “Consequently, we risk losing the energy diversity that has long served as a bulwark of the US energy system. \n",
      "{'head': 'electricity', 'head_type': 'concept', 'type': 'subclass of', 'tail': 'energy', 'tail_type': 'concept'}\n",
      "“The problem may be an eventual lack of robust competition. One can even ask, ‘What will be the cost of natural gas when it is our only major source of electric power?’”\n",
      "{'head': 'natural gas', 'head_type': 'concept', 'type': 'subclass of', 'tail': 'electric power', 'tail_type': 'concept'}\n"
     ]
    }
   ],
   "source": [
    "# RE: mREBEL Large\n",
    "from transformers import pipeline\n",
    "triplet_extractor = pipeline('translation_xx_to_yy', model='Babelscape/mrebel-large', tokenizer='Babelscape/mrebel-large')\n",
    "\n",
    "# Function to parse the generated text and extract the triplets\n",
    "def extract_triplets_typed(text):\n",
    "\n",
    "    triplets = []\n",
    "    relation = ''\n",
    "    text = text.strip()\n",
    "    current = 'x'\n",
    "    subject, relation, object_, object_type, subject_type = '','','','',''\n",
    "\n",
    "    for token in text.replace(\"<s>\", \"\").replace(\"<pad>\", \"\").replace(\"</s>\", \"\").replace(\"tp_XX\", \"\").replace(\"__en__\", \"\").split():\n",
    "        if token == \"<triplet>\" or token == \"<relation>\":\n",
    "            current = 't'\n",
    "            if relation != '':\n",
    "                triplets.append({'head': subject.strip(), 'head_type': subject_type, 'type': relation.strip(),'tail': object_.strip(), 'tail_type': object_type})\n",
    "                relation = ''\n",
    "            subject = ''\n",
    "        elif token.startswith(\"<\") and token.endswith(\">\"):\n",
    "            if current == 't' or current == 'o':\n",
    "                current = 's'\n",
    "                if relation != '':\n",
    "                    triplets.append({'head': subject.strip(), 'head_type': subject_type, 'type': relation.strip(),'tail': object_.strip(), 'tail_type': object_type})\n",
    "                object_ = ''\n",
    "                subject_type = token[1:-1]\n",
    "            else:\n",
    "                current = 'o'\n",
    "                object_type = token[1:-1]\n",
    "                relation = ''\n",
    "        else:\n",
    "            if current == 't':\n",
    "                subject += ' ' + token\n",
    "            elif current == 's':\n",
    "                object_ += ' ' + token\n",
    "            elif current == 'o':\n",
    "                relation += ' ' + token\n",
    "    if subject != '' and relation != '' and object_ != '' and object_type != '' and subject_type != '':\n",
    "        triplets.append({'head': subject.strip(), 'head_type': subject_type, 'type': relation.strip(),'tail': object_.strip(), 'tail_type': object_type})\n",
    "    return triplets\n",
    "\n",
    "for paragraph in text:\n",
    "    print(paragraph)\n",
    "    extracted_text = triplet_extractor.tokenizer.batch_decode([triplet_extractor(\n",
    "        paragraph, \n",
    "        decoder_start_token_id=250058, \n",
    "        src_lang=\"en_XX\", tgt_lang=\"<triplet>\",\n",
    "        return_tensors=True, return_text=False)[0][\"translation_token_ids\"]]) # change en_XX for the language of the source.\n",
    "    relation_result = extract_triplets_typed(extracted_text[0])\n",
    "    for rR in relation_result:\n",
    "        print(rR)\n",
    "        relations.append(rR)"
   ]
  },
  {
   "cell_type": "code",
   "execution_count": 6,
   "metadata": {},
   "outputs": [
    {
     "name": "stdout",
     "output_type": "stream",
     "text": [
      "According to DESNZ: “GBN will drive the rapid expansion of new nuclear power plants in the UK at an unprecedented scale and pace.\n",
      "{'generated_text': '[(New Zealand#New Zealand#sovereign state)|member of|(Commonwealth#Commonwealth of Nations#intergovernmental organization)]'}\n",
      "“This will boost UK energy security, reduce dependence on volatile fossil fuel imports, create more affordable power and grow the economy, with the nuclear industry estimated to generate around £6bn for the UK economy.”\n",
      "{'generated_text': '[economy#Economy of the United Kingdom#national economy)|location|(UK#United Kingdom#sovereign state)]'}\n",
      "DESNZ added that GBN will play a key role in helping the government hit its ambition to provide up to a quarter of the UK’s electricity from homegrown nuclear energy by 2050.\n",
      "{'generated_text': '[(UK#United Kingdom#sovereign state)|executive body|(government#Government of the United Kingdom#government)]'}\n",
      "GBN’s official launch is supported by a competition for organisations to bid for funding support for the development of their nuclear products, including small modular reactors (SMRs).\n",
      "{'generated_text': '[(small modular reactor#Small modular reactor#nuclear reactor)|subclass of|(nuclear products#Nuclear reactor#system)]'}\n",
      "Current SMR projects include Rolls-Royce SMR proposals looking at constructing reactors in Oldbury and Berkeley in the south west of England and Balfour Beatty's proposals with Holtec Britain to develop plans for a SMR-160 pressurised light-water reactor somewhere in the UK.\n",
      "{'generated_text': '[(UK#United Kingdom#sovereign state)|contains administrative territorial entity|(England#England#devolved nation within the UK)]'}\n"
     ]
    }
   ],
   "source": [
    "# RE: KnowGL\n",
    "from transformers import AutoTokenizer, pipeline\n",
    "\n",
    "model = 'ibm/knowgl-large'\n",
    "classifier = pipeline('text2text-generation', model=model, tokenizer=model)\n",
    "\n",
    "relations = []\n",
    "for paragraph in text:\n",
    "    print(paragraph)\n",
    "\n",
    "    # Relations\n",
    "    relation_result = classifier(paragraph)\n",
    "    for rR in relation_result:\n",
    "        print(rR)\n",
    "        relations.append(rR)\n"
   ]
  },
  {
   "cell_type": "code",
   "execution_count": 5,
   "metadata": {},
   "outputs": [
    {
     "name": "stdout",
     "output_type": "stream",
     "text": [
      "According to DESNZ: “GBN will drive the rapid expansion of new nuclear power plants in the UK at an unprecedented scale and pace.\n",
      "{'label': 'are', 'score': 0.9930928945541382}\n",
      "“This will boost UK energy security, reduce dependence on volatile fossil fuel imports, create more affordable power and grow the economy, with the nuclear industry estimated to generate around £6bn for the UK economy.”\n",
      "{'label': 'x', 'score': 0.9958141446113586}\n",
      "DESNZ added that GBN will play a key role in helping the government hit its ambition to provide up to a quarter of the UK’s electricity from homegrown nuclear energy by 2050.\n",
      "{'label': 'x', 'score': 0.46124711632728577}\n",
      "GBN’s official launch is supported by a competition for organisations to bid for funding support for the development of their nuclear products, including small modular reactors (SMRs).\n",
      "{'label': 'is in', 'score': 0.7382863759994507}\n",
      "Current SMR projects include Rolls-Royce SMR proposals looking at constructing reactors in Oldbury and Berkeley in the south west of England and Balfour Beatty's proposals with Holtec Britain to develop plans for a SMR-160 pressurised light-water reactor somewhere in the UK.\n",
      "{'label': 'is in', 'score': 0.6713840365409851}\n"
     ]
    }
   ],
   "source": [
    "# RE: yseop/distilbert-base-financial-relation-extraction\n",
    "model = 'yseop/distilbert-base-financial-relation-extraction'\n",
    "classifier = pipeline('text-classification', model=model, tokenizer=model)\n",
    "\n",
    "relations = []\n",
    "for paragraph in text:\n",
    "    print(paragraph)\n",
    "\n",
    "    # Relations\n",
    "    relation_result = classifier(paragraph)\n",
    "    for rR in relation_result:\n",
    "        print(rR)\n",
    "        relations.append(rR)\n",
    "\n"
   ]
  }
 ],
 "metadata": {
  "kernelspec": {
   "display_name": "env",
   "language": "python",
   "name": "python3"
  },
  "language_info": {
   "codemirror_mode": {
    "name": "ipython",
    "version": 3
   },
   "file_extension": ".py",
   "mimetype": "text/x-python",
   "name": "python",
   "nbconvert_exporter": "python",
   "pygments_lexer": "ipython3",
   "version": "3.10.13"
  }
 },
 "nbformat": 4,
 "nbformat_minor": 2
}
