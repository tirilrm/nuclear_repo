{
 "cells": [
  {
   "cell_type": "code",
   "execution_count": 1,
   "metadata": {},
   "outputs": [],
   "source": [
    "import pandas as pd\n",
    "import random\n",
    "import sys\n",
    "from transformers import AutoTokenizer, pipeline\n",
    "from collections import Counter\n",
    "\n",
    "sys.path.insert(0, '../comparing_LLMs/')\n",
    "from _NER import join_tokens, merge_result, get_predicted_tags, calculate_metrics\n",
    "\n",
    "articles = pd.read_json('../../scraping/articles/all_articles.json')\n",
    "text = articles['text'][45]\n"
   ]
  },
  {
   "cell_type": "code",
   "execution_count": 9,
   "metadata": {},
   "outputs": [
    {
     "name": "stdout",
     "output_type": "stream",
     "text": [
      "\n",
      "Joined:\n",
      "B-ORG : Department for Energy Security and Net Zero\n",
      "B-ORG : DESNZ\n",
      "B-ORG : Great British Nuclear\n",
      "B-ORG : GBN\n",
      "B-LOC : UK\n"
     ]
    }
   ],
   "source": [
    "model = \"dslim/distilbert-NER\"\n",
    "tokenizer = AutoTokenizer.from_pretrained(model)\n",
    "ner_pipeline = pipeline('ner', model=model, tokenizer=tokenizer)\n",
    "\n",
    "text = [articles['text'][45][0]]\n",
    "\n",
    "total_result = []\n",
    "for paragrpah in text:\n",
    "    result = ner_pipeline(paragrpah)\n",
    "    for r in result:\n",
    "        total_result.append(r)\n",
    "\n",
    "merged_total = merge_result(total_result, model)\n",
    "\n",
    "def merge_entities(entities):\n",
    "    merged_entities = []\n",
    "    labels = []\n",
    "    current = None\n",
    "\n",
    "    for entity in entities:\n",
    "        if current is None:\n",
    "            current = entity\n",
    "            labels.append(entity['entity'][2:])\n",
    "        else:\n",
    "            if entity['entity'].startswith('I') and current['entity'].startswith('B'):\n",
    "                current['word'] += ' ' + entity['word']\n",
    "                current['end'] = entity['end']\n",
    "                current['score'] = min(current['score'], entity['score'])\n",
    "                labels.append(entity['entity'][2:])\n",
    "            else:\n",
    "                dominant_label = Counter(labels).most_common(1)[0][0]\n",
    "                current['entity'] = 'B-' + dominant_label\n",
    "                merged_entities.append(current)\n",
    "                labels = [entity['entity'][2:]]\n",
    "                current = entity\n",
    "\n",
    "    if current is not None:\n",
    "        dominant_label = Counter(labels).most_common(1)[0][0]\n",
    "        current['entity'] = 'B-' + dominant_label\n",
    "        merged_entities.append(current)\n",
    "    \n",
    "    return merged_entities\n",
    "\n",
    "print('\\nJoined:')\n",
    "joined_result = merge_entities(merged_total)\n",
    "for r in joined_result:\n",
    "    print(r['entity'],':',r['word'])"
   ]
  },
  {
   "cell_type": "code",
   "execution_count": 14,
   "metadata": {},
   "outputs": [
    {
     "name": "stdout",
     "output_type": "stream",
     "text": [
      "<s><triplet> Department for Energy Security and Net Zero <subj> Great British Nuclear <obj> subsidiary <triplet> Great British Nuclear <subj> Department for Energy Security and Net Zero <obj> parent organization</s>\n",
      "[{'head': 'Department for Energy Security and Net Zero', 'type': 'subsidiary', 'tail': 'Great British Nuclear'}, {'head': 'Great British Nuclear', 'type': 'parent organization', 'tail': 'Department for Energy Security and Net Zero'}]\n"
     ]
    }
   ],
   "source": [
    "from transformers import pipeline\n",
    "model = 'Babelscape/rebel-large'\n",
    "\n",
    "triplet_extractor = pipeline('text2text-generation', model=model, tokenizer=model)\n",
    "\n",
    "# CODE FROM DOCUMENTATION\n",
    "def extract_triplets(text):\n",
    "    triplets = []\n",
    "    relation, subject, relation, object_ = '', '', '', ''\n",
    "    text = text.strip()\n",
    "    current = 'x'\n",
    "    for token in text.replace(\"<s>\", \"\").replace(\"<pad>\", \"\").replace(\"</s>\", \"\").split():\n",
    "        if token == \"<triplet>\":\n",
    "            current = 't'\n",
    "            if relation != '':\n",
    "                triplets.append({'head': subject.strip(), 'type': relation.strip(),'tail': object_.strip()})\n",
    "                relation = ''\n",
    "            subject = ''\n",
    "        elif token == \"<subj>\":\n",
    "            current = 's'\n",
    "            if relation != '':\n",
    "                triplets.append({'head': subject.strip(), 'type': relation.strip(),'tail': object_.strip()})\n",
    "            object_ = ''\n",
    "        elif token == \"<obj>\":\n",
    "            current = 'o'\n",
    "            relation = ''\n",
    "        else:\n",
    "            if current == 't':\n",
    "                subject += ' ' + token\n",
    "            elif current == 's':\n",
    "                object_ += ' ' + token\n",
    "            elif current == 'o':\n",
    "                relation += ' ' + token\n",
    "    if subject != '' and relation != '' and object_ != '':\n",
    "        triplets.append({'head': subject.strip(), 'type': relation.strip(),'tail': object_.strip()})\n",
    "    return triplets\n",
    "\n",
    "extracted_text = triplet_extractor.tokenizer.batch_decode([triplet_extractor(text, return_tensors=True, return_text=False)[0][\"generated_token_ids\"]])"
   ]
  },
  {
   "cell_type": "code",
   "execution_count": 19,
   "metadata": {},
   "outputs": [
    {
     "name": "stdout",
     "output_type": "stream",
     "text": [
      "The Department for Energy Security and Net Zero (DESNZ) is today launching Great British Nuclear (GBN), the new government body that will be the delivery vehicle for all of the UK’s nuclear projects, includingAccording to DESNZ: “GBN will drive the rapid expansion of new nuclear power plants in the UK at an unprecedented scale and pace.\n",
      "<s><triplet> Department for Energy Security and Net Zero <subj> Great British Nuclear <obj> subsidiary <triplet> Great British Nuclear <subj> Department for Energy Security and Net Zero <obj> parent organization</s>\n",
      "{'head': 'Department for Energy Security and Net Zero', 'type': 'subsidiary', 'tail': 'Great British Nuclear'}\n",
      "{'head': 'Great British Nuclear', 'type': 'parent organization', 'tail': 'Department for Energy Security and Net Zero'}\n"
     ]
    }
   ],
   "source": [
    "text = articles['text'][45][0] + articles['text'][45][1]\n",
    "print(text)\n",
    "print(extracted_text[0])\n",
    "\n",
    "extracted_triplets = extract_triplets(extracted_text[0])\n",
    "for e in extracted_triplets:\n",
    "    print(e)"
   ]
  },
  {
   "cell_type": "code",
   "execution_count": 20,
   "metadata": {},
   "outputs": [
    {
     "name": "stdout",
     "output_type": "stream",
     "text": [
      "['The Department for Energy Security and Net Zero (DESNZ) is today launching Great British Nuclear (GBN), the new government body that will be the delivery vehicle for all of the UK’s nuclear projects, including', 'According to DESNZ: “GBN will drive the rapid expansion of new nuclear power plants in the UK at an unprecedented scale and pace.', '“This will boost UK energy security, reduce dependence on volatile fossil fuel imports, create more affordable power and grow the economy, with the nuclear industry estimated to generate around £6bn for the UK economy.”', 'DESNZ added that GBN will play a key role in helping the government hit its ambition to provide up to a quarter of the UK’s electricity from homegrown nuclear energy by 2050.', 'GBN’s official launch is supported by a competition for organisations to bid for funding support for the development of their nuclear products, including small modular reactors (SMRs).', 'Current SMR projects include', 'Rolls-Royce SMR proposals looking at constructing reactors in Oldbury and Berkeley in the south west of England', \"Balfour Beatty's proposals with Holtec Britain to develop plans for a SMR-160 pressurised light-water reactor somewhere in the UK.\", 'Once the initial stage of the SMR selection process is complete, GBN will down-select those technologies which have met the criteria and then enter into detailed discussions with those companies as part of an Invitation to Negotiate phase. The initial down-select will take place this autumn.', 'Further to the competition, the government is also announcing a £157M grant funding package for nuclear projects alongside the launch of GBN. Details of how it will be spent are below.', 'GBN will initially be led by Simon Bowen and Gwen Parry-Jones as interim chair and chief executive officer respectively.', 'Energy security and net zero secretary Grant Shapps said: “Britain has a rich history as a pioneer of nuclear power, having launched the era of civil nuclear power - and I’m proud to be turbocharging its revival and placing our country once again at the forefront of global innovation.', '“By rapidly boosting our homegrown supply of nuclear and other clean, reliable, and abundant energy, we will drive down bills for British homes and make sure the UK is never held to energy ransom by tyrants like Putin.', '“Today, as we open GBN and the competition to develop cutting-edge small modular reactor technology, which could result in billions of pounds of public and private sector investment, we are seeing the first brush strokes of our nuclear power renaissance to power up Britain and grow our economy for decades to come.”', 'Minister for nuclear Andrew Bowie said: “As long-standing pioneers of nuclear, today we’re marking its UK revival with the opening of GBN, which will play an essential role in transforming the way we power Britain from Britain.', '“I look forward to seeing the world-class designs submitted from all around the world through the competitive selection process, as the UK takes its place front and centre in the global race to unleash a new generation of nuclear technology.”', 'GBN interim chair Simon Bowen said: “GBN is core to delivering the government’s new nuclear programme.', '“Building on the work done at Hinkley Point and Sizewell, today’s announcement of the start of the SMR selection process signifies a real step forward in delivering the scale of nuclear power that Britain needs for secure, sustainable energy future.', '“We look forward to working with all interested parties – technology vendors, the supply chain, the wider industry and local communities as we move this essential programme forward.”', 'Energy and Climate Intelligence Unit head of energy Jess Ralston said:', '“A number of experts, including the Climate Change Committee, see a role for nuclear in removing gas from our power system, but with SMRs yet to be deployed and larger plants like Hinkley over-budget and delayed, it’s difficult to predict exactly what the costs and timescales might be for future endeavours. The Office for Budget Responsibility has said the high upfront costs of nuclear could leave us with a £170bn bill.', '“Despite slight cost increases given current inflation levels, British renewables will remain much cheaper than both gas and nuclear. There are questions over whether Government has taken its eye off the ball for the current Contracts for Difference auction round for wind farms, imposing too tight restrictions and so limiting the projects that might get built. Where Government places its focus is important for green investment from businesses, and clearly rapidly building out renewables is the best deal for the UK tax or billpayer.”', 'Atkins nuclear and power managing director Chris Conboy said:', '“Today’s GB Nuclear launch is an important milestone towards establishing the critical role that nuclear will have in the UK’s net zero future. The support for small modular reactor projects should accelerate the development of technologies that have the potential to provide greater energy resilience and deliver clean, affordable power. This positive support for new technologies and investment in domestic fuel manufacture capability sits alongside a welcome continued commitment to largescale nuclear through the progress already made at Hinkley Point C and a future plant at Sizewell C. The Government’s ambition to deliver a quarter of the country’s electricity from nuclear will be achieved through the safe, efficient, cost-effective and timely delivery of new build projects, and we look forward to playing a role in engineering a nuclear-fuelled future for the UK.”', 'BDB Pitmans partner and parliamentary agent Mustafa Latif-Aramesh said:', '“Today is a significant day for nuclear in the UK. The release of funding, which had been delayed, will mean that the Government is finally putting money where its mouth is for Small and Advanced Nuclear Reactors. That technology is urgently required both for energy resilience and in order to allow the UK to meet its decarbonisation targets.', '“The announcement should be accompanied by a renewed focus on publishing details on siting arrangements, and confirmation on Great British Nuclear’s remit in being a partner at the development phase. Government should throw resources at updating the National Policy Statement for Nuclear in advance of their 2025 target, and confirming that nuclear projects outside of existing or decommissioned nuclear sites can progress so that the private sector can deliver clean energy in tandem with GBN’s competition processes.”', 'Turner & Townsend director and head of UK natural resources Alan Sinclair', '“The success of Great British Nuclear will rely on three major components: attracting investment, spurring innovation and building skills.\\xa0 Lack of certainty has dogged the sector for over a decade and both investors and the supply chain are looking for a clear break from the past.\\xa0 Get it right and the UK has the potential to tackle emissions and energy independence, while also establishing the foundations for a world-class industry with expertise that can be exported abroad.', '“Providing 24Gw of generation by 2050 is a gargantuan task and clarity over financing is the first priority.\\xa0 The £20bn committed directly from Government for SMRs can kick-start the private investment that will be needed and galvanise not just operators, but also the supply chain required to build and manage these new sites.\\xa0 SMRs bring a greater opportunity for off-site design and construction, and a reduced reliance on supporting infrastructure on a massive scale. \\xa0However, shaping the supply chain to support these changes in the UK’s approach will take time and careful capacity planning.', '“People will be crucial to success.\\xa0 The requirements across defence and energy taken together amount to upwards of 250,000 roles.\\xa0 That is a major undertaking in its own right and GBN will need to draw on the UK’s existing pools of talent from the energy and infrastructure sector if it is to succeed.\\xa0 Above all, we need to be keenly aware that the UK is competing in a global market for talent.', '“Expertise in new methods of generation also needs to be matched by equivalent investment across the nuclear lifecycle - for decommissioning and waste storage - so that the industry remains self-sustaining long-term.”', 'Balfour Beatty Group chief executive Leo Quinn said:', '“Great British Nuclear represents a gear change in how we power the country’s homes and businesses.', '“Nuclear energy is a clear and proven route to secure clean, homegrown energy – removing the reliance on costly imports. The construction and infrastructure industry continues to deliver on Hinkley Point C and is ready to get started on Sizewell C. In doing so, we can reduce energy bills, lower carbon emissions, create thousands of jobs – including apprenticeships – and cement Britain’s position as a leader in clean energy.”', 'Stop Sizewell C, a campaign group against the nuclear reactor, said:', '“The postponed relaunch of GBN - which is neither Great, nor really British - contains no more than a wing and a prayer for Sizewell C.', '“No vote of confidence can help Sizewell C unless it has a big fat cheque attached, and the money announced today - which is all earmarked for other projects - is, in the context of expensive nuclear energy, chicken feed.”', 'The £157M nuclear funding package has been separated as follows', '£77.1M of funding will be provided to companies to accelerate advanced nuclear business development in the UK and support advanced nuclear designs to enter UK regulations', '£58M funding will go to the further development and design of a type of advanced modular reactor (AMR) and next generation fuel. AMRs operate at a higher temperature than SMRs and as a result they could provide high temperature heat for hydrogen and other industrial uses alongside nuclear power.', 'Of this the winning projects of this phase of funding are:', 'The Ultra Safe Nuclear Corporation UK in Warrington which will receive £22.5M to further develop the design of a high temperature micro modular reactor, a type of AMR suited to UK industrial demands including hydrogen and sustainable aviation fuel production.', '£15M will go to the National Nuclear laboratory in Warrington to accelerate the design of a high temperature reactor, following its success in Japan.', 'The National Nuclear Laboratory in Preston will receive £16M to continue to develop sovereign coated particle fuel capability, a type of robust advanced fuel which is suitable for high temperature reactors.', 'A further £22.3M from the Nuclear Fuel Fund will enable eight projects to develop new fuel production and manufacturing capabilities in the UK, driving up energy security and supporting the global move away from Russian fuel.', 'The winning projects of this fund are:', '£10.5M will go to Westinghouse Springfields nuclear fuel plant in Preston to manufacture more innovative types of nuclear fuel for customers both in the UK and overseas, boosting jobs and skills in the North West.', '£9.5M to Urenco UK in Capenhurst Chester, an international supplier of nuclear materials, to enrich uranium to higher levels, including low enriched uranium (LEU+) and high assay low enriched uranium. LEU+ will allow for current reactors and SMRs to run for longer between refuelling outages.']\n"
     ]
    }
   ],
   "source": [
    "print(articles['text'][45])"
   ]
  }
 ],
 "metadata": {
  "kernelspec": {
   "display_name": "env",
   "language": "python",
   "name": "python3"
  },
  "language_info": {
   "codemirror_mode": {
    "name": "ipython",
    "version": 3
   },
   "file_extension": ".py",
   "mimetype": "text/x-python",
   "name": "python",
   "nbconvert_exporter": "python",
   "pygments_lexer": "ipython3",
   "version": "3.10.13"
  }
 },
 "nbformat": 4,
 "nbformat_minor": 2
}
