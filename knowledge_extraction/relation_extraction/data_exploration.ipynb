{
 "cells": [
  {
   "cell_type": "code",
   "execution_count": 2,
   "metadata": {},
   "outputs": [],
   "source": [
    "from datasets import load_dataset\n",
    "import pandas as pd\n",
    "\n",
    "dataset = load_dataset('docred', trust_remote_code=True)\n",
    "annotated = pd.DataFrame(dataset['train_annotated'])\n",
    "distant = pd.DataFrame(dataset['train_distant'])"
   ]
  },
  {
   "cell_type": "code",
   "execution_count": 61,
   "metadata": {},
   "outputs": [
    {
     "name": "stdout",
     "output_type": "stream",
     "text": [
      "DatasetDict({\n",
      "    validation: Dataset({\n",
      "        features: ['title', 'sents', 'vertexSet', 'labels'],\n",
      "        num_rows: 998\n",
      "    })\n",
      "    test: Dataset({\n",
      "        features: ['title', 'sents', 'vertexSet', 'labels'],\n",
      "        num_rows: 1000\n",
      "    })\n",
      "    train_annotated: Dataset({\n",
      "        features: ['title', 'sents', 'vertexSet', 'labels'],\n",
      "        num_rows: 3053\n",
      "    })\n",
      "    train_distant: Dataset({\n",
      "        features: ['title', 'sents', 'vertexSet', 'labels'],\n",
      "        num_rows: 101873\n",
      "    })\n",
      "})\n"
     ]
    }
   ],
   "source": [
    "print(dataset)"
   ]
  },
  {
   "cell_type": "code",
   "execution_count": null,
   "metadata": {},
   "outputs": [],
   "source": [
    "'''\n",
    "Data Format:\n",
    "(source: https://github.com/thunlp/DocRED/blob/master/data/README.md)\n",
    "{\n",
    "  'title',\n",
    "  'sents':     [\n",
    "                  [word in sent 0], # list of lists of words forming sentences\n",
    "                  [word in sent 1]\n",
    "               ]\n",
    "  'vertexSet': [\n",
    "                  [\n",
    "                    { 'name': mention_name, # name of entity mention\n",
    "                      'sent_id': mention in which sentence, # index of the sentence where the mention occurs\n",
    "                      'pos': postion of mention in a sentence,  # start and end position (indices) of the mention in the sentence\n",
    "                      'type': NER_type} #the NER type, e.g. PERSON, LOCATION\n",
    "                    {anthor mention}\n",
    "                  ], \n",
    "                  [anthoer entity]\n",
    "                ]\n",
    "  'labels':   [\n",
    "                {\n",
    "                  'h': idx of head entity in vertexSet,\n",
    "                  't': idx of tail entity in vertexSet,\n",
    "                  'r': relation,\n",
    "                  'evidence': evidence sentences' id\n",
    "                }\n",
    "              ]\n",
    "}'''"
   ]
  },
  {
   "cell_type": "code",
   "execution_count": 60,
   "metadata": {},
   "outputs": [
    {
     "name": "stdout",
     "output_type": "stream",
     "text": [
      "Pacific Fair is a major shopping centre in Broadbeach Waters on the Gold Coast , Queensland , Australia .\n",
      "It was Queensland 's largest regional shopping centre until 2006 .\n",
      "Pacific Fair was developed by Hooker Retail Developments and opened in 1977 on what was swampland with 96 specialty stores and two anchor tenants .\n",
      "Since then , Pacific Fair has undergone numerous expansions and has grown to have more than 300 specialty stores and four anchor tenants .\n",
      "In January 2014 , work began on a major redevelopment project to meet the predicted regional growth on the Gold Coast .\n",
      "Prior to the redevelopment , the shopping centre had four main major stores including a four - level Myer , Kmart , Target , Coles and Toys ' R ' Us .\n",
      "Daimaru operated in the centre before its Australian withdrawal , albeit briefly .\n",
      "It also had a 12-screen Birch Carroll and Coyle Cinema ( re - opened as Event Cinemas in late 2015 ) .\n",
      "Pacific Fair is a major public transport interchange on the Gold Coast , serviced by Surfside Buslines , and the Broadbeach South station located not far from the shopping centre .\n",
      "Nearby is The Star Gold Coast and Gold Coast Convention & Exhibition Centre .\n",
      "Pacific Fair fronts Little Tallebudgera Creek and is the southern end of the Surfers Riverwalk .\n",
      "This shopping centre was featured on the third season of The Mole .\n",
      "JOINED:\n",
      "Pacific Fair is a major shopping centre in Broadbeach Waters on the Gold Coast, Queensland, Australia.\n",
      "It was Queensland's largest regional shopping centre until 2006.\n",
      "Pacific Fair was developed by Hooker Retail Developments and opened in 1977 on what was swampland with 96 specialty stores and two anchor tenants.\n",
      "Since then, Pacific Fair has undergone numerous expansions and has grown to have more than 300 specialty stores and four anchor tenants.\n",
      "In January 2014, work began on a major redevelopment project to meet the predicted regional growth on the Gold Coast.\n",
      "Prior to the redevelopment, the shopping centre had four main major stores including a four-level Myer, Kmart, Target, Coles and Toys 'R ' Us.\n",
      "Daimaru operated in the centre before its Australian withdrawal, albeit briefly.\n",
      "It also had a12-screen Birch Carroll and Coyle Cinema (re-opened as Event Cinemas in late 2015).\n",
      "Pacific Fair is a major public transport interchange on the Gold Coast, serviced by Surfside Buslines, and the Broadbeach South station located not far from the shopping centre.\n",
      "Nearby is The Star Gold Coast and Gold Coast Convention& Exhibition Centre.\n",
      "Pacific Fair fronts Little Tallebudgera Creek and is the southern end of the Surfers Riverwalk.\n",
      "This shopping centre was featured on the third season of The Mole.\n"
     ]
    }
   ],
   "source": [
    "# Sentences\n",
    "from _RE import join_text\n",
    "\n",
    "sents = annotated.iloc[3]['sents']\n",
    "\n",
    "for sent in sents:\n",
    "    print(' '.join(sent))\n",
    "\n",
    "print('JOINED:')\n",
    "print(join_text(sents))"
   ]
  },
  {
   "cell_type": "code",
   "execution_count": 9,
   "metadata": {},
   "outputs": [
    {
     "name": "stdout",
     "output_type": "stream",
     "text": [
      "head [0, 0, 12, 2, 2, 4, 5, 3, 3, 3, 1, 1, 10]\n",
      "tail [2, 4, 4, 4, 3, 3, 4, 2, 4, 4, 2, 4, 4]\n",
      "relation_id ['P159', 'P17', 'P17', 'P17', 'P131', 'P150', 'P17', 'P150', 'P131', 'P17', 'P131', 'P17', 'P17']\n",
      "relation_text ['headquarters location', 'country', 'country', 'country', 'located in the administrative territorial entity', 'contains administrative territorial entity', 'country', 'contains administrative territorial entity', 'located in the administrative territorial entity', 'country', 'located in the administrative territorial entity', 'country', 'country']\n",
      "evidence [[0], [2, 4, 7], [6, 7], [0], [0], [0], [0, 3], [0], [0, 3], [0, 3], [0, 3], [0, 3], [4]]\n"
     ]
    }
   ],
   "source": [
    "labels = annotated.iloc[0]['labels']\n",
    "for l in labels:\n",
    "    print(l, labels[l])"
   ]
  },
  {
   "cell_type": "code",
   "execution_count": 67,
   "metadata": {},
   "outputs": [
    {
     "name": "stdout",
     "output_type": "stream",
     "text": [
      "[[ 0.          0.          0.         ...  0.          0.\n",
      "   0.        ]\n",
      " [ 0.          0.          0.         ...  0.          0.\n",
      "   0.        ]\n",
      " [ 0.00267818  0.00320255  0.00321348 ... -0.01351627 -0.01124292\n",
      "  -0.00176107]\n",
      " ...\n",
      " [-0.00831999  0.01622053  0.01025614 ... -0.00800544  0.0059882\n",
      "  -0.00063536]\n",
      " [-0.00237632  0.00192548 -0.00674426 ... -0.01301206  0.00155903\n",
      "  -0.00649899]\n",
      " [-0.00052076 -0.01908555  0.00029874 ... -0.00622041 -0.00552084\n",
      "  -0.00136985]]\n"
     ]
    }
   ],
   "source": [
    "import numpy as np\n",
    "data = np.load('docred_metadata/char_vec.npy')\n",
    "print(data)"
   ]
  },
  {
   "cell_type": "code",
   "execution_count": 68,
   "metadata": {},
   "outputs": [],
   "source": [
    "import json\n",
    "\n",
    "filenames = [\n",
    "    #'docred_metadata/char2id.json',\n",
    "    #'docred_metadata/ner2id.json',\n",
    "    #'docred_metadata/rel2id.json',\n",
    "    #'docred_metadata/word2id.json',\n",
    "    'docred_metadata/rel_info.json'\n",
    "    ]\n",
    "\n",
    "for filename in filenames:\n",
    "    with open(filename, 'r') as f:\n",
    "        data = json.load(f)\n",
    "\n",
    "    with open(filename, 'w') as f:\n",
    "        json.dump(data, f, indent=4)"
   ]
  }
 ],
 "metadata": {
  "kernelspec": {
   "display_name": "env",
   "language": "python",
   "name": "python3"
  },
  "language_info": {
   "codemirror_mode": {
    "name": "ipython",
    "version": 3
   },
   "file_extension": ".py",
   "mimetype": "text/x-python",
   "name": "python",
   "nbconvert_exporter": "python",
   "pygments_lexer": "ipython3",
   "version": "3.10.13"
  }
 },
 "nbformat": 4,
 "nbformat_minor": 2
}
