{
 "cells": [
  {
   "cell_type": "code",
   "execution_count": 17,
   "metadata": {},
   "outputs": [
    {
     "name": "stdout",
     "output_type": "stream",
     "text": [
      "DatasetDict({\n",
      "    validation: Dataset({\n",
      "        features: ['title', 'sents', 'vertexSet', 'labels'],\n",
      "        num_rows: 998\n",
      "    })\n",
      "    test: Dataset({\n",
      "        features: ['title', 'sents', 'vertexSet', 'labels'],\n",
      "        num_rows: 1000\n",
      "    })\n",
      "    train_annotated: Dataset({\n",
      "        features: ['title', 'sents', 'vertexSet', 'labels'],\n",
      "        num_rows: 3053\n",
      "    })\n",
      "    train_distant: Dataset({\n",
      "        features: ['title', 'sents', 'vertexSet', 'labels'],\n",
      "        num_rows: 101873\n",
      "    })\n",
      "})\n"
     ]
    }
   ],
   "source": [
    "from datasets import load_dataset\n",
    "dataset = load_dataset('docred', trust_remote_code=True)\n",
    "print(dataset)"
   ]
  },
  {
   "cell_type": "code",
   "execution_count": 22,
   "metadata": {},
   "outputs": [
    {
     "data": {
      "application/vnd.jupyter.widget-view+json": {
       "model_id": "73e0a75045214454908414d4a907c8ba",
       "version_major": 2,
       "version_minor": 0
      },
      "text/plain": [
       "DataGrid(auto_fit_params={'area': 'all', 'padding': 30, 'numCols': None}, corner_renderer=None, default_render…"
      ]
     },
     "execution_count": 22,
     "metadata": {},
     "output_type": "execute_result"
    }
   ],
   "source": [
    "import pandas as pd\n",
    "from ipydatagrid import DataGrid\n",
    "\n",
    "ds = pd.DataFrame(dataset['train_annotated'])\n",
    "\n",
    "grid = DataGrid(ds)\n",
    "grid\n"
   ]
  },
  {
   "cell_type": "code",
   "execution_count": 61,
   "metadata": {},
   "outputs": [
    {
     "name": "stdout",
     "output_type": "stream",
     "text": [
      "TITLE:\n",
      " Pacific Fair Shopping Centre\n",
      "TEXT (12 sents):\n",
      "- Pacific Fair is a major shopping centre in Broadbeach Waters on the Gold Coast , Queensland , Australia .\n",
      "- It was Queensland 's largest regional shopping centre until 2006 .\n",
      "- Pacific Fair was developed by Hooker Retail Developments and opened in 1977 on what was swampland with 96 specialty stores and two anchor tenants .\n",
      "- Since then , Pacific Fair has undergone numerous expansions and has grown to have more than 300 specialty stores and four anchor tenants .\n",
      "- In January 2014 , work began on a major redevelopment project to meet the predicted regional growth on the Gold Coast .\n",
      "- Prior to the redevelopment , the shopping centre had four main major stores including a four - level Myer , Kmart , Target , Coles and Toys ' R ' Us .\n",
      "- Daimaru operated in the centre before its Australian withdrawal , albeit briefly .\n",
      "- It also had a 12-screen Birch Carroll and Coyle Cinema ( re - opened as Event Cinemas in late 2015 ) .\n",
      "- Pacific Fair is a major public transport interchange on the Gold Coast , serviced by Surfside Buslines , and the Broadbeach South station located not far from the shopping centre .\n",
      "- Nearby is The Star Gold Coast and Gold Coast Convention & Exhibition Centre .\n",
      "- Pacific Fair fronts Little Tallebudgera Creek and is the southern end of the Surfers Riverwalk .\n",
      "- This shopping centre was featured on the third season of The Mole .\n",
      "ENTITIES:\n",
      "[{'name': 'Pacific Fair', 'sent_id': 8, 'pos': [0, 2], 'type': 'LOC'}, {'name': 'Pacific Fair', 'sent_id': 2, 'pos': [0, 2], 'type': 'LOC'}, {'name': 'Pacific Fair', 'sent_id': 0, 'pos': [0, 2], 'type': 'LOC'}, {'name': 'Pacific Fair', 'sent_id': 3, 'pos': [3, 5], 'type': 'LOC'}, {'name': 'Pacific Fair', 'sent_id': 10, 'pos': [0, 2], 'type': 'LOC'}]\n",
      "[{'name': 'Broadbeach Waters', 'sent_id': 0, 'pos': [8, 10], 'type': 'LOC'}]\n",
      "[{'name': 'Gold Coast', 'sent_id': 8, 'pos': [10, 12], 'type': 'LOC'}, {'name': 'Gold Coast', 'sent_id': 4, 'pos': [19, 21], 'type': 'LOC'}, {'name': 'Gold Coast', 'sent_id': 0, 'pos': [12, 14], 'type': 'LOC'}]\n",
      "[{'name': 'Queensland', 'sent_id': 0, 'pos': [15, 16], 'type': 'LOC'}, {'name': 'Queensland', 'sent_id': 1, 'pos': [2, 3], 'type': 'LOC'}]\n",
      "[{'name': 'Australia', 'sent_id': 0, 'pos': [17, 18], 'type': 'LOC'}]\n",
      "[{'name': '2006', 'sent_id': 1, 'pos': [9, 10], 'type': 'TIME'}]\n",
      "[{'name': 'Hooker Retail Developments', 'sent_id': 2, 'pos': [5, 8], 'type': 'ORG'}]\n",
      "[{'name': '1977', 'sent_id': 2, 'pos': [11, 12], 'type': 'TIME'}]\n",
      "[{'name': '96', 'sent_id': 2, 'pos': [17, 18], 'type': 'NUM'}]\n",
      "[{'name': 'two', 'sent_id': 2, 'pos': [21, 22], 'type': 'NUM'}]\n",
      "[{'name': '300', 'sent_id': 3, 'pos': [16, 17], 'type': 'NUM'}]\n",
      "[{'name': 'four', 'sent_id': 3, 'pos': [20, 21], 'type': 'NUM'}, {'name': 'four', 'sent_id': 5, 'pos': [9, 10], 'type': 'NUM'}, {'name': 'four', 'sent_id': 5, 'pos': [15, 16], 'type': 'NUM'}]\n",
      "[{'name': 'January 2014', 'sent_id': 4, 'pos': [1, 3], 'type': 'TIME'}]\n",
      "[{'name': 'Myer', 'sent_id': 5, 'pos': [18, 19], 'type': 'ORG'}]\n",
      "[{'name': 'Kmart', 'sent_id': 5, 'pos': [20, 21], 'type': 'ORG'}]\n",
      "[{'name': 'Target', 'sent_id': 5, 'pos': [22, 23], 'type': 'ORG'}]\n",
      "[{'name': 'Coles', 'sent_id': 5, 'pos': [24, 25], 'type': 'ORG'}]\n",
      "[{'name': \"Toys ' R ' Us\", 'sent_id': 5, 'pos': [26, 31], 'type': 'ORG'}]\n",
      "[{'name': 'Daimaru', 'sent_id': 6, 'pos': [0, 1], 'type': 'ORG'}]\n",
      "[{'name': 'Australian', 'sent_id': 6, 'pos': [7, 8], 'type': 'LOC'}]\n",
      "[{'name': '12-screen', 'sent_id': 7, 'pos': [4, 5], 'type': 'NUM'}]\n",
      "[{'name': 'Birch Carroll and Coyle Cinema', 'sent_id': 7, 'pos': [5, 10], 'type': 'ORG'}]\n",
      "[{'name': 'Event Cinemas', 'sent_id': 7, 'pos': [15, 17], 'type': 'ORG'}]\n",
      "[{'name': 'late 2015', 'sent_id': 7, 'pos': [18, 20], 'type': 'TIME'}]\n",
      "[{'name': 'Surfside Buslines', 'sent_id': 8, 'pos': [15, 17], 'type': 'ORG'}]\n",
      "[{'name': 'Broadbeach South station', 'sent_id': 8, 'pos': [20, 23], 'type': 'LOC'}]\n",
      "[{'name': 'Star Gold Coast', 'sent_id': 9, 'pos': [3, 6], 'type': 'LOC'}]\n",
      "[{'name': 'Gold Coast Convention & Exhibition Centre', 'sent_id': 9, 'pos': [7, 13], 'type': 'LOC'}]\n",
      "[{'name': 'Little Tallebudgera Creek', 'sent_id': 10, 'pos': [3, 6], 'type': 'LOC'}]\n",
      "[{'name': 'Surfers Riverwalk', 'sent_id': 10, 'pos': [13, 15], 'type': 'LOC'}]\n",
      "[{'name': 'The Mole', 'sent_id': 11, 'pos': [10, 12], 'type': 'MISC'}]\n",
      "LABELS:\n",
      "head: [3, 3, 3, 4, 4, 22, 29, 29, 1, 1, 1, 2, 2, 17, 13, 14, 16, 18, 24, 25, 25, 26, 26, 0, 0, 0, 28, 27]\n",
      "tail: [4, 4, 2, 3, 19, 4, 3, 4, 3, 4, 2, 3, 4, 4, 4, 4, 4, 4, 4, 3, 4, 3, 4, 3, 4, 7, 4, 4]\n",
      "relation_id: ['P131', 'P17', 'P150', 'P150', 'P172', 'P17', 'P131', 'P17', 'P131', 'P17', 'P131', 'P131', 'P17', 'P17', 'P17', 'P17', 'P17', 'P17', 'P17', 'P131', 'P17', 'P131', 'P17', 'P131', 'P17', 'P571', 'P17', 'P17']\n",
      "relation_text: ['located in the administrative territorial entity', 'country', 'contains administrative territorial entity', 'contains administrative territorial entity', 'ethnic group', 'country', 'located in the administrative territorial entity', 'country', 'located in the administrative territorial entity', 'country', 'located in the administrative territorial entity', 'located in the administrative territorial entity', 'country', 'country', 'country', 'country', 'country', 'country', 'country', 'located in the administrative territorial entity', 'country', 'located in the administrative territorial entity', 'country', 'located in the administrative territorial entity', 'country', 'inception', 'country', 'country']\n",
      "evidence: [[0], [0, 5, 6], [0, 1, 4], [0], [0, 5, 6], [0, 5, 6, 7], [0, 1, 10], [0, 1, 10], [0, 1], [0], [0], [0, 1, 4, 8], [0, 1, 4, 5, 6], [0, 4, 5], [0, 1, 4, 5], [0, 1, 4, 5], [0, 1, 4, 5], [0, 1, 5, 6], [8, 0], [0, 1, 8], [8, 0, 5, 6], [0, 9, 1], [0, 9, 1], [8, 1, 0], [0, 1, 5, 6], [2], [0, 1, 10], [0, 9, 1]]\n"
     ]
    }
   ],
   "source": [
    "def print_info(docred_instance):\n",
    "    print('TITLE:\\n', docred_instance['title'])\n",
    "    print(f\"TEXT ({len(docred_instance['sents'])} sents):\")\n",
    "    for e in docred_instance['sents']:\n",
    "        print('-', ' '.join(e))\n",
    "    print('ENTITIES:')\n",
    "    for e in docred_instance['vertexSet']:\n",
    "        print(e)\n",
    "        #print(f\"- {e['type']}: {e['name']}\")\n",
    "    print('LABELS:')\n",
    "    for e in docred_instance['labels']:\n",
    "        print(f\"{e}: {docred_instance['labels'][e]}\")\n",
    "\n",
    "for i in range(3,4):\n",
    "    print_info(ds.iloc[i])"
   ]
  }
 ],
 "metadata": {
  "kernelspec": {
   "display_name": "env",
   "language": "python",
   "name": "python3"
  },
  "language_info": {
   "codemirror_mode": {
    "name": "ipython",
    "version": 3
   },
   "file_extension": ".py",
   "mimetype": "text/x-python",
   "name": "python",
   "nbconvert_exporter": "python",
   "pygments_lexer": "ipython3",
   "version": "3.10.13"
  }
 },
 "nbformat": 4,
 "nbformat_minor": 2
}
