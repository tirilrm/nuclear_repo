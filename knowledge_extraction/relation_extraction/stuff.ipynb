{
 "cells": [
  {
   "cell_type": "code",
   "execution_count": 1,
   "metadata": {},
   "outputs": [],
   "source": [
    "from transformers import AutoTokenizer, pipeline\n",
    "from datasets import load_dataset\n",
    "import pandas as pd\n",
    "import itertools\n",
    "from difflib import SequenceMatcher\n",
    "import json\n",
    "import numpy as np\n",
    "\n",
    "import importlib\n",
    "import _RE\n",
    "importlib.reload(_RE)\n",
    "from _RE import join_text, merge_result, combine_entities"
   ]
  },
  {
   "cell_type": "code",
   "execution_count": 2,
   "metadata": {},
   "outputs": [],
   "source": [
    "def get_docred_data(get_distant=False):\n",
    "    docred_data = load_dataset('docred', trust_remote_code=True)\n",
    "    train_annotated = pd.DataFrame(docred_data['train_annotated'])\n",
    "    train_distant = None\n",
    "    if get_distant:\n",
    "        train_distant = pd.DataFrame(docred_data['train_distant'])\n",
    "    test = pd.DataFrame(docred_data['test'])\n",
    "    validation = pd.DataFrame(docred_data['validation'])\n",
    "\n",
    "    return train_annotated, train_distant, test, validation"
   ]
  },
  {
   "cell_type": "code",
   "execution_count": 6,
   "metadata": {},
   "outputs": [],
   "source": [
    "train, _, test, validation = get_docred_data()"
   ]
  },
  {
   "cell_type": "code",
   "execution_count": 3,
   "metadata": {},
   "outputs": [],
   "source": [
    "def get_info(instance):\n",
    "    sents_raw = instance['sents']\n",
    "    sents = [' '.join(sublist) for sublist in sents_raw]\n",
    "\n",
    "    vertexSet = instance['vertexSet']\n",
    "    labels = instance['labels']\n",
    "\n",
    "    return sents, vertexSet, labels"
   ]
  },
  {
   "cell_type": "code",
   "execution_count": 20,
   "metadata": {},
   "outputs": [],
   "source": [
    "sents, vertexSet, labels = get_info(train.iloc[0])"
   ]
  },
  {
   "cell_type": "code",
   "execution_count": 21,
   "metadata": {},
   "outputs": [
    {
     "name": "stdout",
     "output_type": "stream",
     "text": [
      "0 [{'name': 'Zest Airways, Inc.', 'sent_id': 0, 'pos': [0, 4], 'type': 'ORG'}, {'name': 'Asian Spirit and Zest Air', 'sent_id': 0, 'pos': [10, 15], 'type': 'ORG'}, {'name': 'AirAsia Zest', 'sent_id': 0, 'pos': [6, 8], 'type': 'ORG'}, {'name': 'AirAsia Zest', 'sent_id': 6, 'pos': [19, 21], 'type': 'ORG'}]\n",
      "1 [{'name': 'Ninoy Aquino International Airport', 'sent_id': 3, 'pos': [4, 8], 'type': 'LOC'}, {'name': 'Ninoy Aquino International Airport', 'sent_id': 0, 'pos': [26, 30], 'type': 'LOC'}]\n",
      "2 [{'name': 'Pasay City', 'sent_id': 0, 'pos': [31, 33], 'type': 'LOC'}]\n",
      "3 [{'name': 'Metro Manila', 'sent_id': 0, 'pos': [34, 36], 'type': 'LOC'}]\n",
      "4 [{'name': 'Philippines', 'sent_id': 0, 'pos': [38, 39], 'type': 'LOC'}, {'name': 'Philippines', 'sent_id': 4, 'pos': [13, 14], 'type': 'LOC'}, {'name': 'Republic of the Philippines', 'sent_id': 5, 'pos': [25, 29], 'type': 'LOC'}]\n",
      "5 [{'name': 'Manila', 'sent_id': 1, 'pos': [13, 14], 'type': 'LOC'}, {'name': 'Manila', 'sent_id': 3, 'pos': [9, 10], 'type': 'LOC'}]\n",
      "6 [{'name': 'Cebu', 'sent_id': 1, 'pos': [15, 16], 'type': 'LOC'}]\n",
      "7 [{'name': '24', 'sent_id': 1, 'pos': [17, 18], 'type': 'NUM'}]\n",
      "8 [{'name': '2013', 'sent_id': 2, 'pos': [1, 2], 'type': 'TIME'}, {'name': 'August 16, 2013', 'sent_id': 5, 'pos': [1, 5], 'type': 'TIME'}]\n",
      "9 [{'name': 'Philippines AirAsia', 'sent_id': 2, 'pos': [9, 11], 'type': 'ORG'}]\n",
      "10 [{'name': 'Asian Spirit', 'sent_id': 4, 'pos': [5, 7], 'type': 'ORG'}]\n",
      "11 [{'name': 'Civil Aviation Authority of the Philippines', 'sent_id': 5, 'pos': [7, 13], 'type': 'ORG'}, {'name': 'CAAP', 'sent_id': 5, 'pos': [14, 15], 'type': 'ORG'}]\n",
      "12 [{'name': 'Zest Air', 'sent_id': 5, 'pos': [34, 36], 'type': 'ORG'}, {'name': 'Zest Air', 'sent_id': 6, 'pos': [7, 9], 'type': 'ORG'}]\n",
      "13 [{'name': 'a year', 'sent_id': 6, 'pos': [2, 4], 'type': 'NUM'}]\n",
      "14 [{'name': 'AirAsia', 'sent_id': 6, 'pos': [5, 6], 'type': 'ORG'}]\n",
      "15 [{'name': 'AirAsia Philippines', 'sent_id': 7, 'pos': [5, 7], 'type': 'ORG'}]\n",
      "16 [{'name': 'January 2016', 'sent_id': 7, 'pos': [8, 10], 'type': 'TIME'}]\n"
     ]
    }
   ],
   "source": [
    "for i, e in enumerate(vertexSet):\n",
    "    print(i, e)"
   ]
  },
  {
   "cell_type": "code",
   "execution_count": 18,
   "metadata": {},
   "outputs": [
    {
     "name": "stdout",
     "output_type": "stream",
     "text": [
      "head: 0; tail: 2; relation: headquarters location\n",
      "head: 0; tail: 4; relation: country\n",
      "head: 12; tail: 4; relation: country\n",
      "head: 2; tail: 4; relation: country\n",
      "head: 2; tail: 3; relation: located in the administrative territorial entity\n",
      "head: 4; tail: 3; relation: contains administrative territorial entity\n",
      "head: 5; tail: 4; relation: country\n",
      "head: 3; tail: 2; relation: contains administrative territorial entity\n",
      "head: 3; tail: 4; relation: located in the administrative territorial entity\n",
      "head: 3; tail: 4; relation: country\n",
      "head: 1; tail: 2; relation: located in the administrative territorial entity\n",
      "head: 1; tail: 4; relation: country\n",
      "head: 10; tail: 4; relation: country\n"
     ]
    }
   ],
   "source": [
    "for i in range(len(labels['head'])):\n",
    "    print(f\"head: {labels['head'][i]}; tail: {labels['tail'][i]}; relation: {labels['relation_text'][i]}\")"
   ]
  },
  {
   "cell_type": "code",
   "execution_count": 34,
   "metadata": {},
   "outputs": [],
   "source": [
    "def make_triplets(vertexSet, labels):\n",
    "    '''\n",
    "    Returns a list of triplet of format <head, relation, tail>\n",
    "    `head` and `tail` contains a list of \"synonym\" entites (e.g. Swedish and Sweden)\n",
    "    `relation` contains relation_id and relation_text (which explain the relation, e.g. \"country\")\n",
    "    '''\n",
    "\n",
    "    names = []\n",
    "    types = []\n",
    "    triplets = []\n",
    "\n",
    "    head = labels['head']\n",
    "    tail = labels['tail']\n",
    "    relation_ids = labels['relation_id']\n",
    "    relation_texts = labels['relation_text']\n",
    "\n",
    "    if not len(head) == len(tail) == len(relation_texts) == len(relation_ids):\n",
    "        raise ValueError(\"Labels are not unform length\")\n",
    "\n",
    "    # Get names and types from vertexSet\n",
    "    for entities in vertexSet:\n",
    "        sub_names = [entity['name'] for entity in entities]\n",
    "        sub_types = [entity['type'] for entity in entities]\n",
    "        names.append(sub_names)\n",
    "        types.append(sub_types)\n",
    "\n",
    "    # Construct triplets of the format [[head(s)], [relation_id, relation], [tail(s)]]\n",
    "    for i in range(len(head)):\n",
    "        head_index = head[i]\n",
    "        tail_index = tail[i]\n",
    "        relation_id = relation_ids[i]\n",
    "        relation_text = relation_texts[i]\n",
    "\n",
    "        head_entities = names[head_index]\n",
    "        tail_entities = names[tail_index]\n",
    "        relation = [relation_id, relation_text]\n",
    "        triplets.append([head_entities, relation, tail_entities])\n",
    "    \n",
    "    return triplets"
   ]
  },
  {
   "cell_type": "code",
   "execution_count": 35,
   "metadata": {},
   "outputs": [
    {
     "name": "stdout",
     "output_type": "stream",
     "text": [
      "[['Zest Airways, Inc.', 'Asian Spirit and Zest Air', 'AirAsia Zest', 'AirAsia Zest'], ['P159', 'headquarters location'], ['Pasay City']]\n",
      "[['Zest Airways, Inc.', 'Asian Spirit and Zest Air', 'AirAsia Zest', 'AirAsia Zest'], ['P17', 'country'], ['Philippines', 'Philippines', 'Republic of the Philippines']]\n",
      "[['Zest Air', 'Zest Air'], ['P17', 'country'], ['Philippines', 'Philippines', 'Republic of the Philippines']]\n",
      "[['Pasay City'], ['P17', 'country'], ['Philippines', 'Philippines', 'Republic of the Philippines']]\n",
      "[['Pasay City'], ['P131', 'located in the administrative territorial entity'], ['Metro Manila']]\n",
      "[['Philippines', 'Philippines', 'Republic of the Philippines'], ['P150', 'contains administrative territorial entity'], ['Metro Manila']]\n",
      "[['Manila', 'Manila'], ['P17', 'country'], ['Philippines', 'Philippines', 'Republic of the Philippines']]\n",
      "[['Metro Manila'], ['P150', 'contains administrative territorial entity'], ['Pasay City']]\n",
      "[['Metro Manila'], ['P131', 'located in the administrative territorial entity'], ['Philippines', 'Philippines', 'Republic of the Philippines']]\n",
      "[['Metro Manila'], ['P17', 'country'], ['Philippines', 'Philippines', 'Republic of the Philippines']]\n",
      "[['Ninoy Aquino International Airport', 'Ninoy Aquino International Airport'], ['P131', 'located in the administrative territorial entity'], ['Pasay City']]\n",
      "[['Ninoy Aquino International Airport', 'Ninoy Aquino International Airport'], ['P17', 'country'], ['Philippines', 'Philippines', 'Republic of the Philippines']]\n",
      "[['Asian Spirit'], ['P17', 'country'], ['Philippines', 'Philippines', 'Republic of the Philippines']]\n"
     ]
    }
   ],
   "source": [
    "triplets = make_triplets(vertexSet, labels)\n",
    "for t in triplets:\n",
    "    print(t)"
   ]
  },
  {
   "cell_type": "code",
   "execution_count": 36,
   "metadata": {},
   "outputs": [
    {
     "name": "stdout",
     "output_type": "stream",
     "text": [
      "Zest Airways , Inc. operated as AirAsia Zest ( formerly Asian Spirit and Zest Air ) , was a low - cost airline based at the Ninoy Aquino International Airport in Pasay City , Metro Manila in the Philippines .\n",
      "It operated scheduled domestic and international tourist services , mainly feeder services linking Manila and Cebu with 24 domestic destinations in support of the trunk route operations of other airlines .\n",
      "In 2013 , the airline became an affiliate of Philippines AirAsia operating their brand separately .\n",
      "Its main base was Ninoy Aquino International Airport , Manila .\n",
      "The airline was founded as Asian Spirit , the first airline in the Philippines to be run as a cooperative .\n",
      "On August 16 , 2013 , the Civil Aviation Authority of the Philippines ( CAAP ) , the regulating body of the Government of the Republic of the Philippines for civil aviation , suspended Zest Air flights until further notice because of safety issues .\n",
      "Less than a year after AirAsia and Zest Air 's strategic alliance , the airline has been rebranded as AirAsia Zest .\n",
      "The airline was merged into AirAsia Philippines in January 2016 .\n"
     ]
    }
   ],
   "source": [
    "for s in sents:\n",
    "    print(s)"
   ]
  },
  {
   "cell_type": "code",
   "execution_count": 38,
   "metadata": {},
   "outputs": [],
   "source": [
    "model_name = 'dslim/distilbert-NER'\n",
    "tokenizer = AutoTokenizer.from_pretrained(model_name)\n",
    "ner_pipeline = pipeline('ner', model=model_name, tokenizer=tokenizer)"
   ]
  },
  {
   "cell_type": "code",
   "execution_count": 41,
   "metadata": {},
   "outputs": [],
   "source": [
    "def combine_entities(entities):\n",
    "    combined_entities = []\n",
    "    i = 0\n",
    "    while i < len(entities):\n",
    "        current_entity = entities[i]\n",
    "        if current_entity['entity'].startswith('B-'):\n",
    "            entity_type = current_entity['entity'][2:]\n",
    "            combined_entity = {\n",
    "                'entity': entity_type,\n",
    "                'score': current_entity['score'],\n",
    "                'start': current_entity['start'],\n",
    "                'end': current_entity['end'],\n",
    "                'word': current_entity['word']\n",
    "            }\n",
    "            j = i + 1\n",
    "            while j < len(entities):\n",
    "                if entities[j]['word'] == '-':\n",
    "                    combined_entity['word'] += entities[j]['word']\n",
    "                    combined_entity['end'] = entities[j]['end']\n",
    "                    combined_entity['score'] = min(combined_entity['score'], entities[j]['score'])\n",
    "                    j += 1\n",
    "                elif entities[j]['entity'] == f'I-{entity_type}' and (entities[j]['start'] == combined_entity['end'] + 1):\n",
    "                    combined_entity['word'] += ' ' + entities[j]['word']\n",
    "                    combined_entity['end'] = entities[j]['end']\n",
    "                    combined_entity['score'] = min(combined_entity['score'], entities[j]['score'])\n",
    "                    j += 1\n",
    "                elif (entities[j-1]['word'] == '-'):\n",
    "                    combined_entity['word'] += entities[j]['word']\n",
    "                    combined_entity['end'] = entities[j]['end']\n",
    "                    combined_entity['score'] = min(combined_entity['score'], entities[j]['score'])\n",
    "                    j += 1\n",
    "                else:\n",
    "                    break\n",
    "            combined_entities.append(combined_entity)\n",
    "            i = j\n",
    "        else:\n",
    "            i += 1\n",
    "    return combined_entities"
   ]
  },
  {
   "cell_type": "code",
   "execution_count": 57,
   "metadata": {},
   "outputs": [],
   "source": [
    "def merge_result(entities, model_name):\n",
    "    merged_entities = []\n",
    "    current = None\n",
    "\n",
    "    if model_name not in ['dslim/bert-base-NER', 'dslim/distilbert-NER']:\n",
    "        raise ValueError('NER model not compatible.')\n",
    "\n",
    "    for entity in entities:\n",
    "        if current == None:\n",
    "            current = entity\n",
    "        else:\n",
    "            if entity['word'].startswith('##') and entity['start'] == current['end']:\n",
    "                current['word'] += entity['word'][2:]\n",
    "                current['end'] = entity['end']\n",
    "                current['score'] = min(current['score'], entity['score'])\n",
    "            elif entity['start'] == current['end'] and entity['entity'][2:] == current['entity'][2:]:\n",
    "                current['word'] += entity['word']\n",
    "                current['end'] = entity['end']\n",
    "                current['score'] = min(current['score'], entity['score'])\n",
    "            elif entity['start'] + 1 == current['end'] and entity['entity'][2:] == current['entity'][2:]:\n",
    "                current['word'] += ' ' + entity['word']\n",
    "                current['end'] = entity['end']\n",
    "                current['score'] = min(current['score'], entity['score'])\n",
    "            else:\n",
    "                merged_entities.append(current)\n",
    "                current = entity\n",
    "    if current is not None:\n",
    "        merged_entities.append(current)\n",
    "    \n",
    "    return merged_entities"
   ]
  },
  {
   "cell_type": "code",
   "execution_count": 67,
   "metadata": {},
   "outputs": [],
   "source": [
    "def extract_entities(sents, ner_pipeline):\n",
    "    entities = []\n",
    "    for sent in sents:\n",
    "        ner_result = ner_pipeline(sent)\n",
    "        merged_result = merge_result(ner_result, model_name)\n",
    "        joined_result = combine_entities(merged_result)\n",
    "        entities.extend(joined_result)\n",
    "\n",
    "    return entities\n"
   ]
  },
  {
   "cell_type": "code",
   "execution_count": 68,
   "metadata": {},
   "outputs": [
    {
     "name": "stdout",
     "output_type": "stream",
     "text": [
      "{'entity': 'ORG', 'score': 0.4994115, 'start': 0, 'end': 19, 'word': 'Zest Airways , Inc.'}\n",
      "{'entity': 'ORG', 'score': 0.94523096, 'start': 32, 'end': 44, 'word': 'AirAsia Zest'}\n",
      "{'entity': 'ORG', 'score': 0.7765905, 'start': 56, 'end': 72, 'word': 'Asian Spirit and'}\n",
      "{'entity': 'ORG', 'score': 0.7527509, 'start': 73, 'end': 81, 'word': 'Zest Air'}\n",
      "{'entity': 'LOC', 'score': 0.94873, 'start': 124, 'end': 158, 'word': 'Ninoy Aquino International Airport'}\n",
      "{'entity': 'LOC', 'score': 0.9870161, 'start': 162, 'end': 172, 'word': 'Pasay City'}\n",
      "{'entity': 'LOC', 'score': 0.9921524, 'start': 175, 'end': 187, 'word': 'Metro Manila'}\n",
      "{'entity': 'LOC', 'score': 0.97528344, 'start': 195, 'end': 206, 'word': 'Philippines'}\n",
      "{'entity': 'LOC', 'score': 0.998137, 'start': 99, 'end': 105, 'word': 'Manila'}\n",
      "{'entity': 'LOC', 'score': 0.99781895, 'start': 110, 'end': 114, 'word': 'Cebu'}\n",
      "{'entity': 'ORG', 'score': 0.97658587, 'start': 45, 'end': 64, 'word': 'Philippines AirAsia'}\n",
      "{'entity': 'LOC', 'score': 0.72270894, 'start': 18, 'end': 52, 'word': 'Ninoy Aquino International Airport'}\n",
      "{'entity': 'LOC', 'score': 0.9973126, 'start': 55, 'end': 61, 'word': 'Manila'}\n",
      "{'entity': 'ORG', 'score': 0.9719668, 'start': 27, 'end': 39, 'word': 'Asian Spirit'}\n",
      "{'entity': 'LOC', 'score': 0.9934742, 'start': 67, 'end': 78, 'word': 'Philippines'}\n",
      "{'entity': 'ORG', 'score': 0.9621093, 'start': 26, 'end': 69, 'word': 'Civil Aviation Authority of the Philippines'}\n",
      "{'entity': 'ORG', 'score': 0.9978902, 'start': 72, 'end': 76, 'word': 'CAAP'}\n",
      "{'entity': 'ORG', 'score': 0.53751254, 'start': 108, 'end': 153, 'word': 'Government of the Republic of the Philippines'}\n",
      "{'entity': 'ORG', 'score': 0.99121547, 'start': 185, 'end': 193, 'word': 'Zest Air'}\n",
      "{'entity': 'ORG', 'score': 0.99645895, 'start': 23, 'end': 30, 'word': 'AirAsia'}\n",
      "{'entity': 'ORG', 'score': 0.9967843, 'start': 35, 'end': 43, 'word': 'Zest Air'}\n",
      "{'entity': 'ORG', 'score': 0.9578053, 'start': 102, 'end': 114, 'word': 'AirAsia Zest'}\n",
      "{'entity': 'ORG', 'score': 0.7696757, 'start': 28, 'end': 47, 'word': 'AirAsia Philippines'}\n"
     ]
    }
   ],
   "source": [
    "entities = extract_entities(sents, ner_pipeline)\n",
    "for e in entities:\n",
    "    print(e)"
   ]
  },
  {
   "cell_type": "code",
   "execution_count": 63,
   "metadata": {},
   "outputs": [
    {
     "name": "stdout",
     "output_type": "stream",
     "text": [
      "{'entity': 'B-ORG', 'score': 0.9959073, 'index': 1, 'word': 'Zest', 'start': 0, 'end': 4}\n",
      "{'entity': 'B-ORG', 'score': 0.997733, 'index': 2, 'word': '##est', 'start': 1, 'end': 4}\n",
      "{'entity': 'I-ORG', 'score': 0.99700874, 'index': 3, 'word': 'Airways', 'start': 5, 'end': 12}\n",
      "{'entity': 'I-ORG', 'score': 0.4994115, 'index': 4, 'word': ',', 'start': 13, 'end': 14}\n",
      "{'entity': 'I-ORG', 'score': 0.8669601, 'index': 5, 'word': 'Inc.', 'start': 15, 'end': 19}\n",
      "{'entity': 'I-ORG', 'score': 0.90643686, 'index': 6, 'word': '.', 'start': 18, 'end': 19}\n",
      "{'entity': 'B-ORG', 'score': 0.94523096, 'index': 9, 'word': 'AirAsia', 'start': 32, 'end': 39}\n",
      "{'entity': 'B-ORG', 'score': 0.94523096, 'index': 10, 'word': '##As', 'start': 35, 'end': 37}\n",
      "{'entity': 'B-ORG', 'score': 0.9889908, 'index': 11, 'word': '##ia', 'start': 37, 'end': 39}\n",
      "{'entity': 'I-ORG', 'score': 0.9663055, 'index': 12, 'word': 'Zest', 'start': 40, 'end': 44}\n",
      "{'entity': 'I-ORG', 'score': 0.9663055, 'index': 13, 'word': '##est', 'start': 41, 'end': 44}\n",
      "{'entity': 'B-ORG', 'score': 0.9960812, 'index': 16, 'word': 'Asian', 'start': 56, 'end': 61}\n",
      "{'entity': 'I-ORG', 'score': 0.99422354, 'index': 17, 'word': 'Spirit', 'start': 62, 'end': 68}\n",
      "{'entity': 'I-ORG', 'score': 0.7765905, 'index': 18, 'word': 'and', 'start': 69, 'end': 72}\n",
      "{'entity': 'B-ORG', 'score': 0.7527509, 'index': 19, 'word': 'Zest', 'start': 73, 'end': 77}\n",
      "{'entity': 'B-ORG', 'score': 0.92475957, 'index': 20, 'word': '##est', 'start': 74, 'end': 77}\n",
      "{'entity': 'I-ORG', 'score': 0.99716705, 'index': 21, 'word': 'Air', 'start': 78, 'end': 81}\n",
      "{'entity': 'B-LOC', 'score': 0.9514548, 'index': 33, 'word': 'Ninoy', 'start': 124, 'end': 129}\n",
      "{'entity': 'B-LOC', 'score': 0.9514548, 'index': 34, 'word': '##noy', 'start': 126, 'end': 129}\n",
      "{'entity': 'I-LOC', 'score': 0.98231596, 'index': 35, 'word': 'Aquino', 'start': 130, 'end': 136}\n",
      "{'entity': 'I-LOC', 'score': 0.9787137, 'index': 36, 'word': 'International', 'start': 137, 'end': 150}\n",
      "{'entity': 'I-LOC', 'score': 0.94873, 'index': 37, 'word': 'Airport', 'start': 151, 'end': 158}\n",
      "{'entity': 'B-LOC', 'score': 0.9870161, 'index': 39, 'word': 'Pasay', 'start': 162, 'end': 167}\n",
      "{'entity': 'B-LOC', 'score': 0.9870161, 'index': 40, 'word': '##say', 'start': 164, 'end': 167}\n",
      "{'entity': 'I-LOC', 'score': 0.9920316, 'index': 41, 'word': 'City', 'start': 168, 'end': 172}\n",
      "{'entity': 'B-LOC', 'score': 0.9921524, 'index': 43, 'word': 'Metro', 'start': 175, 'end': 180}\n",
      "{'entity': 'I-LOC', 'score': 0.9947172, 'index': 44, 'word': 'Manila', 'start': 181, 'end': 187}\n",
      "{'entity': 'B-LOC', 'score': 0.97528344, 'index': 47, 'word': 'Philippines', 'start': 195, 'end': 206}\n",
      "merged:\n",
      "{'entity': 'B-ORG', 'score': 0.9959073, 'index': 1, 'word': 'Zest', 'start': 0, 'end': 4}\n",
      "{'entity': 'I-ORG', 'score': 0.99700874, 'index': 3, 'word': 'Airways', 'start': 5, 'end': 12}\n",
      "{'entity': 'I-ORG', 'score': 0.4994115, 'index': 4, 'word': ',', 'start': 13, 'end': 14}\n",
      "{'entity': 'I-ORG', 'score': 0.8669601, 'index': 5, 'word': 'Inc.', 'start': 15, 'end': 19}\n",
      "{'entity': 'B-ORG', 'score': 0.94523096, 'index': 9, 'word': 'AirAsia', 'start': 32, 'end': 39}\n",
      "{'entity': 'I-ORG', 'score': 0.9663055, 'index': 12, 'word': 'Zest', 'start': 40, 'end': 44}\n",
      "{'entity': 'B-ORG', 'score': 0.9960812, 'index': 16, 'word': 'Asian', 'start': 56, 'end': 61}\n",
      "{'entity': 'I-ORG', 'score': 0.99422354, 'index': 17, 'word': 'Spirit', 'start': 62, 'end': 68}\n",
      "{'entity': 'I-ORG', 'score': 0.7765905, 'index': 18, 'word': 'and', 'start': 69, 'end': 72}\n",
      "{'entity': 'B-ORG', 'score': 0.7527509, 'index': 19, 'word': 'Zest', 'start': 73, 'end': 77}\n",
      "{'entity': 'I-ORG', 'score': 0.99716705, 'index': 21, 'word': 'Air', 'start': 78, 'end': 81}\n",
      "{'entity': 'B-LOC', 'score': 0.9514548, 'index': 33, 'word': 'Ninoy', 'start': 124, 'end': 129}\n",
      "{'entity': 'I-LOC', 'score': 0.98231596, 'index': 35, 'word': 'Aquino', 'start': 130, 'end': 136}\n",
      "{'entity': 'I-LOC', 'score': 0.9787137, 'index': 36, 'word': 'International', 'start': 137, 'end': 150}\n",
      "{'entity': 'I-LOC', 'score': 0.94873, 'index': 37, 'word': 'Airport', 'start': 151, 'end': 158}\n",
      "{'entity': 'B-LOC', 'score': 0.9870161, 'index': 39, 'word': 'Pasay', 'start': 162, 'end': 167}\n",
      "{'entity': 'I-LOC', 'score': 0.9920316, 'index': 41, 'word': 'City', 'start': 168, 'end': 172}\n",
      "{'entity': 'B-LOC', 'score': 0.9921524, 'index': 43, 'word': 'Metro', 'start': 175, 'end': 180}\n",
      "{'entity': 'I-LOC', 'score': 0.9947172, 'index': 44, 'word': 'Manila', 'start': 181, 'end': 187}\n",
      "{'entity': 'B-LOC', 'score': 0.97528344, 'index': 47, 'word': 'Philippines', 'start': 195, 'end': 206}\n",
      "joined:\n",
      "{'entity': 'ORG', 'score': 0.4994115, 'start': 0, 'end': 19, 'word': 'Zest Airways , Inc.'}\n",
      "{'entity': 'ORG', 'score': 0.94523096, 'start': 32, 'end': 44, 'word': 'AirAsia Zest'}\n",
      "{'entity': 'ORG', 'score': 0.7765905, 'start': 56, 'end': 72, 'word': 'Asian Spirit and'}\n",
      "{'entity': 'ORG', 'score': 0.7527509, 'start': 73, 'end': 81, 'word': 'Zest Air'}\n",
      "{'entity': 'LOC', 'score': 0.94873, 'start': 124, 'end': 158, 'word': 'Ninoy Aquino International Airport'}\n",
      "{'entity': 'LOC', 'score': 0.9870161, 'start': 162, 'end': 172, 'word': 'Pasay City'}\n",
      "{'entity': 'LOC', 'score': 0.9921524, 'start': 175, 'end': 187, 'word': 'Metro Manila'}\n",
      "{'entity': 'LOC', 'score': 0.97528344, 'start': 195, 'end': 206, 'word': 'Philippines'}\n"
     ]
    }
   ],
   "source": [
    "result = [{'entity': 'B-ORG', 'score': 0.9959073, 'index': 1, 'word': 'Z', 'start': 0, 'end': 1}, {'entity': 'B-ORG', 'score': 0.997733, 'index': 2, 'word': '##est', 'start': 1, 'end': 4}, {'entity': 'I-ORG', 'score': 0.99700874, 'index': 3, 'word': 'Airways', 'start': 5, 'end': 12}, {'entity': 'I-ORG', 'score': 0.4994115, 'index': 4, 'word': ',', 'start': 13, 'end': 14}, {'entity': 'I-ORG', 'score': 0.8669601, 'index': 5, 'word': 'Inc', 'start': 15, 'end': 18}, {'entity': 'I-ORG', 'score': 0.90643686, 'index': 6, 'word': '.', 'start': 18, 'end': 19}, {'entity': 'B-ORG', 'score': 0.99389356, 'index': 9, 'word': 'Air', 'start': 32, 'end': 35}, {'entity': 'B-ORG', 'score': 0.94523096, 'index': 10, 'word': '##As', 'start': 35, 'end': 37}, {'entity': 'B-ORG', 'score': 0.9889908, 'index': 11, 'word': '##ia', 'start': 37, 'end': 39}, {'entity': 'I-ORG', 'score': 0.9769206, 'index': 12, 'word': 'Z', 'start': 40, 'end': 41}, {'entity': 'I-ORG', 'score': 0.9663055, 'index': 13, 'word': '##est', 'start': 41, 'end': 44}, {'entity': 'B-ORG', 'score': 0.9960812, 'index': 16, 'word': 'Asian', 'start': 56, 'end': 61}, {'entity': 'I-ORG', 'score': 0.99422354, 'index': 17, 'word': 'Spirit', 'start': 62, 'end': 68}, {'entity': 'I-ORG', 'score': 0.7765905, 'index': 18, 'word': 'and', 'start': 69, 'end': 72}, {'entity': 'B-ORG', 'score': 0.7527509, 'index': 19, 'word': 'Z', 'start': 73, 'end': 74}, {'entity': 'B-ORG', 'score': 0.92475957, 'index': 20, 'word': '##est', 'start': 74, 'end': 77}, {'entity': 'I-ORG', 'score': 0.99716705, 'index': 21, 'word': 'Air', 'start': 78, 'end': 81}, {'entity': 'B-LOC', 'score': 0.96416926, 'index': 33, 'word': 'Ni', 'start': 124, 'end': 126}, {'entity': 'B-LOC', 'score': 0.9514548, 'index': 34, 'word': '##noy', 'start': 126, 'end': 129}, {'entity': 'I-LOC', 'score': 0.98231596, 'index': 35, 'word': 'Aquino', 'start': 130, 'end': 136}, {'entity': 'I-LOC', 'score': 0.9787137, 'index': 36, 'word': 'International', 'start': 137, 'end': 150}, {'entity': 'I-LOC', 'score': 0.94873, 'index': 37, 'word': 'Airport', 'start': 151, 'end': 158}, {'entity': 'B-LOC', 'score': 0.9940953, 'index': 39, 'word': 'Pa', 'start': 162, 'end': 164}, {'entity': 'B-LOC', 'score': 0.9870161, 'index': 40, 'word': '##say', 'start': 164, 'end': 167}, {'entity': 'I-LOC', 'score': 0.9920316, 'index': 41, 'word': 'City', 'start': 168, 'end': 172}, {'entity': 'B-LOC', 'score': 0.9921524, 'index': 43, 'word': 'Metro', 'start': 175, 'end': 180}, {'entity': 'I-LOC', 'score': 0.9947172, 'index': 44, 'word': 'Manila', 'start': 181, 'end': 187}, {'entity': 'B-LOC', 'score': 0.97528344, 'index': 47, 'word': 'Philippines', 'start': 195, 'end': 206}]\n",
    "merged = merge_result(result, model_name)\n",
    "joined = combine_entities(merged)\n",
    "\n",
    "for r in result:\n",
    "    print(r)\n",
    "\n",
    "print('merged:')\n",
    "for m in merged:\n",
    "    print(m)\n",
    "\n",
    "print('joined:')\n",
    "for j in joined:\n",
    "    print(j)\n"
   ]
  }
 ],
 "metadata": {
  "kernelspec": {
   "display_name": "env",
   "language": "python",
   "name": "python3"
  },
  "language_info": {
   "codemirror_mode": {
    "name": "ipython",
    "version": 3
   },
   "file_extension": ".py",
   "mimetype": "text/x-python",
   "name": "python",
   "nbconvert_exporter": "python",
   "pygments_lexer": "ipython3",
   "version": "3.10.13"
  }
 },
 "nbformat": 4,
 "nbformat_minor": 2
}
