{
 "cells": [
  {
   "cell_type": "code",
   "execution_count": 1,
   "metadata": {},
   "outputs": [],
   "source": [
    "from transformers import AutoTokenizer, pipeline\n",
    "from datasets import load_dataset\n",
    "import pandas as pd\n",
    "import itertools\n",
    "from difflib import SequenceMatcher\n",
    "import json\n",
    "import numpy as np\n",
    "\n",
    "import importlib\n",
    "import _RE\n",
    "importlib.reload(_RE)\n",
    "from _RE import join_text, merge_result, combine_entities"
   ]
  },
  {
   "cell_type": "code",
   "execution_count": 2,
   "metadata": {},
   "outputs": [],
   "source": [
    "def get_docred_data(get_distant=False):\n",
    "    docred_data = load_dataset('docred', trust_remote_code=True)\n",
    "    train_annotated = pd.DataFrame(docred_data['train_annotated'])\n",
    "    train_distant = None\n",
    "    if get_distant:\n",
    "        train_distant = pd.DataFrame(docred_data['train_distant'])\n",
    "    test = pd.DataFrame(docred_data['test'])\n",
    "    validation = pd.DataFrame(docred_data['validation'])\n",
    "\n",
    "    return train_annotated, train_distant, test, validation"
   ]
  },
  {
   "cell_type": "code",
   "execution_count": 6,
   "metadata": {},
   "outputs": [],
   "source": [
    "train, _, test, validation = get_docred_data()"
   ]
  },
  {
   "cell_type": "code",
   "execution_count": 3,
   "metadata": {},
   "outputs": [],
   "source": [
    "def get_info(instance):\n",
    "    sents_raw = instance['sents']\n",
    "    sents = [' '.join(sublist) for sublist in sents_raw]\n",
    "\n",
    "    vertexSet = instance['vertexSet']\n",
    "    labels = instance['labels']\n",
    "\n",
    "    return sents, vertexSet, labels"
   ]
  },
  {
   "cell_type": "code",
   "execution_count": 7,
   "metadata": {},
   "outputs": [],
   "source": [
    "sents, entities, labels = get_info(train.iloc[0])"
   ]
  },
  {
   "cell_type": "code",
   "execution_count": 14,
   "metadata": {},
   "outputs": [
    {
     "name": "stdout",
     "output_type": "stream",
     "text": [
      "0 [{'name': 'Zest Airways, Inc.', 'sent_id': 0, 'pos': [0, 4], 'type': 'ORG'}, {'name': 'Asian Spirit and Zest Air', 'sent_id': 0, 'pos': [10, 15], 'type': 'ORG'}, {'name': 'AirAsia Zest', 'sent_id': 0, 'pos': [6, 8], 'type': 'ORG'}, {'name': 'AirAsia Zest', 'sent_id': 6, 'pos': [19, 21], 'type': 'ORG'}]\n",
      "1 [{'name': 'Ninoy Aquino International Airport', 'sent_id': 3, 'pos': [4, 8], 'type': 'LOC'}, {'name': 'Ninoy Aquino International Airport', 'sent_id': 0, 'pos': [26, 30], 'type': 'LOC'}]\n",
      "2 [{'name': 'Pasay City', 'sent_id': 0, 'pos': [31, 33], 'type': 'LOC'}]\n",
      "3 [{'name': 'Metro Manila', 'sent_id': 0, 'pos': [34, 36], 'type': 'LOC'}]\n",
      "4 [{'name': 'Philippines', 'sent_id': 0, 'pos': [38, 39], 'type': 'LOC'}, {'name': 'Philippines', 'sent_id': 4, 'pos': [13, 14], 'type': 'LOC'}, {'name': 'Republic of the Philippines', 'sent_id': 5, 'pos': [25, 29], 'type': 'LOC'}]\n",
      "5 [{'name': 'Manila', 'sent_id': 1, 'pos': [13, 14], 'type': 'LOC'}, {'name': 'Manila', 'sent_id': 3, 'pos': [9, 10], 'type': 'LOC'}]\n",
      "6 [{'name': 'Cebu', 'sent_id': 1, 'pos': [15, 16], 'type': 'LOC'}]\n",
      "7 [{'name': '24', 'sent_id': 1, 'pos': [17, 18], 'type': 'NUM'}]\n",
      "8 [{'name': '2013', 'sent_id': 2, 'pos': [1, 2], 'type': 'TIME'}, {'name': 'August 16, 2013', 'sent_id': 5, 'pos': [1, 5], 'type': 'TIME'}]\n",
      "9 [{'name': 'Philippines AirAsia', 'sent_id': 2, 'pos': [9, 11], 'type': 'ORG'}]\n",
      "10 [{'name': 'Asian Spirit', 'sent_id': 4, 'pos': [5, 7], 'type': 'ORG'}]\n",
      "11 [{'name': 'Civil Aviation Authority of the Philippines', 'sent_id': 5, 'pos': [7, 13], 'type': 'ORG'}, {'name': 'CAAP', 'sent_id': 5, 'pos': [14, 15], 'type': 'ORG'}]\n",
      "12 [{'name': 'Zest Air', 'sent_id': 5, 'pos': [34, 36], 'type': 'ORG'}, {'name': 'Zest Air', 'sent_id': 6, 'pos': [7, 9], 'type': 'ORG'}]\n",
      "13 [{'name': 'a year', 'sent_id': 6, 'pos': [2, 4], 'type': 'NUM'}]\n",
      "14 [{'name': 'AirAsia', 'sent_id': 6, 'pos': [5, 6], 'type': 'ORG'}]\n",
      "15 [{'name': 'AirAsia Philippines', 'sent_id': 7, 'pos': [5, 7], 'type': 'ORG'}]\n",
      "16 [{'name': 'January 2016', 'sent_id': 7, 'pos': [8, 10], 'type': 'TIME'}]\n"
     ]
    }
   ],
   "source": [
    "for i, e in enumerate(entities):\n",
    "    print(i, e)"
   ]
  },
  {
   "cell_type": "code",
   "execution_count": 18,
   "metadata": {},
   "outputs": [
    {
     "name": "stdout",
     "output_type": "stream",
     "text": [
      "head: 0; tail: 2; relation: headquarters location\n",
      "head: 0; tail: 4; relation: country\n",
      "head: 12; tail: 4; relation: country\n",
      "head: 2; tail: 4; relation: country\n",
      "head: 2; tail: 3; relation: located in the administrative territorial entity\n",
      "head: 4; tail: 3; relation: contains administrative territorial entity\n",
      "head: 5; tail: 4; relation: country\n",
      "head: 3; tail: 2; relation: contains administrative territorial entity\n",
      "head: 3; tail: 4; relation: located in the administrative territorial entity\n",
      "head: 3; tail: 4; relation: country\n",
      "head: 1; tail: 2; relation: located in the administrative territorial entity\n",
      "head: 1; tail: 4; relation: country\n",
      "head: 10; tail: 4; relation: country\n"
     ]
    }
   ],
   "source": [
    "for i in range(len(labels['head'])):\n",
    "    print(f\"head: {labels['head'][i]}; tail: {labels['tail'][i]}; relation: {labels['relation_text'][i]}\")"
   ]
  },
  {
   "cell_type": "code",
   "execution_count": null,
   "metadata": {},
   "outputs": [],
   "source": [
    "def make_triplets(vertexSet, labels):\n",
    "    '''\n",
    "    Returns a list of triplet of format <head, relation, tail>\n",
    "    `head` and `tail` contains a list of \"synonym\" entites (e.g. Swedish and Sweden)\n",
    "    `relation` contains relation_id and relation_text (which explain the relation, e.g. \"country\")\n",
    "    '''\n",
    "\n",
    "    names = []\n",
    "    types = []\n",
    "    triplets = []\n",
    "\n",
    "    head = labels['head']\n",
    "    tail = labels['tail']\n",
    "    relation_id = labels['relation_id']\n",
    "    relation = labels['relation_text']\n",
    "\n",
    "    if not len(head) == len(tail) == len(relation):\n",
    "        raise ValueError(\"Labels are not unform length\")\n",
    "\n",
    "    # Get names and types from vertexSet\n",
    "    for entities in vertexSet:\n",
    "        sub_names = [entity['name'] for entity in entities]\n",
    "        sub_types = [entity['type'] for entity in entities]\n",
    "        names.append(sub_names)\n",
    "        types.append(sub_types)\n",
    "\n",
    "    # Construct triplets of the format [[head(s)], [relation_id, relation], [tail(s)]]\n",
    "    for i in range(len(head)):\n",
    "        head_index = head[i]\n",
    "        tail_index = tail[i]\n",
    "        relation_id = relation_id[i]\n",
    "        relation_text = relation_text[i]\n",
    "\n",
    "        head_entities = names[head_index]\n",
    "        tail_entities = names[tail_index]\n",
    "        relation = [relation_id, relation_text]\n",
    "        triplets.append([head_entities, relation, tail_entities])\n",
    "    \n",
    "    return triplets"
   ]
  }
 ],
 "metadata": {
  "kernelspec": {
   "display_name": "env",
   "language": "python",
   "name": "python3"
  },
  "language_info": {
   "codemirror_mode": {
    "name": "ipython",
    "version": 3
   },
   "file_extension": ".py",
   "mimetype": "text/x-python",
   "name": "python",
   "nbconvert_exporter": "python",
   "pygments_lexer": "ipython3",
   "version": "3.10.13"
  }
 },
 "nbformat": 4,
 "nbformat_minor": 2
}
