{
 "cells": [
  {
   "cell_type": "code",
   "execution_count": 23,
   "metadata": {},
   "outputs": [
    {
     "data": {
      "text/plain": [
       "<module 'REBRNN' from '/Users/tiril/Documents/IndividualProject/nuclear_repo/knowledge_extraction/relation_extraction/REBRNN.py'>"
      ]
     },
     "execution_count": 23,
     "metadata": {},
     "output_type": "execute_result"
    }
   ],
   "source": [
    "import importlib\n",
    "import REBRNN\n",
    "import torch\n",
    "import pickle\n",
    "importlib.reload(REBRNN)"
   ]
  },
  {
   "cell_type": "code",
   "execution_count": 24,
   "metadata": {},
   "outputs": [],
   "source": [
    "# Set device\n",
    "device = torch.device('cuda' if torch.cuda.is_available() else 'cpu')\n",
    "\n",
    "# Model for NER \n",
    "model_name = 'dslim/distilbert-NER'\n",
    "\n",
    "# Custom keywords\n",
    "try:\n",
    "    with open('keyword_matching/directory.pkl', 'rb') as file:\n",
    "        keywords = pickle.load(file)\n",
    "except FileNotFoundError or FileExistsError:\n",
    "    with open('directory.pkl', 'rb') as file:\n",
    "        keywords = pickle.load(file)\n",
    "\n",
    "# Hyperparameters\n",
    "input_size = 512\n",
    "num_layers = 4          # may require tuning\n",
    "hidden_size = 256       # may require tuning\n",
    "num_classes = 97        # 96 different relations plus '0' for no relation\n",
    "learning_rate = 0.001   # may require tuning\n",
    "batch_size = 64\n",
    "num_epochs = 5"
   ]
  },
  {
   "cell_type": "code",
   "execution_count": 25,
   "metadata": {},
   "outputs": [],
   "source": [
    "model = REBRNN.RelationExtractorBRNN(\n",
    "    input_size=input_size,\n",
    "    hidden_size=hidden_size,\n",
    "    num_layers=num_layers,\n",
    "    num_classes=num_classes,\n",
    "    batch_size=batch_size,\n",
    "    model_name=model_name,\n",
    "    custom_keywords=keywords,\n",
    "    threshold=0.7\n",
    ")"
   ]
  },
  {
   "cell_type": "code",
   "execution_count": 19,
   "metadata": {},
   "outputs": [
    {
     "name": "stdout",
     "output_type": "stream",
     "text": [
      "Preprocessing took 0.64 minutes. 58 instances (29.00%) exceeded max length.\n",
      "Preprocessing took 0.33 minutes. 36 instances (36.00%) exceeded max length.\n",
      "Preprocessing took 0.34 minutes. 33 instances (33.00%) exceeded max length.\n"
     ]
    }
   ],
   "source": [
    "train_raw, _, test_raw, validation_raw = model.load_data(get_distant=False)\n",
    "\n",
    "length = 100\n",
    "train = model.preprocessor(train_raw, length=2*length)\n",
    "test = model.preprocessor(test_raw, length=length)\n",
    "validation = model.preprocessor(validation_raw, length=length)"
   ]
  },
  {
   "cell_type": "code",
   "execution_count": 27,
   "metadata": {},
   "outputs": [],
   "source": [
    "model.set_data_loaders(train, validation, test)\n"
   ]
  }
 ],
 "metadata": {
  "kernelspec": {
   "display_name": "env",
   "language": "python",
   "name": "python3"
  },
  "language_info": {
   "codemirror_mode": {
    "name": "ipython",
    "version": 3
   },
   "file_extension": ".py",
   "mimetype": "text/x-python",
   "name": "python",
   "nbconvert_exporter": "python",
   "pygments_lexer": "ipython3",
   "version": "3.10.13"
  }
 },
 "nbformat": 4,
 "nbformat_minor": 2
}
