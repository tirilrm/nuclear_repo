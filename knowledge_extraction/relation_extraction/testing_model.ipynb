{
 "cells": [
  {
   "cell_type": "code",
   "execution_count": 654,
   "metadata": {},
   "outputs": [],
   "source": [
    "# Set device\n",
    "device = torch.device('cuda' if torch.cuda.is_available() else 'cpu')\n",
    "\n",
    "# Model for NER \n",
    "model_name = 'dslim/distilbert-NER'\n",
    "\n",
    "# Custom keywords\n",
    "try:\n",
    "    with open('keyword_matching/directory.pkl', 'rb') as file:\n",
    "        keywords = pickle.load(file)\n",
    "except FileNotFoundError or FileExistsError:\n",
    "    with open('directory.pkl', 'rb') as file:\n",
    "        keywords = pickle.load(file)\n",
    "\n",
    "# Hyperparameters\n",
    "input_size = 512\n",
    "output_size = 768\n",
    "num_layers = 4          # may require tuning\n",
    "hidden_size = 256       # may require tuning\n",
    "num_classes = 97        # 96 different relations plus '0' for no relation\n",
    "learning_rate = 0.001   # may require tuning\n",
    "batch_size = 32\n",
    "num_epochs = 5\n",
    "PAIR_EMBEDDING_WIDTH = 1540\n",
    "PAIR_EMBEDDING_LENGTH = 3000"
   ]
  },
  {
   "cell_type": "code",
   "execution_count": 651,
   "metadata": {},
   "outputs": [
    {
     "name": "stdout",
     "output_type": "stream",
     "text": [
      "Starting preprocessing...\n",
      "0.00% finished\n",
      "25.00% finished\n",
      "50.00% finished\n",
      "75.00% finished\n",
      "Preprocessing took 0.81 minutes.\n"
     ]
    }
   ],
   "source": [
    "from torch.utils.data import DataLoader, Dataset\n",
    "import importlib\n",
    "import CustomDocREDDataset\n",
    "importlib.reload(CustomDocREDDataset)\n",
    "\n",
    "length = 100\n",
    "train = CustomDocREDDataset.CustomDocREDDataset(\n",
    "    dataset='train_annotated',\n",
    "    input_size=input_size,\n",
    "    model_name=model_name,\n",
    "    custom_keywords=custom_keywords,\n",
    "    device=device,\n",
    "    length = length*2\n",
    ")\n",
    "'''test = CustomDocREDDataset.CustomDocREDDataset(\n",
    "    dataset='test',\n",
    "    input_size=input_size,\n",
    "    model_name=model_name,\n",
    "    custom_keywords=custom_keywords,\n",
    "    device=device,\n",
    "    length = length\n",
    ")\n",
    "val = CustomDocREDDataset.CustomDocREDDataset(\n",
    "    dataset='validation',\n",
    "    input_size=input_size,\n",
    "    model_name=model_name,\n",
    "    custom_keywords=custom_keywords,\n",
    "    device=device,\n",
    "    length = length\n",
    ")\n",
    "'''\n",
    "train_loader = DataLoader(train, batch_size=batch_size, shuffle=True, collate_fn=CustomDocREDDataset.custom_collate_fn)\n",
    "#test_loader = DataLoader(test, batch_size=batch_size, shuffle=False, collate_fn=CustomDocREDDataset.custom_collate_fn)\n",
    "#val_loader = DataLoader(val, batch_size=batch_size, shuffle=False, collate_fn=CustomDocREDDataset.custom_collate_fn)"
   ]
  },
  {
   "cell_type": "code",
   "execution_count": 688,
   "metadata": {},
   "outputs": [
    {
     "name": "stdout",
     "output_type": "stream",
     "text": [
      "torch.Size([32, 3000])\n",
      "torch.Size([32, 3000])\n",
      "torch.Size([32, 3000])\n",
      "torch.Size([32, 3000])\n",
      "torch.Size([32, 3000])\n",
      "torch.Size([32, 3000])\n",
      "torch.Size([8, 3000])\n"
     ]
    }
   ],
   "source": [
    "import importlib\n",
    "import REBRNN\n",
    "importlib.reload(REBRNN)\n",
    "model = REBRNN.RelationExtractorBRNN(\n",
    "    input_size=output_size,\n",
    "    hidden_size=hidden_size,\n",
    "    num_layers=num_layers,\n",
    "    num_classes=num_classes,\n",
    "    pair_embedding_width=PAIR_EMBEDDING_WIDTH,\n",
    "    pair_embedding_length=PAIR_EMBEDDING_LENGTH,\n",
    "    model_name=model_name,\n",
    "    device=device\n",
    ").to(device)\n",
    "custom_loss_fn = REBRNN.CustomLoss(threshold=0.8)\n",
    "optimizer = optim.Adam(model.parameters(), lr=0.001)\n",
    "model.train()\n",
    "\n",
    "for batch in train_loader:\n",
    "    text_embeddings = batch['text_embeddings']\n",
    "    pair_embeddings = batch['pair_embeddings']\n",
    "    triplet_embeddings = batch['triplet_embeddings']\n",
    "\n",
    "    preds = model(text_embeddings, pair_embeddings) # shape [32, 3000]\n",
    "\n",
    "    # for each item in preds, compare to true label using triplets and custom loss function\n",
    "    # get total loss across batch (alter custom loss function)\n",
    "\n",
    "\n"
   ]
  },
  {
   "cell_type": "code",
   "execution_count": 702,
   "metadata": {},
   "outputs": [
    {
     "name": "stdout",
     "output_type": "stream",
     "text": [
      "Starting preprocessing...\n"
     ]
    }
   ],
   "source": [
    "'''\n",
    "To do:\n",
    "- sanity check ending position\n",
    "'''\n",
    "from datasets import load_dataset\n",
    "from torch.utils.data import DataLoader, Dataset\n",
    "import importlib\n",
    "import CustomDocREDDataset\n",
    "importlib.reload(CustomDocREDDataset)\n",
    "\n",
    "data = load_dataset('docred', trust_remote_code=True)"
   ]
  },
  {
   "cell_type": "code",
   "execution_count": 822,
   "metadata": {},
   "outputs": [
    {
     "name": "stdout",
     "output_type": "stream",
     "text": [
      "Starting preprocessing...\n",
      "Preprocessing skipped.\n"
     ]
    }
   ],
   "source": [
    "import CustomDocREDDataset\n",
    "importlib.reload(CustomDocREDDataset)\n",
    "custom_dataset_class = CustomDocREDDataset.CustomDocREDDataset(\n",
    "    dataset='train_annotated',\n",
    "    input_size=input_size,\n",
    "    model_name=model_name,\n",
    "    custom_keywords=custom_keywords,\n",
    "    device=device,\n",
    "    length = 0\n",
    ")"
   ]
  },
  {
   "cell_type": "code",
   "execution_count": 825,
   "metadata": {},
   "outputs": [],
   "source": [
    "train = pd.DataFrame(data['train_annotated'])\n",
    "distant = pd.DataFrame(data['train_distant'])\n",
    "test = pd.DataFrame(data['test'])\n",
    "val = pd.DataFrame(data['validation'])"
   ]
  },
  {
   "cell_type": "code",
   "execution_count": 824,
   "metadata": {},
   "outputs": [
    {
     "name": "stdout",
     "output_type": "stream",
     "text": [
      "train: []\n",
      "test: []\n",
      "val: []\n"
     ]
    }
   ],
   "source": [
    "def check_indicing(data):\n",
    "    length = len(data)\n",
    "    indices = []\n",
    "\n",
    "    for i in range(length):\n",
    "\n",
    "        instance = train.iloc[i]\n",
    "        raw_sents = instance['sents']\n",
    "\n",
    "        sents, _, _ = custom_dataset_class.get_info(instance)\n",
    "\n",
    "        count1 = sum(len(sent) for sent in raw_sents)\n",
    "        count2 = sum(len(sent.split(' ')) for sent in sents)\n",
    "\n",
    "        if count1 != count2:\n",
    "            indices.append(i)\n",
    "\n",
    "    return indices\n",
    "\n",
    "print('train:', check_indicing(train))\n",
    "print('distant:', check_indicing(distant))\n",
    "print('test:', check_indicing(test))\n",
    "print('val:', check_indicing(val))"
   ]
  },
  {
   "cell_type": "code",
   "execution_count": 823,
   "metadata": {},
   "outputs": [
    {
     "name": "stdout",
     "output_type": "stream",
     "text": [
      "\n",
      "\n",
      "['Then', 'I', 'Saw', 'The', 'Holy', 'City', '\\xa0 ', 'was', 'produced', 'by', 'Brian', 'Coates', ',', 'engineer', '/', 'producer', 'for', 'The', 'Dandy', 'Warhols', ',', 'and', 'released', 'in', 'the', 'fall', 'of', '2004', 'on', 'The', 'Kora', 'Records', '.']\n",
      "['Then', 'I', 'Saw', 'The', 'Holy', 'City', '_', 'was', 'produced', 'by', 'Brian', 'Coates', ',', 'engineer', '/', 'producer', 'for', 'The', 'Dandy', 'Warhols', ',', 'and', 'released', 'in', 'the', 'fall', 'of', '2004', 'on', 'The', 'Kora', 'Records', '.']\n"
     ]
    }
   ],
   "source": [
    "instance = train.iloc[2404]\n",
    "raw_sents = instance['sents']\n",
    "\n",
    "sents, _, _ = custom_dataset_class.get_info(instance)\n",
    "sents_split = [sent.split(' ') for sent in sents]\n",
    "print('\\n')\n",
    "\n",
    "print(raw_sents[4])\n",
    "new = sents_split[4]\n",
    "print(new)"
   ]
  },
  {
   "cell_type": "code",
   "execution_count": 789,
   "metadata": {},
   "outputs": [
    {
     "name": "stdout",
     "output_type": "stream",
     "text": [
      "['In', '2015/16', 'she', 'co', '-', 'wrote', 'for', '[SPACE]', 'Bridget', 'Jones', \"'\", 'Diary', '(', 'musical', ')', '[SPACE]', 'with', 'Lily', 'Allen', 'and', 'Greg', 'Kurstin']\n",
      "['In', '2015/16', 'she', 'co', '-', 'wrote', 'for', ' ', 'Bridget', 'Jones', \"'\", 'Diary', '(', 'musical', ')', ' ', 'with', 'Lily', 'Allen', 'and', 'Greg', 'Kurstin']\n"
     ]
    }
   ],
   "source": [
    "SPACE_TOKEN = '[SPACE]'\n",
    "\n",
    "print(new)\n",
    "\n",
    "for i, word in enumerate(new):\n",
    "    if word == SPACE_TOKEN:\n",
    "        new[i] = ' '\n",
    "\n",
    "print(new)"
   ]
  }
 ],
 "metadata": {
  "kernelspec": {
   "display_name": "env",
   "language": "python",
   "name": "python3"
  },
  "language_info": {
   "codemirror_mode": {
    "name": "ipython",
    "version": 3
   },
   "file_extension": ".py",
   "mimetype": "text/x-python",
   "name": "python",
   "nbconvert_exporter": "python",
   "pygments_lexer": "ipython3",
   "version": "3.10.13"
  }
 },
 "nbformat": 4,
 "nbformat_minor": 2
}
