{
 "cells": [
  {
   "cell_type": "code",
   "execution_count": 2,
   "metadata": {},
   "outputs": [],
   "source": [
    "from transformers import AutoTokenizer, DistilBertModel, pipeline, DistilBertTokenizer, DistilBertForTokenClassification\n",
    "import torch\n",
    "import torch.nn as nn\n",
    "\n",
    "from _RE import combine_entities, merge_result\n",
    "\n",
    "model_name = 'dslim/distilbert-NER'\n",
    "tokenizer = AutoTokenizer.from_pretrained(model_name)\n",
    "ner_pipeline = pipeline('ner', model=model_name, tokenizer=tokenizer)\n",
    "\n",
    "tokenizer = DistilBertTokenizer.from_pretrained('dslim/distilbert-NER')\n",
    "ner_model = DistilBertForTokenClassification.from_pretrained('dslim/distilbert-NER')\n",
    "\n",
    "ner = pipeline()\n",
    "\n",
    "def tokenize_and_ner(sentences):\n",
    "    tokenized_inputs = tokenizer(sentences, padding=True, truncation=True, return_tensors=\"pt\")\n",
    "    with torch.no_grad():\n",
    "        ner_outputs = ner_model(**tokenized_inputs).logits\n",
    "    ner_predictions = torch.argmax(ner_outputs, dim=2)\n",
    "    return tokenized_inputs, ner_predictions\n",
    "\n",
    "sentences = [\n",
    "    \"Zest Airways, Inc. is an airline headquartered in Pasay City, Metro Manila, Philippines.\",\n",
    "    \"AirAsia Zest operates flights out of Ninoy Aquino International Airport.\"\n",
    "]\n",
    "\n",
    "\n",
    "\n",
    "tokenized_inputs, ner_predictions = tokenize_and_ner(sentences)"
   ]
  },
  {
   "cell_type": "code",
   "execution_count": null,
   "metadata": {},
   "outputs": [],
   "source": [
    "reverse_label_map = {\n",
    "    '0': '0',\n",
    "    '1': 'B-PER',\n",
    "    '2': 'I-PER',\n",
    "    '3': 'B-ORG',\n",
    "    '4': 'I-ORG',\n",
    "    '5': 'B-LOC',\n",
    "    '6': 'I-LOC',\n",
    "    '7': 'B-MISC',\n",
    "    '8': 'I-MISC'\n",
    "}"
   ]
  },
  {
   "cell_type": "code",
   "execution_count": 4,
   "metadata": {},
   "outputs": [
    {
     "name": "stdout",
     "output_type": "stream",
     "text": [
      "{'input_ids': tensor([[  101,   163,  2556, 14099,   117,  3561,   119,  1110,  1126,  8694,\n",
      "          9514,  1107, 19585, 27911,  1392,   117,  6431,  9002,   117,  4336,\n",
      "           119,   102],\n",
      "        [  101,  1806, 23390,  1465,   163,  2556,  5049,  7306,  1149,  1104,\n",
      "         27453, 21244, 27194,  1570,  3369,   119,   102,     0,     0,     0,\n",
      "             0,     0]]), 'attention_mask': tensor([[1, 1, 1, 1, 1, 1, 1, 1, 1, 1, 1, 1, 1, 1, 1, 1, 1, 1, 1, 1, 1, 1],\n",
      "        [1, 1, 1, 1, 1, 1, 1, 1, 1, 1, 1, 1, 1, 1, 1, 1, 1, 0, 0, 0, 0, 0]])}\n"
     ]
    }
   ],
   "source": [
    "print(tokenized_inputs)"
   ]
  },
  {
   "cell_type": "code",
   "execution_count": 3,
   "metadata": {},
   "outputs": [
    {
     "name": "stdout",
     "output_type": "stream",
     "text": [
      "tensor([[0, 3, 3, 4, 4, 4, 4, 0, 0, 0, 0, 0, 5, 5, 6, 0, 5, 6, 0, 5, 0, 0],\n",
      "        [0, 3, 3, 3, 4, 4, 0, 0, 0, 0, 5, 5, 6, 6, 6, 0, 0, 5, 0, 0, 0, 5]])\n"
     ]
    }
   ],
   "source": [
    "print(ner_predictions)"
   ]
  }
 ],
 "metadata": {
  "kernelspec": {
   "display_name": "env",
   "language": "python",
   "name": "python3"
  },
  "language_info": {
   "codemirror_mode": {
    "name": "ipython",
    "version": 3
   },
   "file_extension": ".py",
   "mimetype": "text/x-python",
   "name": "python",
   "nbconvert_exporter": "python",
   "pygments_lexer": "ipython3",
   "version": "3.10.13"
  }
 },
 "nbformat": 4,
 "nbformat_minor": 2
}
