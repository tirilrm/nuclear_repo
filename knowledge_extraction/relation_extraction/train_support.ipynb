{
 "cells": [
  {
   "cell_type": "code",
   "execution_count": 2,
   "metadata": {},
   "outputs": [],
   "source": [
    "from datasets import load_dataset\n",
    "import pandas as pd\n",
    "\n",
    "dataset = load_dataset('docred', trust_remote_code=True)\n",
    "annotated = pd.DataFrame(dataset['train_annotated'])\n",
    "\n",
    "index = 6\n",
    "labels = annotated.iloc[index]['labels']\n",
    "vertexSet = annotated['vertexSet'][index]\n",
    "sents = annotated['sents'][index]"
   ]
  },
  {
   "cell_type": "code",
   "execution_count": 3,
   "metadata": {},
   "outputs": [
    {
     "name": "stdout",
     "output_type": "stream",
     "text": [
      "[{'entity': 'LOC', 'score': 0.9793229, 'start': 0, 'end': 5, 'word': 'Alton'}, {'entity': 'LOC', 'score': 0.9377291, 'start': 23, 'end': 40, 'word': 'Mississippi River'}, {'entity': 'LOC', 'score': 0.9869969, 'start': 44, 'end': 58, 'word': 'Madison County'}, {'entity': 'LOC', 'score': 0.98909783, 'start': 60, 'end': 68, 'word': 'Illinois'}, {'entity': 'LOC', 'score': 0.9942251, 'start': 70, 'end': 83, 'word': 'United States'}, {'entity': 'LOC', 'score': 0.9827471, 'start': 99, 'end': 108, 'word': '##St. Louis'}, {'entity': 'LOC', 'score': 0.82223284, 'start': 110, 'end': 118, 'word': 'Missouri'}, {'entity': 'LOC', 'score': 0.666045, 'start': 185, 'end': 195, 'word': 'Metro-East'}, {'entity': 'LOC', 'score': 0.9800986, 'start': 210, 'end': 226, 'word': 'GreaterSt. Louis'}, {'entity': 'MISC', 'score': 0.97278136, 'start': 357, 'end': 375, 'word': 'American Civil War'}, {'entity': 'PER', 'score': 0.9964664, 'start': 415, 'end': 426, 'word': 'Miles Davis'}, {'entity': 'PER', 'score': 0.9960687, 'start': 431, 'end': 444, 'word': 'Robert Wadlow'}, {'entity': 'PER', 'score': 0.8549346, 'start': 511, 'end': 526, 'word': 'Abraham Lincoln'}, {'entity': 'PER', 'score': 0.9871924, 'start': 531, 'end': 546, 'word': 'Stephen Douglas'}, {'entity': 'LOC', 'score': 0.9905234, 'start': 604, 'end': 609, 'word': 'Alton'}, {'entity': 'MISC', 'score': 0.9789241, 'start': 630, 'end': 639, 'word': 'Civil War'}, {'entity': 'MISC', 'score': 0.9519177, 'start': 660, 'end': 671, 'word': 'Confederate'}]\n"
     ]
    }
   ],
   "source": [
    "from transformers import AutoTokenizer, DistilBertModel, pipeline, DistilBertTokenizer, DistilBertForTokenClassification\n",
    "import torch\n",
    "import torch.nn as nn\n",
    "from _RE import combine_entities, merge_result, join_text\n",
    "\n",
    "model_name = 'dslim/distilbert-NER'\n",
    "tokenizer = AutoTokenizer.from_pretrained(model_name)\n",
    "ner_pipeline = pipeline('ner', model=model_name, tokenizer=tokenizer)\n",
    "\n",
    "text = join_text(sents)\n",
    "\n",
    "preds = ner_pipeline(text)\n",
    "result = ner_pipeline(text)\n",
    "merged_result = merge_result(result, model_name)\n",
    "entities = combine_entities(merged_result)\n",
    "\n",
    "print(entities)"
   ]
  },
  {
   "cell_type": "code",
   "execution_count": null,
   "metadata": {},
   "outputs": [],
   "source": [
    "reverse_label_map = {\n",
    "    '0': '0',\n",
    "    '1': 'B-PER',\n",
    "    '2': 'I-PER',\n",
    "    '3': 'B-ORG',\n",
    "    '4': 'I-ORG',\n",
    "    '5': 'B-LOC',\n",
    "    '6': 'I-LOC',\n",
    "    '7': 'B-MISC',\n",
    "    '8': 'I-MISC'\n",
    "}"
   ]
  },
  {
   "cell_type": "code",
   "execution_count": 4,
   "metadata": {},
   "outputs": [
    {
     "name": "stdout",
     "output_type": "stream",
     "text": [
      "{'input_ids': tensor([[  101,   163,  2556, 14099,   117,  3561,   119,  1110,  1126,  8694,\n",
      "          9514,  1107, 19585, 27911,  1392,   117,  6431,  9002,   117,  4336,\n",
      "           119,   102],\n",
      "        [  101,  1806, 23390,  1465,   163,  2556,  5049,  7306,  1149,  1104,\n",
      "         27453, 21244, 27194,  1570,  3369,   119,   102,     0,     0,     0,\n",
      "             0,     0]]), 'attention_mask': tensor([[1, 1, 1, 1, 1, 1, 1, 1, 1, 1, 1, 1, 1, 1, 1, 1, 1, 1, 1, 1, 1, 1],\n",
      "        [1, 1, 1, 1, 1, 1, 1, 1, 1, 1, 1, 1, 1, 1, 1, 1, 1, 0, 0, 0, 0, 0]])}\n"
     ]
    }
   ],
   "source": [
    "print(tokenized_inputs)"
   ]
  },
  {
   "cell_type": "code",
   "execution_count": 3,
   "metadata": {},
   "outputs": [
    {
     "name": "stdout",
     "output_type": "stream",
     "text": [
      "tensor([[0, 3, 3, 4, 4, 4, 4, 0, 0, 0, 0, 0, 5, 5, 6, 0, 5, 6, 0, 5, 0, 0],\n",
      "        [0, 3, 3, 3, 4, 4, 0, 0, 0, 0, 5, 5, 6, 6, 6, 0, 0, 5, 0, 0, 0, 5]])\n"
     ]
    }
   ],
   "source": [
    "print(ner_predictions)"
   ]
  },
  {
   "cell_type": "code",
   "execution_count": 10,
   "metadata": {},
   "outputs": [
    {
     "ename": "NameError",
     "evalue": "name 'join_tokens' is not defined",
     "output_type": "error",
     "traceback": [
      "\u001b[0;31m---------------------------------------------------------------------------\u001b[0m",
      "\u001b[0;31mNameError\u001b[0m                                 Traceback (most recent call last)",
      "Cell \u001b[0;32mIn[10], line 15\u001b[0m\n\u001b[1;32m      9\u001b[0m \u001b[38;5;66;03m# Sample sentences\u001b[39;00m\n\u001b[1;32m     10\u001b[0m sentences \u001b[38;5;241m=\u001b[39m [\n\u001b[1;32m     11\u001b[0m     \u001b[38;5;124m\"\u001b[39m\u001b[38;5;124mZest Airways, Inc. is an airline headquartered in Pasay City, Metro Manila, Philippines.\u001b[39m\u001b[38;5;124m\"\u001b[39m,\n\u001b[1;32m     12\u001b[0m     \u001b[38;5;124m\"\u001b[39m\u001b[38;5;124mAirAsia Zest operates flights out of Ninoy Aquino International Airport.\u001b[39m\u001b[38;5;124m\"\u001b[39m\n\u001b[1;32m     13\u001b[0m ]\n\u001b[0;32m---> 15\u001b[0m text \u001b[38;5;241m=\u001b[39m \u001b[43mjoin_tokens\u001b[49m(sentences)\n\u001b[1;32m     16\u001b[0m result \u001b[38;5;241m=\u001b[39m ner_pipeline(text)\n\u001b[1;32m     17\u001b[0m merged_result \u001b[38;5;241m=\u001b[39m merge_result(result, model_name)\n",
      "\u001b[0;31mNameError\u001b[0m: name 'join_tokens' is not defined"
     ]
    }
   ],
   "source": [
    "import torch\n",
    "from transformers import AutoTokenizer, AutoModelForTokenClassification\n",
    "\n",
    "# Load the tokenizer and NER model\n",
    "model_name = 'dslim/distilbert-NER'\n",
    "tokenizer = AutoTokenizer.from_pretrained(model_name)\n",
    "ner_pipeline = pipeline('ner', model=model_name, tokenizer=tokenizer)\n",
    "\n",
    "# Sample sentences\n",
    "sentences = [\n",
    "    \"Zest Airways, Inc. is an airline headquartered in Pasay City, Metro Manila, Philippines.\",\n",
    "    \"AirAsia Zest operates flights out of Ninoy Aquino International Airport.\"\n",
    "]\n",
    "\n",
    "text = join_tokens(sentences)\n",
    "result = ner_pipeline(text)\n",
    "merged_result = merge_result(result, model_name)"
   ]
  }
 ],
 "metadata": {
  "kernelspec": {
   "display_name": "env",
   "language": "python",
   "name": "python3"
  },
  "language_info": {
   "codemirror_mode": {
    "name": "ipython",
    "version": 3
   },
   "file_extension": ".py",
   "mimetype": "text/x-python",
   "name": "python",
   "nbconvert_exporter": "python",
   "pygments_lexer": "ipython3",
   "version": "3.10.13"
  }
 },
 "nbformat": 4,
 "nbformat_minor": 2
}
