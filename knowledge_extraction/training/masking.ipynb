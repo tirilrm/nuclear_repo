{
 "cells": [
  {
   "cell_type": "code",
   "execution_count": 65,
   "metadata": {},
   "outputs": [
    {
     "name": "stdout",
     "output_type": "stream",
     "text": [
      "JSON loaded successfully\n"
     ]
    }
   ],
   "source": [
    "import pandas as pd\n",
    "\n",
    "file_path = '../../scraping/articles/all_articles.json'\n",
    "with open(file_path, 'r') as file:\n",
    "    try:\n",
    "        df = pd.read_json(file_path)\n",
    "        print('JSON loaded successfully')\n",
    "    except ValueError as e:\n",
    "        print(f'Error loading JSON: {e}')\n",
    "\n",
    "earliest = pd.to_datetime('2022-06-14')\n",
    "latest = pd.to_datetime('2024-06-14')\n",
    "df = df[(df['date'] >= earliest) & (df['date'] <= latest)]"
   ]
  },
  {
   "cell_type": "code",
   "execution_count": 90,
   "metadata": {},
   "outputs": [],
   "source": [
    "# get_stats()\n",
    "import pandas as pd\n",
    "import random\n",
    "pd.set_option('display.max_columns', None)\n",
    "pd.set_option('display.width', 1000)\n",
    "\n",
    "def count_words(paragraphs):\n",
    "    if paragraphs is None:\n",
    "        return 0\n",
    "    return sum(len(paragraph.split()) for paragraph in paragraphs if paragraph)\n",
    "\n"
   ]
  },
  {
   "cell_type": "code",
   "execution_count": 79,
   "metadata": {},
   "outputs": [],
   "source": [
    "import random\n",
    "import numpy as np\n",
    "import pandas as pd\n",
    "\n",
    "def split_data(data, train_frac=.70, test_frac=.15, validation_frac=.15, random_seed=None):\n",
    "\n",
    "    if random_seed is not None:\n",
    "        np.random.seet(random_seed)\n",
    "\n",
    "    total_length = data.shape[0]\n",
    "    indices = np.random.permutation(total_length)\n",
    "\n",
    "    train_cutoff = int(total_length*train_frac)\n",
    "    test_cutoff = train_cutoff + int(total_length*test_frac)\n",
    "\n",
    "    train_indices = indices[:train_cutoff]\n",
    "    test_indices = indices[train_cutoff:test_cutoff]\n",
    "    validation_indices = indices[test_cutoff:]\n",
    "\n",
    "    train = data.iloc[train_indices]\n",
    "    test = data.iloc[test_indices]\n",
    "    validation = data.iloc[validation_indices]\n",
    "    \n",
    "    print('DATA SPLIT:')\n",
    "    print(f'Train Data Shape:         {train.shape}')\n",
    "    print(f'Test Data Shape:          {test.shape}')\n",
    "    print(f'Validation Data Shape:    {validation.shape}')\n",
    "\n",
    "    return train, test, validation\n"
   ]
  },
  {
   "cell_type": "code",
   "execution_count": 94,
   "metadata": {},
   "outputs": [
    {
     "name": "stdout",
     "output_type": "stream",
     "text": [
      "DATA SPLIT:\n",
      "Train Data Shape:         (2517, 6)\n",
      "Test Data Shape:          (539, 6)\n",
      "Validation Data Shape:    (541, 6)\n"
     ]
    }
   ],
   "source": [
    "train, test, validation = split_data(df)\n",
    "\n",
    "#get_stats(train, 'train')\n",
    "#get_stats(test, 'test')\n",
    "#get_stats(validation, 'validation')"
   ]
  },
  {
   "cell_type": "code",
   "execution_count": null,
   "metadata": {},
   "outputs": [],
   "source": []
  },
  {
   "cell_type": "code",
   "execution_count": null,
   "metadata": {},
   "outputs": [],
   "source": []
  }
 ],
 "metadata": {
  "kernelspec": {
   "display_name": "env",
   "language": "python",
   "name": "python3"
  },
  "language_info": {
   "codemirror_mode": {
    "name": "ipython",
    "version": 3
   },
   "file_extension": ".py",
   "mimetype": "text/x-python",
   "name": "python",
   "nbconvert_exporter": "python",
   "pygments_lexer": "ipython3",
   "version": "3.10.13"
  }
 },
 "nbformat": 4,
 "nbformat_minor": 2
}
