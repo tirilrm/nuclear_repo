{
 "cells": [
  {
   "cell_type": "code",
   "execution_count": 24,
   "metadata": {},
   "outputs": [
    {
     "data": {
      "text/plain": [
       "\"\\nStructure of Json file:\\n{\\n    'url': <url>\\n    'title': <title>\\n    'author': <author>\\n    'date': <date>\\n    'text': <full text body>\\n}\\n\""
      ]
     },
     "execution_count": 24,
     "metadata": {},
     "output_type": "execute_result"
    }
   ],
   "source": [
    "import requests\n",
    "from bs4 import BeautifulSoup\n",
    "import pandas as pd\n",
    "\n",
    "'''\n",
    "Structure of Json file:\n",
    "{\n",
    "    'url': <url>\n",
    "    'title': <title>\n",
    "    'author': <author>\n",
    "    'date': <date>\n",
    "    'text': <full text body>\n",
    "}\n",
    "'''"
   ]
  },
  {
   "cell_type": "code",
   "execution_count": 31,
   "metadata": {},
   "outputs": [
    {
     "name": "stdout",
     "output_type": "stream",
     "text": [
      "Porvair's role in China’s small modular reactor development\n",
      "13 April 2015\n",
      "Porvair Filtration Group has announced its role in the High Temperature Gas-Cooled Reactor (HTGR) currently being developed at Tsinghua University in China. The British company said the technology has the potential to create affordable and reliable energy in some of the world's poorest and most remote countries.\n",
      "The High Temperature Gas-Cooled Reactor being developed at Tsinghua University in China (Image: Porvair)\n",
      "The reactors will be used to provide economic, environmentally-friendly power to communities which are not connected to national or international grids, but they could also be used to facilitate \"power-hungry\" industrial processes, such as salt water desalinisation in these isolated areas, Porvair said.\n",
      "The university's Institute for Nuclear and New Energy Technology has conducted research on HTGR fuel element technology over the past 30 years. Porvair is developing self-cleaning filtration systems to manage the dust issues associated with the carbon-encased balls which are used to power the reactor.\n",
      "\"These miniature nuclear power plants can generate up to 500 MWe but are small enough that they can be sited where power is needed, even in remote areas where it has never before been practical or economical to build nuclear plants,\" Porvair said.\n"
     ]
    }
   ],
   "source": [
    "# WNN print test\n",
    "import requests\n",
    "from bs4 import BeautifulSoup\n",
    "\n",
    "f = open('WNN_urls.txt', 'r')\n",
    "urls_raw = f.read()\n",
    "urls = urls_raw.split('\\n')\n",
    "\n",
    "url = 'https://www.world-nuclear-news.org/Articles/Porvair-s-role-in-China%E2%80%99s-small-modular-reactor-de'\n",
    "headers = {\n",
    "    \"User-Agent\": \"Mozilla/5.0 (Windows NT 10.0; Win64; x64) AppleWebKit/537.36 (KHTML, like Gecko) Chrome/91.0.4472.124 Safari/537.36\"\n",
    "}\n",
    "\n",
    "response = requests.get(url, headers=headers)\n",
    "soup = BeautifulSoup(response.content, 'html.parser')\n",
    "\n",
    "article_all = soup.find('div', class_= 'ArticleBody').get_text(separator=\"\\n\", strip=True)\n",
    "text_content = article_all.split('\\n')\n",
    "title = text_content[0]\n",
    "date = soup.find('div', class_='col-md-8 ArticleBody').find('p').text\n",
    "\n",
    "print(title)\n",
    "print(date)\n",
    "\n",
    "unwanteds = ['related topics']\n",
    "text=[]\n",
    "if text_content:\n",
    "    filtered_content = []\n",
    "    for line in text_content:\n",
    "        if not any(unwanted in line.lower() \\\n",
    "                   for unwanted in unwanteds) \\\n",
    "                    and len(line) > 25 and line not in title:\n",
    "            text.append(line)\n",
    "else:\n",
    "    print(\"Article content not found.\")\n",
    "for t in text:\n",
    "    print(t)\n"
   ]
  },
  {
   "cell_type": "code",
   "execution_count": 22,
   "metadata": {},
   "outputs": [
    {
     "name": "stdout",
     "output_type": "stream",
     "text": [
      "Conservatives pledge to slash infrastructure delivery times and prioritise energy security\n",
      "14 Jun, 2024\n",
      "Rob Hakimian\n",
      "The Conservative Party says it will speed up the average time it takes to consent major infrastructure projects from four years to one if it is in power following the General Election.\n",
      "Conservative Party Manifesto 2024\n",
      "also promises an order of two fleets of small modular reactors (SMRs) with in the party’s first 100 days in office among other actions to “prioritise our energy security”.\n",
      "Speeding up infrastructure delivery\n",
      "Among its actions to speed up infrastructure delivery, the Tory party pledges to “introduce reforms to outdated EU red tape to better protect nature while enabling the building of new homes, new prisons and new energy schemes”. This will reform the “EU’s bureaucratic environmental impact assessment regime” to speed up local and national infrastructure planning systems.\n",
      "The party will ensure that “requirements to offset the impact of new infrastructure and homes on an area are proportionate, without compromising environmental outcomes”.\n",
      "Quicker changes to consented projects will be allowed, reducing the cost of infrastructure, according to the party.\n",
      "National Policy Statements will be regularly updated under a new Conservative government.\n",
      "The reformed planning system will ensure that statutory consultees on major infrastructure will focus on “improving projects in line with clearer objectives, rather than piecemeal requirements that add delays”.\n",
      "The Tories will also “end frivolous legal challenges that frustrate infrastructure delivery by amending the law so judicial reviews that don’t have merit do not waste court time”.\n",
      "Delivering energy security\n",
      "The Tory party pledges to shore up UK energy security by legislating for annual licencing rounds for oil and gas production from the North Sea.\n",
      "The windfall tax on firms, introduced in 2022, will remain in place until 2028-29, “unless prices fall back to normal sooner”.\n",
      "A Tory government would also deliver new gas power stations “to maintain a safe and reliable energy source for days when the weather doesn’t power up renewables”.\n",
      "On renewables, it has pledged to treble the UK’s offshore wind capacity and build the first two carbon capture and storage clusters in north Wales and on Teesside. It would additionally provide a bonus, on top of contract payments that support offshore wind, to reward energy firms that invest in manufacturing in the most disadvantaged places in the UK or invest in more sustainable supply chains.\n",
      "It would invest £1.1bn into the Green Industries Growth Accelerator to support “British manufacturing capabilities, boost supply chains and ensure our energy transition is made in Britain”.\n",
      "Building on the establishment of Great British Nuclear, a newly elected Conservative government would approve two fleets of SMRs within its first 100 days. It says this will “rapidly expand nuclear power, create well-paid, high-skilled jobs and deliver cheaper, cleaner and more secure energy”.\n",
      "Additionally, the Tories would halve the time needed to approve new nuclear reactors. It wil do this by allowing regulators to assess projects while designs are being finalised, improving join-up with overseas regulators assessing the same technology and speeding up planning and environmental approvals.\n",
      "It has reiterated its commitment to building the next large-scale nuclear plant at Wylfa in north Wales alongside completing the delivery of Hinkley Point C and Sizewell C.\n",
      "Overall, these actions will “help the UK to become a net exporter of electricity” thus bringing in additional revenue according to the Tory manifesto.\n",
      "A new carbon pricing mechanism would be put in place by 2027 to ensure that imports of iron, steel, aluminium, ceramics and cement from countries with a lower or no carbon price will face a comparable carbon price to those goods produced in the UK.\n",
      "‘Pragmatic’ approach to net zero\n",
      "A new Conservative government would take a “pragmatic, proportionate and realistic” approach to net zero.\n",
      "This will include a vote in the next Parliament “on the next stage of our pathway, with adoption of any new target accompanied by proper consideration of the plans and policies required to meet the target, to maintain democratic consent for the big decisions that net zero will mean for our country”.\n",
      "Green levies on household bills will be lower under the Tories. The party has promised that energy bills will be lower in each year of the next Parliament than they were in 2023. There would be no further green levies, it has confirmed.\n",
      "It would also reform the Climate Change Committee, “giving it an explicit mandate to consider cost to households and UK energy security in its future climate advice”.\n",
      "The infrastructure investment pledges made in the Conservative Manifesto are a reiteration of promises made in the\n",
      "document released in October 2023 after the cancellation of High Speed 2 (HS2).\n",
      "It promises to spend £36bn of “HS2 savings” on filling potholes, delivering Northern Powerhouse Railway, a new station in Bradford, build the Midlands Rail Hub, deliver upgrades to South West railways, upgrade Ely Junction, electrify the North Wales main line, and reopen abandoned railways among other schemes.\n",
      "It has reiterated support for major road schemes Lower Thames Crossing and the A303 Stonehenge Tunnel.\n",
      "It has further promised that automated vehicles will be on the roads in the next Parliament, “thanks to our world-leading legislation”.\n",
      "It has also pledged support for the growth and decarbonisation of the UK’s aviation sector, with little detail other than the use of sustainable aviation fuels and investment in “future aviation technology”. “We will support domestic flights including through Public Service Obligations, protecting vital routes within the UK, including to islands and remote areas,” it states.\n",
      "Support will also be shown to the maritime sector and its decarbonisation and it promises to “foster our science and innovation expertise in the space industry”. There is little to no further detail on these promises.\n",
      "The Nuclear Industry Association chief executive Tom Greatrex said the nuclear industry “will welcome the continuing commitment to both large and small nuclear projects as an integral part of a balanced, secure and reliable power mix for the future”.\n",
      "He continued: “Cutting the time taken by government to approve new projects is essential to have the pace in delivery which is required for an energy secure future. Sizewell, Wylfa and other sites will play a crucial role, and see the jobs, growth and economic activity that come with new nuclear in all parts of the country.”\n",
      "Conversely, capaign group Stop Sizewell C reacted negatively, saying that the manifesto “overlooks the inconvenient fact that Sizewell C still hasn’t achieved a Final Investment Decision, while refusing to state both how much taxpayers’ money would be required to get it built, and how much households would have to pay during its lengthy and risky construction”.\n",
      "The group continued: “Ironically, given the Conservatives’ desire to halve reactor approval time, this Party seems prepared to commit billions to EDF's disastrous EPR technology, despite it being proven to be so expensive and unreliable.”\n"
     ]
    }
   ],
   "source": [
    "# NCE print test\n",
    "import requests\n",
    "from bs4 import BeautifulSoup\n",
    "\n",
    "url = 'https://www.newcivilengineer.com/latest/conservatives-pledge-to-slash-infrastructure-delivery-times-and-prioritise-energy-security-11-06-2024/'\n",
    "headers = {\n",
    "    \"User-Agent\": \"Mozilla/5.0 (Windows NT 10.0; Win64; x64) AppleWebKit/537.36 (KHTML, like Gecko) Chrome/91.0.4472.124 Safari/537.36\"\n",
    "}\n",
    "\n",
    "response = requests.get(url, headers=headers)\n",
    "soup = BeautifulSoup(response.content, 'html.parser')\n",
    "\n",
    "magasine = 'New Civil Engineer'\n",
    "\n",
    "title = soup.find('h1', class_='name entry-title').text\n",
    "date = soup.find('span', class_='tie-date').get_text()\n",
    "author = soup.find('a', class_='author url fn').text\n",
    "article_all = soup.find('div', class_= 'entry').get_text(separator=\"\\n\", strip=True)\n",
    "text_content = article_all.split('\\n')\n",
    "\n",
    "print(title)\n",
    "print(date)\n",
    "print(author)\n",
    "text = []\n",
    "unwanteds = ['to receive new civil engineer\\'s', 'like what you\\'ve read?']\n",
    "if text_content:\n",
    "    filtered_content = []\n",
    "    for line in text_content:\n",
    "        if not any(unwanted in line.lower() \\\n",
    "                   for unwanted in unwanteds) \\\n",
    "                    and len(line) > 25:\n",
    "            print(line)\n",
    "            text.append(line)\n",
    "else:\n",
    "    print(\"Article content not found.\")\n",
    "\n"
   ]
  },
  {
   "cell_type": "code",
   "execution_count": 93,
   "metadata": {},
   "outputs": [
    {
     "name": "stdout",
     "output_type": "stream",
     "text": [
      "Turbine installation begins at unit 1 of Kursk-II NPP\n",
      "Work is underway to install the first turbine at unit 1 of Russia’s Kursk-II NPP. Placing a turbine unit on a rotating device (VPU – ValoPovorotnoe Ustroistvo) is one of the key operations during the commissioning period, which demonstrates the high technical readiness of the turbine unit and its auxiliary systems for testing during the cold and hot testing of the reactor plant. This was preceded by a large complex of work related to the installation of all turbine elements, alignment of the shaft line, inspection and testing.\n",
      "“Putting the turbine unit on the VPU is the final point in the installation of the turbine and generator, after which the turbine unit will no longer be opened until the first scheduled repair,” said Kursk NPP Plant Director Alexander Uvakin. “The next key event in the unit 1 turbine room will be a vacuum test set, which is scheduled for mid-July. We are now conducting full-scale preparations for this operation, which involves a number of facilities of the start-up complex and various services of the station. This work must be completed before the physical start-up.”\n",
      "The VPU is driven by a 30 kW electric motor. At the time of commissioning, the task of cranking the turbogenerator from the VPU is to check the correct assembly of the turbine, evaluate the alignment of all elements and the readiness of various systems for start-up. According to the technical requirements, during installation the tolerance for divergence in the turbine axes is no more than 0.03 mm.\n",
      "“During the rotation of the turbine, no defects were detected – this indicates a high level of assembly and careful joining of all its elements,” said Oleg Shperle, Vice President of Atomstroyexport JSC and Project Director for the construction of Kursk-II. “The shaft turning device is an important equipment of a turbine unit. It is mounted on a cover of two bearings. The VPU ensures rotation of the rotors at a frequency of 1.05 rpm for their uniform heating during startup and cooling when the turbine is stopped. This prevents the rotors from bending during operation. During industrial operation of the first power unit of Kursk-II, the rotation speed of the turbine unit blades will be 1,500 rpm. Completion of this stage is another step to ensure the timely physical start-up of the power unit.”\n",
      "Kursk II will replace the currently operating Kursk NPP, which comprises four ageing RBMK reactors (one of which is already closed). Units 1&2, currently under construction, will have VVER-TOI reactors – a development of the VVER-1200 reactor design. The VVER-TOI has increased power and improved technical and economic indicators, as well as increased resistance to extreme external influences.\n"
     ]
    }
   ],
   "source": [
    "# NEI print test\n",
    "import requests\n",
    "from bs4 import BeautifulSoup\n",
    "\n",
    "url = 'https://www.neimagazine.com/news/turbine-installation-begins-at-unit-1-of-kursk-ii-npp/'\n",
    "headers = {\n",
    "    \"User-Agent\": \"Mozilla/5.0 (Windows NT 10.0; Win64; x64) AppleWebKit/537.36 (KHTML, like Gecko) Chrome/91.0.4472.124 Safari/537.36\"\n",
    "}\n",
    "\n",
    "response = requests.get(url, headers=headers)\n",
    "soup = BeautifulSoup(response.content, 'html.parser')\n",
    "\n",
    "header = soup.find('h1', class_='article-header__title').get_text()\n",
    "article_all = header + '\\n' + soup.find('section', class_= 'article-content').get_text(separator=\"\\n\", strip=True)\n",
    "text_content = article_all.split('\\n')\n",
    "\n",
    "unwanteds = [\"share this article\", \"sign up\", \"image courtesy of\", \"partner content\", \"copy link\", \"share on\", 'give your business an edge']\n",
    "\n",
    "if text_content:\n",
    "    # Extract and print the text\n",
    "    \n",
    "    filtered_content = []\n",
    "    for line in text_content:\n",
    "        if not any(unwanted in line.lower() \\\n",
    "                   for unwanted in unwanteds) \\\n",
    "                    and len(line) > 25:\n",
    "            filtered_content.append(line)\n",
    "    \n",
    "    #print(header)\n",
    "    #print(text_content)\n",
    "else:\n",
    "    print(\"Article content not found.\")\n",
    "\n",
    "for line in filtered_content:\n",
    "    print(line)\n"
   ]
  },
  {
   "cell_type": "code",
   "execution_count": 95,
   "metadata": {},
   "outputs": [
    {
     "name": "stdout",
     "output_type": "stream",
     "text": [
      "Login failed\n"
     ]
    },
    {
     "ename": "",
     "evalue": "",
     "output_type": "error",
     "traceback": [
      "\u001b[1;31mThe Kernel crashed while executing code in the current cell or a previous cell. \n",
      "\u001b[1;31mPlease review the code in the cell(s) to identify a possible cause of the failure. \n",
      "\u001b[1;31mClick <a href='https://aka.ms/vscodeJupyterKernelCrash'>here</a> for more info. \n",
      "\u001b[1;31mView Jupyter <a href='command:jupyter.viewOutput'>log</a> for further details."
     ]
    }
   ],
   "source": [
    "#NucNet print test\n",
    "import requests\n",
    "from bs4 import BeautifulSoup\n",
    "\n",
    "session = requests.Session()\n",
    "\n",
    "login_url = 'https://www.nucnet.org/users/sign_in'\n",
    "login_payload = {\n",
    "    'username' : 'tirilrm@gmail.com',\n",
    "    'password' : 'password'\n",
    "}\n",
    "\n",
    "login_response = session.post(login_url, data=login_payload)\n",
    "\n",
    "# Check if login was successful\n",
    "if login_response.status_code == 200:\n",
    "    print('Login successful')\n",
    "else:\n",
    "    print('Login failed')\n",
    "    exit()\n",
    "\n",
    "url = 'https://www.nucnet.org/news/evolution-not-revolution-for-nuclear-as-industry-welcomes-shift-in-right-direction-6-4-2024'\n",
    "\n",
    "headers = {\n",
    "    \"User-Agent\": \"Mozilla/5.0 (Windows NT 10.0; Win64; x64) AppleWebKit/537.36 (KHTML, like Gecko) Chrome/91.0.4472.124 Safari/537.36\"\n",
    "}\n"
   ]
  }
 ],
 "metadata": {
  "kernelspec": {
   "display_name": "env",
   "language": "python",
   "name": "python3"
  },
  "language_info": {
   "codemirror_mode": {
    "name": "ipython",
    "version": 3
   },
   "file_extension": ".py",
   "mimetype": "text/x-python",
   "name": "python",
   "nbconvert_exporter": "python",
   "pygments_lexer": "ipython3",
   "version": "3.10.13"
  }
 },
 "nbformat": 4,
 "nbformat_minor": 2
}
