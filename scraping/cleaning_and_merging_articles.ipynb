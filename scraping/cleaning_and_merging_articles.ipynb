{
 "cells": [
  {
   "cell_type": "code",
   "execution_count": 4,
   "metadata": {},
   "outputs": [],
   "source": [
    "# Rename magasine column\n",
    "import json\n",
    "import pandas as pd\n",
    "\n",
    "filepath = 'articles/NEI_articles.json'\n",
    "with open(filepath, 'r', encoding='utf-8') as file:\n",
    "    data = json.load(file)\n",
    "\n",
    "for article in data:\n",
    "    article['magasine'] = 'Nuclear Engineering International'\n",
    "\n",
    "with open(filepath, 'w', encoding='utf-8') as file:\n",
    "    json.dump(data, file, ensure_ascii=False, indent=4)\n"
   ]
  },
  {
   "cell_type": "code",
   "execution_count": null,
   "metadata": {},
   "outputs": [],
   "source": [
    "# Data exploration, check consistency etc.\n",
    "df = pd.read_json('NCE_articles.json')\n",
    "a = df['author'].unique()\n",
    "for e in a:\n",
    "    print(e)\n"
   ]
  },
  {
   "cell_type": "code",
   "execution_count": 5,
   "metadata": {},
   "outputs": [],
   "source": [
    "# Merging articles\n",
    "import glob\n",
    "import json\n",
    "\n",
    "json_files = glob.glob('articles/*.json')\n",
    "\n",
    "all_articles = []\n",
    "\n",
    "for filepath in json_files:\n",
    "    with open(filepath, 'r', encoding='utf-8') as file:\n",
    "        data = json.load(file)\n",
    "        all_articles.extend(data)\n",
    "\n",
    "with open('articles/all_articles.json', 'w', encoding='utf-8') as file:\n",
    "    json.dump(all_articles, file, ensure_ascii=False, indent=4)"
   ]
  }
 ],
 "metadata": {
  "kernelspec": {
   "display_name": "env",
   "language": "python",
   "name": "python3"
  },
  "language_info": {
   "codemirror_mode": {
    "name": "ipython",
    "version": 3
   },
   "file_extension": ".py",
   "mimetype": "text/x-python",
   "name": "python",
   "nbconvert_exporter": "python",
   "pygments_lexer": "ipython3",
   "version": "3.10.13"
  }
 },
 "nbformat": 4,
 "nbformat_minor": 2
}
