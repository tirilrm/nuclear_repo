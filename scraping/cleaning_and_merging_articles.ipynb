{
 "cells": [
  {
   "cell_type": "code",
   "execution_count": 130,
   "metadata": {},
   "outputs": [
    {
     "name": "stdout",
     "output_type": "stream",
     "text": [
      "['articles/NucNet_articles_NEW.json', 'articles/WNN_articles.json', 'articles/NCE_articles.json', 'articles/NEI_articles_NEW.json']\n"
     ]
    }
   ],
   "source": [
    "# Merge all\n",
    "import glob\n",
    "import json\n",
    "\n",
    "json_files = glob.glob('articles/*.json')\n",
    "print(json_files)\n",
    "\n",
    "all_articles = []\n",
    "\n",
    "for filepath in json_files:\n",
    "    with open(filepath, 'r', encoding='utf-8') as file:\n",
    "        data = json.load(file)\n",
    "        all_articles.extend(data)\n",
    "\n",
    "with open('articles/240628_all_articles.json', 'w', encoding='utf-8') as file:\n",
    "    json.dump(all_articles, file, ensure_ascii=False, indent=4)"
   ]
  },
  {
   "cell_type": "code",
   "execution_count": null,
   "metadata": {},
   "outputs": [],
   "source": [
    "import json\n",
    "from datetime import datetime\n",
    "\n",
    "# Check datetime format WNN\n",
    "with open('articles/240627_all_articles.json', 'r') as file:\n",
    "    data = json.load(file)\n",
    "\n",
    "dates = set()\n",
    "\n",
    "for article in data:\n",
    "    date_str = article.get('date', None)  # Assuming 'date' is the key for date field\n",
    "    if date_str:\n",
    "        try:\n",
    "            # Convert string to datetime object if necessary\n",
    "            date_obj = datetime.strptime(date_str, '%d %B %Y')  # Adjust the format if necessary\n",
    "            dates.add(date_obj.date())  # Store only the date part\n",
    "        except ValueError:\n",
    "            # Handle the case where the date format is not as expected\n",
    "            print(f\"Unexpected date format: {date_str}\")\n",
    "\n",
    "# Print all unique dates\n",
    "for date in sorted(dates):\n",
    "    print(date)"
   ]
  },
  {
   "cell_type": "code",
   "execution_count": 112,
   "metadata": {},
   "outputs": [],
   "source": [
    "def count_words(paragraphs):\n",
    "    if paragraphs is None:\n",
    "        return 0\n",
    "    return sum(len(paragraph.split()) for paragraph in paragraphs if paragraph)\n",
    "\n",
    "def get_stats(data):\n",
    "    num_articles_tota = f'{data.shape[0]:,}'\n",
    "    num_words_total = sum(data['num_words'])\n",
    "\n",
    "    rows = data.shape[0]\n",
    "    cols = f'{data.shape[1]:,}'\n",
    "    earliest = min(data['date']).date()\n",
    "    latest = max(data['date']).date()\n",
    "\n",
    "    article_breakdown = data.groupby('magasine').agg(\n",
    "        num_articles=('text', 'size'),\n",
    "        total_words=('num_words', 'sum')\n",
    "    ).reset_index()\n",
    "    article_breakdown['percentage_articles'] = (article_breakdown['num_articles'] / rows) * 100\n",
    "    article_breakdown['percentage_words'] = (article_breakdown['total_words'] / num_words_total) * 100\n",
    "    \n",
    "    num_words_total = sum(data['num_words'])\n",
    "\n",
    "    # Format numbers\n",
    "    article_breakdown['num_articles'] = article_breakdown['num_articles'].apply(lambda x: f\"{x:,}\")\n",
    "    article_breakdown['total_words'] = article_breakdown['total_words'].apply(lambda x: f\"{x:,}\")\n",
    "    article_breakdown['percentage_articles'] = article_breakdown['percentage_articles'].apply(lambda x: f\"{x:.2f}%\")\n",
    "    article_breakdown['percentage_words'] = article_breakdown['percentage_words'].apply(lambda x: f\"{x:.2f}%\")\n",
    "    num_words_formatted = f'{num_words_total:,}'\n",
    "\n",
    "    print(f'Total num articles: {num_articles_tota:>20}')\n",
    "    print(f'Total num words: {num_words_formatted:>23}')\n",
    "    print(f'Earliest date: {str(earliest):>25}')\n",
    "    print(f'Latest date: {str(latest):>27}\\n')\n",
    "    print(article_breakdown)\n",
    "\n",
    "def split_data(data, training_percent):\n",
    "    length = data.shape[0]\n",
    "    random_order = random.sample(range(length), length)\n",
    "    train_order = random_order[:training_percent]"
   ]
  },
  {
   "cell_type": "code",
   "execution_count": 126,
   "metadata": {},
   "outputs": [],
   "source": [
    "# Data exploration\n",
    "import pandas as pd\n",
    "import random\n",
    "pd.set_option('display.max_columns', None)\n",
    "pd.set_option('display.width', 1000)\n",
    "\n",
    "df = pd.read_json('articles/240627_all_articles.json')\n",
    "#df['date'] = pd.to_datetime(df['date'])"
   ]
  },
  {
   "cell_type": "code",
   "execution_count": 127,
   "metadata": {},
   "outputs": [
    {
     "ename": "AttributeError",
     "evalue": "'str' object has no attribute 'date'",
     "output_type": "error",
     "traceback": [
      "\u001b[0;31m---------------------------------------------------------------------------\u001b[0m",
      "\u001b[0;31mAttributeError\u001b[0m                            Traceback (most recent call last)",
      "Cell \u001b[0;32mIn[127], line 6\u001b[0m\n\u001b[1;32m      4\u001b[0m df_new \u001b[38;5;241m=\u001b[39m df[df[\u001b[38;5;124m'\u001b[39m\u001b[38;5;124mdate\u001b[39m\u001b[38;5;124m'\u001b[39m] \u001b[38;5;241m>\u001b[39m\u001b[38;5;241m=\u001b[39m cutoff]\n\u001b[1;32m      5\u001b[0m df_new\u001b[38;5;241m.\u001b[39mloc[:,\u001b[38;5;124m'\u001b[39m\u001b[38;5;124mnum_words\u001b[39m\u001b[38;5;124m'\u001b[39m] \u001b[38;5;241m=\u001b[39m df_new[\u001b[38;5;124m'\u001b[39m\u001b[38;5;124mtext\u001b[39m\u001b[38;5;124m'\u001b[39m]\u001b[38;5;241m.\u001b[39mapply(count_words)\n\u001b[0;32m----> 6\u001b[0m \u001b[43mget_stats\u001b[49m\u001b[43m(\u001b[49m\u001b[43mdf_new\u001b[49m\u001b[43m)\u001b[49m\n",
      "Cell \u001b[0;32mIn[112], line 10\u001b[0m, in \u001b[0;36mget_stats\u001b[0;34m(data)\u001b[0m\n\u001b[1;32m      8\u001b[0m rows2 \u001b[38;5;241m=\u001b[39m data\u001b[38;5;241m.\u001b[39mshape[\u001b[38;5;241m0\u001b[39m]\n\u001b[1;32m      9\u001b[0m cols \u001b[38;5;241m=\u001b[39m \u001b[38;5;124mf\u001b[39m\u001b[38;5;124m'\u001b[39m\u001b[38;5;132;01m{\u001b[39;00mdata\u001b[38;5;241m.\u001b[39mshape[\u001b[38;5;241m1\u001b[39m]\u001b[38;5;132;01m:\u001b[39;00m\u001b[38;5;124m,\u001b[39m\u001b[38;5;132;01m}\u001b[39;00m\u001b[38;5;124m'\u001b[39m\n\u001b[0;32m---> 10\u001b[0m earliest \u001b[38;5;241m=\u001b[39m \u001b[38;5;28;43mmin\u001b[39;49m\u001b[43m(\u001b[49m\u001b[43mdata\u001b[49m\u001b[43m[\u001b[49m\u001b[38;5;124;43m'\u001b[39;49m\u001b[38;5;124;43mdate\u001b[39;49m\u001b[38;5;124;43m'\u001b[39;49m\u001b[43m]\u001b[49m\u001b[43m)\u001b[49m\u001b[38;5;241;43m.\u001b[39;49m\u001b[43mdate\u001b[49m()\n\u001b[1;32m     11\u001b[0m latest \u001b[38;5;241m=\u001b[39m \u001b[38;5;28mmax\u001b[39m(data[\u001b[38;5;124m'\u001b[39m\u001b[38;5;124mdate\u001b[39m\u001b[38;5;124m'\u001b[39m])\u001b[38;5;241m.\u001b[39mdate()\n\u001b[1;32m     12\u001b[0m num_words_total \u001b[38;5;241m=\u001b[39m \u001b[38;5;28msum\u001b[39m(data[\u001b[38;5;124m'\u001b[39m\u001b[38;5;124mnum_words\u001b[39m\u001b[38;5;124m'\u001b[39m])\n",
      "\u001b[0;31mAttributeError\u001b[0m: 'str' object has no attribute 'date'"
     ]
    }
   ],
   "source": [
    "df['num_words'] = df['text'].apply(count_words)\n",
    "\n",
    "cutoff = '2021-06-14' # Exactly 2 years\n",
    "df_new = df[df['date'] >= cutoff]\n",
    "df_new.loc[:,'num_words'] = df_new['text'].apply(count_words)\n",
    "get_stats(df_new)"
   ]
  }
 ],
 "metadata": {
  "kernelspec": {
   "display_name": "env",
   "language": "python",
   "name": "python3"
  },
  "language_info": {
   "codemirror_mode": {
    "name": "ipython",
    "version": 3
   },
   "file_extension": ".py",
   "mimetype": "text/x-python",
   "name": "python",
   "nbconvert_exporter": "python",
   "pygments_lexer": "ipython3",
   "version": "3.10.13"
  }
 },
 "nbformat": 4,
 "nbformat_minor": 2
}
