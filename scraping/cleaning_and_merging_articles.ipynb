{
 "cells": [
  {
   "cell_type": "code",
   "execution_count": 185,
   "metadata": {},
   "outputs": [
    {
     "name": "stdout",
     "output_type": "stream",
     "text": [
      "['articles/NCE_articles_NEW.json', 'articles/NucNet_articles_NEW.json', 'articles/WNN_articles.json', 'articles/NEI_articles_NEW.json']\n"
     ]
    }
   ],
   "source": [
    "# Merge all\n",
    "import glob\n",
    "import json\n",
    "from datetime import datetime\n",
    "\n",
    "def is_valid_date(date_str):\n",
    "    if date_str is None:\n",
    "        return True\n",
    "    try:\n",
    "        datetime.strptime(date_str, \"%d %B %Y\")\n",
    "        return True\n",
    "    except ValueError:\n",
    "        return False\n",
    "\n",
    "def make_date_format(date_str):\n",
    "    if date_str == None:\n",
    "        return None\n",
    "    date_obj = datetime.strptime(date_str, \"%B %d, %Y\")\n",
    "    return date_obj.strftime(\"%d %B %Y\")\n",
    "\n",
    "json_files = glob.glob('articles/*.json')\n",
    "print(json_files)\n",
    "\n",
    "all_articles = []\n",
    "\n",
    "for filepath in json_files:\n",
    "    with open(filepath, 'r', encoding='utf-8') as file:\n",
    "        data = json.load(file)\n",
    "        all_articles.extend(data)\n",
    "\n",
    "for article in all_articles:\n",
    "    if not is_valid_date(article['date']):\n",
    "        article['date'] = make_date_format(article['date'])\n",
    "\n",
    "with open('articles/all_articles.json', 'w', encoding='utf-8') as file:\n",
    "    json.dump(all_articles, file, ensure_ascii=False, indent=4)"
   ]
  },
  {
   "cell_type": "code",
   "execution_count": 216,
   "metadata": {},
   "outputs": [],
   "source": [
    "# Data exploration\n",
    "import pandas as pd\n",
    "import random\n",
    "pd.set_option('display.max_columns', None)\n",
    "pd.set_option('display.width', 1000)\n",
    "\n",
    "def count_words(paragraphs):\n",
    "    if paragraphs is None:\n",
    "        return 0\n",
    "    return sum(len(paragraph.split()) for paragraph in paragraphs if paragraph)\n",
    "\n",
    "def get_stats(data):\n",
    "    data.loc[:,'num_words'] = data['text'].apply(count_words)\n",
    "\n",
    "    num_articles_total = f'{data.shape[0]:,}'\n",
    "    num_words_total = sum(data['num_words'])\n",
    "\n",
    "    rows = data.shape[0]\n",
    "    cols = f'{data.shape[1]:,}'\n",
    "    earliest = min(data['date']).date()\n",
    "    latest = max(data['date']).date()\n",
    "\n",
    "    article_breakdown = data.groupby('magasine').agg(\n",
    "        num_articles=('text', 'size'),\n",
    "        total_words=('num_words', 'sum')\n",
    "    ).reset_index()\n",
    "    article_breakdown['percentage_articles'] = (article_breakdown['num_articles'] / rows) * 100\n",
    "    article_breakdown['percentage_words'] = (article_breakdown['total_words'] / num_words_total) * 100\n",
    "    \n",
    "    num_words_total = sum(data['num_words'])\n",
    "\n",
    "    # Format numbers\n",
    "    article_breakdown['num_articles'] = article_breakdown['num_articles'].apply(lambda x: f\"{x:,}\")\n",
    "    article_breakdown['total_words'] = article_breakdown['total_words'].apply(lambda x: f\"{x:,}\")\n",
    "    article_breakdown['percentage_articles'] = article_breakdown['percentage_articles'].apply(lambda x: f\"{x:.2f}%\")\n",
    "    article_breakdown['percentage_words'] = article_breakdown['percentage_words'].apply(lambda x: f\"{x:.2f}%\")\n",
    "    num_words_formatted = f'{num_words_total:,}'\n",
    "\n",
    "    print('-'*40)\n",
    "    print(f'Total num articles: {num_articles_total:>20}')\n",
    "    print(f'Total num words: {num_words_formatted:>23}')\n",
    "    print(f'Earliest date: {str(earliest):>25}')\n",
    "    print(f'Latest date: {str(latest):>27}\\n')\n",
    "    print(article_breakdown)\n",
    "    print('-'*98)\n",
    "    print('\\n')"
   ]
  },
  {
   "cell_type": "code",
   "execution_count": 217,
   "metadata": {},
   "outputs": [
    {
     "name": "stdout",
     "output_type": "stream",
     "text": [
      "JSON loaded successfully.\n",
      "<class 'pandas.core.frame.DataFrame'>\n",
      "RangeIndex: 7929 entries, 0 to 7928\n",
      "Data columns (total 6 columns):\n",
      " #   Column    Non-Null Count  Dtype         \n",
      "---  ------    --------------  -----         \n",
      " 0   url       7929 non-null   object        \n",
      " 1   magasine  7929 non-null   object        \n",
      " 2   title     7904 non-null   object        \n",
      " 3   author    7488 non-null   object        \n",
      " 4   date      7905 non-null   datetime64[ns]\n",
      " 5   text      7904 non-null   object        \n",
      "dtypes: datetime64[ns](1), object(5)\n",
      "memory usage: 371.8+ KB\n",
      "None\n"
     ]
    }
   ],
   "source": [
    "import pandas as pd\n",
    "\n",
    "file_path = 'articles/all_articles.json'\n",
    "\n",
    "# Try loading the JSON file\n",
    "try:\n",
    "    df = pd.read_json(file_path)\n",
    "    print(\"JSON loaded successfully.\")\n",
    "except ValueError as e:\n",
    "    print(f\"Error loading JSON: {e}\")\n",
    "    \n",
    "print(df.info())"
   ]
  },
  {
   "cell_type": "code",
   "execution_count": 218,
   "metadata": {},
   "outputs": [
    {
     "name": "stdout",
     "output_type": "stream",
     "text": [
      "----------------------------------------\n",
      "Total num articles:                7,929\n",
      "Total num words:               4,259,281\n",
      "Earliest date:                1999-01-14\n",
      "Latest date:                  2024-06-25\n",
      "\n",
      "                            magasine num_articles total_words percentage_articles percentage_words\n",
      "0                 New Civil Engineer          174     139,671               2.19%            3.28%\n",
      "1                             NucNet          892     367,935              11.25%            8.64%\n",
      "2  Nuclear Engineering International        6,451   3,494,769              81.36%           82.05%\n",
      "3                 World Nuclear News          412     256,906               5.20%            6.03%\n",
      "--------------------------------------------------------------------------------------------------\n",
      "\n",
      "\n",
      "----------------------------------------\n",
      "Total num articles:                3,597\n",
      "Total num words:               2,102,514\n",
      "Earliest date:                2022-06-14\n",
      "Latest date:                  2024-06-14\n",
      "\n",
      "                            magasine num_articles total_words percentage_articles percentage_words\n",
      "0                 New Civil Engineer           74      69,670               2.06%            3.31%\n",
      "1                             NucNet          376     179,656              10.45%            8.54%\n",
      "2  Nuclear Engineering International        2,995   1,758,646              83.26%           83.64%\n",
      "3                 World Nuclear News          152      94,542               4.23%            4.50%\n",
      "--------------------------------------------------------------------------------------------------\n",
      "\n",
      "\n"
     ]
    }
   ],
   "source": [
    "get_stats(df)\n",
    "\n",
    "df['date'] = pd.to_datetime(df['date'])\n",
    "earliest = pd.to_datetime('2022-06-14')\n",
    "latest = pd.to_datetime('2024-06-14')\n",
    "\n",
    "df_updated = df[(df['date'] >= earliest) & (df['date'] <= latest)]\n",
    "\n",
    "get_stats(df_updated)"
   ]
  }
 ],
 "metadata": {
  "kernelspec": {
   "display_name": "env",
   "language": "python",
   "name": "python3"
  },
  "language_info": {
   "codemirror_mode": {
    "name": "ipython",
    "version": 3
   },
   "file_extension": ".py",
   "mimetype": "text/x-python",
   "name": "python",
   "nbconvert_exporter": "python",
   "pygments_lexer": "ipython3",
   "version": "3.10.13"
  }
 },
 "nbformat": 4,
 "nbformat_minor": 2
}
