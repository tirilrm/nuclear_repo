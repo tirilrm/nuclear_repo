{
 "cells": [
  {
   "cell_type": "code",
   "execution_count": 4,
   "metadata": {},
   "outputs": [],
   "source": [
    "# Rename magasine column\n",
    "import json\n",
    "import pandas as pd\n",
    "\n",
    "filepath = 'articles/NEI_articles.json'\n",
    "with open(filepath, 'r', encoding='utf-8') as file:\n",
    "    data = json.load(file)\n",
    "\n",
    "for article in data:\n",
    "    article['magasine'] = 'Nuclear Engineering International'\n",
    "\n",
    "with open(filepath, 'w', encoding='utf-8') as file:\n",
    "    json.dump(data, file, ensure_ascii=False, indent=4)\n"
   ]
  },
  {
   "cell_type": "code",
   "execution_count": null,
   "metadata": {},
   "outputs": [],
   "source": [
    "# Data exploration, check consistency etc.\n",
    "df = pd.read_json('NCE_articles.json')\n",
    "a = df['author'].unique()\n",
    "for e in a:\n",
    "    print(e)\n"
   ]
  },
  {
   "cell_type": "code",
   "execution_count": 1,
   "metadata": {},
   "outputs": [],
   "source": [
    "# Merging articles\n",
    "import glob\n",
    "import json\n",
    "\n",
    "json_files = glob.glob('articles/*.json')\n",
    "\n",
    "all_articles = []\n",
    "\n",
    "for filepath in json_files:\n",
    "    with open(filepath, 'r', encoding='utf-8') as file:\n",
    "        data = json.load(file)\n",
    "        all_articles.extend(data)\n",
    "\n",
    "with open('articles/all_articles_NEW.json', 'w', encoding='utf-8') as file:\n",
    "    json.dump(all_articles, file, ensure_ascii=False, indent=4)"
   ]
  },
  {
   "cell_type": "code",
   "execution_count": 98,
   "metadata": {},
   "outputs": [],
   "source": [
    "# Data exploration\n",
    "import pandas as pd\n",
    "pd.set_option('display.max_columns', None)\n",
    "pd.set_option('display.width', 1000)\n",
    "\n",
    "df = pd.read_json('articles/all_articles_NEW.json')"
   ]
  },
  {
   "cell_type": "code",
   "execution_count": 99,
   "metadata": {},
   "outputs": [
    {
     "name": "stdout",
     "output_type": "stream",
     "text": [
      "Total num articles:                3,542\n",
      "Total num words:               2,072,201\n",
      "Earliest date:                2022-06-14\n",
      "Latest date:                  2024-06-14\n",
      "\n",
      "                            magasine num_articles total_words percentage_articles percentage_words\n",
      "0                 New Civil Engineer          137     111,629               3.87%            5.39%\n",
      "1                             NucNet          376     179,656              10.62%            8.67%\n",
      "2  Nuclear Engineering International        2,995   1,758,646              84.56%           84.87%\n",
      "3                 World Nuclear News           34      22,270               0.96%            1.07%\n"
     ]
    }
   ],
   "source": [
    "def count_words(paragraphs):\n",
    "    if paragraphs is None:\n",
    "        return 0\n",
    "    return sum(len(paragraph.split()) for paragraph in paragraphs if paragraph)\n",
    "\n",
    "def get_stats(data):\n",
    "    rows = f'{data.shape[0]:,}'\n",
    "    rows2 = data.shape[0]\n",
    "    cols = f'{data.shape[1]:,}'\n",
    "    earliest = min(data['date']).date()\n",
    "    latest = max(data['date']).date()\n",
    "    num_words_total = sum(data['num_words'])\n",
    "\n",
    "    article_breakdown = data.groupby('magasine').agg(\n",
    "        num_articles=('text', 'size'),\n",
    "        total_words=('num_words', 'sum')\n",
    "    ).reset_index()\n",
    "    article_breakdown['percentage_articles'] = (article_breakdown['num_articles'] / rows2) * 100\n",
    "    article_breakdown['percentage_words'] = (article_breakdown['total_words'] / num_words_total) * 100\n",
    "    \n",
    "    num_words_total = sum(data['num_words'])\n",
    "\n",
    "    # Format numbers\n",
    "    article_breakdown['num_articles'] = article_breakdown['num_articles'].apply(lambda x: f\"{x:,}\")\n",
    "    article_breakdown['total_words'] = article_breakdown['total_words'].apply(lambda x: f\"{x:,}\")\n",
    "    article_breakdown['percentage_articles'] = article_breakdown['percentage_articles'].apply(lambda x: f\"{x:.2f}%\")\n",
    "    article_breakdown['percentage_words'] = article_breakdown['percentage_words'].apply(lambda x: f\"{x:.2f}%\")\n",
    "    num_words_formatted = f'{num_words_total:,}'\n",
    "\n",
    "    print(f'Total num articles: {rows:>20}')\n",
    "    print(f'Total num words: {num_words_formatted:>23}')\n",
    "    print(f'Earliest date: {str(earliest):>25}')\n",
    "    print(f'Latest date: {str(latest):>27}\\n')\n",
    "    print(article_breakdown)\n",
    "\n",
    "df['num_words'] = df['text'].apply(count_words)\n",
    "\n",
    "cutoff = '2022-06-14' # Exactly 2 years\n",
    "df_new = df[df['date'] >= cutoff]\n",
    "df_new.loc[:,'num_words'] = df_new['text'].apply(count_words)\n",
    "get_stats(df_new)\n",
    "\n",
    "training = .60\n",
    "testing = .20\n",
    "validation = .20"
   ]
  },
  {
   "cell_type": "code",
   "execution_count": 34,
   "metadata": {},
   "outputs": [
    {
     "name": "stdout",
     "output_type": "stream",
     "text": [
      "6\n"
     ]
    }
   ],
   "source": [
    "text = 'hello this is a little test'\n",
    "\n",
    "print(len(text.split(' ')))"
   ]
  }
 ],
 "metadata": {
  "kernelspec": {
   "display_name": "env",
   "language": "python",
   "name": "python3"
  },
  "language_info": {
   "codemirror_mode": {
    "name": "ipython",
    "version": 3
   },
   "file_extension": ".py",
   "mimetype": "text/x-python",
   "name": "python",
   "nbconvert_exporter": "python",
   "pygments_lexer": "ipython3",
   "version": "3.10.13"
  }
 },
 "nbformat": 4,
 "nbformat_minor": 2
}
