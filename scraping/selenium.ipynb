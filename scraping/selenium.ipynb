{
 "cells": [
  {
   "cell_type": "code",
   "execution_count": 24,
   "metadata": {},
   "outputs": [
    {
     "name": "stdout",
     "output_type": "stream",
     "text": [
      "https://www.world-nuclear-news.org/Articles/Westinghouse-ready-to-make-SMR-fuel-in-UK\n",
      "https://www.world-nuclear-news.org/Articles/Westinghouse-SMR-progress-slows\n",
      "https://www.world-nuclear-news.org/Articles/Fortum-and-MIT-launch-SMR-modelling-project\n",
      "https://www.world-nuclear-news.org/Articles/Australian-SMR-feasible-by-2030\n",
      "https://www.world-nuclear-news.org/Articles/B-W-contracts-for-SMR-forgings\n",
      "https://www.world-nuclear-news.org/Articles/US-consortium-calls-for-public-private-SMR-support\n",
      "https://www.world-nuclear-news.org/Articles/Westinghouse-gets-approval-for-SMR-testing\n",
      "https://www.world-nuclear-news.org/Articles/UK-SMR-consortium-calls-for-government-support\n"
     ]
    }
   ],
   "source": [
    "from selenium import webdriver\n",
    "from selenium.webdriver.common.by import By\n",
    "from selenium.webdriver.common.keys import Keys\n",
    "from selenium.common.exceptions import NoSuchElementException\n",
    "import pandas as pd\n",
    "import time\n",
    "\n",
    "driver = webdriver.Chrome()\n",
    "driver.get('https://www.world-nuclear-news.org/search.aspx?searchtext=%22small+modular+reactor%22&searchmode=anyword')\n",
    "\n",
    "time.sleep(5)\n",
    "\n",
    "urls = []\n",
    "count=0\n",
    "while(count<=100):\n",
    "    for i in range(8):\n",
    "        element = None\n",
    "        try:\n",
    "            element = driver.find_element(By.XPATH, f'//*[@id=\"ctl00_ContentPlaceHolder1_PlaceHolderZones_lt_SearchResults_SmartSearchResults_srchResults_pnlSearchResults\"]/div[{i+1}]/div/a')\n",
    "        except NoSuchElementException:\n",
    "        \n",
    "        time.sleep(1)\n",
    "\n",
    "        if(element):\n",
    "            urls.append(element.get_attribute('href'))\n",
    "            print(element.get_attribute('href'))\n",
    "    \n",
    "    driver.find_element(By.XPATH, '//*[@id=\"ctl00_ContentPlaceHolder1_PlaceHolderZones_lt_SearchResults_SmartSearchResults_srchResults_pnlSearchResults\"]/a[13]')\n",
    "    count += 1\n",
    "\n",
    "driver.quit()"
   ]
  },
  {
   "cell_type": "code",
   "execution_count": null,
   "metadata": {},
   "outputs": [],
   "source": [
    "#//*[@id=\"ctl00_ContentPlaceHolder1_PlaceHolderZones_lt_SearchResults_SmartSearchResults_srchResults_pnlSearchResults\"]/div[2]/div/a\n",
    "#//*[@id=\"ctl00_ContentPlaceHolder1_PlaceHolderZones_lt_SearchResults_SmartSearchResults_srchResults_pnlSearchResults\"]/div[1]/div/a\n",
    "#//*[@id=\"ctl00_ContentPlaceHolder1_PlaceHolderZones_lt_SearchResults_SmartSearchResults_srchResults_pnlSearchResults\"]/div[8]/div/a"
   ]
  },
  {
   "cell_type": "code",
   "execution_count": 29,
   "metadata": {},
   "outputs": [],
   "source": [
    "driver.quit()"
   ]
  },
  {
   "cell_type": "code",
   "execution_count": 26,
   "metadata": {},
   "outputs": [],
   "source": [
    "from selenium.common.exceptions import NoSuchElementException\n",
    "def check_exists_by_xpath(xpath):\n",
    "    try:\n",
    "        webdriver.find_element_by_xpath(xpath)\n",
    "    except NoSuchElementException:\n",
    "        return False\n",
    "    return True"
   ]
  },
  {
   "cell_type": "code",
   "execution_count": 31,
   "metadata": {},
   "outputs": [
    {
     "name": "stdout",
     "output_type": "stream",
     "text": [
      "<selenium.webdriver.remote.webelement.WebElement (session=\"e1355cb7ea27b3b42d3d3f5d37de9e25\", element=\"f.72A8B072094B71AF846BBCEFE36F9F8F.d.DE6008431EE55DF8ED11A99A9AE95C8F.e.27\")>\n"
     ]
    }
   ],
   "source": [
    "from selenium import webdriver\n",
    "from selenium.webdriver.common.by import By\n",
    "from selenium.webdriver.common.keys import Keys\n",
    "from selenium.common.exceptions import NoSuchElementException\n",
    "import pandas as pd\n",
    "import time\n",
    "\n",
    "driver = webdriver.Chrome()\n",
    "driver.get('https://www.world-nuclear-news.org/search.aspx?searchtext=smr')\n",
    "\n",
    "time.sleep(2)\n",
    "\n",
    "element = \"o\"\n",
    "\n",
    "try:\n",
    "    element = driver.find_element(By.XPATH, f'//*[@id=\"ctl00_ContentPlaceHolder1_PlaceHolderZones_lt_SearchResults_SmartSearchResults_srchResults_pnlSearchResults\"]/div[{1}]/div/a')\n",
    "except NoSuchElementException:\n",
    "    print(\"No such element\")\n",
    "\n",
    "driver.quit()\n",
    "\n",
    "print(element)\n"
   ]
  }
 ],
 "metadata": {
  "kernelspec": {
   "display_name": "env",
   "language": "python",
   "name": "python3"
  },
  "language_info": {
   "codemirror_mode": {
    "name": "ipython",
    "version": 3
   },
   "file_extension": ".py",
   "mimetype": "text/x-python",
   "name": "python",
   "nbconvert_exporter": "python",
   "pygments_lexer": "ipython3",
   "version": "3.10.13"
  }
 },
 "nbformat": 4,
 "nbformat_minor": 2
}
